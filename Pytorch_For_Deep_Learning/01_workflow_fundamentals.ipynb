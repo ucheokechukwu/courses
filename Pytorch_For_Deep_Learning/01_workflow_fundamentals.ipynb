{
  "nbformat": 4,
  "nbformat_minor": 0,
  "metadata": {
    "colab": {
      "provenance": [],
      "machine_shape": "hm",
      "gpuType": "V100",
      "authorship_tag": "ABX9TyNVWLZ4ATokafF2/rheOv/2",
      "include_colab_link": true
    },
    "kernelspec": {
      "name": "python3",
      "display_name": "Python 3"
    },
    "language_info": {
      "name": "python"
    },
    "accelerator": "GPU"
  },
  "cells": [
    {
      "cell_type": "markdown",
      "metadata": {
        "id": "view-in-github",
        "colab_type": "text"
      },
      "source": [
        "<a href=\"https://colab.research.google.com/github/ucheokechukwu/zero_to_mastery_courses/blob/main/Pytorch_For_Deep_Learning/01_workflow_fundamentals.ipynb\" target=\"_parent\"><img src=\"https://colab.research.google.com/assets/colab-badge.svg\" alt=\"Open In Colab\"/></a>"
      ]
    },
    {
      "cell_type": "markdown",
      "source": [],
      "metadata": {
        "id": "uwwFghf7w2CE"
      }
    },
    {
      "cell_type": "code",
      "source": [
        "what_were_covering = {1: \"data (prepare and load)\",\n",
        "                      2: \"build model\",\n",
        "                      3: \"fitting the model to data (training)\",\n",
        "                      4: \"making predictions and evaluating the model (inferences)\",\n",
        "                      5: \"saving and loading a model\",\n",
        "                      6: \"putting it all together\"}\n"
      ],
      "metadata": {
        "id": "xemiv1Fyw9x0"
      },
      "execution_count": 1,
      "outputs": []
    },
    {
      "cell_type": "code",
      "execution_count": 2,
      "metadata": {
        "colab": {
          "base_uri": "https://localhost:8080/",
          "height": 35
        },
        "id": "uuPqzUTPwdrh",
        "outputId": "13bf0dee-c9df-4e2f-afe7-dd1c427b8513"
      },
      "outputs": [
        {
          "output_type": "execute_result",
          "data": {
            "text/plain": [
              "'2.0.1+cu118'"
            ],
            "application/vnd.google.colaboratory.intrinsic+json": {
              "type": "string"
            }
          },
          "metadata": {},
          "execution_count": 2
        }
      ],
      "source": [
        "import torch\n",
        "from torch import nn # building blocks of graphs (neural networks)\n",
        "import matplotlib.pyplot as plt\n",
        "\n",
        "# check pytorch version\n",
        "torch.__version__"
      ]
    },
    {
      "cell_type": "code",
      "source": [
        "!nvidia-smi"
      ],
      "metadata": {
        "colab": {
          "base_uri": "https://localhost:8080/"
        },
        "id": "4Un5Ag47xc39",
        "outputId": "bcd42f95-0149-40d8-9234-2f32707ce7a3"
      },
      "execution_count": 3,
      "outputs": [
        {
          "output_type": "stream",
          "name": "stdout",
          "text": [
            "Wed Aug  2 15:00:39 2023       \n",
            "+-----------------------------------------------------------------------------+\n",
            "| NVIDIA-SMI 525.105.17   Driver Version: 525.105.17   CUDA Version: 12.0     |\n",
            "|-------------------------------+----------------------+----------------------+\n",
            "| GPU  Name        Persistence-M| Bus-Id        Disp.A | Volatile Uncorr. ECC |\n",
            "| Fan  Temp  Perf  Pwr:Usage/Cap|         Memory-Usage | GPU-Util  Compute M. |\n",
            "|                               |                      |               MIG M. |\n",
            "|===============================+======================+======================|\n",
            "|   0  Tesla V100-SXM2...  Off  | 00000000:00:04.0 Off |                    0 |\n",
            "| N/A   38C    P0    25W / 300W |      0MiB / 16384MiB |      0%      Default |\n",
            "|                               |                      |                  N/A |\n",
            "+-------------------------------+----------------------+----------------------+\n",
            "                                                                               \n",
            "+-----------------------------------------------------------------------------+\n",
            "| Processes:                                                                  |\n",
            "|  GPU   GI   CI        PID   Type   Process name                  GPU Memory |\n",
            "|        ID   ID                                                   Usage      |\n",
            "|=============================================================================|\n",
            "|  No running processes found                                                 |\n",
            "+-----------------------------------------------------------------------------+\n"
          ]
        }
      ]
    },
    {
      "cell_type": "code",
      "source": [
        "# create *known* parameters\n",
        "weight = 0.7\n",
        "bias = 0.3\n",
        "\n",
        "start = 0\n",
        "end = 1\n",
        "step = 0.02\n",
        "X = torch.arange(start, end, step).unsqueeze(dim=1)\n",
        "y = weight * X + bias\n",
        "\n",
        "X[:10], y[:10]"
      ],
      "metadata": {
        "colab": {
          "base_uri": "https://localhost:8080/"
        },
        "id": "kC2_EoCaxe02",
        "outputId": "92cdf5ef-b85b-4d20-d800-68e48849d38a"
      },
      "execution_count": 4,
      "outputs": [
        {
          "output_type": "execute_result",
          "data": {
            "text/plain": [
              "(tensor([[0.0000],\n",
              "         [0.0200],\n",
              "         [0.0400],\n",
              "         [0.0600],\n",
              "         [0.0800],\n",
              "         [0.1000],\n",
              "         [0.1200],\n",
              "         [0.1400],\n",
              "         [0.1600],\n",
              "         [0.1800]]),\n",
              " tensor([[0.3000],\n",
              "         [0.3140],\n",
              "         [0.3280],\n",
              "         [0.3420],\n",
              "         [0.3560],\n",
              "         [0.3700],\n",
              "         [0.3840],\n",
              "         [0.3980],\n",
              "         [0.4120],\n",
              "         [0.4260]]))"
            ]
          },
          "metadata": {},
          "execution_count": 4
        }
      ]
    },
    {
      "cell_type": "code",
      "source": [
        "# splitting the data into training and sets\n",
        "train_split = int(0.8*len(X))\n",
        "X_train, y_train, X_test, y_test = X[:train_split], y[:train_split], X[train_split:], y[train_split:]\n",
        "len(X_train), len(y_train), len(X_test), len(y_test)"
      ],
      "metadata": {
        "colab": {
          "base_uri": "https://localhost:8080/"
        },
        "id": "w7IVdV7kyRZR",
        "outputId": "a45049d5-df16-4584-e30c-a1398e8ced36"
      },
      "execution_count": 5,
      "outputs": [
        {
          "output_type": "execute_result",
          "data": {
            "text/plain": [
              "(40, 40, 10, 10)"
            ]
          },
          "metadata": {},
          "execution_count": 5
        }
      ]
    },
    {
      "cell_type": "code",
      "source": [
        "def plot_predictions(train_data = X_train,\n",
        "                     train_label = y_train,\n",
        "                     test_data = X_test,\n",
        "                     test_label = y_test,\n",
        "                     predictions=None):\n",
        "    \"\"\"plots training data, test data, and compares predictions\"\"\"\n",
        "    plt.figure(figsize=(10,7))\n",
        "    plt.scatter(train_data, train_label, c= 'b', s=4, label=\"Training data\")\n",
        "    plt.scatter(test_data, test_label, c= 'g', s=4, label=\"Testing data\")\n",
        "\n",
        "\n",
        "    if predictions is not None:\n",
        "        plt.scatter(test_data, predictions, c= 'r', s=4, label=\"Predictions\")\n",
        "\n",
        "    plt.legend(prop={'size':14})"
      ],
      "metadata": {
        "id": "8XmgRWw1yy-4"
      },
      "execution_count": 6,
      "outputs": []
    },
    {
      "cell_type": "code",
      "source": [
        "plot_predictions()"
      ],
      "metadata": {
        "colab": {
          "base_uri": "https://localhost:8080/",
          "height": 599
        },
        "id": "8Lrct31YzB9x",
        "outputId": "16009610-38be-4f0c-d0ae-b222e799ed8e"
      },
      "execution_count": 7,
      "outputs": [
        {
          "output_type": "display_data",
          "data": {
            "text/plain": [
              "<Figure size 1000x700 with 1 Axes>"
            ],
            "image/png": "[encoded data removed]"
          },
          "metadata": {}
        }
      ]
    },
    {
      "cell_type": "markdown",
      "source": [
        "# 2. Build Model\n",
        "\n",
        "What our model does:\n",
        "1. starts with random values (weight and bias),\n",
        "2. look at training data nad adjust the random values to better represent the ideal values (i.e. weight and biase used to create data)\n",
        "\n",
        "how does it do so? 2 main algorithms:\n",
        "1. gradient descent\n",
        "2. back propagations"
      ],
      "metadata": {
        "id": "njbqY3JSzpwI"
      }
    },
    {
      "cell_type": "code",
      "source": [
        "from torch import nn\n",
        "# create a linear regression model class\n",
        "\n",
        "class LinearRegressionModel(nn.Module):\n",
        "    def __init__(self):\n",
        "        super().__init__()\n",
        "\n",
        "        # initialize the model parameters (could be single parameters, layers or functions)\n",
        "        self.weights = nn.Parameter(torch.randn(1,\n",
        "                                                requires_grad=True,\n",
        "                                                dtype=torch.float))\n",
        "        self.bias = nn.Parameter(torch.randn(1,\n",
        "                                             requires_grad=True,\n",
        "                                             dtype=torch.float))\n",
        "\n",
        "    # forward method to define the computation in the model\n",
        "    # need to override the forward method of nn.Module\n",
        "    def forward(self, x:torch.Tensor) -> torch.Tensor:  # input is x of type torch.Tensor and returns type torch.Tensor\n",
        "        return self.weights * x + self.bias\n"
      ],
      "metadata": {
        "id": "3Eh4NnYbze2Z"
      },
      "execution_count": 8,
      "outputs": []
    },
    {
      "cell_type": "markdown",
      "source": [
        "### pytorch model building essentials\n",
        "\n",
        "* `torch.nn` - contains building blocks for computational graphs (neural networks)\n",
        "* `torch.nn.Parameter` - parameters for the model to try and learn\n",
        "* `torch.nn.Module` - base class\n",
        "* `def forward` - all nn.Module submodules requre you to overwrite this\n",
        "* `torch.optim `- optimizers, help with gradient descent\n",
        "* `torch.utils.data.Dataset` - represents a map between key (label) and sample (features) pairs of data\n",
        "* `torch.utils.data.Dataloader` - creates a python iterable over a torch Dataset (allows you to iterate over your data)\n",
        "\n",
        "\n",
        "Pytorch cheat sheet: https://pytorch.org/tutorials/beginner/ptcheat.html\n"
      ],
      "metadata": {
        "id": "Nu3UMjYB6s2z"
      }
    },
    {
      "cell_type": "markdown",
      "source": [
        "### checking the contents of the Pytorch model\n",
        "- we can do this with `.parameters()`"
      ],
      "metadata": {
        "id": "TND7y9Em1Yku"
      }
    },
    {
      "cell_type": "code",
      "source": [
        "# create a random seed\n",
        "torch.manual_seed(88)\n",
        "\n",
        "# create an instance of the model\n",
        "model_0 = LinearRegressionModel()\n",
        "\n",
        "# check out parameters\n",
        "display(model_0.parameters()) # get a generator\n",
        "list(model_0.parameters())"
      ],
      "metadata": {
        "colab": {
          "base_uri": "https://localhost:8080/",
          "height": 106
        },
        "id": "vt025lFY87Vx",
        "outputId": "fd9288e0-5535-4dc3-c696-3599a1c2f960"
      },
      "execution_count": 9,
      "outputs": [
        {
          "output_type": "display_data",
          "data": {
            "text/plain": [
              "<generator object Module.parameters at 0x7db98704ad50>"
            ]
          },
          "metadata": {}
        },
        {
          "output_type": "execute_result",
          "data": {
            "text/plain": [
              "[Parameter containing:\n",
              " tensor([0.5734], requires_grad=True),\n",
              " Parameter containing:\n",
              " tensor([1.3148], requires_grad=True)]"
            ]
          },
          "metadata": {},
          "execution_count": 9
        }
      ]
    },
    {
      "cell_type": "code",
      "source": [
        "# list named parameters\n",
        "model_0.state_dict()"
      ],
      "metadata": {
        "colab": {
          "base_uri": "https://localhost:8080/"
        },
        "id": "TyMN_wj59Jj7",
        "outputId": "f6165efd-1554-417e-fac1-e3bfd8c4b239"
      },
      "execution_count": 10,
      "outputs": [
        {
          "output_type": "execute_result",
          "data": {
            "text/plain": [
              "OrderedDict([('weights', tensor([0.5734])), ('bias', tensor([1.3148]))])"
            ]
          },
          "metadata": {},
          "execution_count": 10
        }
      ]
    },
    {
      "cell_type": "markdown",
      "source": [
        "### making predictions using `torch.inference_mode()`\n",
        "\n",
        "when we pass data through the model, it runs it through the `foward()` method\n",
        "\n",
        "* inference mode turns off gradient tracking, which saves the data that Python is keeping track off, and makes predictions faster"
      ],
      "metadata": {
        "id": "TuQD9fzW9nAX"
      }
    },
    {
      "cell_type": "code",
      "source": [
        "# make predictions with model\n",
        "with torch.inference_mode():\n",
        "    y_preds = model_0(X_test)\n",
        "\n",
        "y_preds"
      ],
      "metadata": {
        "colab": {
          "base_uri": "https://localhost:8080/"
        },
        "id": "cb10BcW9-H7i",
        "outputId": "65aec7ef-a297-46ae-aa70-392bbdc46bb1"
      },
      "execution_count": 11,
      "outputs": [
        {
          "output_type": "execute_result",
          "data": {
            "text/plain": [
              "tensor([[1.7735],\n",
              "        [1.7850],\n",
              "        [1.7965],\n",
              "        [1.8079],\n",
              "        [1.8194],\n",
              "        [1.8309],\n",
              "        [1.8423],\n",
              "        [1.8538],\n",
              "        [1.8653],\n",
              "        [1.8767]])"
            ]
          },
          "metadata": {},
          "execution_count": 11
        }
      ]
    },
    {
      "cell_type": "code",
      "source": [
        "plot_predictions(predictions=y_preds)"
      ],
      "metadata": {
        "colab": {
          "base_uri": "https://localhost:8080/",
          "height": 599
        },
        "id": "QHBI9ciR-ca7",
        "outputId": "d9db4334-054b-4865-9d3b-ac1fc508825d"
      },
      "execution_count": 12,
      "outputs": [
        {
          "output_type": "display_data",
          "data": {
            "text/plain": [
              "<Figure size 1000x700 with 1 Axes>"
            ],
            "image/png": "[encoded data removed]"
          },
          "metadata": {}
        }
      ]
    },
    {
      "cell_type": "markdown",
      "source": [
        "### 3. train model\n",
        "\n",
        "the idea of training is for model to move from a poor representation of the data to a better representation of the data.\n",
        "\n",
        "one way to measure how poorly the model is predictign is to use a **loss functions** (also known as a **criterion** or **cost function**).\n",
        "\n",
        "**Loss function**: how far model predictions are from ideal values (lower is better)\n",
        "\n",
        "**Optimizer**: adjusts the model parameters (weights and biases) to improve loss function.\n",
        "\n",
        "pytorch needs: training loop and testing loop."
      ],
      "metadata": {
        "id": "stFMavSc_Sjd"
      }
    },
    {
      "cell_type": "code",
      "source": [
        "# set up a loss function\n",
        "loss_fn = nn.L1Loss() # mean absolute error\n",
        "\n",
        "# set up optimizer\n",
        "optimizer = torch.optim.SGD(params=model_0.parameters(),\n",
        "                            lr=0.01) #lr -> learning rate"
      ],
      "metadata": {
        "id": "KxteR4mJ-eQJ"
      },
      "execution_count": 13,
      "outputs": []
    },
    {
      "cell_type": "markdown",
      "source": [
        "#### building a training loop (and a testing loop) in pytorch\n",
        "\n",
        "0. loop throught the data\n",
        "1. forward pass (involves data moving through our model's `forward` functions) also known as forward propagation\n",
        "2. calculate the loss (compare forward pass predictions to ground truth labels)\n",
        "3. optimizer zero grad\n",
        "4. loss backward - move backwards through the network to calculate the gradient of each of the parameters of our model wrt to the loss\n",
        "5. optimizer loss - use the optimizer to adjust the model's parameter to try and improve the loss (**gradient descent**)"
      ],
      "metadata": {
        "id": "I0jKHeoYBUkF"
      }
    },
    {
      "cell_type": "code",
      "source": [
        "# an epoch is one loop through the data\n",
        "\n",
        "epochs = 1\n",
        "### Training\n",
        "# 0. loop through the data\n",
        "for epoch in range(epochs):\n",
        "    # set the model to training mode\n",
        "    model_0.train()\n",
        "\n",
        "    # 1. forward pass\n",
        "    y_pred = model_0(X_train)\n",
        "    # 2. calculate the loss\n",
        "    loss = loss_fn(y_pred, y_train)\n",
        "    # 3. optimizer zero grad\n",
        "    optimizer.zero_grad()\n",
        "    # 4. perform back propagation on the loss wrt parameters\n",
        "    loss.backward()\n",
        "    # 5. step the optimizer (perform gradient descent)\n",
        "    optimizer.step()\n",
        "    # how the optimizer changes accumulates through the loop so we have to zero it above"
      ],
      "metadata": {
        "id": "Y3M5dBu_CEEV"
      },
      "execution_count": 14,
      "outputs": []
    }
  ]
}