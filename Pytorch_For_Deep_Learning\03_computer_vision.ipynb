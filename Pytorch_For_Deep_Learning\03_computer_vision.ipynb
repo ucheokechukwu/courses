{
  "nbformat": 4,
  "nbformat_minor": 0,
  "metadata": {
    "colab": {
      "provenance": [],
      "machine_shape": "hm",
      "gpuType": "T4",
      "authorship_tag": "ABX9TyMQVUf6ZYBpDr7HjjOxBpsQ",
      "include_colab_link": true
    },
    "kernelspec": {
      "name": "python3",
      "display_name": "Python 3"
    },
    "language_info": {
      "name": "python"
    },
    "widgets": {
      "application/vnd.jupyter.widget-state+json": {
        "9be069872c3346978ef847e4114ba80e": {
          "model_module": "@jupyter-widgets/controls",
          "model_name": "HBoxModel",
          "model_module_version": "1.5.0",
          "state": {
            "_dom_classes": [],
            "_model_module": "@jupyter-widgets/controls",
            "_model_module_version": "1.5.0",
            "_model_name": "HBoxModel",
            "_view_count": null,
            "_view_module": "@jupyter-widgets/controls",
            "_view_module_version": "1.5.0",
            "_view_name": "HBoxView",
            "box_style": "",
            "children": [
              "IPY_MODEL_fd19f153c1184bb79d039a0046ecd7b2",
              "IPY_MODEL_2fde74e606644b78a0787dc1f7f8fda6",
              "IPY_MODEL_951b23de2e3d4f1b874528f28ce68e99"
            ],
            "layout": "IPY_MODEL_d821c44d1da941ee907598584da50860"
          }
        },
        "fd19f153c1184bb79d039a0046ecd7b2": {
          "model_module": "@jupyter-widgets/controls",
          "model_name": "HTMLModel",
          "model_module_version": "1.5.0",
          "state": {
            "_dom_classes": [],
            "_model_module": "@jupyter-widgets/controls",
            "_model_module_version": "1.5.0",
            "_model_name": "HTMLModel",
            "_view_count": null,
            "_view_module": "@jupyter-widgets/controls",
            "_view_module_version": "1.5.0",
            "_view_name": "HTMLView",
            "description": "",
            "description_tooltip": null,
            "layout": "IPY_MODEL_cf099cf819844dfdaee42caf419b7b41",
            "placeholder": "​",
            "style": "IPY_MODEL_ce5c862b4e864526be84d0b4c6291bc7",
            "value": "100%"
          }
        },
        "2fde74e606644b78a0787dc1f7f8fda6": {
          "model_module": "@jupyter-widgets/controls",
          "model_name": "FloatProgressModel",
          "model_module_version": "1.5.0",
          "state": {
            "_dom_classes": [],
            "_model_module": "@jupyter-widgets/controls",
            "_model_module_version": "1.5.0",
            "_model_name": "FloatProgressModel",
            "_view_count": null,
            "_view_module": "@jupyter-widgets/controls",
            "_view_module_version": "1.5.0",
            "_view_name": "ProgressView",
            "bar_style": "success",
            "description": "",
            "description_tooltip": null,
            "layout": "IPY_MODEL_1bf643837482446f8616ce27b91bbeaf",
            "max": 3,
            "min": 0,
            "orientation": "horizontal",
            "style": "IPY_MODEL_c59c4d0c3ae8492d826ca9753a23a423",
            "value": 3
          }
        },
        "951b23de2e3d4f1b874528f28ce68e99": {
          "model_module": "@jupyter-widgets/controls",
          "model_name": "HTMLModel",
          "model_module_version": "1.5.0",
          "state": {
            "_dom_classes": [],
            "_model_module": "@jupyter-widgets/controls",
            "_model_module_version": "1.5.0",
            "_model_name": "HTMLModel",
            "_view_count": null,
            "_view_module": "@jupyter-widgets/controls",
            "_view_module_version": "1.5.0",
            "_view_name": "HTMLView",
            "description": "",
            "description_tooltip": null,
            "layout": "IPY_MODEL_4973c90e46b54e7486320080c2f37a48",
            "placeholder": "​",
            "style": "IPY_MODEL_c6de72202efb4d7eaeff4f695f7f447a",
            "value": " 3/3 [00:27&lt;00:00,  9.15s/it]"
          }
        },
        "d821c44d1da941ee907598584da50860": {
          "model_module": "@jupyter-widgets/base",
          "model_name": "LayoutModel",
          "model_module_version": "1.2.0",
          "state": {
            "_model_module": "@jupyter-widgets/base",
            "_model_module_version": "1.2.0",
            "_model_name": "LayoutModel",
            "_view_count": null,
            "_view_module": "@jupyter-widgets/base",
            "_view_module_version": "1.2.0",
            "_view_name": "LayoutView",
            "align_content": null,
            "align_items": null,
            "align_self": null,
            "border": null,
            "bottom": null,
            "display": null,
            "flex": null,
            "flex_flow": null,
            "grid_area": null,
            "grid_auto_columns": null,
            "grid_auto_flow": null,
            "grid_auto_rows": null,
            "grid_column": null,
            "grid_gap": null,
            "grid_row": null,
            "grid_template_areas": null,
            "grid_template_columns": null,
            "grid_template_rows": null,
            "height": null,
            "justify_content": null,
            "justify_items": null,
            "left": null,
            "margin": null,
            "max_height": null,
            "max_width": null,
            "min_height": null,
            "min_width": null,
            "object_fit": null,
            "object_position": null,
            "order": null,
            "overflow": null,
            "overflow_x": null,
            "overflow_y": null,
            "padding": null,
            "right": null,
            "top": null,
            "visibility": null,
            "width": null
          }
        },
        "cf099cf819844dfdaee42caf419b7b41": {
          "model_module": "@jupyter-widgets/base",
          "model_name": "LayoutModel",
          "model_module_version": "1.2.0",
          "state": {
            "_model_module": "@jupyter-widgets/base",
            "_model_module_version": "1.2.0",
            "_model_name": "LayoutModel",
            "_view_count": null,
            "_view_module": "@jupyter-widgets/base",
            "_view_module_version": "1.2.0",
            "_view_name": "LayoutView",
            "align_content": null,
            "align_items": null,
            "align_self": null,
            "border": null,
            "bottom": null,
            "display": null,
            "flex": null,
            "flex_flow": null,
            "grid_area": null,
            "grid_auto_columns": null,
            "grid_auto_flow": null,
            "grid_auto_rows": null,
            "grid_column": null,
            "grid_gap": null,
            "grid_row": null,
            "grid_template_areas": null,
            "grid_template_columns": null,
            "grid_template_rows": null,
            "height": null,
            "justify_content": null,
            "justify_items": null,
            "left": null,
            "margin": null,
            "max_height": null,
            "max_width": null,
            "min_height": null,
            "min_width": null,
            "object_fit": null,
            "object_position": null,
            "order": null,
            "overflow": null,
            "overflow_x": null,
            "overflow_y": null,
            "padding": null,
            "right": null,
            "top": null,
            "visibility": null,
            "width": null
          }
        },
        "ce5c862b4e864526be84d0b4c6291bc7": {
          "model_module": "@jupyter-widgets/controls",
          "model_name": "DescriptionStyleModel",
          "model_module_version": "1.5.0",
          "state": {
            "_model_module": "@jupyter-widgets/controls",
            "_model_module_version": "1.5.0",
            "_model_name": "DescriptionStyleModel",
            "_view_count": null,
            "_view_module": "@jupyter-widgets/base",
            "_view_module_version": "1.2.0",
            "_view_name": "StyleView",
            "description_width": ""
          }
        },
        "1bf643837482446f8616ce27b91bbeaf": {
          "model_module": "@jupyter-widgets/base",
          "model_name": "LayoutModel",
          "model_module_version": "1.2.0",
          "state": {
            "_model_module": "@jupyter-widgets/base",
            "_model_module_version": "1.2.0",
            "_model_name": "LayoutModel",
            "_view_count": null,
            "_view_module": "@jupyter-widgets/base",
            "_view_module_version": "1.2.0",
            "_view_name": "LayoutView",
            "align_content": null,
            "align_items": null,
            "align_self": null,
            "border": null,
            "bottom": null,
            "display": null,
            "flex": null,
            "flex_flow": null,
            "grid_area": null,
            "grid_auto_columns": null,
            "grid_auto_flow": null,
            "grid_auto_rows": null,
            "grid_column": null,
            "grid_gap": null,
            "grid_row": null,
            "grid_template_areas": null,
            "grid_template_columns": null,
            "grid_template_rows": null,
            "height": null,
            "justify_content": null,
            "justify_items": null,
            "left": null,
            "margin": null,
            "max_height": null,
            "max_width": null,
            "min_height": null,
            "min_width": null,
            "object_fit": null,
            "object_position": null,
            "order": null,
            "overflow": null,
            "overflow_x": null,
            "overflow_y": null,
            "padding": null,
            "right": null,
            "top": null,
            "visibility": null,
            "width": null
          }
        },
        "c59c4d0c3ae8492d826ca9753a23a423": {
          "model_module": "@jupyter-widgets/controls",
          "model_name": "ProgressStyleModel",
          "model_module_version": "1.5.0",
          "state": {
            "_model_module": "@jupyter-widgets/controls",
            "_model_module_version": "1.5.0",
            "_model_name": "ProgressStyleModel",
            "_view_count": null,
            "_view_module": "@jupyter-widgets/base",
            "_view_module_version": "1.2.0",
            "_view_name": "StyleView",
            "bar_color": null,
            "description_width": ""
          }
        },
        "4973c90e46b54e7486320080c2f37a48": {
          "model_module": "@jupyter-widgets/base",
          "model_name": "LayoutModel",
          "model_module_version": "1.2.0",
          "state": {
            "_model_module": "@jupyter-widgets/base",
            "_model_module_version": "1.2.0",
            "_model_name": "LayoutModel",
            "_view_count": null,
            "_view_module": "@jupyter-widgets/base",
            "_view_module_version": "1.2.0",
            "_view_name": "LayoutView",
            "align_content": null,
            "align_items": null,
            "align_self": null,
            "border": null,
            "bottom": null,
            "display": null,
            "flex": null,
            "flex_flow": null,
            "grid_area": null,
            "grid_auto_columns": null,
            "grid_auto_flow": null,
            "grid_auto_rows": null,
            "grid_column": null,
            "grid_gap": null,
            "grid_row": null,
            "grid_template_areas": null,
            "grid_template_columns": null,
            "grid_template_rows": null,
            "height": null,
            "justify_content": null,
            "justify_items": null,
            "left": null,
            "margin": null,
            "max_height": null,
            "max_width": null,
            "min_height": null,
            "min_width": null,
            "object_fit": null,
            "object_position": null,
            "order": null,
            "overflow": null,
            "overflow_x": null,
            "overflow_y": null,
            "padding": null,
            "right": null,
            "top": null,
            "visibility": null,
            "width": null
          }
        },
        "c6de72202efb4d7eaeff4f695f7f447a": {
          "model_module": "@jupyter-widgets/controls",
          "model_name": "DescriptionStyleModel",
          "model_module_version": "1.5.0",
          "state": {
            "_model_module": "@jupyter-widgets/controls",
            "_model_module_version": "1.5.0",
            "_model_name": "DescriptionStyleModel",
            "_view_count": null,
            "_view_module": "@jupyter-widgets/base",
            "_view_module_version": "1.2.0",
            "_view_name": "StyleView",
            "description_width": ""
          }
        },
        "f3680092176f4dc994c82ad22a09f259": {
          "model_module": "@jupyter-widgets/controls",
          "model_name": "HBoxModel",
          "model_module_version": "1.5.0",
          "state": {
            "_dom_classes": [],
            "_model_module": "@jupyter-widgets/controls",
            "_model_module_version": "1.5.0",
            "_model_name": "HBoxModel",
            "_view_count": null,
            "_view_module": "@jupyter-widgets/controls",
            "_view_module_version": "1.5.0",
            "_view_name": "HBoxView",
            "box_style": "",
            "children": [
              "IPY_MODEL_b1f949100539489fbd53ad7300615faa",
              "IPY_MODEL_f914ccb78b704b9198c8653ff7cab609",
              "IPY_MODEL_039778c22ddc42d9ab5d97e5225ea35e"
            ],
            "layout": "IPY_MODEL_88020950b10249f084c0aec083c480c3"
          }
        },
        "b1f949100539489fbd53ad7300615faa": {
          "model_module": "@jupyter-widgets/controls",
          "model_name": "HTMLModel",
          "model_module_version": "1.5.0",
          "state": {
            "_dom_classes": [],
            "_model_module": "@jupyter-widgets/controls",
            "_model_module_version": "1.5.0",
            "_model_name": "HTMLModel",
            "_view_count": null,
            "_view_module": "@jupyter-widgets/controls",
            "_view_module_version": "1.5.0",
            "_view_name": "HTMLView",
            "description": "",
            "description_tooltip": null,
            "layout": "IPY_MODEL_c74da74ebcc442228e8ec986d1772621",
            "placeholder": "​",
            "style": "IPY_MODEL_e757f778357247ee9674bfc15db0f139",
            "value": "100%"
          }
        },
        "f914ccb78b704b9198c8653ff7cab609": {
          "model_module": "@jupyter-widgets/controls",
          "model_name": "FloatProgressModel",
          "model_module_version": "1.5.0",
          "state": {
            "_dom_classes": [],
            "_model_module": "@jupyter-widgets/controls",
            "_model_module_version": "1.5.0",
            "_model_name": "FloatProgressModel",
            "_view_count": null,
            "_view_module": "@jupyter-widgets/controls",
            "_view_module_version": "1.5.0",
            "_view_name": "ProgressView",
            "bar_style": "success",
            "description": "",
            "description_tooltip": null,
            "layout": "IPY_MODEL_55d7a87c9dd54c7484d21ed96404b216",
            "max": 313,
            "min": 0,
            "orientation": "horizontal",
            "style": "IPY_MODEL_6fe7bbd280a8423d939d8102553e0683",
            "value": 313
          }
        },
        "039778c22ddc42d9ab5d97e5225ea35e": {
          "model_module": "@jupyter-widgets/controls",
          "model_name": "HTMLModel",
          "model_module_version": "1.5.0",
          "state": {
            "_dom_classes": [],
            "_model_module": "@jupyter-widgets/controls",
            "_model_module_version": "1.5.0",
            "_model_name": "HTMLModel",
            "_view_count": null,
            "_view_module": "@jupyter-widgets/controls",
            "_view_module_version": "1.5.0",
            "_view_name": "HTMLView",
            "description": "",
            "description_tooltip": null,
            "layout": "IPY_MODEL_93dfb61619be43788d9cdc60b25a1b85",
            "placeholder": "​",
            "style": "IPY_MODEL_7a54a59ebbb24f5689215c19e1857404",
            "value": " 313/313 [00:01&lt;00:00, 290.69it/s]"
          }
        },
        "88020950b10249f084c0aec083c480c3": {
          "model_module": "@jupyter-widgets/base",
          "model_name": "LayoutModel",
          "model_module_version": "1.2.0",
          "state": {
            "_model_module": "@jupyter-widgets/base",
            "_model_module_version": "1.2.0",
            "_model_name": "LayoutModel",
            "_view_count": null,
            "_view_module": "@jupyter-widgets/base",
            "_view_module_version": "1.2.0",
            "_view_name": "LayoutView",
            "align_content": null,
            "align_items": null,
            "align_self": null,
            "border": null,
            "bottom": null,
            "display": null,
            "flex": null,
            "flex_flow": null,
            "grid_area": null,
            "grid_auto_columns": null,
            "grid_auto_flow": null,
            "grid_auto_rows": null,
            "grid_column": null,
            "grid_gap": null,
            "grid_row": null,
            "grid_template_areas": null,
            "grid_template_columns": null,
            "grid_template_rows": null,
            "height": null,
            "justify_content": null,
            "justify_items": null,
            "left": null,
            "margin": null,
            "max_height": null,
            "max_width": null,
            "min_height": null,
            "min_width": null,
            "object_fit": null,
            "object_position": null,
            "order": null,
            "overflow": null,
            "overflow_x": null,
            "overflow_y": null,
            "padding": null,
            "right": null,
            "top": null,
            "visibility": null,
            "width": null
          }
        },
        "c74da74ebcc442228e8ec986d1772621": {
          "model_module": "@jupyter-widgets/base",
          "model_name": "LayoutModel",
          "model_module_version": "1.2.0",
          "state": {
            "_model_module": "@jupyter-widgets/base",
            "_model_module_version": "1.2.0",
            "_model_name": "LayoutModel",
            "_view_count": null,
            "_view_module": "@jupyter-widgets/base",
            "_view_module_version": "1.2.0",
            "_view_name": "LayoutView",
            "align_content": null,
            "align_items": null,
            "align_self": null,
            "border": null,
            "bottom": null,
            "display": null,
            "flex": null,
            "flex_flow": null,
            "grid_area": null,
            "grid_auto_columns": null,
            "grid_auto_flow": null,
            "grid_auto_rows": null,
            "grid_column": null,
            "grid_gap": null,
            "grid_row": null,
            "grid_template_areas": null,
            "grid_template_columns": null,
            "grid_template_rows": null,
            "height": null,
            "justify_content": null,
            "justify_items": null,
            "left": null,
            "margin": null,
            "max_height": null,
            "max_width": null,
            "min_height": null,
            "min_width": null,
            "object_fit": null,
            "object_position": null,
            "order": null,
            "overflow": null,
            "overflow_x": null,
            "overflow_y": null,
            "padding": null,
            "right": null,
            "top": null,
            "visibility": null,
            "width": null
          }
        },
        "e757f778357247ee9674bfc15db0f139": {
          "model_module": "@jupyter-widgets/controls",
          "model_name": "DescriptionStyleModel",
          "model_module_version": "1.5.0",
          "state": {
            "_model_module": "@jupyter-widgets/controls",
            "_model_module_version": "1.5.0",
            "_model_name": "DescriptionStyleModel",
            "_view_count": null,
            "_view_module": "@jupyter-widgets/base",
            "_view_module_version": "1.2.0",
            "_view_name": "StyleView",
            "description_width": ""
          }
        },
        "55d7a87c9dd54c7484d21ed96404b216": {
          "model_module": "@jupyter-widgets/base",
          "model_name": "LayoutModel",
          "model_module_version": "1.2.0",
          "state": {
            "_model_module": "@jupyter-widgets/base",
            "_model_module_version": "1.2.0",
            "_model_name": "LayoutModel",
            "_view_count": null,
            "_view_module": "@jupyter-widgets/base",
            "_view_module_version": "1.2.0",
            "_view_name": "LayoutView",
            "align_content": null,
            "align_items": null,
            "align_self": null,
            "border": null,
            "bottom": null,
            "display": null,
            "flex": null,
            "flex_flow": null,
            "grid_area": null,
            "grid_auto_columns": null,
            "grid_auto_flow": null,
            "grid_auto_rows": null,
            "grid_column": null,
            "grid_gap": null,
            "grid_row": null,
            "grid_template_areas": null,
            "grid_template_columns": null,
            "grid_template_rows": null,
            "height": null,
            "justify_content": null,
            "justify_items": null,
            "left": null,
            "margin": null,
            "max_height": null,
            "max_width": null,
            "min_height": null,
            "min_width": null,
            "object_fit": null,
            "object_position": null,
            "order": null,
            "overflow": null,
            "overflow_x": null,
            "overflow_y": null,
            "padding": null,
            "right": null,
            "top": null,
            "visibility": null,
            "width": null
          }
        },
        "6fe7bbd280a8423d939d8102553e0683": {
          "model_module": "@jupyter-widgets/controls",
          "model_name": "ProgressStyleModel",
          "model_module_version": "1.5.0",
          "state": {
            "_model_module": "@jupyter-widgets/controls",
            "_model_module_version": "1.5.0",
            "_model_name": "ProgressStyleModel",
            "_view_count": null,
            "_view_module": "@jupyter-widgets/base",
            "_view_module_version": "1.2.0",
            "_view_name": "StyleView",
            "bar_color": null,
            "description_width": ""
          }
        },
        "93dfb61619be43788d9cdc60b25a1b85": {
          "model_module": "@jupyter-widgets/base",
          "model_name": "LayoutModel",
          "model_module_version": "1.2.0",
          "state": {
            "_model_module": "@jupyter-widgets/base",
            "_model_module_version": "1.2.0",
            "_model_name": "LayoutModel",
            "_view_count": null,
            "_view_module": "@jupyter-widgets/base",
            "_view_module_version": "1.2.0",
            "_view_name": "LayoutView",
            "align_content": null,
            "align_items": null,
            "align_self": null,
            "border": null,
            "bottom": null,
            "display": null,
            "flex": null,
            "flex_flow": null,
            "grid_area": null,
            "grid_auto_columns": null,
            "grid_auto_flow": null,
            "grid_auto_rows": null,
            "grid_column": null,
            "grid_gap": null,
            "grid_row": null,
            "grid_template_areas": null,
            "grid_template_columns": null,
            "grid_template_rows": null,
            "height": null,
            "justify_content": null,
            "justify_items": null,
            "left": null,
            "margin": null,
            "max_height": null,
            "max_width": null,
            "min_height": null,
            "min_width": null,
            "object_fit": null,
            "object_position": null,
            "order": null,
            "overflow": null,
            "overflow_x": null,
            "overflow_y": null,
            "padding": null,
            "right": null,
            "top": null,
            "visibility": null,
            "width": null
          }
        },
        "7a54a59ebbb24f5689215c19e1857404": {
          "model_module": "@jupyter-widgets/controls",
          "model_name": "DescriptionStyleModel",
          "model_module_version": "1.5.0",
          "state": {
            "_model_module": "@jupyter-widgets/controls",
            "_model_module_version": "1.5.0",
            "_model_name": "DescriptionStyleModel",
            "_view_count": null,
            "_view_module": "@jupyter-widgets/base",
            "_view_module_version": "1.2.0",
            "_view_name": "StyleView",
            "description_width": ""
          }
        },
        "f51e40a4d44b46b19e0e13556069f80a": {
          "model_module": "@jupyter-widgets/controls",
          "model_name": "HBoxModel",
          "model_module_version": "1.5.0",
          "state": {
            "_dom_classes": [],
            "_model_module": "@jupyter-widgets/controls",
            "_model_module_version": "1.5.0",
            "_model_name": "HBoxModel",
            "_view_count": null,
            "_view_module": "@jupyter-widgets/controls",
            "_view_module_version": "1.5.0",
            "_view_name": "HBoxView",
            "box_style": "",
            "children": [
              "IPY_MODEL_8174e5e43ae841fc9f55147b546b5ff8",
              "IPY_MODEL_d4c2f93ca4d0440cb78cd7108672a240",
              "IPY_MODEL_69fbd5c6deb24f4893b1214e2f34c6f4"
            ],
            "layout": "IPY_MODEL_c7be704cf12049b0bd954143433b3c72"
          }
        },
        "8174e5e43ae841fc9f55147b546b5ff8": {
          "model_module": "@jupyter-widgets/controls",
          "model_name": "HTMLModel",
          "model_module_version": "1.5.0",
          "state": {
            "_dom_classes": [],
            "_model_module": "@jupyter-widgets/controls",
            "_model_module_version": "1.5.0",
            "_model_name": "HTMLModel",
            "_view_count": null,
            "_view_module": "@jupyter-widgets/controls",
            "_view_module_version": "1.5.0",
            "_view_name": "HTMLView",
            "description": "",
            "description_tooltip": null,
            "layout": "IPY_MODEL_71dbb4fc8a6f45b5adb4f346172f6af3",
            "placeholder": "​",
            "style": "IPY_MODEL_f4dcd65c6ed948ee84a4065831a55a5b",
            "value": "100%"
          }
        },
        "d4c2f93ca4d0440cb78cd7108672a240": {
          "model_module": "@jupyter-widgets/controls",
          "model_name": "FloatProgressModel",
          "model_module_version": "1.5.0",
          "state": {
            "_dom_classes": [],
            "_model_module": "@jupyter-widgets/controls",
            "_model_module_version": "1.5.0",
            "_model_name": "FloatProgressModel",
            "_view_count": null,
            "_view_module": "@jupyter-widgets/controls",
            "_view_module_version": "1.5.0",
            "_view_name": "ProgressView",
            "bar_style": "success",
            "description": "",
            "description_tooltip": null,
            "layout": "IPY_MODEL_a46e864dac0e4c7397a096ff21fafb48",
            "max": 3,
            "min": 0,
            "orientation": "horizontal",
            "style": "IPY_MODEL_e15456094dc546ed86b5fb373de95937",
            "value": 3
          }
        },
        "69fbd5c6deb24f4893b1214e2f34c6f4": {
          "model_module": "@jupyter-widgets/controls",
          "model_name": "HTMLModel",
          "model_module_version": "1.5.0",
          "state": {
            "_dom_classes": [],
            "_model_module": "@jupyter-widgets/controls",
            "_model_module_version": "1.5.0",
            "_model_name": "HTMLModel",
            "_view_count": null,
            "_view_module": "@jupyter-widgets/controls",
            "_view_module_version": "1.5.0",
            "_view_name": "HTMLView",
            "description": "",
            "description_tooltip": null,
            "layout": "IPY_MODEL_5e106b662c0b49938f6e4648f45542c7",
            "placeholder": "​",
            "style": "IPY_MODEL_e50bc6012906410b87db385671b9bf4c",
            "value": " 3/3 [00:28&lt;00:00,  9.51s/it]"
          }
        },
        "c7be704cf12049b0bd954143433b3c72": {
          "model_module": "@jupyter-widgets/base",
          "model_name": "LayoutModel",
          "model_module_version": "1.2.0",
          "state": {
            "_model_module": "@jupyter-widgets/base",
            "_model_module_version": "1.2.0",
            "_model_name": "LayoutModel",
            "_view_count": null,
            "_view_module": "@jupyter-widgets/base",
            "_view_module_version": "1.2.0",
            "_view_name": "LayoutView",
            "align_content": null,
            "align_items": null,
            "align_self": null,
            "border": null,
            "bottom": null,
            "display": null,
            "flex": null,
            "flex_flow": null,
            "grid_area": null,
            "grid_auto_columns": null,
            "grid_auto_flow": null,
            "grid_auto_rows": null,
            "grid_column": null,
            "grid_gap": null,
            "grid_row": null,
            "grid_template_areas": null,
            "grid_template_columns": null,
            "grid_template_rows": null,
            "height": null,
            "justify_content": null,
            "justify_items": null,
            "left": null,
            "margin": null,
            "max_height": null,
            "max_width": null,
            "min_height": null,
            "min_width": null,
            "object_fit": null,
            "object_position": null,
            "order": null,
            "overflow": null,
            "overflow_x": null,
            "overflow_y": null,
            "padding": null,
            "right": null,
            "top": null,
            "visibility": null,
            "width": null
          }
        },
        "71dbb4fc8a6f45b5adb4f346172f6af3": {
          "model_module": "@jupyter-widgets/base",
          "model_name": "LayoutModel",
          "model_module_version": "1.2.0",
          "state": {
            "_model_module": "@jupyter-widgets/base",
            "_model_module_version": "1.2.0",
            "_model_name": "LayoutModel",
            "_view_count": null,
            "_view_module": "@jupyter-widgets/base",
            "_view_module_version": "1.2.0",
            "_view_name": "LayoutView",
            "align_content": null,
            "align_items": null,
            "align_self": null,
            "border": null,
            "bottom": null,
            "display": null,
            "flex": null,
            "flex_flow": null,
            "grid_area": null,
            "grid_auto_columns": null,
            "grid_auto_flow": null,
            "grid_auto_rows": null,
            "grid_column": null,
            "grid_gap": null,
            "grid_row": null,
            "grid_template_areas": null,
            "grid_template_columns": null,
            "grid_template_rows": null,
            "height": null,
            "justify_content": null,
            "justify_items": null,
            "left": null,
            "margin": null,
            "max_height": null,
            "max_width": null,
            "min_height": null,
            "min_width": null,
            "object_fit": null,
            "object_position": null,
            "order": null,
            "overflow": null,
            "overflow_x": null,
            "overflow_y": null,
            "padding": null,
            "right": null,
            "top": null,
            "visibility": null,
            "width": null
          }
        },
        "f4dcd65c6ed948ee84a4065831a55a5b": {
          "model_module": "@jupyter-widgets/controls",
          "model_name": "DescriptionStyleModel",
          "model_module_version": "1.5.0",
          "state": {
            "_model_module": "@jupyter-widgets/controls",
            "_model_module_version": "1.5.0",
            "_model_name": "DescriptionStyleModel",
            "_view_count": null,
            "_view_module": "@jupyter-widgets/base",
            "_view_module_version": "1.2.0",
            "_view_name": "StyleView",
            "description_width": ""
          }
        },
        "a46e864dac0e4c7397a096ff21fafb48": {
          "model_module": "@jupyter-widgets/base",
          "model_name": "LayoutModel",
          "model_module_version": "1.2.0",
          "state": {
            "_model_module": "@jupyter-widgets/base",
            "_model_module_version": "1.2.0",
            "_model_name": "LayoutModel",
            "_view_count": null,
            "_view_module": "@jupyter-widgets/base",
            "_view_module_version": "1.2.0",
            "_view_name": "LayoutView",
            "align_content": null,
            "align_items": null,
            "align_self": null,
            "border": null,
            "bottom": null,
            "display": null,
            "flex": null,
            "flex_flow": null,
            "grid_area": null,
            "grid_auto_columns": null,
            "grid_auto_flow": null,
            "grid_auto_rows": null,
            "grid_column": null,
            "grid_gap": null,
            "grid_row": null,
            "grid_template_areas": null,
            "grid_template_columns": null,
            "grid_template_rows": null,
            "height": null,
            "justify_content": null,
            "justify_items": null,
            "left": null,
            "margin": null,
            "max_height": null,
            "max_width": null,
            "min_height": null,
            "min_width": null,
            "object_fit": null,
            "object_position": null,
            "order": null,
            "overflow": null,
            "overflow_x": null,
            "overflow_y": null,
            "padding": null,
            "right": null,
            "top": null,
            "visibility": null,
            "width": null
          }
        },
        "e15456094dc546ed86b5fb373de95937": {
          "model_module": "@jupyter-widgets/controls",
          "model_name": "ProgressStyleModel",
          "model_module_version": "1.5.0",
          "state": {
            "_model_module": "@jupyter-widgets/controls",
            "_model_module_version": "1.5.0",
            "_model_name": "ProgressStyleModel",
            "_view_count": null,
            "_view_module": "@jupyter-widgets/base",
            "_view_module_version": "1.2.0",
            "_view_name": "StyleView",
            "bar_color": null,
            "description_width": ""
          }
        },
        "5e106b662c0b49938f6e4648f45542c7": {
          "model_module": "@jupyter-widgets/base",
          "model_name": "LayoutModel",
          "model_module_version": "1.2.0",
          "state": {
            "_model_module": "@jupyter-widgets/base",
            "_model_module_version": "1.2.0",
            "_model_name": "LayoutModel",
            "_view_count": null,
            "_view_module": "@jupyter-widgets/base",
            "_view_module_version": "1.2.0",
            "_view_name": "LayoutView",
            "align_content": null,
            "align_items": null,
            "align_self": null,
            "border": null,
            "bottom": null,
            "display": null,
            "flex": null,
            "flex_flow": null,
            "grid_area": null,
            "grid_auto_columns": null,
            "grid_auto_flow": null,
            "grid_auto_rows": null,
            "grid_column": null,
            "grid_gap": null,
            "grid_row": null,
            "grid_template_areas": null,
            "grid_template_columns": null,
            "grid_template_rows": null,
            "height": null,
            "justify_content": null,
            "justify_items": null,
            "left": null,
            "margin": null,
            "max_height": null,
            "max_width": null,
            "min_height": null,
            "min_width": null,
            "object_fit": null,
            "object_position": null,
            "order": null,
            "overflow": null,
            "overflow_x": null,
            "overflow_y": null,
            "padding": null,
            "right": null,
            "top": null,
            "visibility": null,
            "width": null
          }
        },
        "e50bc6012906410b87db385671b9bf4c": {
          "model_module": "@jupyter-widgets/controls",
          "model_name": "DescriptionStyleModel",
          "model_module_version": "1.5.0",
          "state": {
            "_model_module": "@jupyter-widgets/controls",
            "_model_module_version": "1.5.0",
            "_model_name": "DescriptionStyleModel",
            "_view_count": null,
            "_view_module": "@jupyter-widgets/base",
            "_view_module_version": "1.2.0",
            "_view_name": "StyleView",
            "description_width": ""
          }
        },
        "5fcbe44f0137457485c49b96ee435685": {
          "model_module": "@jupyter-widgets/controls",
          "model_name": "HBoxModel",
          "model_module_version": "1.5.0",
          "state": {
            "_dom_classes": [],
            "_model_module": "@jupyter-widgets/controls",
            "_model_module_version": "1.5.0",
            "_model_name": "HBoxModel",
            "_view_count": null,
            "_view_module": "@jupyter-widgets/controls",
            "_view_module_version": "1.5.0",
            "_view_name": "HBoxView",
            "box_style": "",
            "children": [
              "IPY_MODEL_62a4dad1d1f04aa781aeaf0bb7e82572",
              "IPY_MODEL_4f1fe9739c3a4175b90f0e81172c3623",
              "IPY_MODEL_4b67effbc9924a9db461e35b1c71df25"
            ],
            "layout": "IPY_MODEL_e606788853f74346b1d77a4e6ebc2042"
          }
        },
        "62a4dad1d1f04aa781aeaf0bb7e82572": {
          "model_module": "@jupyter-widgets/controls",
          "model_name": "HTMLModel",
          "model_module_version": "1.5.0",
          "state": {
            "_dom_classes": [],
            "_model_module": "@jupyter-widgets/controls",
            "_model_module_version": "1.5.0",
            "_model_name": "HTMLModel",
            "_view_count": null,
            "_view_module": "@jupyter-widgets/controls",
            "_view_module_version": "1.5.0",
            "_view_name": "HTMLView",
            "description": "",
            "description_tooltip": null,
            "layout": "IPY_MODEL_9f71c040de024cc6b88d57321d7c9ed4",
            "placeholder": "​",
            "style": "IPY_MODEL_cc3742a1baad43b2a58dec2f1b58ea26",
            "value": "100%"
          }
        },
        "4f1fe9739c3a4175b90f0e81172c3623": {
          "model_module": "@jupyter-widgets/controls",
          "model_name": "FloatProgressModel",
          "model_module_version": "1.5.0",
          "state": {
            "_dom_classes": [],
            "_model_module": "@jupyter-widgets/controls",
            "_model_module_version": "1.5.0",
            "_model_name": "FloatProgressModel",
            "_view_count": null,
            "_view_module": "@jupyter-widgets/controls",
            "_view_module_version": "1.5.0",
            "_view_name": "ProgressView",
            "bar_style": "success",
            "description": "",
            "description_tooltip": null,
            "layout": "IPY_MODEL_e480f9c6ae9740f4b1d461a6e1adb3d2",
            "max": 313,
            "min": 0,
            "orientation": "horizontal",
            "style": "IPY_MODEL_a5077ddf02434d3c8c6bdf14b54ae025",
            "value": 313
          }
        },
        "4b67effbc9924a9db461e35b1c71df25": {
          "model_module": "@jupyter-widgets/controls",
          "model_name": "HTMLModel",
          "model_module_version": "1.5.0",
          "state": {
            "_dom_classes": [],
            "_model_module": "@jupyter-widgets/controls",
            "_model_module_version": "1.5.0",
            "_model_name": "HTMLModel",
            "_view_count": null,
            "_view_module": "@jupyter-widgets/controls",
            "_view_module_version": "1.5.0",
            "_view_name": "HTMLView",
            "description": "",
            "description_tooltip": null,
            "layout": "IPY_MODEL_f86985ed37fc45c284be2c55c0f39471",
            "placeholder": "​",
            "style": "IPY_MODEL_bee62c160a144ceca67c7265e05ce47c",
            "value": " 313/313 [00:01&lt;00:00, 284.25it/s]"
          }
        },
        "e606788853f74346b1d77a4e6ebc2042": {
          "model_module": "@jupyter-widgets/base",
          "model_name": "LayoutModel",
          "model_module_version": "1.2.0",
          "state": {
            "_model_module": "@jupyter-widgets/base",
            "_model_module_version": "1.2.0",
            "_model_name": "LayoutModel",
            "_view_count": null,
            "_view_module": "@jupyter-widgets/base",
            "_view_module_version": "1.2.0",
            "_view_name": "LayoutView",
            "align_content": null,
            "align_items": null,
            "align_self": null,
            "border": null,
            "bottom": null,
            "display": null,
            "flex": null,
            "flex_flow": null,
            "grid_area": null,
            "grid_auto_columns": null,
            "grid_auto_flow": null,
            "grid_auto_rows": null,
            "grid_column": null,
            "grid_gap": null,
            "grid_row": null,
            "grid_template_areas": null,
            "grid_template_columns": null,
            "grid_template_rows": null,
            "height": null,
            "justify_content": null,
            "justify_items": null,
            "left": null,
            "margin": null,
            "max_height": null,
            "max_width": null,
            "min_height": null,
            "min_width": null,
            "object_fit": null,
            "object_position": null,
            "order": null,
            "overflow": null,
            "overflow_x": null,
            "overflow_y": null,
            "padding": null,
            "right": null,
            "top": null,
            "visibility": null,
            "width": null
          }
        },
        "9f71c040de024cc6b88d57321d7c9ed4": {
          "model_module": "@jupyter-widgets/base",
          "model_name": "LayoutModel",
          "model_module_version": "1.2.0",
          "state": {
            "_model_module": "@jupyter-widgets/base",
            "_model_module_version": "1.2.0",
            "_model_name": "LayoutModel",
            "_view_count": null,
            "_view_module": "@jupyter-widgets/base",
            "_view_module_version": "1.2.0",
            "_view_name": "LayoutView",
            "align_content": null,
            "align_items": null,
            "align_self": null,
            "border": null,
            "bottom": null,
            "display": null,
            "flex": null,
            "flex_flow": null,
            "grid_area": null,
            "grid_auto_columns": null,
            "grid_auto_flow": null,
            "grid_auto_rows": null,
            "grid_column": null,
            "grid_gap": null,
            "grid_row": null,
            "grid_template_areas": null,
            "grid_template_columns": null,
            "grid_template_rows": null,
            "height": null,
            "justify_content": null,
            "justify_items": null,
            "left": null,
            "margin": null,
            "max_height": null,
            "max_width": null,
            "min_height": null,
            "min_width": null,
            "object_fit": null,
            "object_position": null,
            "order": null,
            "overflow": null,
            "overflow_x": null,
            "overflow_y": null,
            "padding": null,
            "right": null,
            "top": null,
            "visibility": null,
            "width": null
          }
        },
        "cc3742a1baad43b2a58dec2f1b58ea26": {
          "model_module": "@jupyter-widgets/controls",
          "model_name": "DescriptionStyleModel",
          "model_module_version": "1.5.0",
          "state": {
            "_model_module": "@jupyter-widgets/controls",
            "_model_module_version": "1.5.0",
            "_model_name": "DescriptionStyleModel",
            "_view_count": null,
            "_view_module": "@jupyter-widgets/base",
            "_view_module_version": "1.2.0",
            "_view_name": "StyleView",
            "description_width": ""
          }
        },
        "e480f9c6ae9740f4b1d461a6e1adb3d2": {
          "model_module": "@jupyter-widgets/base",
          "model_name": "LayoutModel",
          "model_module_version": "1.2.0",
          "state": {
            "_model_module": "@jupyter-widgets/base",
            "_model_module_version": "1.2.0",
            "_model_name": "LayoutModel",
            "_view_count": null,
            "_view_module": "@jupyter-widgets/base",
            "_view_module_version": "1.2.0",
            "_view_name": "LayoutView",
            "align_content": null,
            "align_items": null,
            "align_self": null,
            "border": null,
            "bottom": null,
            "display": null,
            "flex": null,
            "flex_flow": null,
            "grid_area": null,
            "grid_auto_columns": null,
            "grid_auto_flow": null,
            "grid_auto_rows": null,
            "grid_column": null,
            "grid_gap": null,
            "grid_row": null,
            "grid_template_areas": null,
            "grid_template_columns": null,
            "grid_template_rows": null,
            "height": null,
            "justify_content": null,
            "justify_items": null,
            "left": null,
            "margin": null,
            "max_height": null,
            "max_width": null,
            "min_height": null,
            "min_width": null,
            "object_fit": null,
            "object_position": null,
            "order": null,
            "overflow": null,
            "overflow_x": null,
            "overflow_y": null,
            "padding": null,
            "right": null,
            "top": null,
            "visibility": null,
            "width": null
          }
        },
        "a5077ddf02434d3c8c6bdf14b54ae025": {
          "model_module": "@jupyter-widgets/controls",
          "model_name": "ProgressStyleModel",
          "model_module_version": "1.5.0",
          "state": {
            "_model_module": "@jupyter-widgets/controls",
            "_model_module_version": "1.5.0",
            "_model_name": "ProgressStyleModel",
            "_view_count": null,
            "_view_module": "@jupyter-widgets/base",
            "_view_module_version": "1.2.0",
            "_view_name": "StyleView",
            "bar_color": null,
            "description_width": ""
          }
        },
        "f86985ed37fc45c284be2c55c0f39471": {
          "model_module": "@jupyter-widgets/base",
          "model_name": "LayoutModel",
          "model_module_version": "1.2.0",
          "state": {
            "_model_module": "@jupyter-widgets/base",
            "_model_module_version": "1.2.0",
            "_model_name": "LayoutModel",
            "_view_count": null,
            "_view_module": "@jupyter-widgets/base",
            "_view_module_version": "1.2.0",
            "_view_name": "LayoutView",
            "align_content": null,
            "align_items": null,
            "align_self": null,
            "border": null,
            "bottom": null,
            "display": null,
            "flex": null,
            "flex_flow": null,
            "grid_area": null,
            "grid_auto_columns": null,
            "grid_auto_flow": null,
            "grid_auto_rows": null,
            "grid_column": null,
            "grid_gap": null,
            "grid_row": null,
            "grid_template_areas": null,
            "grid_template_columns": null,
            "grid_template_rows": null,
            "height": null,
            "justify_content": null,
            "justify_items": null,
            "left": null,
            "margin": null,
            "max_height": null,
            "max_width": null,
            "min_height": null,
            "min_width": null,
            "object_fit": null,
            "object_position": null,
            "order": null,
            "overflow": null,
            "overflow_x": null,
            "overflow_y": null,
            "padding": null,
            "right": null,
            "top": null,
            "visibility": null,
            "width": null
          }
        },
        "bee62c160a144ceca67c7265e05ce47c": {
          "model_module": "@jupyter-widgets/controls",
          "model_name": "DescriptionStyleModel",
          "model_module_version": "1.5.0",
          "state": {
            "_model_module": "@jupyter-widgets/controls",
            "_model_module_version": "1.5.0",
            "_model_name": "DescriptionStyleModel",
            "_view_count": null,
            "_view_module": "@jupyter-widgets/base",
            "_view_module_version": "1.2.0",
            "_view_name": "StyleView",
            "description_width": ""
          }
        },
        "a15c0d552899461580f891fc1b3e959d": {
          "model_module": "@jupyter-widgets/controls",
          "model_name": "HBoxModel",
          "model_module_version": "1.5.0",
          "state": {
            "_dom_classes": [],
            "_model_module": "@jupyter-widgets/controls",
            "_model_module_version": "1.5.0",
            "_model_name": "HBoxModel",
            "_view_count": null,
            "_view_module": "@jupyter-widgets/controls",
            "_view_module_version": "1.5.0",
            "_view_name": "HBoxView",
            "box_style": "",
            "children": [
              "IPY_MODEL_970046ad5a1347e1af990a1dff09a1a5",
              "IPY_MODEL_b44a00a5a1ca4703a045231c824838ba",
              "IPY_MODEL_18b91430cbdc421d94cf9e5a28d33c8f"
            ],
            "layout": "IPY_MODEL_cba4327841014982ae30f5bbef1c1470"
          }
        },
        "970046ad5a1347e1af990a1dff09a1a5": {
          "model_module": "@jupyter-widgets/controls",
          "model_name": "HTMLModel",
          "model_module_version": "1.5.0",
          "state": {
            "_dom_classes": [],
            "_model_module": "@jupyter-widgets/controls",
            "_model_module_version": "1.5.0",
            "_model_name": "HTMLModel",
            "_view_count": null,
            "_view_module": "@jupyter-widgets/controls",
            "_view_module_version": "1.5.0",
            "_view_name": "HTMLView",
            "description": "",
            "description_tooltip": null,
            "layout": "IPY_MODEL_1b0084abe2fe449b9d9644471ed0fda5",
            "placeholder": "​",
            "style": "IPY_MODEL_59b0cac7b78d402a84d4b97305d8a6b7",
            "value": "100%"
          }
        },
        "b44a00a5a1ca4703a045231c824838ba": {
          "model_module": "@jupyter-widgets/controls",
          "model_name": "FloatProgressModel",
          "model_module_version": "1.5.0",
          "state": {
            "_dom_classes": [],
            "_model_module": "@jupyter-widgets/controls",
            "_model_module_version": "1.5.0",
            "_model_name": "FloatProgressModel",
            "_view_count": null,
            "_view_module": "@jupyter-widgets/controls",
            "_view_module_version": "1.5.0",
            "_view_name": "ProgressView",
            "bar_style": "success",
            "description": "",
            "description_tooltip": null,
            "layout": "IPY_MODEL_1f3be7bee6f746c9830b8e53fd50b546",
            "max": 3,
            "min": 0,
            "orientation": "horizontal",
            "style": "IPY_MODEL_9b1454f6cc64492c8d6d495c4623a61c",
            "value": 3
          }
        },
        "18b91430cbdc421d94cf9e5a28d33c8f": {
          "model_module": "@jupyter-widgets/controls",
          "model_name": "HTMLModel",
          "model_module_version": "1.5.0",
          "state": {
            "_dom_classes": [],
            "_model_module": "@jupyter-widgets/controls",
            "_model_module_version": "1.5.0",
            "_model_name": "HTMLModel",
            "_view_count": null,
            "_view_module": "@jupyter-widgets/controls",
            "_view_module_version": "1.5.0",
            "_view_name": "HTMLView",
            "description": "",
            "description_tooltip": null,
            "layout": "IPY_MODEL_96e4d4141a284963b1affdc49a5c9b59",
            "placeholder": "​",
            "style": "IPY_MODEL_65640117a7c5400a89af7eb45f20afd6",
            "value": " 3/3 [00:34&lt;00:00, 11.33s/it]"
          }
        },
        "cba4327841014982ae30f5bbef1c1470": {
          "model_module": "@jupyter-widgets/base",
          "model_name": "LayoutModel",
          "model_module_version": "1.2.0",
          "state": {
            "_model_module": "@jupyter-widgets/base",
            "_model_module_version": "1.2.0",
            "_model_name": "LayoutModel",
            "_view_count": null,
            "_view_module": "@jupyter-widgets/base",
            "_view_module_version": "1.2.0",
            "_view_name": "LayoutView",
            "align_content": null,
            "align_items": null,
            "align_self": null,
            "border": null,
            "bottom": null,
            "display": null,
            "flex": null,
            "flex_flow": null,
            "grid_area": null,
            "grid_auto_columns": null,
            "grid_auto_flow": null,
            "grid_auto_rows": null,
            "grid_column": null,
            "grid_gap": null,
            "grid_row": null,
            "grid_template_areas": null,
            "grid_template_columns": null,
            "grid_template_rows": null,
            "height": null,
            "justify_content": null,
            "justify_items": null,
            "left": null,
            "margin": null,
            "max_height": null,
            "max_width": null,
            "min_height": null,
            "min_width": null,
            "object_fit": null,
            "object_position": null,
            "order": null,
            "overflow": null,
            "overflow_x": null,
            "overflow_y": null,
            "padding": null,
            "right": null,
            "top": null,
            "visibility": null,
            "width": null
          }
        },
        "1b0084abe2fe449b9d9644471ed0fda5": {
          "model_module": "@jupyter-widgets/base",
          "model_name": "LayoutModel",
          "model_module_version": "1.2.0",
          "state": {
            "_model_module": "@jupyter-widgets/base",
            "_model_module_version": "1.2.0",
            "_model_name": "LayoutModel",
            "_view_count": null,
            "_view_module": "@jupyter-widgets/base",
            "_view_module_version": "1.2.0",
            "_view_name": "LayoutView",
            "align_content": null,
            "align_items": null,
            "align_self": null,
            "border": null,
            "bottom": null,
            "display": null,
            "flex": null,
            "flex_flow": null,
            "grid_area": null,
            "grid_auto_columns": null,
            "grid_auto_flow": null,
            "grid_auto_rows": null,
            "grid_column": null,
            "grid_gap": null,
            "grid_row": null,
            "grid_template_areas": null,
            "grid_template_columns": null,
            "grid_template_rows": null,
            "height": null,
            "justify_content": null,
            "justify_items": null,
            "left": null,
            "margin": null,
            "max_height": null,
            "max_width": null,
            "min_height": null,
            "min_width": null,
            "object_fit": null,
            "object_position": null,
            "order": null,
            "overflow": null,
            "overflow_x": null,
            "overflow_y": null,
            "padding": null,
            "right": null,
            "top": null,
            "visibility": null,
            "width": null
          }
        },
        "59b0cac7b78d402a84d4b97305d8a6b7": {
          "model_module": "@jupyter-widgets/controls",
          "model_name": "DescriptionStyleModel",
          "model_module_version": "1.5.0",
          "state": {
            "_model_module": "@jupyter-widgets/controls",
            "_model_module_version": "1.5.0",
            "_model_name": "DescriptionStyleModel",
            "_view_count": null,
            "_view_module": "@jupyter-widgets/base",
            "_view_module_version": "1.2.0",
            "_view_name": "StyleView",
            "description_width": ""
          }
        },
        "1f3be7bee6f746c9830b8e53fd50b546": {
          "model_module": "@jupyter-widgets/base",
          "model_name": "LayoutModel",
          "model_module_version": "1.2.0",
          "state": {
            "_model_module": "@jupyter-widgets/base",
            "_model_module_version": "1.2.0",
            "_model_name": "LayoutModel",
            "_view_count": null,
            "_view_module": "@jupyter-widgets/base",
            "_view_module_version": "1.2.0",
            "_view_name": "LayoutView",
            "align_content": null,
            "align_items": null,
            "align_self": null,
            "border": null,
            "bottom": null,
            "display": null,
            "flex": null,
            "flex_flow": null,
            "grid_area": null,
            "grid_auto_columns": null,
            "grid_auto_flow": null,
            "grid_auto_rows": null,
            "grid_column": null,
            "grid_gap": null,
            "grid_row": null,
            "grid_template_areas": null,
            "grid_template_columns": null,
            "grid_template_rows": null,
            "height": null,
            "justify_content": null,
            "justify_items": null,
            "left": null,
            "margin": null,
            "max_height": null,
            "max_width": null,
            "min_height": null,
            "min_width": null,
            "object_fit": null,
            "object_position": null,
            "order": null,
            "overflow": null,
            "overflow_x": null,
            "overflow_y": null,
            "padding": null,
            "right": null,
            "top": null,
            "visibility": null,
            "width": null
          }
        },
        "9b1454f6cc64492c8d6d495c4623a61c": {
          "model_module": "@jupyter-widgets/controls",
          "model_name": "ProgressStyleModel",
          "model_module_version": "1.5.0",
          "state": {
            "_model_module": "@jupyter-widgets/controls",
            "_model_module_version": "1.5.0",
            "_model_name": "ProgressStyleModel",
            "_view_count": null,
            "_view_module": "@jupyter-widgets/base",
            "_view_module_version": "1.2.0",
            "_view_name": "StyleView",
            "bar_color": null,
            "description_width": ""
          }
        },
        "96e4d4141a284963b1affdc49a5c9b59": {
          "model_module": "@jupyter-widgets/base",
          "model_name": "LayoutModel",
          "model_module_version": "1.2.0",
          "state": {
            "_model_module": "@jupyter-widgets/base",
            "_model_module_version": "1.2.0",
            "_model_name": "LayoutModel",
            "_view_count": null,
            "_view_module": "@jupyter-widgets/base",
            "_view_module_version": "1.2.0",
            "_view_name": "LayoutView",
            "align_content": null,
            "align_items": null,
            "align_self": null,
            "border": null,
            "bottom": null,
            "display": null,
            "flex": null,
            "flex_flow": null,
            "grid_area": null,
            "grid_auto_columns": null,
            "grid_auto_flow": null,
            "grid_auto_rows": null,
            "grid_column": null,
            "grid_gap": null,
            "grid_row": null,
            "grid_template_areas": null,
            "grid_template_columns": null,
            "grid_template_rows": null,
            "height": null,
            "justify_content": null,
            "justify_items": null,
            "left": null,
            "margin": null,
            "max_height": null,
            "max_width": null,
            "min_height": null,
            "min_width": null,
            "object_fit": null,
            "object_position": null,
            "order": null,
            "overflow": null,
            "overflow_x": null,
            "overflow_y": null,
            "padding": null,
            "right": null,
            "top": null,
            "visibility": null,
            "width": null
          }
        },
        "65640117a7c5400a89af7eb45f20afd6": {
          "model_module": "@jupyter-widgets/controls",
          "model_name": "DescriptionStyleModel",
          "model_module_version": "1.5.0",
          "state": {
            "_model_module": "@jupyter-widgets/controls",
            "_model_module_version": "1.5.0",
            "_model_name": "DescriptionStyleModel",
            "_view_count": null,
            "_view_module": "@jupyter-widgets/base",
            "_view_module_version": "1.2.0",
            "_view_name": "StyleView",
            "description_width": ""
          }
        },
        "99cfb2a7f6bb4931af89a916c9985d47": {
          "model_module": "@jupyter-widgets/controls",
          "model_name": "HBoxModel",
          "model_module_version": "1.5.0",
          "state": {
            "_dom_classes": [],
            "_model_module": "@jupyter-widgets/controls",
            "_model_module_version": "1.5.0",
            "_model_name": "HBoxModel",
            "_view_count": null,
            "_view_module": "@jupyter-widgets/controls",
            "_view_module_version": "1.5.0",
            "_view_name": "HBoxView",
            "box_style": "",
            "children": [
              "IPY_MODEL_cd4faceb617645168939f85d4d6b080a",
              "IPY_MODEL_894f60c5469c4574ba2f786b059cc766",
              "IPY_MODEL_a10d491050b64972966ec0839b49105b"
            ],
            "layout": "IPY_MODEL_e166583b100a47dcb54bc1e7c5fd1bc6"
          }
        },
        "cd4faceb617645168939f85d4d6b080a": {
          "model_module": "@jupyter-widgets/controls",
          "model_name": "HTMLModel",
          "model_module_version": "1.5.0",
          "state": {
            "_dom_classes": [],
            "_model_module": "@jupyter-widgets/controls",
            "_model_module_version": "1.5.0",
            "_model_name": "HTMLModel",
            "_view_count": null,
            "_view_module": "@jupyter-widgets/controls",
            "_view_module_version": "1.5.0",
            "_view_name": "HTMLView",
            "description": "",
            "description_tooltip": null,
            "layout": "IPY_MODEL_30021ade2d9e4eb8bda9209ef5a5e249",
            "placeholder": "​",
            "style": "IPY_MODEL_be353f790d70400e9d3e66f4de02c484",
            "value": "100%"
          }
        },
        "894f60c5469c4574ba2f786b059cc766": {
          "model_module": "@jupyter-widgets/controls",
          "model_name": "FloatProgressModel",
          "model_module_version": "1.5.0",
          "state": {
            "_dom_classes": [],
            "_model_module": "@jupyter-widgets/controls",
            "_model_module_version": "1.5.0",
            "_model_name": "FloatProgressModel",
            "_view_count": null,
            "_view_module": "@jupyter-widgets/controls",
            "_view_module_version": "1.5.0",
            "_view_name": "ProgressView",
            "bar_style": "success",
            "description": "",
            "description_tooltip": null,
            "layout": "IPY_MODEL_5c492722f989489aa9b2178168530ce8",
            "max": 313,
            "min": 0,
            "orientation": "horizontal",
            "style": "IPY_MODEL_1831e9612da6444c96ecdf465936abcf",
            "value": 313
          }
        },
        "a10d491050b64972966ec0839b49105b": {
          "model_module": "@jupyter-widgets/controls",
          "model_name": "HTMLModel",
          "model_module_version": "1.5.0",
          "state": {
            "_dom_classes": [],
            "_model_module": "@jupyter-widgets/controls",
            "_model_module_version": "1.5.0",
            "_model_name": "HTMLModel",
            "_view_count": null,
            "_view_module": "@jupyter-widgets/controls",
            "_view_module_version": "1.5.0",
            "_view_name": "HTMLView",
            "description": "",
            "description_tooltip": null,
            "layout": "IPY_MODEL_1a6d3c4203ec40f799d3ac4399be7496",
            "placeholder": "​",
            "style": "IPY_MODEL_3c57b2f852f149bb9a574d7bc366b1ff",
            "value": " 313/313 [00:01&lt;00:00, 254.79it/s]"
          }
        },
        "e166583b100a47dcb54bc1e7c5fd1bc6": {
          "model_module": "@jupyter-widgets/base",
          "model_name": "LayoutModel",
          "model_module_version": "1.2.0",
          "state": {
            "_model_module": "@jupyter-widgets/base",
            "_model_module_version": "1.2.0",
            "_model_name": "LayoutModel",
            "_view_count": null,
            "_view_module": "@jupyter-widgets/base",
            "_view_module_version": "1.2.0",
            "_view_name": "LayoutView",
            "align_content": null,
            "align_items": null,
            "align_self": null,
            "border": null,
            "bottom": null,
            "display": null,
            "flex": null,
            "flex_flow": null,
            "grid_area": null,
            "grid_auto_columns": null,
            "grid_auto_flow": null,
            "grid_auto_rows": null,
            "grid_column": null,
            "grid_gap": null,
            "grid_row": null,
            "grid_template_areas": null,
            "grid_template_columns": null,
            "grid_template_rows": null,
            "height": null,
            "justify_content": null,
            "justify_items": null,
            "left": null,
            "margin": null,
            "max_height": null,
            "max_width": null,
            "min_height": null,
            "min_width": null,
            "object_fit": null,
            "object_position": null,
            "order": null,
            "overflow": null,
            "overflow_x": null,
            "overflow_y": null,
            "padding": null,
            "right": null,
            "top": null,
            "visibility": null,
            "width": null
          }
        },
        "30021ade2d9e4eb8bda9209ef5a5e249": {
          "model_module": "@jupyter-widgets/base",
          "model_name": "LayoutModel",
          "model_module_version": "1.2.0",
          "state": {
            "_model_module": "@jupyter-widgets/base",
            "_model_module_version": "1.2.0",
            "_model_name": "LayoutModel",
            "_view_count": null,
            "_view_module": "@jupyter-widgets/base",
            "_view_module_version": "1.2.0",
            "_view_name": "LayoutView",
            "align_content": null,
            "align_items": null,
            "align_self": null,
            "border": null,
            "bottom": null,
            "display": null,
            "flex": null,
            "flex_flow": null,
            "grid_area": null,
            "grid_auto_columns": null,
            "grid_auto_flow": null,
            "grid_auto_rows": null,
            "grid_column": null,
            "grid_gap": null,
            "grid_row": null,
            "grid_template_areas": null,
            "grid_template_columns": null,
            "grid_template_rows": null,
            "height": null,
            "justify_content": null,
            "justify_items": null,
            "left": null,
            "margin": null,
            "max_height": null,
            "max_width": null,
            "min_height": null,
            "min_width": null,
            "object_fit": null,
            "object_position": null,
            "order": null,
            "overflow": null,
            "overflow_x": null,
            "overflow_y": null,
            "padding": null,
            "right": null,
            "top": null,
            "visibility": null,
            "width": null
          }
        },
        "be353f790d70400e9d3e66f4de02c484": {
          "model_module": "@jupyter-widgets/controls",
          "model_name": "DescriptionStyleModel",
          "model_module_version": "1.5.0",
          "state": {
            "_model_module": "@jupyter-widgets/controls",
            "_model_module_version": "1.5.0",
            "_model_name": "DescriptionStyleModel",
            "_view_count": null,
            "_view_module": "@jupyter-widgets/base",
            "_view_module_version": "1.2.0",
            "_view_name": "StyleView",
            "description_width": ""
          }
        },
        "5c492722f989489aa9b2178168530ce8": {
          "model_module": "@jupyter-widgets/base",
          "model_name": "LayoutModel",
          "model_module_version": "1.2.0",
          "state": {
            "_model_module": "@jupyter-widgets/base",
            "_model_module_version": "1.2.0",
            "_model_name": "LayoutModel",
            "_view_count": null,
            "_view_module": "@jupyter-widgets/base",
            "_view_module_version": "1.2.0",
            "_view_name": "LayoutView",
            "align_content": null,
            "align_items": null,
            "align_self": null,
            "border": null,
            "bottom": null,
            "display": null,
            "flex": null,
            "flex_flow": null,
            "grid_area": null,
            "grid_auto_columns": null,
            "grid_auto_flow": null,
            "grid_auto_rows": null,
            "grid_column": null,
            "grid_gap": null,
            "grid_row": null,
            "grid_template_areas": null,
            "grid_template_columns": null,
            "grid_template_rows": null,
            "height": null,
            "justify_content": null,
            "justify_items": null,
            "left": null,
            "margin": null,
            "max_height": null,
            "max_width": null,
            "min_height": null,
            "min_width": null,
            "object_fit": null,
            "object_position": null,
            "order": null,
            "overflow": null,
            "overflow_x": null,
            "overflow_y": null,
            "padding": null,
            "right": null,
            "top": null,
            "visibility": null,
            "width": null
          }
        },
        "1831e9612da6444c96ecdf465936abcf": {
          "model_module": "@jupyter-widgets/controls",
          "model_name": "ProgressStyleModel",
          "model_module_version": "1.5.0",
          "state": {
            "_model_module": "@jupyter-widgets/controls",
            "_model_module_version": "1.5.0",
            "_model_name": "ProgressStyleModel",
            "_view_count": null,
            "_view_module": "@jupyter-widgets/base",
            "_view_module_version": "1.2.0",
            "_view_name": "StyleView",
            "bar_color": null,
            "description_width": ""
          }
        },
        "1a6d3c4203ec40f799d3ac4399be7496": {
          "model_module": "@jupyter-widgets/base",
          "model_name": "LayoutModel",
          "model_module_version": "1.2.0",
          "state": {
            "_model_module": "@jupyter-widgets/base",
            "_model_module_version": "1.2.0",
            "_model_name": "LayoutModel",
            "_view_count": null,
            "_view_module": "@jupyter-widgets/base",
            "_view_module_version": "1.2.0",
            "_view_name": "LayoutView",
            "align_content": null,
            "align_items": null,
            "align_self": null,
            "border": null,
            "bottom": null,
            "display": null,
            "flex": null,
            "flex_flow": null,
            "grid_area": null,
            "grid_auto_columns": null,
            "grid_auto_flow": null,
            "grid_auto_rows": null,
            "grid_column": null,
            "grid_gap": null,
            "grid_row": null,
            "grid_template_areas": null,
            "grid_template_columns": null,
            "grid_template_rows": null,
            "height": null,
            "justify_content": null,
            "justify_items": null,
            "left": null,
            "margin": null,
            "max_height": null,
            "max_width": null,
            "min_height": null,
            "min_width": null,
            "object_fit": null,
            "object_position": null,
            "order": null,
            "overflow": null,
            "overflow_x": null,
            "overflow_y": null,
            "padding": null,
            "right": null,
            "top": null,
            "visibility": null,
            "width": null
          }
        },
        "3c57b2f852f149bb9a574d7bc366b1ff": {
          "model_module": "@jupyter-widgets/controls",
          "model_name": "DescriptionStyleModel",
          "model_module_version": "1.5.0",
          "state": {
            "_model_module": "@jupyter-widgets/controls",
            "_model_module_version": "1.5.0",
            "_model_name": "DescriptionStyleModel",
            "_view_count": null,
            "_view_module": "@jupyter-widgets/base",
            "_view_module_version": "1.2.0",
            "_view_name": "StyleView",
            "description_width": ""
          }
        },
        "8eea87f8d24540adb478015154a9fbad": {
          "model_module": "@jupyter-widgets/controls",
          "model_name": "HBoxModel",
          "model_module_version": "1.5.0",
          "state": {
            "_dom_classes": [],
            "_model_module": "@jupyter-widgets/controls",
            "_model_module_version": "1.5.0",
            "_model_name": "HBoxModel",
            "_view_count": null,
            "_view_module": "@jupyter-widgets/controls",
            "_view_module_version": "1.5.0",
            "_view_name": "HBoxView",
            "box_style": "",
            "children": [
              "IPY_MODEL_9190adb039b84cd4bd449e22f233a6af",
              "IPY_MODEL_8a7a6cfdae6b4125bd4e706d6233e4d8",
              "IPY_MODEL_0396b2886a464704a9cbf882223527ec"
            ],
            "layout": "IPY_MODEL_55efa8d0d9bf43849250ea5113cb1455"
          }
        },
        "9190adb039b84cd4bd449e22f233a6af": {
          "model_module": "@jupyter-widgets/controls",
          "model_name": "HTMLModel",
          "model_module_version": "1.5.0",
          "state": {
            "_dom_classes": [],
            "_model_module": "@jupyter-widgets/controls",
            "_model_module_version": "1.5.0",
            "_model_name": "HTMLModel",
            "_view_count": null,
            "_view_module": "@jupyter-widgets/controls",
            "_view_module_version": "1.5.0",
            "_view_name": "HTMLView",
            "description": "",
            "description_tooltip": null,
            "layout": "IPY_MODEL_995fffa1eeed40dca87bd6d5a7625dce",
            "placeholder": "​",
            "style": "IPY_MODEL_3dbe020314cf4382a27d0996e2a76052",
            "value": "Making predictions...: 100%"
          }
        },
        "8a7a6cfdae6b4125bd4e706d6233e4d8": {
          "model_module": "@jupyter-widgets/controls",
          "model_name": "FloatProgressModel",
          "model_module_version": "1.5.0",
          "state": {
            "_dom_classes": [],
            "_model_module": "@jupyter-widgets/controls",
            "_model_module_version": "1.5.0",
            "_model_name": "FloatProgressModel",
            "_view_count": null,
            "_view_module": "@jupyter-widgets/controls",
            "_view_module_version": "1.5.0",
            "_view_name": "ProgressView",
            "bar_style": "success",
            "description": "",
            "description_tooltip": null,
            "layout": "IPY_MODEL_89519e64babd452480bb674111450ccc",
            "max": 313,
            "min": 0,
            "orientation": "horizontal",
            "style": "IPY_MODEL_479e143f4ebd44f4997767c99f5bd589",
            "value": 313
          }
        },
        "0396b2886a464704a9cbf882223527ec": {
          "model_module": "@jupyter-widgets/controls",
          "model_name": "HTMLModel",
          "model_module_version": "1.5.0",
          "state": {
            "_dom_classes": [],
            "_model_module": "@jupyter-widgets/controls",
            "_model_module_version": "1.5.0",
            "_model_name": "HTMLModel",
            "_view_count": null,
            "_view_module": "@jupyter-widgets/controls",
            "_view_module_version": "1.5.0",
            "_view_name": "HTMLView",
            "description": "",
            "description_tooltip": null,
            "layout": "IPY_MODEL_4ac3229def7b419c8a27dba102933271",
            "placeholder": "​",
            "style": "IPY_MODEL_c7506e59b3f44f889619428a97c77bd9",
            "value": " 313/313 [00:01&lt;00:00, 253.20it/s]"
          }
        },
        "55efa8d0d9bf43849250ea5113cb1455": {
          "model_module": "@jupyter-widgets/base",
          "model_name": "LayoutModel",
          "model_module_version": "1.2.0",
          "state": {
            "_model_module": "@jupyter-widgets/base",
            "_model_module_version": "1.2.0",
            "_model_name": "LayoutModel",
            "_view_count": null,
            "_view_module": "@jupyter-widgets/base",
            "_view_module_version": "1.2.0",
            "_view_name": "LayoutView",
            "align_content": null,
            "align_items": null,
            "align_self": null,
            "border": null,
            "bottom": null,
            "display": null,
            "flex": null,
            "flex_flow": null,
            "grid_area": null,
            "grid_auto_columns": null,
            "grid_auto_flow": null,
            "grid_auto_rows": null,
            "grid_column": null,
            "grid_gap": null,
            "grid_row": null,
            "grid_template_areas": null,
            "grid_template_columns": null,
            "grid_template_rows": null,
            "height": null,
            "justify_content": null,
            "justify_items": null,
            "left": null,
            "margin": null,
            "max_height": null,
            "max_width": null,
            "min_height": null,
            "min_width": null,
            "object_fit": null,
            "object_position": null,
            "order": null,
            "overflow": null,
            "overflow_x": null,
            "overflow_y": null,
            "padding": null,
            "right": null,
            "top": null,
            "visibility": null,
            "width": null
          }
        },
        "995fffa1eeed40dca87bd6d5a7625dce": {
          "model_module": "@jupyter-widgets/base",
          "model_name": "LayoutModel",
          "model_module_version": "1.2.0",
          "state": {
            "_model_module": "@jupyter-widgets/base",
            "_model_module_version": "1.2.0",
            "_model_name": "LayoutModel",
            "_view_count": null,
            "_view_module": "@jupyter-widgets/base",
            "_view_module_version": "1.2.0",
            "_view_name": "LayoutView",
            "align_content": null,
            "align_items": null,
            "align_self": null,
            "border": null,
            "bottom": null,
            "display": null,
            "flex": null,
            "flex_flow": null,
            "grid_area": null,
            "grid_auto_columns": null,
            "grid_auto_flow": null,
            "grid_auto_rows": null,
            "grid_column": null,
            "grid_gap": null,
            "grid_row": null,
            "grid_template_areas": null,
            "grid_template_columns": null,
            "grid_template_rows": null,
            "height": null,
            "justify_content": null,
            "justify_items": null,
            "left": null,
            "margin": null,
            "max_height": null,
            "max_width": null,
            "min_height": null,
            "min_width": null,
            "object_fit": null,
            "object_position": null,
            "order": null,
            "overflow": null,
            "overflow_x": null,
            "overflow_y": null,
            "padding": null,
            "right": null,
            "top": null,
            "visibility": null,
            "width": null
          }
        },
        "3dbe020314cf4382a27d0996e2a76052": {
          "model_module": "@jupyter-widgets/controls",
          "model_name": "DescriptionStyleModel",
          "model_module_version": "1.5.0",
          "state": {
            "_model_module": "@jupyter-widgets/controls",
            "_model_module_version": "1.5.0",
            "_model_name": "DescriptionStyleModel",
            "_view_count": null,
            "_view_module": "@jupyter-widgets/base",
            "_view_module_version": "1.2.0",
            "_view_name": "StyleView",
            "description_width": ""
          }
        },
        "89519e64babd452480bb674111450ccc": {
          "model_module": "@jupyter-widgets/base",
          "model_name": "LayoutModel",
          "model_module_version": "1.2.0",
          "state": {
            "_model_module": "@jupyter-widgets/base",
            "_model_module_version": "1.2.0",
            "_model_name": "LayoutModel",
            "_view_count": null,
            "_view_module": "@jupyter-widgets/base",
            "_view_module_version": "1.2.0",
            "_view_name": "LayoutView",
            "align_content": null,
            "align_items": null,
            "align_self": null,
            "border": null,
            "bottom": null,
            "display": null,
            "flex": null,
            "flex_flow": null,
            "grid_area": null,
            "grid_auto_columns": null,
            "grid_auto_flow": null,
            "grid_auto_rows": null,
            "grid_column": null,
            "grid_gap": null,
            "grid_row": null,
            "grid_template_areas": null,
            "grid_template_columns": null,
            "grid_template_rows": null,
            "height": null,
            "justify_content": null,
            "justify_items": null,
            "left": null,
            "margin": null,
            "max_height": null,
            "max_width": null,
            "min_height": null,
            "min_width": null,
            "object_fit": null,
            "object_position": null,
            "order": null,
            "overflow": null,
            "overflow_x": null,
            "overflow_y": null,
            "padding": null,
            "right": null,
            "top": null,
            "visibility": null,
            "width": null
          }
        },
        "479e143f4ebd44f4997767c99f5bd589": {
          "model_module": "@jupyter-widgets/controls",
          "model_name": "ProgressStyleModel",
          "model_module_version": "1.5.0",
          "state": {
            "_model_module": "@jupyter-widgets/controls",
            "_model_module_version": "1.5.0",
            "_model_name": "ProgressStyleModel",
            "_view_count": null,
            "_view_module": "@jupyter-widgets/base",
            "_view_module_version": "1.2.0",
            "_view_name": "StyleView",
            "bar_color": null,
            "description_width": ""
          }
        },
        "4ac3229def7b419c8a27dba102933271": {
          "model_module": "@jupyter-widgets/base",
          "model_name": "LayoutModel",
          "model_module_version": "1.2.0",
          "state": {
            "_model_module": "@jupyter-widgets/base",
            "_model_module_version": "1.2.0",
            "_model_name": "LayoutModel",
            "_view_count": null,
            "_view_module": "@jupyter-widgets/base",
            "_view_module_version": "1.2.0",
            "_view_name": "LayoutView",
            "align_content": null,
            "align_items": null,
            "align_self": null,
            "border": null,
            "bottom": null,
            "display": null,
            "flex": null,
            "flex_flow": null,
            "grid_area": null,
            "grid_auto_columns": null,
            "grid_auto_flow": null,
            "grid_auto_rows": null,
            "grid_column": null,
            "grid_gap": null,
            "grid_row": null,
            "grid_template_areas": null,
            "grid_template_columns": null,
            "grid_template_rows": null,
            "height": null,
            "justify_content": null,
            "justify_items": null,
            "left": null,
            "margin": null,
            "max_height": null,
            "max_width": null,
            "min_height": null,
            "min_width": null,
            "object_fit": null,
            "object_position": null,
            "order": null,
            "overflow": null,
            "overflow_x": null,
            "overflow_y": null,
            "padding": null,
            "right": null,
            "top": null,
            "visibility": null,
            "width": null
          }
        },
        "c7506e59b3f44f889619428a97c77bd9": {
          "model_module": "@jupyter-widgets/controls",
          "model_name": "DescriptionStyleModel",
          "model_module_version": "1.5.0",
          "state": {
            "_model_module": "@jupyter-widgets/controls",
            "_model_module_version": "1.5.0",
            "_model_name": "DescriptionStyleModel",
            "_view_count": null,
            "_view_module": "@jupyter-widgets/base",
            "_view_module_version": "1.2.0",
            "_view_name": "StyleView",
            "description_width": ""
          }
        },
        "c3acaf40179c420a8168948bc4ae0dd0": {
          "model_module": "@jupyter-widgets/controls",
          "model_name": "HBoxModel",
          "model_module_version": "1.5.0",
          "state": {
            "_dom_classes": [],
            "_model_module": "@jupyter-widgets/controls",
            "_model_module_version": "1.5.0",
            "_model_name": "HBoxModel",
            "_view_count": null,
            "_view_module": "@jupyter-widgets/controls",
            "_view_module_version": "1.5.0",
            "_view_name": "HBoxView",
            "box_style": "",
            "children": [
              "IPY_MODEL_f68053847b564ac5b6413f223c61206a",
              "IPY_MODEL_cf246460523d409bb69b2098d68d53b4",
              "IPY_MODEL_b0184ea88fb841b1847b4f1d02f686f5"
            ],
            "layout": "IPY_MODEL_1f50714af2be44718febb953f1a7d980"
          }
        },
        "f68053847b564ac5b6413f223c61206a": {
          "model_module": "@jupyter-widgets/controls",
          "model_name": "HTMLModel",
          "model_module_version": "1.5.0",
          "state": {
            "_dom_classes": [],
            "_model_module": "@jupyter-widgets/controls",
            "_model_module_version": "1.5.0",
            "_model_name": "HTMLModel",
            "_view_count": null,
            "_view_module": "@jupyter-widgets/controls",
            "_view_module_version": "1.5.0",
            "_view_name": "HTMLView",
            "description": "",
            "description_tooltip": null,
            "layout": "IPY_MODEL_1fd685a2b4d44d8e82a1b291240659f5",
            "placeholder": "​",
            "style": "IPY_MODEL_05b03e5b054d4c778aef17411958e2a7",
            "value": "100%"
          }
        },
        "cf246460523d409bb69b2098d68d53b4": {
          "model_module": "@jupyter-widgets/controls",
          "model_name": "FloatProgressModel",
          "model_module_version": "1.5.0",
          "state": {
            "_dom_classes": [],
            "_model_module": "@jupyter-widgets/controls",
            "_model_module_version": "1.5.0",
            "_model_name": "FloatProgressModel",
            "_view_count": null,
            "_view_module": "@jupyter-widgets/controls",
            "_view_module_version": "1.5.0",
            "_view_name": "ProgressView",
            "bar_style": "success",
            "description": "",
            "description_tooltip": null,
            "layout": "IPY_MODEL_1a7f30d690c4476abf0ca36fc0983e0f",
            "max": 313,
            "min": 0,
            "orientation": "horizontal",
            "style": "IPY_MODEL_08ddeb9ec7cb44aabd637645d5e00a9f",
            "value": 313
          }
        },
        "b0184ea88fb841b1847b4f1d02f686f5": {
          "model_module": "@jupyter-widgets/controls",
          "model_name": "HTMLModel",
          "model_module_version": "1.5.0",
          "state": {
            "_dom_classes": [],
            "_model_module": "@jupyter-widgets/controls",
            "_model_module_version": "1.5.0",
            "_model_name": "HTMLModel",
            "_view_count": null,
            "_view_module": "@jupyter-widgets/controls",
            "_view_module_version": "1.5.0",
            "_view_name": "HTMLView",
            "description": "",
            "description_tooltip": null,
            "layout": "IPY_MODEL_f4be33c490034de39f7a0bc52b977dae",
            "placeholder": "​",
            "style": "IPY_MODEL_272383edb98a48c4bba511d6a7a9411b",
            "value": " 313/313 [00:01&lt;00:00, 259.93it/s]"
          }
        },
        "1f50714af2be44718febb953f1a7d980": {
          "model_module": "@jupyter-widgets/base",
          "model_name": "LayoutModel",
          "model_module_version": "1.2.0",
          "state": {
            "_model_module": "@jupyter-widgets/base",
            "_model_module_version": "1.2.0",
            "_model_name": "LayoutModel",
            "_view_count": null,
            "_view_module": "@jupyter-widgets/base",
            "_view_module_version": "1.2.0",
            "_view_name": "LayoutView",
            "align_content": null,
            "align_items": null,
            "align_self": null,
            "border": null,
            "bottom": null,
            "display": null,
            "flex": null,
            "flex_flow": null,
            "grid_area": null,
            "grid_auto_columns": null,
            "grid_auto_flow": null,
            "grid_auto_rows": null,
            "grid_column": null,
            "grid_gap": null,
            "grid_row": null,
            "grid_template_areas": null,
            "grid_template_columns": null,
            "grid_template_rows": null,
            "height": null,
            "justify_content": null,
            "justify_items": null,
            "left": null,
            "margin": null,
            "max_height": null,
            "max_width": null,
            "min_height": null,
            "min_width": null,
            "object_fit": null,
            "object_position": null,
            "order": null,
            "overflow": null,
            "overflow_x": null,
            "overflow_y": null,
            "padding": null,
            "right": null,
            "top": null,
            "visibility": null,
            "width": null
          }
        },
        "1fd685a2b4d44d8e82a1b291240659f5": {
          "model_module": "@jupyter-widgets/base",
          "model_name": "LayoutModel",
          "model_module_version": "1.2.0",
          "state": {
            "_model_module": "@jupyter-widgets/base",
            "_model_module_version": "1.2.0",
            "_model_name": "LayoutModel",
            "_view_count": null,
            "_view_module": "@jupyter-widgets/base",
            "_view_module_version": "1.2.0",
            "_view_name": "LayoutView",
            "align_content": null,
            "align_items": null,
            "align_self": null,
            "border": null,
            "bottom": null,
            "display": null,
            "flex": null,
            "flex_flow": null,
            "grid_area": null,
            "grid_auto_columns": null,
            "grid_auto_flow": null,
            "grid_auto_rows": null,
            "grid_column": null,
            "grid_gap": null,
            "grid_row": null,
            "grid_template_areas": null,
            "grid_template_columns": null,
            "grid_template_rows": null,
            "height": null,
            "justify_content": null,
            "justify_items": null,
            "left": null,
            "margin": null,
            "max_height": null,
            "max_width": null,
            "min_height": null,
            "min_width": null,
            "object_fit": null,
            "object_position": null,
            "order": null,
            "overflow": null,
            "overflow_x": null,
            "overflow_y": null,
            "padding": null,
            "right": null,
            "top": null,
            "visibility": null,
            "width": null
          }
        },
        "05b03e5b054d4c778aef17411958e2a7": {
          "model_module": "@jupyter-widgets/controls",
          "model_name": "DescriptionStyleModel",
          "model_module_version": "1.5.0",
          "state": {
            "_model_module": "@jupyter-widgets/controls",
            "_model_module_version": "1.5.0",
            "_model_name": "DescriptionStyleModel",
            "_view_count": null,
            "_view_module": "@jupyter-widgets/base",
            "_view_module_version": "1.2.0",
            "_view_name": "StyleView",
            "description_width": ""
          }
        },
        "1a7f30d690c4476abf0ca36fc0983e0f": {
          "model_module": "@jupyter-widgets/base",
          "model_name": "LayoutModel",
          "model_module_version": "1.2.0",
          "state": {
            "_model_module": "@jupyter-widgets/base",
            "_model_module_version": "1.2.0",
            "_model_name": "LayoutModel",
            "_view_count": null,
            "_view_module": "@jupyter-widgets/base",
            "_view_module_version": "1.2.0",
            "_view_name": "LayoutView",
            "align_content": null,
            "align_items": null,
            "align_self": null,
            "border": null,
            "bottom": null,
            "display": null,
            "flex": null,
            "flex_flow": null,
            "grid_area": null,
            "grid_auto_columns": null,
            "grid_auto_flow": null,
            "grid_auto_rows": null,
            "grid_column": null,
            "grid_gap": null,
            "grid_row": null,
            "grid_template_areas": null,
            "grid_template_columns": null,
            "grid_template_rows": null,
            "height": null,
            "justify_content": null,
            "justify_items": null,
            "left": null,
            "margin": null,
            "max_height": null,
            "max_width": null,
            "min_height": null,
            "min_width": null,
            "object_fit": null,
            "object_position": null,
            "order": null,
            "overflow": null,
            "overflow_x": null,
            "overflow_y": null,
            "padding": null,
            "right": null,
            "top": null,
            "visibility": null,
            "width": null
          }
        },
        "08ddeb9ec7cb44aabd637645d5e00a9f": {
          "model_module": "@jupyter-widgets/controls",
          "model_name": "ProgressStyleModel",
          "model_module_version": "1.5.0",
          "state": {
            "_model_module": "@jupyter-widgets/controls",
            "_model_module_version": "1.5.0",
            "_model_name": "ProgressStyleModel",
            "_view_count": null,
            "_view_module": "@jupyter-widgets/base",
            "_view_module_version": "1.2.0",
            "_view_name": "StyleView",
            "bar_color": null,
            "description_width": ""
          }
        },
        "f4be33c490034de39f7a0bc52b977dae": {
          "model_module": "@jupyter-widgets/base",
          "model_name": "LayoutModel",
          "model_module_version": "1.2.0",
          "state": {
            "_model_module": "@jupyter-widgets/base",
            "_model_module_version": "1.2.0",
            "_model_name": "LayoutModel",
            "_view_count": null,
            "_view_module": "@jupyter-widgets/base",
            "_view_module_version": "1.2.0",
            "_view_name": "LayoutView",
            "align_content": null,
            "align_items": null,
            "align_self": null,
            "border": null,
            "bottom": null,
            "display": null,
            "flex": null,
            "flex_flow": null,
            "grid_area": null,
            "grid_auto_columns": null,
            "grid_auto_flow": null,
            "grid_auto_rows": null,
            "grid_column": null,
            "grid_gap": null,
            "grid_row": null,
            "grid_template_areas": null,
            "grid_template_columns": null,
            "grid_template_rows": null,
            "height": null,
            "justify_content": null,
            "justify_items": null,
            "left": null,
            "margin": null,
            "max_height": null,
            "max_width": null,
            "min_height": null,
            "min_width": null,
            "object_fit": null,
            "object_position": null,
            "order": null,
            "overflow": null,
            "overflow_x": null,
            "overflow_y": null,
            "padding": null,
            "right": null,
            "top": null,
            "visibility": null,
            "width": null
          }
        },
        "272383edb98a48c4bba511d6a7a9411b": {
          "model_module": "@jupyter-widgets/controls",
          "model_name": "DescriptionStyleModel",
          "model_module_version": "1.5.0",
          "state": {
            "_model_module": "@jupyter-widgets/controls",
            "_model_module_version": "1.5.0",
            "_model_name": "DescriptionStyleModel",
            "_view_count": null,
            "_view_module": "@jupyter-widgets/base",
            "_view_module_version": "1.2.0",
            "_view_name": "StyleView",
            "description_width": ""
          }
        }
      }
    },
    "accelerator": "GPU"
  },
  "cells": [
    {
      "cell_type": "markdown",
      "metadata": {
        "id": "view-in-github",
        "colab_type": "text"
      },
      "source": [
        "<a href=\"https://colab.research.google.com/github/ucheokechukwu/zero_to_mastery_courses/blob/main/Pytorch_For_Deep_Learning%5C03_computer_vision.ipynb\" target=\"_parent\"><img src=\"https://colab.research.google.com/assets/colab-badge.svg\" alt=\"Open In Colab\"/></a>"
      ]
    },
    {
      "cell_type": "markdown",
      "source": [
        "https://www.learnpytorch.io/03_pytorch_computer_vision/\n",
        "\n"
      ],
      "metadata": {
        "id": "X2Jq1PasYjW3"
      }
    },
    {
      "cell_type": "markdown",
      "source": [
        "# Computer vision libraries in Pytorch\n",
        "\n",
        "1. `Torchvision` - https://pytorch.org/vision/stable/index.html\n",
        "2. `torchvision.datasets` - get datasets and data loading functions for computer vision\n",
        "3. `torchvision.models` - pretrained computer vision models that can be leveraged.\n",
        "4. `torchvision.transforms` - functions for manipulating vision data to be suitable for use with an ML model\n",
        "5. `torch.utils.data.Dataset`  - for creating our dataset with the base dataset for PyTorch\n",
        "6. `torch.utils.data.DataLoader` - creates a python iterable over a dataset"
      ],
      "metadata": {
        "id": "qHVuAbBzYluQ"
      }
    },
    {
      "cell_type": "code",
      "execution_count": null,
      "metadata": {
        "id": "KXG9xZdZ3hh4",
        "colab": {
          "base_uri": "https://localhost:8080/"
        },
        "outputId": "4dfc2056-1134-4965-d315-2cb0f2f6d34b"
      },
      "outputs": [
        {
          "output_type": "stream",
          "name": "stdout",
          "text": [
            "2.0.1+cu118 0.15.2+cu118\n"
          ]
        }
      ],
      "source": [
        "import torch\n",
        "from torch import nn\n",
        "\n",
        "import torchvision\n",
        "from torchvision import datasets, transforms\n",
        "from torchvision.transforms import ToTensor\n",
        "\n",
        "from matplotlib import pyplot as plt\n",
        "print(torch.__version__, torchvision.__version__)"
      ]
    },
    {
      "cell_type": "code",
      "source": [
        "device = 'cuda' if torch.cuda.is_available() else 'cpu'\n",
        "print(device)"
      ],
      "metadata": {
        "id": "TAl9VpU3ZXJR",
        "colab": {
          "base_uri": "https://localhost:8080/"
        },
        "outputId": "579f07aa-599f-4828-d149-d018d6e2b057"
      },
      "execution_count": null,
      "outputs": [
        {
          "output_type": "stream",
          "name": "stdout",
          "text": [
            "cuda\n"
          ]
        }
      ]
    },
    {
      "cell_type": "markdown",
      "source": [
        "# 1. Data"
      ],
      "metadata": {
        "id": "MTjv4ekjnYlh"
      }
    },
    {
      "cell_type": "markdown",
      "source": [
        "## 1.1 Getting a dataset\n",
        "- Fashion MNIST from torchvision.datasets\n",
        "https://pytorch.org/vision/stable/generated/torchvision.datasets.FashionMNIST.html#torchvision.datasets.FashionMNIST"
      ],
      "metadata": {
        "id": "67qYh0V2aD4C"
      }
    },
    {
      "cell_type": "code",
      "source": [
        "# set up training daat\n",
        "from torchvision import datasets\n",
        "train_data = datasets.FashionMNIST(\n",
        "    root='data', # where to download the data\n",
        "    train = True,\n",
        "    transform = ToTensor(), # transform the data?\n",
        "    target_transform = None, # transform labels?\n",
        "    download = True\n",
        ")\n",
        "test_data = datasets.FashionMNIST(\n",
        "    root='data',\n",
        "    train = False,\n",
        "    transform=ToTensor(),\n",
        "    target_transform=None,\n",
        "    download=True\n",
        ")"
      ],
      "metadata": {
        "colab": {
          "base_uri": "https://localhost:8080/"
        },
        "id": "2I0PXWfga4Nb",
        "outputId": "ab456821-c01f-4ddf-c8b3-7b46135ca8f2"
      },
      "execution_count": null,
      "outputs": [
        {
          "output_type": "stream",
          "name": "stdout",
          "text": [
            "Downloading http://fashion-mnist.s3-website.eu-central-1.amazonaws.com/train-images-idx3-ubyte.gz\n",
            "Downloading http://fashion-mnist.s3-website.eu-central-1.amazonaws.com/train-images-idx3-ubyte.gz to data/FashionMNIST/raw/train-images-idx3-ubyte.gz\n"
          ]
        },
        {
          "output_type": "stream",
          "name": "stderr",
          "text": [
            "100%|██████████| 26421880/26421880 [00:02<00:00, 10478184.48it/s]\n"
          ]
        },
        {
          "output_type": "stream",
          "name": "stdout",
          "text": [
            "Extracting data/FashionMNIST/raw/train-images-idx3-ubyte.gz to data/FashionMNIST/raw\n",
            "\n",
            "Downloading http://fashion-mnist.s3-website.eu-central-1.amazonaws.com/train-labels-idx1-ubyte.gz\n",
            "Downloading http://fashion-mnist.s3-website.eu-central-1.amazonaws.com/train-labels-idx1-ubyte.gz to data/FashionMNIST/raw/train-labels-idx1-ubyte.gz\n"
          ]
        },
        {
          "output_type": "stream",
          "name": "stderr",
          "text": [
            "100%|██████████| 29515/29515 [00:00<00:00, 173388.50it/s]\n"
          ]
        },
        {
          "output_type": "stream",
          "name": "stdout",
          "text": [
            "Extracting data/FashionMNIST/raw/train-labels-idx1-ubyte.gz to data/FashionMNIST/raw\n",
            "\n",
            "Downloading http://fashion-mnist.s3-website.eu-central-1.amazonaws.com/t10k-images-idx3-ubyte.gz\n",
            "Downloading http://fashion-mnist.s3-website.eu-central-1.amazonaws.com/t10k-images-idx3-ubyte.gz to data/FashionMNIST/raw/t10k-images-idx3-ubyte.gz\n"
          ]
        },
        {
          "output_type": "stream",
          "name": "stderr",
          "text": [
            "100%|██████████| 4422102/4422102 [00:01<00:00, 3338169.97it/s]\n"
          ]
        },
        {
          "output_type": "stream",
          "name": "stdout",
          "text": [
            "Extracting data/FashionMNIST/raw/t10k-images-idx3-ubyte.gz to data/FashionMNIST/raw\n",
            "\n",
            "Downloading http://fashion-mnist.s3-website.eu-central-1.amazonaws.com/t10k-labels-idx1-ubyte.gz\n",
            "Downloading http://fashion-mnist.s3-website.eu-central-1.amazonaws.com/t10k-labels-idx1-ubyte.gz to data/FashionMNIST/raw/t10k-labels-idx1-ubyte.gz\n"
          ]
        },
        {
          "output_type": "stream",
          "name": "stderr",
          "text": [
            "100%|██████████| 5148/5148 [00:00<00:00, 7664990.06it/s]"
          ]
        },
        {
          "output_type": "stream",
          "name": "stdout",
          "text": [
            "Extracting data/FashionMNIST/raw/t10k-labels-idx1-ubyte.gz to data/FashionMNIST/raw\n",
            "\n"
          ]
        },
        {
          "output_type": "stream",
          "name": "stderr",
          "text": [
            "\n"
          ]
        }
      ]
    },
    {
      "cell_type": "code",
      "source": [
        "len(train_data), len(test_data), type(train_data)"
      ],
      "metadata": {
        "colab": {
          "base_uri": "https://localhost:8080/"
        },
        "id": "XOtqGnONbCDr",
        "outputId": "307a937e-66d5-4fd6-e504-718b7e4e1385"
      },
      "execution_count": null,
      "outputs": [
        {
          "output_type": "execute_result",
          "data": {
            "text/plain": [
              "(60000, 10000, torchvision.datasets.mnist.FashionMNIST)"
            ]
          },
          "metadata": {},
          "execution_count": 6
        }
      ]
    },
    {
      "cell_type": "code",
      "source": [
        "# see the first traiing example\n",
        "image, label = train_data[0]\n",
        "image, label"
      ],
      "metadata": {
        "colab": {
          "base_uri": "https://localhost:8080/"
        },
        "id": "GJvBlc9jdf1x",
        "outputId": "d709e693-ac3f-45be-de8f-e926f69ae84a"
      },
      "execution_count": null,
      "outputs": [
        {
          "output_type": "execute_result",
          "data": {
            "text/plain": [
              "(tensor([[[0.0000, 0.0000, 0.0000, 0.0000, 0.0000, 0.0000, 0.0000, 0.0000,\n",
              "           0.0000, 0.0000, 0.0000, 0.0000, 0.0000, 0.0000, 0.0000, 0.0000,\n",
              "           0.0000, 0.0000, 0.0000, 0.0000, 0.0000, 0.0000, 0.0000, 0.0000,\n",
              "           0.0000, 0.0000, 0.0000, 0.0000],\n",
              "          [0.0000, 0.0000, 0.0000, 0.0000, 0.0000, 0.0000, 0.0000, 0.0000,\n",
              "           0.0000, 0.0000, 0.0000, 0.0000, 0.0000, 0.0000, 0.0000, 0.0000,\n",
              "           0.0000, 0.0000, 0.0000, 0.0000, 0.0000, 0.0000, 0.0000, 0.0000,\n",
              "           0.0000, 0.0000, 0.0000, 0.0000],\n",
              "          [0.0000, 0.0000, 0.0000, 0.0000, 0.0000, 0.0000, 0.0000, 0.0000,\n",
              "           0.0000, 0.0000, 0.0000, 0.0000, 0.0000, 0.0000, 0.0000, 0.0000,\n",
              "           0.0000, 0.0000, 0.0000, 0.0000, 0.0000, 0.0000, 0.0000, 0.0000,\n",
              "           0.0000, 0.0000, 0.0000, 0.0000],\n",
              "          [0.0000, 0.0000, 0.0000, 0.0000, 0.0000, 0.0000, 0.0000, 0.0000,\n",
              "           0.0000, 0.0000, 0.0000, 0.0000, 0.0039, 0.0000, 0.0000, 0.0510,\n",
              "           0.2863, 0.0000, 0.0000, 0.0039, 0.0157, 0.0000, 0.0000, 0.0000,\n",
              "           0.0000, 0.0039, 0.0039, 0.0000],\n",
              "          [0.0000, 0.0000, 0.0000, 0.0000, 0.0000, 0.0000, 0.0000, 0.0000,\n",
              "           0.0000, 0.0000, 0.0000, 0.0000, 0.0118, 0.0000, 0.1412, 0.5333,\n",
              "           0.4980, 0.2431, 0.2118, 0.0000, 0.0000, 0.0000, 0.0039, 0.0118,\n",
              "           0.0157, 0.0000, 0.0000, 0.0118],\n",
              "          [0.0000, 0.0000, 0.0000, 0.0000, 0.0000, 0.0000, 0.0000, 0.0000,\n",
              "           0.0000, 0.0000, 0.0000, 0.0000, 0.0235, 0.0000, 0.4000, 0.8000,\n",
              "           0.6902, 0.5255, 0.5647, 0.4824, 0.0902, 0.0000, 0.0000, 0.0000,\n",
              "           0.0000, 0.0471, 0.0392, 0.0000],\n",
              "          [0.0000, 0.0000, 0.0000, 0.0000, 0.0000, 0.0000, 0.0000, 0.0000,\n",
              "           0.0000, 0.0000, 0.0000, 0.0000, 0.0000, 0.0000, 0.6078, 0.9255,\n",
              "           0.8118, 0.6980, 0.4196, 0.6118, 0.6314, 0.4275, 0.2510, 0.0902,\n",
              "           0.3020, 0.5098, 0.2824, 0.0588],\n",
              "          [0.0000, 0.0000, 0.0000, 0.0000, 0.0000, 0.0000, 0.0000, 0.0000,\n",
              "           0.0000, 0.0000, 0.0000, 0.0039, 0.0000, 0.2706, 0.8118, 0.8745,\n",
              "           0.8549, 0.8471, 0.8471, 0.6392, 0.4980, 0.4745, 0.4784, 0.5725,\n",
              "           0.5529, 0.3451, 0.6745, 0.2588],\n",
              "          [0.0000, 0.0000, 0.0000, 0.0000, 0.0000, 0.0000, 0.0000, 0.0000,\n",
              "           0.0000, 0.0039, 0.0039, 0.0039, 0.0000, 0.7843, 0.9098, 0.9098,\n",
              "           0.9137, 0.8980, 0.8745, 0.8745, 0.8431, 0.8353, 0.6431, 0.4980,\n",
              "           0.4824, 0.7686, 0.8980, 0.0000],\n",
              "          [0.0000, 0.0000, 0.0000, 0.0000, 0.0000, 0.0000, 0.0000, 0.0000,\n",
              "           0.0000, 0.0000, 0.0000, 0.0000, 0.0000, 0.7176, 0.8824, 0.8471,\n",
              "           0.8745, 0.8941, 0.9216, 0.8902, 0.8784, 0.8706, 0.8784, 0.8667,\n",
              "           0.8745, 0.9608, 0.6784, 0.0000],\n",
              "          [0.0000, 0.0000, 0.0000, 0.0000, 0.0000, 0.0000, 0.0000, 0.0000,\n",
              "           0.0000, 0.0000, 0.0000, 0.0000, 0.0000, 0.7569, 0.8941, 0.8549,\n",
              "           0.8353, 0.7765, 0.7059, 0.8314, 0.8235, 0.8275, 0.8353, 0.8745,\n",
              "           0.8627, 0.9529, 0.7922, 0.0000],\n",
              "          [0.0000, 0.0000, 0.0000, 0.0000, 0.0000, 0.0000, 0.0000, 0.0000,\n",
              "           0.0000, 0.0039, 0.0118, 0.0000, 0.0471, 0.8588, 0.8627, 0.8314,\n",
              "           0.8549, 0.7529, 0.6627, 0.8902, 0.8157, 0.8549, 0.8784, 0.8314,\n",
              "           0.8863, 0.7725, 0.8196, 0.2039],\n",
              "          [0.0000, 0.0000, 0.0000, 0.0000, 0.0000, 0.0000, 0.0000, 0.0000,\n",
              "           0.0000, 0.0000, 0.0235, 0.0000, 0.3882, 0.9569, 0.8706, 0.8627,\n",
              "           0.8549, 0.7961, 0.7765, 0.8667, 0.8431, 0.8353, 0.8706, 0.8627,\n",
              "           0.9608, 0.4667, 0.6549, 0.2196],\n",
              "          [0.0000, 0.0000, 0.0000, 0.0000, 0.0000, 0.0000, 0.0000, 0.0000,\n",
              "           0.0000, 0.0157, 0.0000, 0.0000, 0.2157, 0.9255, 0.8941, 0.9020,\n",
              "           0.8941, 0.9412, 0.9098, 0.8353, 0.8549, 0.8745, 0.9176, 0.8510,\n",
              "           0.8510, 0.8196, 0.3608, 0.0000],\n",
              "          [0.0000, 0.0000, 0.0039, 0.0157, 0.0235, 0.0275, 0.0078, 0.0000,\n",
              "           0.0000, 0.0000, 0.0000, 0.0000, 0.9294, 0.8863, 0.8510, 0.8745,\n",
              "           0.8706, 0.8588, 0.8706, 0.8667, 0.8471, 0.8745, 0.8980, 0.8431,\n",
              "           0.8549, 1.0000, 0.3020, 0.0000],\n",
              "          [0.0000, 0.0118, 0.0000, 0.0000, 0.0000, 0.0000, 0.0000, 0.0000,\n",
              "           0.0000, 0.2431, 0.5686, 0.8000, 0.8941, 0.8118, 0.8353, 0.8667,\n",
              "           0.8549, 0.8157, 0.8275, 0.8549, 0.8784, 0.8745, 0.8588, 0.8431,\n",
              "           0.8784, 0.9569, 0.6235, 0.0000],\n",
              "          [0.0000, 0.0000, 0.0000, 0.0000, 0.0706, 0.1725, 0.3216, 0.4196,\n",
              "           0.7412, 0.8941, 0.8627, 0.8706, 0.8510, 0.8863, 0.7843, 0.8039,\n",
              "           0.8275, 0.9020, 0.8784, 0.9176, 0.6902, 0.7373, 0.9804, 0.9725,\n",
              "           0.9137, 0.9333, 0.8431, 0.0000],\n",
              "          [0.0000, 0.2235, 0.7333, 0.8157, 0.8784, 0.8667, 0.8784, 0.8157,\n",
              "           0.8000, 0.8392, 0.8157, 0.8196, 0.7843, 0.6235, 0.9608, 0.7569,\n",
              "           0.8078, 0.8745, 1.0000, 1.0000, 0.8667, 0.9176, 0.8667, 0.8275,\n",
              "           0.8627, 0.9098, 0.9647, 0.0000],\n",
              "          [0.0118, 0.7922, 0.8941, 0.8784, 0.8667, 0.8275, 0.8275, 0.8392,\n",
              "           0.8039, 0.8039, 0.8039, 0.8627, 0.9412, 0.3137, 0.5882, 1.0000,\n",
              "           0.8980, 0.8667, 0.7373, 0.6039, 0.7490, 0.8235, 0.8000, 0.8196,\n",
              "           0.8706, 0.8941, 0.8824, 0.0000],\n",
              "          [0.3843, 0.9137, 0.7765, 0.8235, 0.8706, 0.8980, 0.8980, 0.9176,\n",
              "           0.9765, 0.8627, 0.7608, 0.8431, 0.8510, 0.9451, 0.2549, 0.2863,\n",
              "           0.4157, 0.4588, 0.6588, 0.8588, 0.8667, 0.8431, 0.8510, 0.8745,\n",
              "           0.8745, 0.8784, 0.8980, 0.1137],\n",
              "          [0.2941, 0.8000, 0.8314, 0.8000, 0.7569, 0.8039, 0.8275, 0.8824,\n",
              "           0.8471, 0.7255, 0.7725, 0.8078, 0.7765, 0.8353, 0.9412, 0.7647,\n",
              "           0.8902, 0.9608, 0.9373, 0.8745, 0.8549, 0.8314, 0.8196, 0.8706,\n",
              "           0.8627, 0.8667, 0.9020, 0.2627],\n",
              "          [0.1882, 0.7961, 0.7176, 0.7608, 0.8353, 0.7725, 0.7255, 0.7451,\n",
              "           0.7608, 0.7529, 0.7922, 0.8392, 0.8588, 0.8667, 0.8627, 0.9255,\n",
              "           0.8824, 0.8471, 0.7804, 0.8078, 0.7294, 0.7098, 0.6941, 0.6745,\n",
              "           0.7098, 0.8039, 0.8078, 0.4510],\n",
              "          [0.0000, 0.4784, 0.8588, 0.7569, 0.7020, 0.6706, 0.7176, 0.7686,\n",
              "           0.8000, 0.8235, 0.8353, 0.8118, 0.8275, 0.8235, 0.7843, 0.7686,\n",
              "           0.7608, 0.7490, 0.7647, 0.7490, 0.7765, 0.7529, 0.6902, 0.6118,\n",
              "           0.6549, 0.6941, 0.8235, 0.3608],\n",
              "          [0.0000, 0.0000, 0.2902, 0.7412, 0.8314, 0.7490, 0.6863, 0.6745,\n",
              "           0.6863, 0.7098, 0.7255, 0.7373, 0.7412, 0.7373, 0.7569, 0.7765,\n",
              "           0.8000, 0.8196, 0.8235, 0.8235, 0.8275, 0.7373, 0.7373, 0.7608,\n",
              "           0.7529, 0.8471, 0.6667, 0.0000],\n",
              "          [0.0078, 0.0000, 0.0000, 0.0000, 0.2588, 0.7843, 0.8706, 0.9294,\n",
              "           0.9373, 0.9490, 0.9647, 0.9529, 0.9569, 0.8667, 0.8627, 0.7569,\n",
              "           0.7490, 0.7020, 0.7137, 0.7137, 0.7098, 0.6902, 0.6510, 0.6588,\n",
              "           0.3882, 0.2275, 0.0000, 0.0000],\n",
              "          [0.0000, 0.0000, 0.0000, 0.0000, 0.0000, 0.0000, 0.0000, 0.1569,\n",
              "           0.2392, 0.1725, 0.2824, 0.1608, 0.1373, 0.0000, 0.0000, 0.0000,\n",
              "           0.0000, 0.0000, 0.0000, 0.0000, 0.0000, 0.0000, 0.0000, 0.0000,\n",
              "           0.0000, 0.0000, 0.0000, 0.0000],\n",
              "          [0.0000, 0.0000, 0.0000, 0.0000, 0.0000, 0.0000, 0.0000, 0.0000,\n",
              "           0.0000, 0.0000, 0.0000, 0.0000, 0.0000, 0.0000, 0.0000, 0.0000,\n",
              "           0.0000, 0.0000, 0.0000, 0.0000, 0.0000, 0.0000, 0.0000, 0.0000,\n",
              "           0.0000, 0.0000, 0.0000, 0.0000],\n",
              "          [0.0000, 0.0000, 0.0000, 0.0000, 0.0000, 0.0000, 0.0000, 0.0000,\n",
              "           0.0000, 0.0000, 0.0000, 0.0000, 0.0000, 0.0000, 0.0000, 0.0000,\n",
              "           0.0000, 0.0000, 0.0000, 0.0000, 0.0000, 0.0000, 0.0000, 0.0000,\n",
              "           0.0000, 0.0000, 0.0000, 0.0000]]]),\n",
              " 9)"
            ]
          },
          "metadata": {},
          "execution_count": 7
        }
      ]
    },
    {
      "cell_type": "code",
      "source": [
        "class_names = train_data.classes\n",
        "class_names"
      ],
      "metadata": {
        "colab": {
          "base_uri": "https://localhost:8080/"
        },
        "id": "xN3lNKo1doAO",
        "outputId": "ec807b32-9d76-4ff4-e214-12ae7b0a06aa"
      },
      "execution_count": null,
      "outputs": [
        {
          "output_type": "execute_result",
          "data": {
            "text/plain": [
              "['T-shirt/top',\n",
              " 'Trouser',\n",
              " 'Pullover',\n",
              " 'Dress',\n",
              " 'Coat',\n",
              " 'Sandal',\n",
              " 'Shirt',\n",
              " 'Sneaker',\n",
              " 'Bag',\n",
              " 'Ankle boot']"
            ]
          },
          "metadata": {},
          "execution_count": 8
        }
      ]
    },
    {
      "cell_type": "code",
      "source": [
        "class_to_idx = train_data.class_to_idx\n",
        "class_to_idx"
      ],
      "metadata": {
        "colab": {
          "base_uri": "https://localhost:8080/"
        },
        "id": "_Duwxruld3b5",
        "outputId": "381fff51-7e5d-4184-df74-ffc242028db7"
      },
      "execution_count": null,
      "outputs": [
        {
          "output_type": "execute_result",
          "data": {
            "text/plain": [
              "{'T-shirt/top': 0,\n",
              " 'Trouser': 1,\n",
              " 'Pullover': 2,\n",
              " 'Dress': 3,\n",
              " 'Coat': 4,\n",
              " 'Sandal': 5,\n",
              " 'Shirt': 6,\n",
              " 'Sneaker': 7,\n",
              " 'Bag': 8,\n",
              " 'Ankle boot': 9}"
            ]
          },
          "metadata": {},
          "execution_count": 9
        }
      ]
    },
    {
      "cell_type": "code",
      "source": [
        "train_data.targets, len(train_data.targets)"
      ],
      "metadata": {
        "colab": {
          "base_uri": "https://localhost:8080/"
        },
        "id": "QI6BjKvkd83e",
        "outputId": "fdcde974-f3cd-4ecd-96fe-34cd7bb4ed95"
      },
      "execution_count": null,
      "outputs": [
        {
          "output_type": "execute_result",
          "data": {
            "text/plain": [
              "(tensor([9, 0, 0,  ..., 3, 0, 5]), 60000)"
            ]
          },
          "metadata": {},
          "execution_count": 10
        }
      ]
    },
    {
      "cell_type": "code",
      "source": [
        "image.shape, label"
      ],
      "metadata": {
        "colab": {
          "base_uri": "https://localhost:8080/"
        },
        "id": "u-yicSYdeARr",
        "outputId": "98b7f5e0-3f51-482d-dd13-cbb60696ac19"
      },
      "execution_count": null,
      "outputs": [
        {
          "output_type": "execute_result",
          "data": {
            "text/plain": [
              "(torch.Size([1, 28, 28]), 9)"
            ]
          },
          "metadata": {},
          "execution_count": 11
        }
      ]
    },
    {
      "cell_type": "code",
      "source": [
        "print(f\"Print image shape: {image.shape} -> [color_channels, height, width]\")\n",
        "print(f\"Image label: {class_names[label]}\")"
      ],
      "metadata": {
        "colab": {
          "base_uri": "https://localhost:8080/"
        },
        "id": "MBP5eTUTeDaK",
        "outputId": "b7c1b5cf-d32b-4328-c201-4829b2613c96"
      },
      "execution_count": null,
      "outputs": [
        {
          "output_type": "stream",
          "name": "stdout",
          "text": [
            "Print image shape: torch.Size([1, 28, 28]) -> [color_channels, height, width]\n",
            "Image label: Ankle boot\n"
          ]
        }
      ]
    },
    {
      "cell_type": "markdown",
      "source": [
        "## 1.2 Visualizing our data"
      ],
      "metadata": {
        "id": "cAuRi-WInWec"
      }
    },
    {
      "cell_type": "code",
      "source": [
        "import matplotlib.pyplot as plt\n",
        "image, label  = train_data[0]\n",
        "print(f\"Image shape is {image.shape}\")\n",
        "plt.imshow(image.squeeze())\n",
        "plt.title(class_names[label])"
      ],
      "metadata": {
        "colab": {
          "base_uri": "https://localhost:8080/",
          "height": 488
        },
        "id": "b0deB3j6eMcq",
        "outputId": "e778342e-cb36-4e21-e450-257cde8f057a"
      },
      "execution_count": null,
      "outputs": [
        {
          "output_type": "stream",
          "name": "stdout",
          "text": [
            "Image shape is torch.Size([1, 28, 28])\n"
          ]
        },
        {
          "output_type": "execute_result",
          "data": {
            "text/plain": [
              "Text(0.5, 1.0, 'Ankle boot')"
            ]
          },
          "metadata": {},
          "execution_count": 13
        },
        {
          "output_type": "display_data",
          "data": {
            "text/plain": [
              "<Figure size 640x480 with 1 Axes>"
            ],
            "image/png": "[encoded data removed]"
          },
          "metadata": {}
        }
      ]
    },
    {
      "cell_type": "code",
      "source": [
        "plt.imshow(image.squeeze(), cmap='gray')\n",
        "plt.title(class_names[label])\n",
        "plt.axis(False)"
      ],
      "metadata": {
        "colab": {
          "base_uri": "https://localhost:8080/",
          "height": 446
        },
        "id": "aYCROqxnnoLG",
        "outputId": "b66c7e2b-0b84-4b22-a8e8-152c4e3b1e8c"
      },
      "execution_count": null,
      "outputs": [
        {
          "output_type": "execute_result",
          "data": {
            "text/plain": [
              "(-0.5, 27.5, 27.5, -0.5)"
            ]
          },
          "metadata": {},
          "execution_count": 14
        },
        {
          "output_type": "display_data",
          "data": {
            "text/plain": [
              "<Figure size 640x480 with 1 Axes>"
            ],
            "image/png": "[encoded data removed]"
          },
          "metadata": {}
        }
      ]
    },
    {
      "cell_type": "code",
      "source": [
        "torch.manual_seed(42)\n",
        "fig = plt.figure(figsize=(9,9))\n",
        "rows, cols = 4, 4\n",
        "for i in range(1, rows*cols+1):\n",
        "    random_idx = torch.randint(0,len(train_data), size=[1]).item()\n",
        "\n",
        "    image, label = train_data[random_idx]\n",
        "    fig.add_subplot(rows,cols,i)\n",
        "    plt.imshow(image.squeeze(), cmap='gray')\n",
        "    plt.title(class_names[label])\n",
        "    plt.axis(False)"
      ],
      "metadata": {
        "colab": {
          "base_uri": "https://localhost:8080/",
          "height": 752
        },
        "id": "HKa_m5lqnu-o",
        "outputId": "a423952e-327e-416c-be96-458129323f02"
      },
      "execution_count": null,
      "outputs": [
        {
          "output_type": "display_data",
          "data": {
            "text/plain": [
              "<Figure size 900x900 with 16 Axes>"
            ],
            "image/png": "[encoded data removed]"
          },
          "metadata": {}
        }
      ]
    },
    {
      "cell_type": "markdown",
      "source": [
        "## 2. Prepare dataloader\n",
        "\n",
        "Right now, our data is in the form of Pytorch datasets.\n",
        "We want to convert them from datasets to a **dataloder**. Remember dataloaders turn datasets into pytorch iterable. More specifically, we want to turn our data into mini**batches**. Why?\n",
        "\n",
        "1. it is more computationally efficient i.e. computing hardware may not be able to look (store in memory) at 60K images per hit. so we break it down to 32 images at a time.\n",
        "\n",
        "2. it gives neural network more chances to update its gradients per epoch.\n",
        "\n",
        "https://www.youtube.com/watch?v=4qJaSmvhxi8\n",
        "\n",
        "https://pytorch.org/docs/stable/data.html"
      ],
      "metadata": {
        "id": "-B0IZ8qrpu0d"
      }
    },
    {
      "cell_type": "code",
      "source": [
        "from torch.utils.data import DataLoader\n",
        "\n",
        "# set up the batch size hyperparameter\n",
        "BATCH_SIZE = 32\n",
        "\n",
        "# turn datasets into iterables (batches)\n",
        "train_dataloader = DataLoader(dataset=train_data,\n",
        "                              batch_size=BATCH_SIZE,\n",
        "                              shuffle=True)\n",
        "test_dataloader = DataLoader(dataset=test_data,\n",
        "                              batch_size=BATCH_SIZE,\n",
        "                              shuffle=False)\n",
        "\n",
        "train_dataloader, test_dataloader"
      ],
      "metadata": {
        "colab": {
          "base_uri": "https://localhost:8080/"
        },
        "id": "dsRlMF5oogek",
        "outputId": "eeb983fb-412c-40db-ee49-f4d810133fad"
      },
      "execution_count": null,
      "outputs": [
        {
          "output_type": "execute_result",
          "data": {
            "text/plain": [
              "(<torch.utils.data.dataloader.DataLoader at 0x7c93a06a92a0>,\n",
              " <torch.utils.data.dataloader.DataLoader at 0x7c93a08977f0>)"
            ]
          },
          "metadata": {},
          "execution_count": 16
        }
      ]
    },
    {
      "cell_type": "code",
      "source": [
        "# check out what we've created\n",
        "print(f\"DataLoaders: {train_dataloader, test_dataloader}\")\n",
        "print(f\"Length of the train_dataloader: {len(train_dataloader)} batches of {BATCH_SIZE}\")\n",
        "print(f\"Length of the test_dataloader: {len(test_dataloader)} batches of {BATCH_SIZE}\")"
      ],
      "metadata": {
        "colab": {
          "base_uri": "https://localhost:8080/"
        },
        "id": "5ub7LtjnrlB6",
        "outputId": "54b5b47e-22d2-44fb-d9d6-7099dc53cd9e"
      },
      "execution_count": null,
      "outputs": [
        {
          "output_type": "stream",
          "name": "stdout",
          "text": [
            "DataLoaders: (<torch.utils.data.dataloader.DataLoader object at 0x7c93a06a92a0>, <torch.utils.data.dataloader.DataLoader object at 0x7c93a08977f0>)\n",
            "Length of the train_dataloader: 1875 batches of 32\n",
            "Length of the test_dataloader: 313 batches of 32\n"
          ]
        }
      ]
    },
    {
      "cell_type": "code",
      "source": [
        "# check out what's inside the training dataloader\n",
        "train_features_batch, train_labels_batch = next(iter(train_dataloader))\n",
        "\n",
        "train_features_batch.shape, train_labels_batch.shape"
      ],
      "metadata": {
        "colab": {
          "base_uri": "https://localhost:8080/"
        },
        "id": "XWmb89ttsRje",
        "outputId": "31329921-cac6-40e6-dca7-d4fbbaebea87"
      },
      "execution_count": null,
      "outputs": [
        {
          "output_type": "execute_result",
          "data": {
            "text/plain": [
              "(torch.Size([32, 1, 28, 28]), torch.Size([32]))"
            ]
          },
          "metadata": {},
          "execution_count": 18
        }
      ]
    },
    {
      "cell_type": "code",
      "source": [
        "len(train_features_batch)"
      ],
      "metadata": {
        "colab": {
          "base_uri": "https://localhost:8080/"
        },
        "id": "hbtsr-qpsbEr",
        "outputId": "4ba02dfd-b011-48d2-de38-dc3c93011eb7"
      },
      "execution_count": null,
      "outputs": [
        {
          "output_type": "execute_result",
          "data": {
            "text/plain": [
              "32"
            ]
          },
          "metadata": {},
          "execution_count": 19
        }
      ]
    },
    {
      "cell_type": "code",
      "source": [
        "# show a sample\n",
        "# torch.manual_seed(42)\n",
        "random_idx = torch.randint(0, len(train_features_batch), size=[1]).item()\n",
        "img, label = train_features_batch[random_idx], train_labels_batch[random_idx]\n",
        "plt.imshow(img.squeeze(), cmap='gray')\n",
        "plt.title(class_names[label])\n",
        "plt.axis(False)\n",
        "print(f\"image size: {img.shape}\")\n",
        "print(f\"label: {label}, label size: {label.shape}\")"
      ],
      "metadata": {
        "colab": {
          "base_uri": "https://localhost:8080/",
          "height": 464
        },
        "id": "K_K8oL02rwDx",
        "outputId": "300493c8-e2dd-4bb6-9fa3-0233e998acf9"
      },
      "execution_count": null,
      "outputs": [
        {
          "output_type": "stream",
          "name": "stdout",
          "text": [
            "image size: torch.Size([1, 28, 28])\n",
            "label: 8, label size: torch.Size([])\n"
          ]
        },
        {
          "output_type": "display_data",
          "data": {
            "text/plain": [
              "<Figure size 640x480 with 1 Axes>"
            ],
            "image/png": "[encoded data removed]"
          },
          "metadata": {}
        }
      ]
    },
    {
      "cell_type": "markdown",
      "source": [
        "# Model building"
      ],
      "metadata": {
        "id": "o9mlYpcfys1R"
      }
    },
    {
      "cell_type": "markdown",
      "source": [
        "## Model 0: Build a baseline model\n",
        "\n",
        "A baseline model is a simple model that you will try to improve upon with subsequent experiments. Start simply, then add complexity when necessary."
      ],
      "metadata": {
        "id": "RFdAl8w6uJsh"
      }
    },
    {
      "cell_type": "code",
      "source": [
        "# create a flatten layer\n",
        "flatten_model = nn.Flatten()\n",
        "\n",
        "# get a single sample\n",
        "x = train_features_batch[0]\n",
        "print(f\"Shape before flattening: {x.shape} -> [color channels, height, width]\")\n",
        "# flatten the sample\n",
        "output = flatten_model(x) # perform forward pass\n",
        "print(f\"Shape after flattening: {output.shape} -> [color_channels, height*width]\")"
      ],
      "metadata": {
        "colab": {
          "base_uri": "https://localhost:8080/"
        },
        "id": "heiEHj9vrypY",
        "outputId": "f164ec2c-4ce4-47e2-867b-03cf7069dbe1"
      },
      "execution_count": null,
      "outputs": [
        {
          "output_type": "stream",
          "name": "stdout",
          "text": [
            "Shape before flattening: torch.Size([1, 28, 28]) -> [color channels, height, width]\n",
            "Shape after flattening: torch.Size([1, 784]) -> [color_channels, height*width]\n"
          ]
        }
      ]
    },
    {
      "cell_type": "code",
      "source": [
        "from torch import nn\n",
        "class FashionMnistModelV0(nn.Module):\n",
        "    def __init__(self,\n",
        "                 input_shape: int,\n",
        "                 hidden_units: int,\n",
        "                 output_shape: int):\n",
        "        super().__init__()\n",
        "        self.layer_stack = nn.Sequential(\n",
        "            nn.Flatten(),\n",
        "            nn.Linear(in_features=input_shape,\n",
        "                      out_features=hidden_units),\n",
        "            nn.Linear(in_features=hidden_units,\n",
        "                      out_features=output_shape)\n",
        "        )\n",
        "    def forward(self, x):\n",
        "        return self.layer_stack(x)\n"
      ],
      "metadata": {
        "id": "EHajLt6Nu7Lr"
      },
      "execution_count": null,
      "outputs": []
    },
    {
      "cell_type": "code",
      "source": [
        "torch.manual_seed(88)\n",
        "\n",
        "model_0 = FashionMnistModelV0(\n",
        "    input_shape = 28*28,\n",
        "    hidden_units = 10,\n",
        "    output_shape = len(class_names)).to(device) # length of class names\n",
        "model_0 = model_0.to(device)\n"
      ],
      "metadata": {
        "id": "oXtVz3mywD5p"
      },
      "execution_count": null,
      "outputs": []
    },
    {
      "cell_type": "code",
      "source": [
        "dummy_x = torch.rand([1,1,28,28]).to(device)\n",
        "model_0(dummy_x).shape\n",
        "# notice how the shape changes if you don't flatten it?"
      ],
      "metadata": {
        "colab": {
          "base_uri": "https://localhost:8080/"
        },
        "id": "Bsk89XJBwiOy",
        "outputId": "4eddba76-ef5c-4a87-d918-ddf1b41b6112"
      },
      "execution_count": null,
      "outputs": [
        {
          "output_type": "execute_result",
          "data": {
            "text/plain": [
              "torch.Size([1, 10])"
            ]
          },
          "metadata": {},
          "execution_count": 25
        }
      ]
    },
    {
      "cell_type": "code",
      "source": [
        "model_0.state_dict()"
      ],
      "metadata": {
        "colab": {
          "base_uri": "https://localhost:8080/"
        },
        "id": "fonHyyTpwnvP",
        "outputId": "86c61c44-5314-4d9f-a03a-ad03f587d73a"
      },
      "execution_count": null,
      "outputs": [
        {
          "output_type": "execute_result",
          "data": {
            "text/plain": [
              "OrderedDict([('layer_stack.1.weight',\n",
              "              tensor([[ 1.9505e-02,  1.3839e-02,  2.3594e-02,  ..., -2.4597e-02,\n",
              "                        3.3790e-02, -2.4704e-03],\n",
              "                      [ 6.1313e-03,  2.6851e-02, -1.5784e-03,  ..., -7.8577e-03,\n",
              "                       -3.4669e-02,  3.2368e-02],\n",
              "                      [-2.6674e-02, -6.6836e-03,  6.3991e-03,  ...,  3.5664e-02,\n",
              "                        6.5224e-03, -2.6120e-02],\n",
              "                      ...,\n",
              "                      [ 3.4021e-02, -2.6375e-02, -1.6709e-02,  ..., -2.5281e-02,\n",
              "                        8.2293e-05, -1.5344e-02],\n",
              "                      [ 2.8409e-02, -7.0254e-03, -2.2896e-02,  ...,  1.3499e-02,\n",
              "                        3.9861e-03,  1.1276e-02],\n",
              "                      [-2.8039e-02, -1.2085e-02, -2.4942e-02,  ..., -2.0929e-02,\n",
              "                        4.6583e-03, -1.6992e-03]], device='cuda:0')),\n",
              "             ('layer_stack.1.bias',\n",
              "              tensor([-0.0052, -0.0040,  0.0355,  0.0232, -0.0189,  0.0299, -0.0067, -0.0355,\n",
              "                       0.0159, -0.0335], device='cuda:0')),\n",
              "             ('layer_stack.2.weight',\n",
              "              tensor([[ 0.1454, -0.1143, -0.3056,  0.0900, -0.2504, -0.0595,  0.2901,  0.2999,\n",
              "                        0.2694,  0.0855],\n",
              "                      [-0.2212,  0.2891, -0.1399, -0.2411, -0.1272, -0.1142,  0.2388, -0.2686,\n",
              "                        0.2170, -0.3012],\n",
              "                      [-0.1500, -0.1118, -0.2753,  0.2566,  0.0955,  0.0444, -0.1278,  0.0400,\n",
              "                        0.2967,  0.1439],\n",
              "                      [ 0.3003,  0.2895,  0.2277,  0.1504, -0.0724, -0.0022, -0.2980,  0.0102,\n",
              "                       -0.1699,  0.2353],\n",
              "                      [ 0.2458, -0.1983, -0.0286, -0.2812, -0.2523,  0.0953,  0.2629, -0.2624,\n",
              "                       -0.1318,  0.1206],\n",
              "                      [-0.2429, -0.1790, -0.2001, -0.2479, -0.1877,  0.1056,  0.2078,  0.3008,\n",
              "                        0.2076, -0.2465],\n",
              "                      [-0.1997, -0.1295,  0.1398, -0.1468,  0.2024,  0.1465,  0.2050,  0.2605,\n",
              "                       -0.1706, -0.1733],\n",
              "                      [ 0.2307, -0.1551,  0.0595,  0.2625,  0.0471,  0.0517, -0.2079,  0.1580,\n",
              "                        0.0783, -0.0015],\n",
              "                      [-0.0182, -0.1662, -0.2522, -0.3011, -0.0855, -0.1842, -0.0004, -0.0407,\n",
              "                       -0.0676, -0.0977],\n",
              "                      [ 0.1714,  0.0685, -0.2398,  0.3059,  0.0007, -0.2311, -0.3042, -0.1003,\n",
              "                       -0.2146,  0.0372]], device='cuda:0')),\n",
              "             ('layer_stack.2.bias',\n",
              "              tensor([ 0.1388, -0.0779, -0.0391, -0.2796,  0.1824, -0.1859, -0.2856, -0.1213,\n",
              "                      -0.2794,  0.3103], device='cuda:0'))])"
            ]
          },
          "metadata": {},
          "execution_count": 26
        }
      ]
    },
    {
      "cell_type": "markdown",
      "source": [
        "### set up loss, optimizer, and evaluation metrics\n",
        "\n",
        "loss function - `nn.CrossEntropyLoss()`\n",
        "\n",
        "optimizer - `torch.optim.SGD()`\n",
        "\n",
        "evaluation metric - `accuracy`"
      ],
      "metadata": {
        "id": "nqvONF-Xxm9H"
      }
    },
    {
      "cell_type": "code",
      "source": [
        "import requests\n",
        "from pathlib import Path\n",
        "\n",
        "# download helper functions from Learn Pytorch repo\n",
        "\n",
        "if Path(\"helper_functions.py\").is_file():\n",
        "    print(\"helper_functions.py already exists, skipping download...\")\n",
        "else:\n",
        "    print(\"Downloading helper_functions.py\")\n",
        "    request = requests.get(\"https://raw.githubusercontent.com/mrdbourke/pytorch-deep-learning/main/helper_functions.py\")\n",
        "    with open(\"helper_functions.py\", 'wb') as f:\n",
        "        f.write(request.content)"
      ],
      "metadata": {
        "id": "r3oANwzKxSib",
        "colab": {
          "base_uri": "https://localhost:8080/"
        },
        "outputId": "34951edd-3870-433d-f375-a7aca562d15e"
      },
      "execution_count": null,
      "outputs": [
        {
          "output_type": "stream",
          "name": "stdout",
          "text": [
            "Downloading helper_functions.py\n"
          ]
        }
      ]
    },
    {
      "cell_type": "code",
      "source": [
        "from helper_functions import accuracy_fn\n",
        "\n",
        "loss_fn = nn.CrossEntropyLoss()\n",
        "optimizer = torch.optim.SGD(model_0.parameters(),\n",
        "                            lr=0.1)\n"
      ],
      "metadata": {
        "id": "TnfWQlBayoed"
      },
      "execution_count": null,
      "outputs": []
    },
    {
      "cell_type": "markdown",
      "source": [
        "### creating a function to time our experiments\n",
        "\n",
        "ML is very experimental. two of the main things you'll want to track:\n",
        "\n",
        "1. model's performance (loss and accuracy)\n",
        "2. its speed\n",
        "\n",
        "there's often a trade off between these two."
      ],
      "metadata": {
        "id": "8-hU-IkpzSE4"
      }
    },
    {
      "cell_type": "code",
      "source": [
        "from timeit import default_timer as timer\n",
        "def print_train_time(start: float,\n",
        "                     end: float,\n",
        "                     device: torch.device = None):\n",
        "\n",
        "    \"\"\"print difference between start and end time\"\"\"\n",
        "    total_time = end - start\n",
        "    print(f\"Train time on {device}: {total_time:.3f} seconds\")\n",
        "\n",
        "    return total_time"
      ],
      "metadata": {
        "id": "MrExIK5ly2kq"
      },
      "execution_count": null,
      "outputs": []
    },
    {
      "cell_type": "markdown",
      "source": [
        "### creating a training loop and training a model on batches of data\n",
        "\n",
        "1. loop through epochs\n",
        "2. loop throuigh training batches, perform training steps, calculate the train loss *per batch*\n",
        "3. loop through testing batches, perform testing steps, calculate the test loss per batch\n",
        "4. print out what's happening\n",
        "5. time it all"
      ],
      "metadata": {
        "id": "dl5bIppN0c5A"
      }
    },
    {
      "cell_type": "code",
      "source": [
        "from tqdm.auto import tqdm\n",
        "\n",
        "# set the seed and start timer\n",
        "torch.manual_seed(88)\n",
        "train_time_start_on_cpu = timer()\n",
        "\n",
        "# set the number of epochs (keep it small for faster training time)\n",
        "epochs =  3\n",
        "\n",
        "# create training and test loop\n",
        "for epoch in tqdm(range(epochs)):\n",
        "    print(f\"Epoch: {epoch}\\n------------\")\n",
        "\n",
        "    ## Training\n",
        "    train_loss = 0\n",
        "    # add a loop to loop through the training batches\n",
        "    for batch, (X,y) in enumerate(train_dataloader):\n",
        "        X, y = X.to(device), y.to(device)\n",
        "        model_0.train()\n",
        "        # 1. forward pass\n",
        "        y_pred = model_0(X)\n",
        "\n",
        "        # 2. calculate the loss\n",
        "        loss = loss_fn(y_pred, y)\n",
        "        train_loss += loss #\n",
        "\n",
        "        # 3. optimize zero grad\n",
        "        optimizer.zero_grad()\n",
        "\n",
        "        # 4. loss backwards\n",
        "        loss.backward()\n",
        "\n",
        "        # 5. gradient descent/optimize weights\n",
        "        optimizer.step()\n",
        "\n",
        "        # print out what's happening\n",
        "        if batch % 400 == 0:\n",
        "            print(f\"Looked at {batch*len(X)}\",\"/\",f\"{len(train_dataloader.dataset)} samples\")\n",
        "\n",
        "    # average training loss per batch\n",
        "    train_loss /=len(train_dataloader)\n",
        "\n",
        "\n",
        "    ### Testing loop\n",
        "    test_loss, test_acc = 0, 0\n",
        "    model_0.eval()\n",
        "    with torch.inference_mode():\n",
        "        for X_test,y_test in test_dataloader:\n",
        "\n",
        "            X_test, y_test = X_test.to(device), y_test.to(device)\n",
        "            # 1. forward pass\n",
        "            test_pred = model_0(X_test)\n",
        "\n",
        "            # 2. calculate loss and accuracy (accumulatively)\n",
        "            test_loss += loss_fn(test_pred, y_test)\n",
        "            test_acc += accuracy_fn(y_true= y_test,\n",
        "                                    y_pred = test_pred.argmax(dim=1))\n",
        "\n",
        "        # calculate the test loss/accuracy average per batch\n",
        "        test_loss /= len(test_dataloader)\n",
        "        test_acc /=len(test_dataloader)\n",
        "\n",
        "    # print out what's happening\n",
        "    print(f\"\\nTrain loss: {train_loss:.4f}, Test loss: {test_loss:.4f}, Test accuracy: {test_acc:.4f}\")\n",
        "\n",
        "\n",
        "# calculate the training time\n",
        "\n",
        "train_time_end_on_cpu = timer()\n",
        "total_train_time_model_0 = print_train_time(start=train_time_start_on_cpu,\n",
        "                                           end=train_time_end_on_cpu,\n",
        "                                           device=str(next(model_0.parameters()).device))\n",
        "\n"
      ],
      "metadata": {
        "colab": {
          "base_uri": "https://localhost:8080/",
          "height": 549,
          "referenced_widgets": [
            "9be069872c3346978ef847e4114ba80e",
            "fd19f153c1184bb79d039a0046ecd7b2",
            "2fde74e606644b78a0787dc1f7f8fda6",
            "951b23de2e3d4f1b874528f28ce68e99",
            "d821c44d1da941ee907598584da50860",
            "cf099cf819844dfdaee42caf419b7b41",
            "ce5c862b4e864526be84d0b4c6291bc7",
            "1bf643837482446f8616ce27b91bbeaf",
            "c59c4d0c3ae8492d826ca9753a23a423",
            "4973c90e46b54e7486320080c2f37a48",
            "c6de72202efb4d7eaeff4f695f7f447a"
          ]
        },
        "id": "JrOOdxoiz8A1",
        "outputId": "d8b7e350-43d2-4859-b214-d795c4537955"
      },
      "execution_count": null,
      "outputs": [
        {
          "output_type": "display_data",
          "data": {
            "text/plain": [
              "  0%|          | 0/3 [00:00<?, ?it/s]"
            ],
            "application/vnd.jupyter.widget-view+json": {
              "version_major": 2,
              "version_minor": 0,
              "model_id": "9be069872c3346978ef847e4114ba80e"
            }
          },
          "metadata": {}
        },
        {
          "output_type": "stream",
          "name": "stdout",
          "text": [
            "Epoch: 0\n",
            "------------\n",
            "Looked at 0 / 60000 samples\n",
            "Looked at 12800 / 60000 samples\n",
            "Looked at 25600 / 60000 samples\n",
            "Looked at 38400 / 60000 samples\n",
            "Looked at 51200 / 60000 samples\n",
            "\n",
            "Train loss: 0.5908, Test loss: 0.5027, Test accuracy: 82.2484\n",
            "Epoch: 1\n",
            "------------\n",
            "Looked at 0 / 60000 samples\n",
            "Looked at 12800 / 60000 samples\n",
            "Looked at 25600 / 60000 samples\n",
            "Looked at 38400 / 60000 samples\n",
            "Looked at 51200 / 60000 samples\n",
            "\n",
            "Train loss: 0.4734, Test loss: 0.4945, Test accuracy: 82.9573\n",
            "Epoch: 2\n",
            "------------\n",
            "Looked at 0 / 60000 samples\n",
            "Looked at 12800 / 60000 samples\n",
            "Looked at 25600 / 60000 samples\n",
            "Looked at 38400 / 60000 samples\n",
            "Looked at 51200 / 60000 samples\n",
            "\n",
            "Train loss: 0.4524, Test loss: 0.4764, Test accuracy: 83.3367\n",
            "Train time on cuda:0: 27.500 seconds\n"
          ]
        }
      ]
    },
    {
      "cell_type": "markdown",
      "source": [
        "### Make predictions and get Model 0 results"
      ],
      "metadata": {
        "id": "3lJrZR596FJb"
      }
    },
    {
      "cell_type": "code",
      "source": [
        "torch.manual_seed(88)\n",
        "def eval_model(model: torch.nn.Module,\n",
        "               data_loader: torch.utils.data.DataLoader,\n",
        "               loss_fn: torch.nn.Module,\n",
        "               accuracy_fn,\n",
        "               device=device):\n",
        "    \"\"\"Returns a dictionary containing the results of model predicting on data_loader\"\"\"\n",
        "\n",
        "    loss, acc = 0, 0\n",
        "    model.eval()\n",
        "    with torch.inference_mode():\n",
        "        for X, y in tqdm(data_loader):\n",
        "            X, y = X.to(device), y.to(device)\n",
        "            # make predictions\n",
        "            y_pred = model(X)\n",
        "            # accumulate the loss and accuracy values per batch\n",
        "            loss += loss_fn(y_pred, y)\n",
        "            acc += accuracy_fn(y_true = y, y_pred=y_pred.argmax(dim=1))\n",
        "        # scale loss and accuracy to find the average per batch\n",
        "\n",
        "        loss /=len(data_loader)\n",
        "        acc /=len(data_loader)\n",
        "    return {\"model_name\": model.__class__.__name__, # this only works if the model was created with a class\n",
        "            \"model_loss\": loss.item(),\n",
        "            \"model_acc\": acc}\n",
        "\n",
        "\n",
        "# calculate model 0 results on test dataset\n",
        "\n",
        "model_0_results = eval_model(model = model_0,\n",
        "                             data_loader = test_dataloader,\n",
        "                             loss_fn=loss_fn,\n",
        "                             accuracy_fn=accuracy_fn)\n",
        "model_0_results\n"
      ],
      "metadata": {
        "colab": {
          "base_uri": "https://localhost:8080/",
          "height": 103,
          "referenced_widgets": [
            "f3680092176f4dc994c82ad22a09f259",
            "b1f949100539489fbd53ad7300615faa",
            "f914ccb78b704b9198c8653ff7cab609",
            "039778c22ddc42d9ab5d97e5225ea35e",
            "88020950b10249f084c0aec083c480c3",
            "c74da74ebcc442228e8ec986d1772621",
            "e757f778357247ee9674bfc15db0f139",
            "55d7a87c9dd54c7484d21ed96404b216",
            "6fe7bbd280a8423d939d8102553e0683",
            "93dfb61619be43788d9cdc60b25a1b85",
            "7a54a59ebbb24f5689215c19e1857404"
          ]
        },
        "id": "CdYXaLwq5683",
        "outputId": "3ec033d7-8d68-4048-87ea-1e409618de5f"
      },
      "execution_count": null,
      "outputs": [
        {
          "output_type": "display_data",
          "data": {
            "text/plain": [
              "  0%|          | 0/313 [00:00<?, ?it/s]"
            ],
            "application/vnd.jupyter.widget-view+json": {
              "version_major": 2,
              "version_minor": 0,
              "model_id": "f3680092176f4dc994c82ad22a09f259"
            }
          },
          "metadata": {}
        },
        {
          "output_type": "execute_result",
          "data": {
            "text/plain": [
              "{'model_name': 'FashionMnistModelV0',\n",
              " 'model_loss': 0.4763748049736023,\n",
              " 'model_acc': 83.33666134185303}"
            ]
          },
          "metadata": {},
          "execution_count": 31
        }
      ]
    },
    {
      "cell_type": "markdown",
      "source": [
        "## Model 1 - Model with non-linearity"
      ],
      "metadata": {
        "id": "o--6FAuTarH_"
      }
    },
    {
      "cell_type": "code",
      "source": [
        "class FashionMNistModelV1(nn.Module):\n",
        "    def __init__(self,\n",
        "                 input_shape: int,\n",
        "                 hidden_units: int,\n",
        "                 output_shape: int):\n",
        "        super().__init__()\n",
        "        self.layer_stack = nn.Sequential(\n",
        "            nn.Flatten(),\n",
        "            nn.Linear(in_features=input_shape,\n",
        "                      out_features=hidden_units),\n",
        "            nn.ReLU(),\n",
        "            nn.Linear(in_features=hidden_units,\n",
        "                      out_features=output_shape),\n",
        "            nn.ReLU()\n",
        "        )\n",
        "    def forward(self, x:torch.Tensor) -> torch.Tensor:\n",
        "        return self.layer_stack(x)\n"
      ],
      "metadata": {
        "id": "P0CBX4Wi7P34"
      },
      "execution_count": null,
      "outputs": []
    },
    {
      "cell_type": "code",
      "source": [
        "next(model_0.parameters()).device"
      ],
      "metadata": {
        "colab": {
          "base_uri": "https://localhost:8080/"
        },
        "id": "ngib9qgCbr9v",
        "outputId": "9ea827f9-1d40-4c20-a3ee-6d64df2df8d6"
      },
      "execution_count": null,
      "outputs": [
        {
          "output_type": "execute_result",
          "data": {
            "text/plain": [
              "device(type='cuda', index=0)"
            ]
          },
          "metadata": {},
          "execution_count": 33
        }
      ]
    },
    {
      "cell_type": "code",
      "source": [
        "# create an instance of model_1\n",
        "torch.manual_seed(88)\n",
        "model_1 = FashionMNistModelV1(input_shape = 784,\n",
        "                              hidden_units=10,\n",
        "                              output_shape = len(class_names)).to(device)\n",
        "next(model_1.parameters()), next(model_1.parameters()).device"
      ],
      "metadata": {
        "colab": {
          "base_uri": "https://localhost:8080/"
        },
        "id": "t5oYthkhb1jj",
        "outputId": "c045be74-7946-4220-b138-e9f2b133ee8a"
      },
      "execution_count": null,
      "outputs": [
        {
          "output_type": "execute_result",
          "data": {
            "text/plain": [
              "(Parameter containing:\n",
              " tensor([[ 1.9505e-02,  1.3839e-02,  2.3594e-02,  ..., -2.4597e-02,\n",
              "           3.3790e-02, -2.4704e-03],\n",
              "         [ 6.1313e-03,  2.6851e-02, -1.5784e-03,  ..., -7.8577e-03,\n",
              "          -3.4669e-02,  3.2368e-02],\n",
              "         [-2.6674e-02, -6.6836e-03,  6.3991e-03,  ...,  3.5664e-02,\n",
              "           6.5224e-03, -2.6120e-02],\n",
              "         ...,\n",
              "         [ 3.4021e-02, -2.6375e-02, -1.6709e-02,  ..., -2.5281e-02,\n",
              "           8.2293e-05, -1.5344e-02],\n",
              "         [ 2.8409e-02, -7.0254e-03, -2.2896e-02,  ...,  1.3499e-02,\n",
              "           3.9861e-03,  1.1276e-02],\n",
              "         [-2.8039e-02, -1.2085e-02, -2.4942e-02,  ..., -2.0929e-02,\n",
              "           4.6583e-03, -1.6992e-03]], device='cuda:0', requires_grad=True),\n",
              " device(type='cuda', index=0))"
            ]
          },
          "metadata": {},
          "execution_count": 34
        }
      ]
    },
    {
      "cell_type": "markdown",
      "source": [
        "### set up loss, optimizer and evaluation metrics"
      ],
      "metadata": {
        "id": "tEs8pN6ucwxv"
      }
    },
    {
      "cell_type": "code",
      "source": [
        "loss_fn = nn.CrossEntropyLoss()\n",
        "optimizer = torch.optim.SGD(model_1.parameters(), lr = 0.1)\n",
        "\n",
        "from helper_functions import accuracy_fn"
      ],
      "metadata": {
        "id": "l8PW7-vXcaCd"
      },
      "execution_count": null,
      "outputs": []
    },
    {
      "cell_type": "markdown",
      "source": [
        "### create a function for the training and testing loops\n",
        "\n",
        "- training loop = `train_step()`\n",
        "- testing loop = `test_step()`"
      ],
      "metadata": {
        "id": "gU_Vw-yWczT0"
      }
    },
    {
      "cell_type": "code",
      "source": [
        "def train_step(model: torch.nn.Module,\n",
        "               dataloader: torch.utils.data.DataLoader,\n",
        "               loss_fn: torch.nn.Module,\n",
        "               optimizer: torch.optim.Optimizer,\n",
        "               accuracy_fn,\n",
        "               device: torch.device =device):\n",
        "    \"Performs a trianing step with model trying to learn on dataloader\"\n",
        "    from tqdm.auto import tqdm\n",
        "\n",
        "    # set the seed and start timer\n",
        "    torch.manual_seed(88)\n",
        "    train_loss, train_acc = 0, 0\n",
        "\n",
        "    # put model in training mode\n",
        "    model.train()\n",
        "\n",
        "\n",
        "\n",
        "    # add a loop to loop through the training batches\n",
        "    for batch, (X,y) in enumerate(dataloader):\n",
        "        # put data on target device\n",
        "        X, y = X.to(device), y.to(device)\n",
        "\n",
        "        # 1. forward pass\n",
        "        y_pred = model(X)\n",
        "\n",
        "        # 2. calculate the loss and accuracy\n",
        "        loss = loss_fn(y_pred, y)\n",
        "        train_loss += loss #\n",
        "        acc = accuracy_fn(y_true = y, y_pred=y_pred.argmax(dim=1))\n",
        "        train_acc += acc\n",
        "\n",
        "        # 3. optimize zero grad\n",
        "        optimizer.zero_grad()\n",
        "\n",
        "        # 4. loss backwards\n",
        "        loss.backward()\n",
        "\n",
        "        # 5. gradient descent/optimize weights\n",
        "        optimizer.step()\n",
        "\n",
        "    # average training loss and accuracy per batch\n",
        "    train_loss /=len(dataloader)\n",
        "    train_acc /=len(dataloader)\n",
        "\n",
        "    # print out what's happening\n",
        "    print(f\"Train loss:  {train_loss:.5f} and Train accuracy: {train_acc:5f}\")\n",
        "\n",
        "\n",
        "\n",
        "def test_step(model: torch.nn.Module,\n",
        "               dataloader: torch.utils.data.DataLoader,\n",
        "               loss_fn: torch.nn.Module = loss_fn,\n",
        "               accuracy_fn=accuracy_fn,\n",
        "               device: torch.device =device):\n",
        "    \"\"\"Performs a testing loop step on model going over dataloader\"\"\"\n",
        "\n",
        "\n",
        "    ### Testing loop\n",
        "    test_loss, test_acc = 0, 0\n",
        "    model.eval()\n",
        "    with torch.inference_mode():\n",
        "        for X_test,y_test in dataloader:\n",
        "            # put data on target device\n",
        "            X_test, y_test = X_test.to(device), y_test.to(device)\n",
        "            # 1. forward pass\n",
        "            test_pred = model(X_test)\n",
        "\n",
        "            # 2. calculate loss and accuracy (accumulatively)\n",
        "            test_loss += loss_fn(test_pred, y_test)\n",
        "            test_acc += accuracy_fn(y_true= y_test,\n",
        "                                    y_pred = test_pred.argmax(dim=1))\n",
        "\n",
        "        # calculate the test loss/accuracy average per batch\n",
        "        test_loss /= len(dataloader)\n",
        "        test_acc /=len(dataloader)\n",
        "\n",
        "    # print out what's happening\n",
        "    print(f\"Test loss: {test_loss:.4f}, Test accuracy: {test_acc:.4f}\\n\")\n",
        "\n",
        "\n",
        "\n",
        "\n",
        "\n",
        "\n"
      ],
      "metadata": {
        "id": "NNirDOihdDBe"
      },
      "execution_count": null,
      "outputs": []
    },
    {
      "cell_type": "code",
      "source": [
        "train_time_start = timer()\n",
        "epochs = 3\n",
        "for epoch in tqdm(range(epochs)):\n",
        "    print(f\"Epoch: {epoch}\\n------------\")\n",
        "    train_step(model=model_1,\n",
        "               dataloader=train_dataloader,\n",
        "               loss_fn=loss_fn,\n",
        "               accuracy_fn=accuracy_fn,\n",
        "               optimizer=optimizer,\n",
        "               device=device)\n",
        "    test_step(model=model_1,\n",
        "              dataloader=test_dataloader,\n",
        "              loss_fn=loss_fn,\n",
        "              accuracy_fn=accuracy_fn,\n",
        "              device=device)\n",
        "\n",
        "train_time_stop = timer()\n",
        "total_train_time_model_1 = print_train_time(start=train_time_start,\n",
        "                                           end=train_time_stop,\n",
        "                                           device=str(next(model_1.parameters()).device))"
      ],
      "metadata": {
        "colab": {
          "base_uri": "https://localhost:8080/",
          "height": 335,
          "referenced_widgets": [
            "f51e40a4d44b46b19e0e13556069f80a",
            "8174e5e43ae841fc9f55147b546b5ff8",
            "d4c2f93ca4d0440cb78cd7108672a240",
            "69fbd5c6deb24f4893b1214e2f34c6f4",
            "c7be704cf12049b0bd954143433b3c72",
            "71dbb4fc8a6f45b5adb4f346172f6af3",
            "f4dcd65c6ed948ee84a4065831a55a5b",
            "a46e864dac0e4c7397a096ff21fafb48",
            "e15456094dc546ed86b5fb373de95937",
            "5e106b662c0b49938f6e4648f45542c7",
            "e50bc6012906410b87db385671b9bf4c"
          ]
        },
        "id": "ERsI0lM1jLqw",
        "outputId": "63781244-59ac-4e4c-a2bc-c2ee6f515d11"
      },
      "execution_count": null,
      "outputs": [
        {
          "output_type": "display_data",
          "data": {
            "text/plain": [
              "  0%|          | 0/3 [00:00<?, ?it/s]"
            ],
            "application/vnd.jupyter.widget-view+json": {
              "version_major": 2,
              "version_minor": 0,
              "model_id": "f51e40a4d44b46b19e0e13556069f80a"
            }
          },
          "metadata": {}
        },
        {
          "output_type": "stream",
          "name": "stdout",
          "text": [
            "Epoch: 0\n",
            "------------\n",
            "Train loss:  1.42553 and Train accuracy: 48.021667\n",
            "\n",
            "Train loss: 0.4524, Test loss: 1.3601, Test accuracy: 48.8918\n",
            "Epoch: 1\n",
            "------------\n",
            "Train loss:  1.31509 and Train accuracy: 50.293333\n",
            "\n",
            "Train loss: 0.4524, Test loss: 1.3218, Test accuracy: 49.6306\n",
            "Epoch: 2\n",
            "------------\n",
            "Train loss:  1.28822 and Train accuracy: 50.876667\n",
            "\n",
            "Train loss: 0.4524, Test loss: 1.3102, Test accuracy: 50.1697\n",
            "Train time on cuda:0: 28.734 seconds\n"
          ]
        }
      ]
    },
    {
      "cell_type": "markdown",
      "source": [
        "### Evaluating model 1"
      ],
      "metadata": {
        "id": "JdqZV3AanSEc"
      }
    },
    {
      "cell_type": "code",
      "source": [
        "model_1_results = eval_model(model=model_1, data_loader=test_dataloader,\n",
        "    loss_fn=loss_fn, accuracy_fn=accuracy_fn,\n",
        "    device=device\n",
        ")\n",
        "model_0_results, model_1_results"
      ],
      "metadata": {
        "colab": {
          "base_uri": "https://localhost:8080/",
          "height": 156,
          "referenced_widgets": [
            "5fcbe44f0137457485c49b96ee435685",
            "62a4dad1d1f04aa781aeaf0bb7e82572",
            "4f1fe9739c3a4175b90f0e81172c3623",
            "4b67effbc9924a9db461e35b1c71df25",
            "e606788853f74346b1d77a4e6ebc2042",
            "9f71c040de024cc6b88d57321d7c9ed4",
            "cc3742a1baad43b2a58dec2f1b58ea26",
            "e480f9c6ae9740f4b1d461a6e1adb3d2",
            "a5077ddf02434d3c8c6bdf14b54ae025",
            "f86985ed37fc45c284be2c55c0f39471",
            "bee62c160a144ceca67c7265e05ce47c"
          ]
        },
        "id": "pvke2vE9llIF",
        "outputId": "d32744fa-8ad1-4441-fbab-d8e89b84e246"
      },
      "execution_count": null,
      "outputs": [
        {
          "output_type": "display_data",
          "data": {
            "text/plain": [
              "  0%|          | 0/313 [00:00<?, ?it/s]"
            ],
            "application/vnd.jupyter.widget-view+json": {
              "version_major": 2,
              "version_minor": 0,
              "model_id": "5fcbe44f0137457485c49b96ee435685"
            }
          },
          "metadata": {}
        },
        {
          "output_type": "execute_result",
          "data": {
            "text/plain": [
              "({'model_name': 'FashionMnistModelV0',\n",
              "  'model_loss': 0.4763748049736023,\n",
              "  'model_acc': 83.33666134185303},\n",
              " {'model_name': 'FashionMNistModelV1',\n",
              "  'model_loss': 1.3101552724838257,\n",
              "  'model_acc': 50.16972843450479})"
            ]
          },
          "metadata": {},
          "execution_count": 38
        }
      ]
    },
    {
      "cell_type": "markdown",
      "source": [
        "## Model 2 (CNN)\n",
        "\n",
        "https://poloclub.github.io/cnn-explainer/"
      ],
      "metadata": {
        "id": "f4qm7xiboTO0"
      }
    },
    {
      "cell_type": "code",
      "source": [
        "class FashionMNistModelV2(nn.Module):\n",
        "    \"\"\"replicate the model architecture of TinyVGG from CNN explainer website\"\"\"\n",
        "    def __init__(self,\n",
        "                 input_shape: int,\n",
        "                 hidden_units: int,\n",
        "                 output_shape: int):\n",
        "        super().__init__()\n",
        "        self.conv_block_1 = nn.Sequential(\n",
        "            nn.Conv2d(in_channels=input_shape,\n",
        "                      out_channels=hidden_units,\n",
        "                      kernel_size=3,\n",
        "                      stride=1,\n",
        "                      padding=1),\n",
        "            nn.ReLU(),\n",
        "            nn.Conv2d(in_channels=hidden_units,\n",
        "                      out_channels=hidden_units,\n",
        "                      kernel_size=3,\n",
        "                      stride=1,\n",
        "                      padding=1),\n",
        "            nn.ReLU(),\n",
        "            nn.MaxPool2d(kernel_size=2, stride=2)\n",
        "        )\n",
        "        self.conv_block_2 = nn.Sequential(\n",
        "            nn.Conv2d(in_channels=hidden_units,\n",
        "                      out_channels=hidden_units,\n",
        "                      kernel_size=3,\n",
        "                      stride=1,\n",
        "                      padding=1),\n",
        "            nn.ReLU(),\n",
        "            nn.Conv2d(in_channels=hidden_units,\n",
        "                      out_channels=hidden_units,\n",
        "                      kernel_size=3,\n",
        "                      stride=1,\n",
        "                      padding=1),\n",
        "            nn.ReLU(),\n",
        "            nn.MaxPool2d(kernel_size=2, stride=2)\n",
        "        )\n",
        "        self.classifier = nn.Sequential(\n",
        "            nn.Flatten(),\n",
        "            nn.Linear(in_features=hidden_units*7*7,\n",
        "                      out_features=output_shape)\n",
        "            )\n",
        "\n",
        "\n",
        "    def forward(self, x:torch.Tensor) -> torch.Tensor:\n",
        "        # print(x.shape)\n",
        "        x = self.conv_block_1(x)\n",
        "        # print(x.shape)\n",
        "        x = self.conv_block_2(x)\n",
        "        # print(x.shape)\n",
        "        x = self.classifier(x)\n",
        "        # print(x.shape)\n",
        "        return x\n",
        "torch.manual_seed(0)\n",
        "\n",
        "model_2 = FashionMNistModelV2(input_shape=1, # number of channels\n",
        "                              hidden_units=10,\n",
        "                              output_shape=10).to(device)\n",
        "model_2"
      ],
      "metadata": {
        "id": "MFzcwvOLnMQt",
        "colab": {
          "base_uri": "https://localhost:8080/"
        },
        "outputId": "29b2988d-fb9e-436b-ffe3-e6fe3561df78"
      },
      "execution_count": null,
      "outputs": [
        {
          "output_type": "execute_result",
          "data": {
            "text/plain": [
              "FashionMNistModelV2(\n",
              "  (conv_block_1): Sequential(\n",
              "    (0): Conv2d(1, 10, kernel_size=(3, 3), stride=(1, 1), padding=(1, 1))\n",
              "    (1): ReLU()\n",
              "    (2): Conv2d(10, 10, kernel_size=(3, 3), stride=(1, 1), padding=(1, 1))\n",
              "    (3): ReLU()\n",
              "    (4): MaxPool2d(kernel_size=2, stride=2, padding=0, dilation=1, ceil_mode=False)\n",
              "  )\n",
              "  (conv_block_2): Sequential(\n",
              "    (0): Conv2d(10, 10, kernel_size=(3, 3), stride=(1, 1), padding=(1, 1))\n",
              "    (1): ReLU()\n",
              "    (2): Conv2d(10, 10, kernel_size=(3, 3), stride=(1, 1), padding=(1, 1))\n",
              "    (3): ReLU()\n",
              "    (4): MaxPool2d(kernel_size=2, stride=2, padding=0, dilation=1, ceil_mode=False)\n",
              "  )\n",
              "  (classifier): Sequential(\n",
              "    (0): Flatten(start_dim=1, end_dim=-1)\n",
              "    (1): Linear(in_features=490, out_features=10, bias=True)\n",
              "  )\n",
              ")"
            ]
          },
          "metadata": {},
          "execution_count": 158
        }
      ]
    },
    {
      "cell_type": "markdown",
      "source": [
        "### Stepping through `nn.Conv2d()`\n",
        "\n",
        "- https://pytorch.org/docs/stable/generated/torch.nn.Conv2d.html"
      ],
      "metadata": {
        "id": "r4SGr9WbnwQ4"
      }
    },
    {
      "cell_type": "code",
      "source": [
        "torch.manual_seed(42)\n",
        "# create a batch of images\n",
        "images = torch.randn(size=(32, 3, 64, 64))\n",
        "\n",
        "test_image = images[0]\n",
        "\n",
        "print(f\"Image batch shape: {images.shape}\")\n",
        "print(f\"Single image shape: {test_image.shape}\")\n",
        "print(f\"Test image: \\n{test_image}\")"
      ],
      "metadata": {
        "colab": {
          "base_uri": "https://localhost:8080/"
        },
        "id": "waXc2rpAiiUq",
        "outputId": "4af48aad-4eb4-4023-b65d-d1d2aa18e65a"
      },
      "execution_count": null,
      "outputs": [
        {
          "output_type": "stream",
          "name": "stdout",
          "text": [
            "Image batch shape: torch.Size([32, 3, 64, 64])\n",
            "Single image shape: torch.Size([3, 64, 64])\n",
            "Test image: \n",
            "tensor([[[ 1.9269,  1.4873,  0.9007,  ...,  1.8446, -1.1845,  1.3835],\n",
            "         [ 1.4451,  0.8564,  2.2181,  ...,  0.3399,  0.7200,  0.4114],\n",
            "         [ 1.9312,  1.0119, -1.4364,  ..., -0.5558,  0.7043,  0.7099],\n",
            "         ...,\n",
            "         [-0.5610, -0.4830,  0.4770,  ..., -0.2713, -0.9537, -0.6737],\n",
            "         [ 0.3076, -0.1277,  0.0366,  ..., -2.0060,  0.2824, -0.8111],\n",
            "         [-1.5486,  0.0485, -0.7712,  ..., -0.1403,  0.9416, -0.0118]],\n",
            "\n",
            "        [[-0.5197,  1.8524,  1.8365,  ...,  0.8935, -1.5114, -0.8515],\n",
            "         [ 2.0818,  1.0677, -1.4277,  ...,  1.6612, -2.6223, -0.4319],\n",
            "         [-0.1010, -0.4388, -1.9775,  ...,  0.2106,  0.2536, -0.7318],\n",
            "         ...,\n",
            "         [ 0.2779,  0.7342, -0.3736,  ..., -0.4601,  0.1815,  0.1850],\n",
            "         [ 0.7205, -0.2833,  0.0937,  ..., -0.1002, -2.3609,  2.2465],\n",
            "         [-1.3242, -0.1973,  0.2920,  ...,  0.5409,  0.6940,  1.8563]],\n",
            "\n",
            "        [[-0.7978,  1.0261,  1.1465,  ...,  1.2134,  0.9354, -0.0780],\n",
            "         [-1.4647, -1.9571,  0.1017,  ..., -1.9986, -0.7409,  0.7011],\n",
            "         [-1.3938,  0.8466, -1.7191,  ..., -1.1867,  0.1320,  0.3407],\n",
            "         ...,\n",
            "         [ 0.8206, -0.3745,  1.2499,  ..., -0.0676,  0.0385,  0.6335],\n",
            "         [-0.5589, -0.3393,  0.2347,  ...,  2.1181,  2.4569,  1.3083],\n",
            "         [-0.4092,  1.5199,  0.2401,  ..., -0.2558,  0.7870,  0.9924]]])\n"
          ]
        }
      ]
    },
    {
      "cell_type": "code",
      "source": [
        "model_2.state_dict()"
      ],
      "metadata": {
        "colab": {
          "base_uri": "https://localhost:8080/"
        },
        "id": "8xyYnfVll2qC",
        "outputId": "b4e332c1-f2e3-4a0b-8ae4-6753dd18b2d4"
      },
      "execution_count": null,
      "outputs": [
        {
          "output_type": "execute_result",
          "data": {
            "text/plain": [
              "OrderedDict([('conv_block_1.0.weight',\n",
              "              tensor([[[[-0.0025,  0.1788, -0.2743],\n",
              "                        [-0.2453, -0.1284,  0.0894],\n",
              "                        [-0.0066,  0.2643, -0.0296]]],\n",
              "              \n",
              "              \n",
              "                      [[[ 0.0882, -0.1007, -0.0655],\n",
              "                        [-0.3184, -0.2208, -0.1374],\n",
              "                        [ 0.0123,  0.1318,  0.2000]]],\n",
              "              \n",
              "              \n",
              "                      [[[-0.2260, -0.1452,  0.1211],\n",
              "                        [ 0.2768, -0.0686,  0.2494],\n",
              "                        [-0.0537,  0.0353,  0.3018]]],\n",
              "              \n",
              "              \n",
              "                      [[[-0.3092, -0.2098, -0.0844],\n",
              "                        [-0.1299,  0.2880, -0.2161],\n",
              "                        [-0.1534, -0.2329, -0.3122]]],\n",
              "              \n",
              "              \n",
              "                      [[[-0.1946,  0.2865,  0.1487],\n",
              "                        [ 0.1616,  0.0175, -0.1709],\n",
              "                        [ 0.0564, -0.3112, -0.2409]]],\n",
              "              \n",
              "              \n",
              "                      [[[-0.1718,  0.2103,  0.1954],\n",
              "                        [-0.1478, -0.0120,  0.2132],\n",
              "                        [ 0.3314,  0.1323,  0.0450]]],\n",
              "              \n",
              "              \n",
              "                      [[[ 0.2235, -0.1963,  0.0621],\n",
              "                        [-0.2584, -0.2310, -0.1722],\n",
              "                        [ 0.1508,  0.1341, -0.1975]]],\n",
              "              \n",
              "              \n",
              "                      [[[ 0.1007,  0.1830, -0.0421],\n",
              "                        [ 0.0127,  0.0772,  0.2068],\n",
              "                        [ 0.3201, -0.2569, -0.1222]]],\n",
              "              \n",
              "              \n",
              "                      [[[ 0.1310,  0.2762,  0.2901],\n",
              "                        [ 0.2941,  0.0663, -0.2899],\n",
              "                        [ 0.0307, -0.2085, -0.3107]]],\n",
              "              \n",
              "              \n",
              "                      [[[ 0.2962,  0.2535, -0.3325],\n",
              "                        [ 0.0624, -0.0562, -0.0549],\n",
              "                        [-0.1526,  0.1282, -0.1974]]]], device='cuda:0')),\n",
              "             ('conv_block_1.0.bias',\n",
              "              tensor([ 0.1222,  0.1686,  0.2386,  0.1246, -0.3299, -0.2162,  0.1664,  0.0698,\n",
              "                      -0.2600, -0.1919], device='cuda:0')),\n",
              "             ('conv_block_1.2.weight',\n",
              "              tensor([[[[ 9.9164e-02,  7.1027e-02, -4.5961e-02],\n",
              "                        [-2.6530e-02, -1.0041e-01, -1.8946e-03],\n",
              "                        [-7.9379e-02, -8.1308e-02, -5.8080e-03]],\n",
              "              \n",
              "                       [[ 1.5827e-02, -4.3168e-02,  6.2547e-02],\n",
              "                        [-6.4146e-02,  9.5645e-02,  7.2237e-02],\n",
              "                        [-8.8890e-02, -2.6235e-02,  4.7563e-03]],\n",
              "              \n",
              "                       [[ 1.5379e-02,  2.5000e-02,  4.1366e-02],\n",
              "                        [ 6.3140e-03, -5.1432e-02,  4.9879e-02],\n",
              "                        [-1.0111e-01, -6.2477e-02, -2.6387e-02]],\n",
              "              \n",
              "                       [[-5.1346e-02, -3.6876e-02, -8.6396e-02],\n",
              "                        [-2.2422e-02,  2.2532e-02, -6.8671e-02],\n",
              "                        [-5.4095e-03,  7.5457e-02, -1.0836e-02]],\n",
              "              \n",
              "                       [[ 2.9296e-03, -9.0935e-03,  2.1333e-02],\n",
              "                        [ 6.7023e-02,  9.9849e-02,  6.6941e-02],\n",
              "                        [ 1.0008e-01, -7.6234e-03, -9.4691e-02]],\n",
              "              \n",
              "                       [[-4.9972e-02,  7.1774e-02, -6.8331e-04],\n",
              "                        [-5.2393e-02, -8.0776e-02, -9.8647e-02],\n",
              "                        [-8.8966e-02, -2.1381e-02,  5.7807e-02]],\n",
              "              \n",
              "                       [[ 5.6989e-02, -1.0166e-01,  6.5752e-02],\n",
              "                        [-8.2484e-02, -2.2285e-02, -4.2741e-02],\n",
              "                        [-2.0303e-02, -2.0696e-02, -9.4589e-02]],\n",
              "              \n",
              "                       [[-9.1014e-02, -1.6494e-02,  1.3632e-03],\n",
              "                        [-4.7885e-02,  3.9708e-02, -9.4874e-02],\n",
              "                        [-7.1138e-03,  9.2699e-02, -4.2996e-02]],\n",
              "              \n",
              "                       [[ 9.5185e-02,  3.8174e-02, -9.5128e-02],\n",
              "                        [ 6.6692e-02, -1.2164e-02, -4.7055e-02],\n",
              "                        [ 8.4291e-02, -8.5181e-02,  1.1311e-02]],\n",
              "              \n",
              "                       [[-2.2069e-02,  7.5274e-02,  2.9424e-02],\n",
              "                        [ 5.0650e-02,  3.7226e-02, -2.5348e-02],\n",
              "                        [-2.2168e-02, -8.6866e-02,  5.7115e-02]]],\n",
              "              \n",
              "              \n",
              "                      [[[ 8.3693e-02,  7.2124e-02, -7.4353e-02],\n",
              "                        [ 4.7012e-03, -7.4307e-02, -5.8026e-02],\n",
              "                        [-6.1423e-02,  3.6023e-02, -6.2815e-02]],\n",
              "              \n",
              "                       [[-2.2997e-03,  4.4344e-03,  6.7949e-02],\n",
              "                        [-7.9681e-02, -7.2365e-02, -6.1207e-02],\n",
              "                        [ 7.3779e-02, -3.7891e-02,  8.8912e-02]],\n",
              "              \n",
              "                       [[ 3.8117e-02,  1.3348e-02, -7.8467e-04],\n",
              "                        [-2.0837e-02,  1.3225e-02, -2.4070e-02],\n",
              "                        [-7.4065e-04,  1.3449e-02, -8.2452e-02]],\n",
              "              \n",
              "                       [[-5.5248e-02,  8.5117e-02, -8.5545e-02],\n",
              "                        [-7.5690e-03,  1.0427e-01,  3.8078e-02],\n",
              "                        [ 2.9845e-03, -9.1349e-02,  5.2217e-02]],\n",
              "              \n",
              "                       [[-7.5081e-02, -2.9922e-02, -3.5367e-02],\n",
              "                        [-1.5610e-02,  1.1530e-03,  8.6942e-02],\n",
              "                        [ 1.3159e-02,  9.4414e-02,  6.4480e-02]],\n",
              "              \n",
              "                       [[-6.6641e-02,  4.7276e-02, -7.4513e-02],\n",
              "                        [-4.4675e-02,  3.1003e-02,  3.4805e-02],\n",
              "                        [ 7.9081e-02, -3.3933e-02,  1.6875e-04]],\n",
              "              \n",
              "                       [[ 5.4267e-02, -1.0194e-01,  7.6209e-02],\n",
              "                        [-8.7165e-02,  1.4528e-03, -1.7921e-02],\n",
              "                        [-5.5516e-02,  1.3932e-02,  8.7165e-02]],\n",
              "              \n",
              "                       [[-3.0813e-02, -6.2581e-02, -3.8984e-02],\n",
              "                        [-1.0448e-01,  4.7581e-02, -5.0624e-02],\n",
              "                        [-7.0344e-02, -6.0726e-02,  6.0606e-02]],\n",
              "              \n",
              "                       [[ 5.5822e-02,  8.0904e-02,  3.8234e-02],\n",
              "                        [-3.5202e-02, -2.9456e-02,  3.1141e-02],\n",
              "                        [ 8.6650e-02,  2.8660e-02, -4.9874e-02]],\n",
              "              \n",
              "                       [[-4.9551e-02, -9.9661e-02,  2.2773e-02],\n",
              "                        [-5.9154e-02, -9.3980e-02,  9.2431e-02],\n",
              "                        [-6.8454e-02, -1.1992e-02,  3.0199e-02]]],\n",
              "              \n",
              "              \n",
              "                      [[[ 3.3582e-03, -7.0928e-02, -8.5205e-02],\n",
              "                        [ 8.4020e-02,  1.7165e-02,  8.7450e-02],\n",
              "                        [-3.5337e-02,  3.1049e-02, -2.4105e-02]],\n",
              "              \n",
              "                       [[-4.6877e-03, -6.4199e-02,  3.5650e-02],\n",
              "                        [ 3.3327e-02, -2.1744e-03, -2.3707e-02],\n",
              "                        [-6.4977e-02,  7.2895e-02, -7.8469e-02]],\n",
              "              \n",
              "                       [[ 4.3183e-02, -3.5444e-02, -5.0857e-02],\n",
              "                        [ 1.8936e-02, -5.4756e-02,  2.4287e-02],\n",
              "                        [ 2.0700e-02, -7.8265e-02,  1.7550e-02]],\n",
              "              \n",
              "                       [[ 4.4897e-02,  4.1724e-02, -1.3269e-02],\n",
              "                        [-8.6413e-02, -1.6249e-02,  3.6609e-02],\n",
              "                        [-3.8461e-02,  4.0011e-02,  7.0199e-02]],\n",
              "              \n",
              "                       [[-5.5040e-02,  1.0395e-03,  4.3587e-02],\n",
              "                        [ 8.2618e-03,  8.8050e-03,  1.3162e-02],\n",
              "                        [-8.2867e-02,  8.2839e-03,  7.2993e-02]],\n",
              "              \n",
              "                       [[ 9.4986e-02,  6.1954e-02,  1.4125e-02],\n",
              "                        [ 4.9228e-02, -5.1279e-02, -8.7351e-02],\n",
              "                        [-9.0644e-02,  1.0516e-01,  6.6913e-02]],\n",
              "              \n",
              "                       [[-7.2862e-02,  4.1241e-02,  7.9602e-02],\n",
              "                        [ 1.0537e-01,  9.2169e-02,  8.1666e-02],\n",
              "                        [-2.4166e-02, -3.6992e-02,  8.6546e-02]],\n",
              "              \n",
              "                       [[ 5.9069e-02, -6.3433e-02,  9.4765e-02],\n",
              "                        [ 5.0929e-02,  5.7462e-02, -6.6068e-02],\n",
              "                        [ 3.0242e-02, -3.6953e-02,  8.2362e-02]],\n",
              "              \n",
              "                       [[-1.8967e-02,  4.1037e-02,  1.8723e-02],\n",
              "                        [ 4.4848e-02, -3.5821e-02,  5.1395e-02],\n",
              "                        [-7.3625e-02,  2.3807e-02, -7.1319e-02]],\n",
              "              \n",
              "                       [[-1.0399e-01, -8.4650e-02,  8.3217e-02],\n",
              "                        [ 5.7030e-02,  9.8897e-02,  8.4446e-02],\n",
              "                        [-9.4135e-02, -7.1935e-02, -1.7032e-02]]],\n",
              "              \n",
              "              \n",
              "                      [[[-6.8456e-02,  7.3196e-02, -7.9690e-02],\n",
              "                        [-5.1429e-02, -1.0183e-01, -5.9846e-02],\n",
              "                        [ 8.6697e-02,  8.6305e-02,  7.5456e-02]],\n",
              "              \n",
              "                       [[ 8.1389e-02,  9.3728e-02, -2.6991e-02],\n",
              "                        [ 4.6380e-02,  9.3912e-02,  3.4871e-02],\n",
              "                        [ 1.0538e-01,  5.4672e-02,  6.5527e-02]],\n",
              "              \n",
              "                       [[-3.6892e-02,  5.0578e-02,  1.2112e-02],\n",
              "                        [-2.5174e-02, -5.9420e-02, -5.9147e-02],\n",
              "                        [-8.1110e-02,  7.0764e-02,  7.4939e-02]],\n",
              "              \n",
              "                       [[-1.1997e-02, -6.0999e-02,  8.1471e-02],\n",
              "                        [ 6.7408e-02,  7.8355e-03, -4.9767e-02],\n",
              "                        [ 9.6876e-02,  4.3106e-02, -8.0021e-02]],\n",
              "              \n",
              "                       [[ 1.0089e-01,  8.0045e-02, -3.8421e-02],\n",
              "                        [ 5.9256e-02, -5.9892e-02, -1.6519e-02],\n",
              "                        [ 8.9503e-02,  4.3554e-03, -7.4547e-02]],\n",
              "              \n",
              "                       [[-3.5231e-02, -2.8613e-02, -2.0336e-02],\n",
              "                        [ 1.0088e-02,  9.7486e-02,  5.6436e-03],\n",
              "                        [-6.5084e-02,  5.4027e-03,  5.0542e-02]],\n",
              "              \n",
              "                       [[ 5.2287e-02, -9.6338e-02, -1.8862e-02],\n",
              "                        [-7.8334e-02, -4.4977e-02,  3.7978e-02],\n",
              "                        [-7.4854e-02,  3.9183e-02,  8.9469e-02]],\n",
              "              \n",
              "                       [[ 6.9136e-03, -7.0254e-02, -3.7767e-02],\n",
              "                        [ 2.3018e-02, -8.0355e-02,  5.2368e-02],\n",
              "                        [-9.5698e-02, -1.0133e-01, -1.0242e-01]],\n",
              "              \n",
              "                       [[-2.1384e-02,  7.0881e-02, -9.9768e-02],\n",
              "                        [ 8.7615e-02, -4.2166e-02,  3.0873e-02],\n",
              "                        [ 4.8070e-03, -9.5050e-02,  8.7419e-02]],\n",
              "              \n",
              "                       [[ 5.6757e-02,  1.0478e-01,  5.3254e-02],\n",
              "                        [-6.9577e-02,  8.7973e-02,  5.6652e-03],\n",
              "                        [ 4.9987e-02, -8.4520e-02, -3.0318e-02]]],\n",
              "              \n",
              "              \n",
              "                      [[[-1.0350e-01, -4.1056e-02,  2.2740e-02],\n",
              "                        [-8.2763e-02,  3.3601e-02,  5.6584e-02],\n",
              "                        [ 1.4684e-02, -7.0528e-02, -8.1726e-02]],\n",
              "              \n",
              "                       [[-3.2521e-02,  4.6270e-02,  1.0398e-01],\n",
              "                        [ 6.0613e-02, -1.1870e-02,  3.6958e-02],\n",
              "                        [-1.0341e-01, -9.0030e-02,  4.9185e-02]],\n",
              "              \n",
              "                       [[-5.9705e-02,  5.0712e-02, -7.4412e-02],\n",
              "                        [-5.2210e-02, -8.6824e-02,  5.5007e-02],\n",
              "                        [-1.0741e-02,  8.1123e-02,  6.5235e-02]],\n",
              "              \n",
              "                       [[ 5.8327e-02,  3.3896e-03, -3.2590e-02],\n",
              "                        [-2.2919e-02,  1.4009e-02,  5.2252e-02],\n",
              "                        [-7.3849e-02,  8.8468e-02, -1.1461e-02]],\n",
              "              \n",
              "                       [[-8.8327e-02, -5.7033e-02,  9.3268e-02],\n",
              "                        [ 9.6400e-02, -9.7638e-02,  7.4345e-02],\n",
              "                        [ 5.2827e-02,  6.2394e-02,  8.9232e-02]],\n",
              "              \n",
              "                       [[-5.6810e-02,  3.3286e-02,  4.3137e-02],\n",
              "                        [-3.1148e-02,  3.5276e-02, -3.0328e-02],\n",
              "                        [ 6.5170e-02, -2.9246e-02, -3.9296e-02]],\n",
              "              \n",
              "                       [[ 2.6537e-02,  3.7388e-02, -5.1500e-02],\n",
              "                        [ 9.3180e-03,  6.1088e-02, -1.0488e-02],\n",
              "                        [ 3.2080e-02, -2.5423e-02,  3.6946e-02]],\n",
              "              \n",
              "                       [[-7.6358e-02, -6.1984e-02, -5.3505e-02],\n",
              "                        [ 9.6872e-02, -2.8364e-02, -2.8781e-04],\n",
              "                        [-5.1070e-02,  1.0523e-01,  1.0295e-01]],\n",
              "              \n",
              "                       [[-7.9498e-02, -8.5452e-02, -7.9899e-02],\n",
              "                        [-5.0836e-04, -2.6869e-02, -6.8995e-02],\n",
              "                        [-3.7807e-02,  1.9915e-02, -5.5075e-02]],\n",
              "              \n",
              "                       [[ 2.3357e-02, -2.4172e-02, -5.1077e-02],\n",
              "                        [ 1.4482e-02,  8.6674e-02, -7.1265e-02],\n",
              "                        [ 4.8946e-03, -3.8872e-02,  1.0344e-01]]],\n",
              "              \n",
              "              \n",
              "                      [[[-1.0001e-01, -1.0105e-01,  1.0387e-01],\n",
              "                        [-6.6691e-02,  2.0209e-02, -9.0975e-03],\n",
              "                        [-2.2205e-02, -2.3543e-02,  6.6981e-02]],\n",
              "              \n",
              "                       [[ 5.0382e-03, -1.0263e-01, -6.2229e-02],\n",
              "                        [-3.5934e-02,  5.3044e-02, -6.8214e-02],\n",
              "                        [ 9.9392e-02, -2.3478e-02, -1.8927e-02]],\n",
              "              \n",
              "                       [[ 8.2594e-02,  5.2980e-02,  8.9400e-02],\n",
              "                        [ 6.0973e-02, -3.1976e-02, -6.9936e-02],\n",
              "                        [-7.8428e-03,  8.7241e-02, -3.5377e-02]],\n",
              "              \n",
              "                       [[-9.7753e-02,  4.3210e-02,  1.0261e-01],\n",
              "                        [-3.0008e-02, -8.7281e-02, -9.5612e-02],\n",
              "                        [ 2.6415e-02, -7.9816e-03, -5.3230e-02]],\n",
              "              \n",
              "                       [[ 2.1307e-02,  4.0030e-02,  8.3834e-02],\n",
              "                        [ 8.1838e-02, -1.5778e-02, -9.2946e-02],\n",
              "                        [-9.5250e-02,  9.8420e-02,  4.6597e-02]],\n",
              "              \n",
              "                       [[ 4.5949e-02, -9.1202e-02,  9.7611e-02],\n",
              "                        [ 9.9859e-02,  9.5170e-02, -8.8922e-02],\n",
              "                        [-3.9773e-02, -7.2497e-02,  9.9819e-02]],\n",
              "              \n",
              "                       [[-4.5292e-02, -4.8125e-02,  5.5225e-02],\n",
              "                        [-4.8762e-02, -5.1916e-02, -9.2203e-03],\n",
              "                        [-1.0132e-02, -8.2112e-02,  8.7876e-02]],\n",
              "              \n",
              "                       [[-4.6498e-02,  3.7390e-02,  9.1683e-02],\n",
              "                        [ 5.3160e-02,  1.4924e-02,  8.9688e-02],\n",
              "                        [ 1.4170e-02, -4.8768e-02,  9.9717e-02]],\n",
              "              \n",
              "                       [[ 2.4948e-02, -1.0285e-01, -3.0009e-02],\n",
              "                        [-7.1801e-02,  9.2418e-02, -1.7408e-02],\n",
              "                        [-9.6083e-02, -6.6264e-03,  6.6198e-02]],\n",
              "              \n",
              "                       [[ 2.7385e-02,  3.3331e-02,  9.7897e-03],\n",
              "                        [ 3.9299e-02, -2.5683e-02, -4.1932e-02],\n",
              "                        [-9.8527e-02, -7.9409e-02,  4.5685e-02]]],\n",
              "              \n",
              "              \n",
              "                      [[[-6.2414e-02,  1.5123e-02,  3.3646e-02],\n",
              "                        [ 7.4634e-03, -6.8342e-02,  1.0081e-01],\n",
              "                        [-6.1295e-02,  8.6699e-02, -8.3854e-02]],\n",
              "              \n",
              "                       [[-2.5356e-02,  5.7339e-02, -4.3068e-02],\n",
              "                        [ 8.8548e-02, -7.2538e-02, -8.8520e-02],\n",
              "                        [-4.7531e-02,  1.7039e-02,  9.7056e-02]],\n",
              "              \n",
              "                       [[-5.0322e-02,  3.7697e-02, -2.6427e-02],\n",
              "                        [-2.2859e-02,  7.7508e-02, -8.1691e-02],\n",
              "                        [ 1.1196e-02,  9.9128e-02, -1.4485e-02]],\n",
              "              \n",
              "                       [[ 8.1844e-02, -3.2461e-02,  8.4850e-02],\n",
              "                        [-1.0197e-01, -1.5192e-02, -1.8515e-02],\n",
              "                        [ 3.4162e-02,  4.1355e-02,  8.0935e-02]],\n",
              "              \n",
              "                       [[-1.5705e-02, -4.1800e-03,  7.2185e-02],\n",
              "                        [-2.8521e-02,  9.2405e-02, -7.0183e-02],\n",
              "                        [-1.1406e-02, -5.6616e-03,  4.7035e-02]],\n",
              "              \n",
              "                       [[ 7.2066e-02, -1.6708e-02, -8.7330e-02],\n",
              "                        [ 5.2229e-02,  3.1531e-02,  4.2343e-02],\n",
              "                        [-6.5024e-02,  6.7841e-02,  9.9839e-02]],\n",
              "              \n",
              "                       [[ 9.1465e-03, -9.8457e-02,  7.3996e-02],\n",
              "                        [-7.8156e-02,  2.4231e-02,  1.5318e-02],\n",
              "                        [-4.9335e-02,  3.6703e-02, -9.4281e-02]],\n",
              "              \n",
              "                       [[ 2.4008e-02, -6.6824e-02, -1.1398e-02],\n",
              "                        [ 1.3559e-02,  8.9803e-02, -5.0293e-02],\n",
              "                        [ 6.7529e-02, -1.3391e-02, -5.0062e-02]],\n",
              "              \n",
              "                       [[-9.1790e-02, -9.6715e-02,  1.0294e-01],\n",
              "                        [-2.6289e-02,  5.2651e-03,  2.8578e-02],\n",
              "                        [ 7.1650e-02,  8.9964e-02,  8.5489e-02]],\n",
              "              \n",
              "                       [[-7.8096e-02, -1.6888e-02, -6.2375e-02],\n",
              "                        [-6.0226e-02,  2.5004e-02,  9.8942e-02],\n",
              "                        [-8.4444e-02,  6.3794e-02, -5.4651e-02]]],\n",
              "              \n",
              "              \n",
              "                      [[[-2.0531e-02,  8.3671e-02, -2.3840e-02],\n",
              "                        [ 9.5981e-03, -7.3684e-02,  8.9729e-02],\n",
              "                        [-1.3626e-02, -7.7095e-02,  3.0865e-02]],\n",
              "              \n",
              "                       [[-7.4948e-02, -8.3643e-02,  6.4214e-03],\n",
              "                        [ 8.3573e-02, -2.9829e-02,  4.9613e-02],\n",
              "                        [ 9.0580e-02,  6.9914e-02, -5.5294e-02]],\n",
              "              \n",
              "                       [[-1.1555e-02, -3.3171e-02, -8.4762e-02],\n",
              "                        [ 4.3553e-05,  7.9314e-02,  8.8809e-02],\n",
              "                        [ 9.8348e-03,  2.3941e-02, -4.5634e-02]],\n",
              "              \n",
              "                       [[ 7.9567e-02, -4.3862e-02, -7.3223e-02],\n",
              "                        [ 1.6232e-02,  6.3181e-02, -9.5036e-02],\n",
              "                        [ 9.5287e-02,  3.7919e-02, -7.3851e-02]],\n",
              "              \n",
              "                       [[-2.2706e-02,  9.1451e-02, -8.0874e-02],\n",
              "                        [-3.0809e-02,  3.4572e-02, -9.2347e-02],\n",
              "                        [ 5.7785e-02,  5.4871e-02,  6.5375e-02]],\n",
              "              \n",
              "                       [[-6.7203e-02,  1.0499e-01, -6.2483e-02],\n",
              "                        [ 1.0523e-01, -1.0116e-01, -9.3916e-02],\n",
              "                        [ 6.4742e-02,  1.1017e-02,  6.0810e-03]],\n",
              "              \n",
              "                       [[-5.8371e-02, -4.4217e-02, -3.0820e-02],\n",
              "                        [-1.0268e-01,  5.4780e-03,  1.8643e-02],\n",
              "                        [-8.9242e-05,  3.4040e-02,  1.0002e-01]],\n",
              "              \n",
              "                       [[ 2.8027e-02, -3.8587e-02, -4.3381e-02],\n",
              "                        [-6.7441e-02, -7.3072e-02, -1.6976e-02],\n",
              "                        [-1.8643e-02,  4.6893e-02, -4.5056e-02]],\n",
              "              \n",
              "                       [[ 8.4033e-02, -7.3964e-02,  2.9959e-04],\n",
              "                        [ 9.4754e-02,  1.0482e-01, -6.1060e-02],\n",
              "                        [ 1.8776e-02,  1.2451e-02, -4.9421e-02]],\n",
              "              \n",
              "                       [[-3.6418e-02,  2.8551e-02, -7.3298e-02],\n",
              "                        [ 1.7392e-02,  4.5613e-02, -4.1539e-02],\n",
              "                        [ 8.7557e-02, -6.9370e-03,  4.7826e-02]]],\n",
              "              \n",
              "              \n",
              "                      [[[ 1.0439e-01, -3.2220e-02,  5.7280e-02],\n",
              "                        [-3.0150e-02, -1.5397e-02, -1.7864e-02],\n",
              "                        [-6.5486e-04, -3.9820e-02,  2.4707e-02]],\n",
              "              \n",
              "                       [[ 3.9719e-03,  6.6818e-02, -2.1335e-02],\n",
              "                        [ 1.0570e-02, -3.9211e-02, -8.8275e-02],\n",
              "                        [ 4.2656e-02,  1.3488e-02, -4.2215e-02]],\n",
              "              \n",
              "                       [[-3.5639e-02,  2.7567e-02, -1.9060e-02],\n",
              "                        [ 6.8882e-02,  5.9707e-03,  3.9817e-02],\n",
              "                        [ 4.5926e-02, -2.5864e-02,  4.5607e-02]],\n",
              "              \n",
              "                       [[ 7.7785e-02,  4.8508e-03,  2.0628e-02],\n",
              "                        [ 3.8301e-03,  7.2982e-02, -4.4503e-02],\n",
              "                        [-5.6032e-02,  4.5932e-02, -9.1739e-02]],\n",
              "              \n",
              "                       [[ 1.6900e-03, -4.8477e-02,  6.9574e-02],\n",
              "                        [-9.8140e-02,  6.3913e-02,  1.0429e-01],\n",
              "                        [ 2.1329e-02, -7.0231e-03,  1.0376e-01]],\n",
              "              \n",
              "                       [[-4.5047e-02, -8.4468e-03, -4.6159e-02],\n",
              "                        [-1.4551e-02,  2.2910e-02,  1.4079e-02],\n",
              "                        [-1.9909e-02, -1.0539e-01,  5.3974e-03]],\n",
              "              \n",
              "                       [[-3.1224e-03,  1.5857e-02,  8.0770e-02],\n",
              "                        [ 1.0246e-01, -6.2537e-02, -6.5727e-03],\n",
              "                        [-4.2235e-02, -9.7150e-02, -7.6702e-02]],\n",
              "              \n",
              "                       [[ 9.8933e-02,  6.1460e-02,  5.6621e-02],\n",
              "                        [ 5.8580e-02, -8.3745e-02,  1.1070e-02],\n",
              "                        [ 9.8106e-02, -5.8827e-02,  9.3771e-02]],\n",
              "              \n",
              "                       [[ 2.7706e-02,  7.4160e-02, -4.5156e-02],\n",
              "                        [ 4.8596e-02, -9.3444e-02, -6.6930e-03],\n",
              "                        [ 3.5159e-02,  3.1612e-02,  8.8207e-02]],\n",
              "              \n",
              "                       [[ 1.0358e-01,  9.5897e-02,  7.0771e-02],\n",
              "                        [ 7.4109e-02, -1.3601e-02, -8.1803e-02],\n",
              "                        [-3.9131e-02, -1.1834e-02, -5.6962e-02]]],\n",
              "              \n",
              "              \n",
              "                      [[[ 5.3882e-02,  3.7002e-02,  1.7008e-02],\n",
              "                        [ 2.5463e-02,  9.2597e-02,  3.8393e-02],\n",
              "                        [-9.2438e-02, -7.6515e-02,  4.6459e-02]],\n",
              "              \n",
              "                       [[ 1.4365e-02,  5.1407e-02, -1.0527e-01],\n",
              "                        [-9.7279e-02,  6.4640e-02,  6.7425e-02],\n",
              "                        [-9.5365e-02,  4.0012e-02, -8.2308e-02]],\n",
              "              \n",
              "                       [[ 7.9827e-02,  3.3076e-02,  1.0423e-01],\n",
              "                        [-1.0393e-01, -1.0147e-01,  7.1267e-02],\n",
              "                        [ 9.3585e-02,  6.4582e-02,  7.0079e-02]],\n",
              "              \n",
              "                       [[-8.8783e-02,  7.6297e-02, -9.9522e-02],\n",
              "                        [ 2.3549e-02, -6.9047e-02, -4.1868e-02],\n",
              "                        [ 1.8665e-02, -4.1445e-02, -1.6678e-02]],\n",
              "              \n",
              "                       [[-9.9909e-02, -9.9388e-02,  4.0832e-02],\n",
              "                        [-4.4617e-02, -6.4130e-02, -4.1593e-02],\n",
              "                        [-8.6179e-02, -8.4264e-02,  6.3074e-02]],\n",
              "              \n",
              "                       [[ 5.3573e-02,  1.4041e-02, -5.7581e-02],\n",
              "                        [ 3.5070e-02,  4.7355e-03, -7.5333e-02],\n",
              "                        [ 2.2683e-02,  9.5980e-02, -1.0368e-01]],\n",
              "              \n",
              "                       [[-1.0482e-01,  1.3506e-02,  7.9376e-02],\n",
              "                        [-6.4140e-02,  2.3204e-02,  7.4101e-02],\n",
              "                        [ 3.2499e-02,  2.2812e-02,  1.0517e-01]],\n",
              "              \n",
              "                       [[ 6.8671e-02, -5.9285e-02,  9.1112e-03],\n",
              "                        [ 5.3851e-02,  9.2961e-02, -1.0488e-01],\n",
              "                        [ 5.7080e-02, -3.0604e-02, -1.0322e-01]],\n",
              "              \n",
              "                       [[ 2.3398e-02, -5.7386e-02,  1.4938e-02],\n",
              "                        [-6.8437e-02, -7.9324e-02, -8.9441e-03],\n",
              "                        [-3.5410e-02,  6.1650e-02,  9.0882e-03]],\n",
              "              \n",
              "                       [[ 8.2278e-02,  1.9754e-02, -3.3896e-02],\n",
              "                        [ 7.1397e-02,  5.7601e-03,  1.9784e-02],\n",
              "                        [-3.3902e-02,  3.7829e-04, -2.0267e-02]]]], device='cuda:0')),\n",
              "             ('conv_block_1.2.bias',\n",
              "              tensor([-0.0090, -0.0822, -0.0006, -0.0875, -0.0227,  0.0611, -0.0733, -0.0711,\n",
              "                      -0.0257, -0.0289], device='cuda:0')),\n",
              "             ('conv_block_2.0.weight',\n",
              "              tensor([[[[ 1.7844e-02,  1.7500e-02,  5.3453e-02],\n",
              "                        [-7.2614e-02, -7.4389e-03,  5.8954e-02],\n",
              "                        [ 9.1176e-02, -7.6891e-03, -6.0992e-02]],\n",
              "              \n",
              "                       [[ 3.0301e-02,  6.0028e-02, -6.5854e-02],\n",
              "                        [-6.1168e-02,  4.6591e-02, -7.3856e-03],\n",
              "                        [-9.9559e-02, -6.0777e-02,  4.2747e-02]],\n",
              "              \n",
              "                       [[-3.5752e-02,  7.2757e-02,  8.3330e-02],\n",
              "                        [ 1.5334e-02, -8.3352e-03, -3.3460e-02],\n",
              "                        [-5.3301e-03,  1.9187e-02, -8.0517e-02]],\n",
              "              \n",
              "                       [[-2.5192e-02, -8.7680e-02,  6.4695e-02],\n",
              "                        [-6.7128e-02,  9.6296e-02, -2.7172e-02],\n",
              "                        [-6.0386e-02,  5.0644e-02,  1.5714e-02]],\n",
              "              \n",
              "                       [[ 7.2991e-02,  4.4005e-02, -1.0154e-01],\n",
              "                        [ 6.6670e-02, -1.9850e-02, -4.6588e-02],\n",
              "                        [ 6.6941e-02,  7.6878e-02, -9.2647e-02]],\n",
              "              \n",
              "                       [[-9.5315e-03,  8.6563e-02,  4.0824e-02],\n",
              "                        [ 8.8804e-02, -3.6124e-02, -5.8148e-02],\n",
              "                        [ 9.0642e-02,  4.3937e-02,  1.0119e-01]],\n",
              "              \n",
              "                       [[-4.4029e-02, -6.7680e-02, -1.2355e-02],\n",
              "                        [-9.9251e-02,  4.1318e-02,  7.7749e-02],\n",
              "                        [ 2.5304e-02, -1.0415e-02,  5.2263e-02]],\n",
              "              \n",
              "                       [[-6.6909e-02,  1.0312e-01, -1.0481e-01],\n",
              "                        [-1.0098e-01, -2.4908e-02,  8.6103e-02],\n",
              "                        [ 1.0554e-02,  4.0482e-02, -7.7266e-02]],\n",
              "              \n",
              "                       [[ 3.8441e-02, -1.1779e-02,  4.2251e-02],\n",
              "                        [ 7.4445e-02,  4.5819e-02, -8.9666e-03],\n",
              "                        [-6.4931e-03, -6.6111e-02, -3.8127e-02]],\n",
              "              \n",
              "                       [[ 6.8499e-02, -4.2269e-02,  6.5463e-02],\n",
              "                        [-4.1798e-02, -2.4550e-02,  2.2433e-03],\n",
              "                        [-9.6730e-02, -1.0525e-03, -1.0625e-02]]],\n",
              "              \n",
              "              \n",
              "                      [[[-9.4696e-03, -2.1072e-02,  8.3102e-02],\n",
              "                        [ 7.7791e-02, -7.1442e-02,  4.8965e-02],\n",
              "                        [-8.2681e-02, -8.9737e-02,  3.2222e-02]],\n",
              "              \n",
              "                       [[ 1.5491e-03, -4.9174e-02, -1.0167e-01],\n",
              "                        [-4.0808e-02,  3.5207e-02, -9.7567e-02],\n",
              "                        [-1.0240e-01,  1.3374e-02, -7.5937e-02]],\n",
              "              \n",
              "                       [[-9.2347e-02, -4.0613e-02, -1.6971e-02],\n",
              "                        [-9.5786e-02, -7.0385e-02,  6.9115e-03],\n",
              "                        [-9.9398e-02, -1.4816e-02, -6.8063e-02]],\n",
              "              \n",
              "                       [[-7.3074e-02,  4.1429e-02, -8.1132e-02],\n",
              "                        [-7.9883e-02,  6.0113e-02,  1.9708e-02],\n",
              "                        [ 9.5998e-02, -2.8175e-02, -5.0914e-02]],\n",
              "              \n",
              "                       [[-9.7553e-03,  5.3330e-04,  8.0390e-02],\n",
              "                        [-1.0500e-01, -7.5052e-03,  4.6628e-02],\n",
              "                        [-5.8047e-02, -5.3563e-02,  5.0941e-02]],\n",
              "              \n",
              "                       [[-1.0100e-01,  2.4977e-02, -8.1606e-02],\n",
              "                        [ 5.2395e-02, -9.0129e-02,  6.4806e-02],\n",
              "                        [-9.9784e-02, -8.8604e-02,  1.5534e-03]],\n",
              "              \n",
              "                       [[ 8.3061e-02, -9.0272e-02, -4.7019e-02],\n",
              "                        [ 9.2579e-02, -1.7677e-02,  4.3669e-02],\n",
              "                        [-1.0140e-01, -3.3149e-02, -5.3530e-02]],\n",
              "              \n",
              "                       [[ 8.8866e-02,  4.3749e-02, -7.6915e-02],\n",
              "                        [ 1.6995e-02, -1.2115e-03, -4.3309e-02],\n",
              "                        [-6.0197e-02, -3.4979e-02,  8.3086e-02]],\n",
              "              \n",
              "                       [[-7.5563e-02, -7.5088e-02, -3.2521e-02],\n",
              "                        [ 1.8337e-03,  2.8694e-02,  3.1631e-03],\n",
              "                        [-2.5375e-02, -6.3915e-02, -1.8914e-02]],\n",
              "              \n",
              "                       [[-4.2433e-02,  8.5163e-02, -1.0261e-01],\n",
              "                        [-6.7236e-02, -8.5760e-02, -1.9264e-02],\n",
              "                        [ 8.2143e-02,  9.2395e-02, -9.1765e-02]]],\n",
              "              \n",
              "              \n",
              "                      [[[-4.5671e-03,  6.1872e-02,  4.6464e-02],\n",
              "                        [ 8.6341e-02, -2.9239e-03, -7.0824e-02],\n",
              "                        [ 6.9731e-02, -3.6146e-02,  5.4579e-02]],\n",
              "              \n",
              "                       [[-2.5977e-02,  4.4809e-02,  9.4808e-02],\n",
              "                        [ 9.8015e-02, -9.5929e-02, -6.9726e-02],\n",
              "                        [-4.3583e-02, -6.7220e-02,  1.0114e-01]],\n",
              "              \n",
              "                       [[-9.3096e-03, -6.9922e-02, -4.6906e-02],\n",
              "                        [-5.8224e-02,  4.3006e-02, -9.1943e-02],\n",
              "                        [-9.8284e-02, -1.0391e-01,  4.5381e-02]],\n",
              "              \n",
              "                       [[ 5.2120e-02, -6.5467e-02,  2.6139e-02],\n",
              "                        [ 7.7812e-02,  1.5316e-02, -2.2303e-02],\n",
              "                        [ 7.7879e-03, -1.1303e-02,  5.3073e-02]],\n",
              "              \n",
              "                       [[-7.1574e-02,  5.3453e-02,  5.9411e-02],\n",
              "                        [-6.3865e-02,  8.6073e-02,  1.0353e-01],\n",
              "                        [-4.1555e-02, -2.9525e-02,  5.2531e-02]],\n",
              "              \n",
              "                       [[-8.2580e-02,  4.1685e-02,  2.4592e-02],\n",
              "                        [ 6.6443e-02, -9.1559e-02, -8.7572e-02],\n",
              "                        [ 4.7342e-02,  3.7970e-02, -9.8111e-02]],\n",
              "              \n",
              "                       [[-5.8782e-02, -9.6447e-02, -7.5518e-02],\n",
              "                        [-4.7561e-02,  8.7230e-02, -2.0982e-02],\n",
              "                        [ 6.0542e-02,  1.0011e-01,  4.8038e-02]],\n",
              "              \n",
              "                       [[-9.4363e-02,  5.3044e-02,  4.0207e-02],\n",
              "                        [ 8.1699e-02, -1.0398e-01,  6.4828e-02],\n",
              "                        [ 8.6282e-02, -9.8069e-02,  1.1029e-02]],\n",
              "              \n",
              "                       [[ 8.9985e-02, -7.6665e-02,  3.4587e-02],\n",
              "                        [ 4.6578e-02,  2.7627e-02,  1.0481e-01],\n",
              "                        [ 8.6307e-02,  9.0436e-02, -1.3139e-02]],\n",
              "              \n",
              "                       [[ 8.8408e-02, -9.8232e-02, -5.6882e-02],\n",
              "                        [-2.2545e-02, -3.1313e-02,  9.7366e-02],\n",
              "                        [ 4.9718e-02,  6.7864e-02,  7.1700e-02]]],\n",
              "              \n",
              "              \n",
              "                      [[[-7.8741e-02, -1.2209e-02,  1.5392e-02],\n",
              "                        [ 2.7416e-02,  5.4205e-02, -4.1943e-02],\n",
              "                        [-3.1785e-02,  8.8200e-02, -2.8290e-02]],\n",
              "              \n",
              "                       [[-7.3222e-02,  7.1472e-02,  7.1378e-02],\n",
              "                        [-3.3053e-02, -2.1073e-02, -7.7779e-02],\n",
              "                        [-8.8027e-02,  3.9639e-02, -4.5030e-02]],\n",
              "              \n",
              "                       [[ 8.3916e-02, -8.4403e-02, -1.4570e-02],\n",
              "                        [ 2.2760e-03,  5.4175e-02,  8.5311e-02],\n",
              "                        [ 7.1384e-02,  4.6401e-02, -4.8382e-02]],\n",
              "              \n",
              "                       [[-7.5278e-02, -9.4300e-02,  5.2288e-03],\n",
              "                        [ 1.0223e-01, -2.0022e-02, -4.4376e-03],\n",
              "                        [-7.6600e-02,  3.2362e-02,  6.6828e-02]],\n",
              "              \n",
              "                       [[-1.0392e-01, -7.4221e-02,  7.8077e-02],\n",
              "                        [ 2.4957e-02, -6.5719e-03,  1.8843e-02],\n",
              "                        [-1.6027e-02, -7.3677e-02, -9.8498e-02]],\n",
              "              \n",
              "                       [[ 6.9329e-02, -1.2537e-02, -3.9148e-02],\n",
              "                        [-2.7208e-02, -5.7493e-02, -3.1220e-02],\n",
              "                        [-9.0485e-02,  7.8882e-02,  4.3043e-02]],\n",
              "              \n",
              "                       [[-5.3160e-02, -3.5978e-02,  4.7291e-02],\n",
              "                        [-3.9034e-02,  2.7796e-02,  2.9024e-02],\n",
              "                        [-6.6354e-02,  2.6405e-02,  6.4494e-03]],\n",
              "              \n",
              "                       [[ 9.2063e-02, -3.8139e-02, -2.7097e-02],\n",
              "                        [ 9.0821e-02, -8.6077e-02,  7.6157e-03],\n",
              "                        [ 1.0156e-01, -4.7262e-02,  1.0105e-01]],\n",
              "              \n",
              "                       [[ 9.3534e-02,  9.8066e-02, -1.0058e-02],\n",
              "                        [ 9.5357e-02, -4.5929e-02, -3.6082e-02],\n",
              "                        [ 3.9869e-02,  2.2267e-02,  5.8110e-02]],\n",
              "              \n",
              "                       [[ 1.0017e-01, -6.5985e-02,  5.5944e-02],\n",
              "                        [ 3.5266e-02,  5.5611e-02,  4.9982e-02],\n",
              "                        [-3.9430e-02, -8.3311e-02,  8.4368e-02]]],\n",
              "              \n",
              "              \n",
              "                      [[[-6.0108e-02,  6.7391e-02, -1.0042e-01],\n",
              "                        [-1.8236e-02,  1.1172e-03,  1.8238e-02],\n",
              "                        [ 8.5204e-03,  3.3215e-02, -1.1737e-02]],\n",
              "              \n",
              "                       [[ 2.5815e-02,  1.0431e-01, -6.8205e-02],\n",
              "                        [-5.7550e-03, -4.0237e-02,  9.2489e-02],\n",
              "                        [ 9.0235e-02, -2.8744e-03, -3.6538e-02]],\n",
              "              \n",
              "                       [[-6.5129e-02,  7.5424e-02, -7.2589e-03],\n",
              "                        [ 9.9275e-02,  6.0111e-02,  9.2265e-02],\n",
              "                        [ 8.3371e-02, -6.8499e-02,  3.0854e-02]],\n",
              "              \n",
              "                       [[-4.3709e-02,  5.2889e-02, -9.4773e-03],\n",
              "                        [ 9.1253e-03, -7.2902e-02, -9.4207e-02],\n",
              "                        [ 3.9694e-02,  2.4496e-02,  9.1561e-03]],\n",
              "              \n",
              "                       [[ 7.1593e-02, -4.4016e-02,  3.7418e-02],\n",
              "                        [-5.8055e-02,  2.1841e-02, -2.4065e-02],\n",
              "                        [ 7.3821e-02,  9.2179e-02,  9.1550e-02]],\n",
              "              \n",
              "                       [[ 4.7418e-03,  6.2159e-02, -1.0532e-01],\n",
              "                        [-6.1832e-02,  1.8839e-02,  5.8786e-04],\n",
              "                        [-8.2754e-02, -4.6655e-02, -4.9232e-02]],\n",
              "              \n",
              "                       [[-1.0444e-01,  1.0053e-02,  7.1857e-02],\n",
              "                        [ 4.2782e-02, -5.0083e-02, -9.6794e-02],\n",
              "                        [-8.5042e-02,  1.9553e-03,  7.2512e-02]],\n",
              "              \n",
              "                       [[-4.2688e-02, -5.7358e-02, -5.6231e-02],\n",
              "                        [-9.1251e-03, -1.0010e-01, -9.3018e-02],\n",
              "                        [ 1.0376e-01, -5.0271e-02, -1.9012e-02]],\n",
              "              \n",
              "                       [[-2.8203e-02, -9.2603e-02, -1.8583e-02],\n",
              "                        [ 3.2268e-02, -4.2802e-02, -4.4925e-03],\n",
              "                        [-5.0423e-04, -1.0494e-01,  7.6603e-02]],\n",
              "              \n",
              "                       [[ 8.5147e-02,  7.1869e-02, -3.4616e-02],\n",
              "                        [ 5.5083e-02, -9.8760e-02, -2.6077e-02],\n",
              "                        [-2.1439e-02, -3.7225e-02,  4.4272e-02]]],\n",
              "              \n",
              "              \n",
              "                      [[[-4.8031e-02, -1.2217e-02, -3.0437e-02],\n",
              "                        [-9.8988e-02, -1.7407e-02, -8.9332e-02],\n",
              "                        [ 6.1465e-02,  5.6337e-02,  9.8747e-02]],\n",
              "              \n",
              "                       [[-3.5397e-02,  5.3603e-03,  2.0649e-02],\n",
              "                        [ 1.0522e-01,  9.6620e-02, -5.4553e-02],\n",
              "                        [-8.9693e-02, -9.5004e-02, -5.0761e-02]],\n",
              "              \n",
              "                       [[ 8.8627e-02,  3.5402e-02,  1.0170e-01],\n",
              "                        [ 7.8132e-02,  1.5282e-03, -6.5330e-02],\n",
              "                        [ 1.0293e-01,  8.4556e-02,  4.5636e-02]],\n",
              "              \n",
              "                       [[-5.7581e-02,  8.3039e-02,  9.5939e-03],\n",
              "                        [ 6.9700e-02,  4.3994e-02,  5.5973e-02],\n",
              "                        [-9.2494e-02, -5.8447e-02,  6.3221e-02]],\n",
              "              \n",
              "                       [[-2.1961e-02, -9.1704e-02,  9.5859e-02],\n",
              "                        [-2.2795e-03,  8.5032e-02, -8.2390e-02],\n",
              "                        [ 3.6292e-02, -3.9704e-02, -4.4358e-02]],\n",
              "              \n",
              "                       [[-2.1985e-02, -3.9017e-02,  5.7760e-02],\n",
              "                        [-2.0028e-02,  7.9923e-02,  2.4053e-02],\n",
              "                        [-1.6287e-02, -6.0884e-02, -9.6520e-02]],\n",
              "              \n",
              "                       [[-3.0750e-02, -9.7612e-02, -1.9529e-02],\n",
              "                        [ 1.7228e-03, -6.7930e-03, -5.1779e-02],\n",
              "                        [ 7.3161e-02,  5.9364e-02, -2.5970e-02]],\n",
              "              \n",
              "                       [[-4.1648e-02,  6.6270e-02,  9.1709e-02],\n",
              "                        [-9.6517e-02, -2.2775e-02, -9.7822e-03],\n",
              "                        [-3.8165e-02,  8.9989e-02, -1.5570e-02]],\n",
              "              \n",
              "                       [[ 8.9371e-02,  5.2110e-04, -1.1434e-02],\n",
              "                        [-6.1485e-02, -3.5049e-02,  3.3966e-02],\n",
              "                        [ 4.6626e-02, -3.7505e-03,  1.0044e-01]],\n",
              "              \n",
              "                       [[-7.2957e-02,  4.0415e-02,  9.4940e-02],\n",
              "                        [-1.8329e-02,  8.3685e-02,  1.7376e-03],\n",
              "                        [-7.8935e-02, -5.7829e-02,  3.9235e-02]]],\n",
              "              \n",
              "              \n",
              "                      [[[-4.5616e-02,  2.5352e-02,  1.0375e-01],\n",
              "                        [ 3.5805e-02, -9.8652e-03,  2.6348e-02],\n",
              "                        [-6.0731e-02, -8.8570e-02, -7.9236e-02]],\n",
              "              \n",
              "                       [[-8.8449e-02,  2.1632e-02,  2.0532e-02],\n",
              "                        [-4.4796e-02, -1.0311e-01,  5.7101e-02],\n",
              "                        [-5.9810e-02, -1.7598e-02, -8.8384e-02]],\n",
              "              \n",
              "                       [[-5.9467e-02,  4.3973e-02, -9.8213e-02],\n",
              "                        [-6.0109e-02,  7.9029e-02, -5.4059e-02],\n",
              "                        [-4.3867e-02, -2.9596e-02,  4.5058e-02]],\n",
              "              \n",
              "                       [[-6.9145e-02,  1.0569e-02,  4.3049e-02],\n",
              "                        [-7.6520e-03,  1.9060e-02, -8.0411e-02],\n",
              "                        [ 4.7655e-02,  3.9395e-02, -1.3222e-02]],\n",
              "              \n",
              "                       [[-8.7160e-02,  4.2161e-02,  6.8784e-02],\n",
              "                        [-1.8437e-02,  4.9683e-02,  3.9071e-02],\n",
              "                        [-4.2160e-02, -7.3175e-03,  1.0493e-01]],\n",
              "              \n",
              "                       [[ 4.9764e-04, -8.3918e-02, -7.6873e-03],\n",
              "                        [ 5.2440e-02, -3.4408e-02, -5.5201e-02],\n",
              "                        [ 8.6834e-02,  5.5763e-02, -1.7908e-02]],\n",
              "              \n",
              "                       [[ 5.3852e-03, -1.1148e-02,  2.4472e-02],\n",
              "                        [ 3.7462e-03, -6.3787e-02,  1.9530e-02],\n",
              "                        [ 2.7570e-03,  6.8151e-03, -4.0170e-02]],\n",
              "              \n",
              "                       [[ 2.7008e-02, -8.5239e-02,  3.1509e-02],\n",
              "                        [ 5.7121e-02, -1.1601e-02, -8.1882e-02],\n",
              "                        [-3.8318e-04,  1.4963e-04, -9.1095e-02]],\n",
              "              \n",
              "                       [[-7.4555e-02,  9.7497e-02,  7.8827e-02],\n",
              "                        [ 5.8418e-02,  7.3023e-02,  4.0579e-02],\n",
              "                        [ 5.9323e-02,  6.9815e-02, -2.4624e-02]],\n",
              "              \n",
              "                       [[-1.3400e-02,  7.5162e-02, -3.7961e-05],\n",
              "                        [-6.8588e-02, -8.1734e-02,  5.8953e-02],\n",
              "                        [ 8.7313e-02,  8.1862e-02,  1.7542e-02]]],\n",
              "              \n",
              "              \n",
              "                      [[[ 7.2762e-02, -9.6780e-02, -7.5943e-02],\n",
              "                        [-1.0143e-01,  8.4927e-02, -9.5380e-04],\n",
              "                        [-4.8537e-02,  3.5668e-02, -3.9458e-02]],\n",
              "              \n",
              "                       [[-6.7604e-02,  4.0656e-02,  1.9300e-02],\n",
              "                        [-7.5486e-02, -6.9429e-02,  4.9423e-02],\n",
              "                        [ 8.0151e-02,  8.5811e-03, -5.2945e-02]],\n",
              "              \n",
              "                       [[ 5.0899e-02,  1.8384e-02, -9.2284e-02],\n",
              "                        [-6.8310e-02,  2.3072e-02,  6.5225e-02],\n",
              "                        [-3.3864e-02,  5.0969e-02, -6.5281e-02]],\n",
              "              \n",
              "                       [[ 1.0087e-01,  7.5109e-02,  1.9744e-02],\n",
              "                        [ 4.6896e-02,  3.6699e-02, -6.2202e-02],\n",
              "                        [-9.1916e-04,  2.8108e-02, -2.3792e-02]],\n",
              "              \n",
              "                       [[ 1.0108e-01, -4.0650e-02, -9.4138e-02],\n",
              "                        [-5.0183e-02, -9.7829e-02,  8.6862e-02],\n",
              "                        [-4.7319e-02, -7.4163e-02, -1.1395e-02]],\n",
              "              \n",
              "                       [[-7.1026e-02, -5.5063e-02,  5.3739e-02],\n",
              "                        [-7.9141e-02,  4.9710e-02,  7.6868e-02],\n",
              "                        [-2.3644e-04,  4.6806e-02, -5.9046e-02]],\n",
              "              \n",
              "                       [[ 8.2200e-02,  1.0240e-01,  2.5049e-02],\n",
              "                        [ 9.6057e-02, -1.0469e-01, -1.1574e-02],\n",
              "                        [ 2.0944e-02, -9.1620e-02,  5.1295e-02]],\n",
              "              \n",
              "                       [[-4.0173e-02, -3.8125e-02, -8.3633e-02],\n",
              "                        [ 4.3093e-02, -7.6699e-02, -2.2368e-02],\n",
              "                        [ 4.6826e-02,  7.9410e-02,  2.3836e-02]],\n",
              "              \n",
              "                       [[-3.9322e-02, -4.5849e-02,  5.9164e-02],\n",
              "                        [ 1.9557e-02,  8.8734e-02,  3.9696e-02],\n",
              "                        [ 8.4916e-02, -8.4940e-02,  8.4741e-02]],\n",
              "              \n",
              "                       [[-4.8431e-02, -2.8216e-02,  6.3091e-04],\n",
              "                        [-1.9768e-02,  2.0851e-02,  9.3930e-02],\n",
              "                        [-6.2980e-02,  3.2570e-02, -8.4718e-02]]],\n",
              "              \n",
              "              \n",
              "                      [[[ 1.6551e-02,  8.6837e-02,  7.1076e-02],\n",
              "                        [ 9.0269e-02,  5.7061e-02, -8.7210e-03],\n",
              "                        [ 2.7522e-02, -4.4046e-02,  8.9474e-02]],\n",
              "              \n",
              "                       [[ 5.2779e-02, -7.7151e-02,  9.1143e-02],\n",
              "                        [-1.5642e-03, -4.6857e-03, -2.8849e-02],\n",
              "                        [-2.7811e-02,  5.2758e-03, -5.1460e-02]],\n",
              "              \n",
              "                       [[-9.8052e-02, -5.4297e-02, -2.0976e-02],\n",
              "                        [ 7.9599e-02,  7.7545e-02, -6.3156e-02],\n",
              "                        [-4.0474e-03, -3.0423e-02, -5.6391e-02]],\n",
              "              \n",
              "                       [[-1.8536e-02, -3.6574e-02,  5.8919e-02],\n",
              "                        [-5.2276e-02,  1.6218e-02, -5.9484e-02],\n",
              "                        [-3.2899e-02,  8.2981e-02, -5.1749e-02]],\n",
              "              \n",
              "                       [[-6.3383e-03,  1.0067e-01,  3.6078e-02],\n",
              "                        [-5.3653e-02, -6.3288e-02, -3.6964e-02],\n",
              "                        [-3.3009e-02,  4.5894e-02, -2.3435e-02]],\n",
              "              \n",
              "                       [[ 8.8901e-02, -5.7836e-02, -3.2962e-02],\n",
              "                        [ 3.8377e-02,  8.4186e-02,  1.0083e-01],\n",
              "                        [ 1.6872e-02,  4.4431e-03, -4.7227e-02]],\n",
              "              \n",
              "                       [[ 5.9558e-02, -6.1100e-02, -2.7706e-02],\n",
              "                        [-8.8101e-02, -1.0133e-01,  5.8919e-02],\n",
              "                        [ 7.1612e-03,  8.4030e-02,  8.3877e-02]],\n",
              "              \n",
              "                       [[ 5.5314e-02,  4.2184e-02, -2.7356e-02],\n",
              "                        [ 5.5984e-02,  5.0688e-02,  3.6490e-02],\n",
              "                        [-3.0428e-03,  1.5745e-02,  4.6769e-04]],\n",
              "              \n",
              "                       [[-7.6498e-02,  2.4470e-02, -7.7491e-02],\n",
              "                        [ 5.1145e-02, -6.2804e-02, -3.4432e-02],\n",
              "                        [-4.9991e-02,  8.3201e-02, -7.4231e-02]],\n",
              "              \n",
              "                       [[ 5.3823e-02,  5.2866e-02,  7.4532e-02],\n",
              "                        [ 2.6411e-02,  5.7464e-02,  8.3326e-02],\n",
              "                        [ 2.0763e-02,  3.5841e-02, -8.2423e-02]]],\n",
              "              \n",
              "              \n",
              "                      [[[-2.8274e-02,  9.5577e-03,  1.2771e-02],\n",
              "                        [-3.7241e-02, -1.0450e-01, -2.7413e-02],\n",
              "                        [ 4.0355e-02,  9.0765e-02, -9.5188e-02]],\n",
              "              \n",
              "                       [[ 5.0326e-02, -1.0002e-01, -1.0080e-01],\n",
              "                        [-6.6012e-02, -1.3923e-02,  2.9440e-02],\n",
              "                        [-8.0165e-02,  8.1212e-02,  9.5322e-02]],\n",
              "              \n",
              "                       [[ 6.4854e-03,  8.5801e-02, -4.7720e-02],\n",
              "                        [-4.1699e-02, -1.3603e-02,  1.1518e-02],\n",
              "                        [-7.3532e-02, -8.4405e-02,  4.1640e-02]],\n",
              "              \n",
              "                       [[ 3.0392e-02,  1.0312e-01, -4.2977e-02],\n",
              "                        [ 3.7224e-02, -4.2537e-02,  5.2035e-02],\n",
              "                        [-5.8392e-03,  7.8141e-02,  5.8562e-02]],\n",
              "              \n",
              "                       [[ 8.7737e-02,  5.4169e-02,  3.9602e-03],\n",
              "                        [ 9.0839e-02, -6.1915e-02,  9.9421e-02],\n",
              "                        [ 1.0300e-01,  1.0069e-01, -4.9239e-02]],\n",
              "              \n",
              "                       [[-5.5852e-02,  6.6691e-03,  3.2824e-02],\n",
              "                        [ 5.2876e-02,  4.2870e-02,  8.9755e-02],\n",
              "                        [-2.6409e-02, -3.4582e-02,  3.5333e-02]],\n",
              "              \n",
              "                       [[ 2.9374e-02, -6.1488e-02,  1.0196e-02],\n",
              "                        [-8.0032e-02, -3.0924e-02, -4.1370e-02],\n",
              "                        [ 9.2400e-02, -9.4887e-02, -6.2236e-02]],\n",
              "              \n",
              "                       [[-1.0316e-01,  2.6585e-02, -8.1132e-02],\n",
              "                        [ 3.4104e-02, -7.3218e-02, -6.7523e-02],\n",
              "                        [-5.3851e-02,  1.5819e-02,  9.6859e-02]],\n",
              "              \n",
              "                       [[ 9.8738e-02, -7.9636e-03, -1.0325e-01],\n",
              "                        [-3.4825e-02, -4.0173e-02, -2.2420e-02],\n",
              "                        [ 4.0276e-02,  5.3046e-02,  4.6736e-02]],\n",
              "              \n",
              "                       [[ 3.0112e-02, -4.2673e-02, -1.1182e-03],\n",
              "                        [ 1.3415e-02, -5.3842e-02, -9.4295e-03],\n",
              "                        [-1.3158e-02, -9.9592e-02,  7.1459e-02]]]], device='cuda:0')),\n",
              "             ('conv_block_2.0.bias',\n",
              "              tensor([-0.0107, -0.0911,  0.0834, -0.0567,  0.0373,  0.1045,  0.0049,  0.0303,\n",
              "                       0.0419,  0.0797], device='cuda:0')),\n",
              "             ('conv_block_2.2.weight',\n",
              "              tensor([[[[-3.2342e-02, -5.9316e-02, -8.2490e-03],\n",
              "                        [ 8.2435e-02,  9.0633e-03,  7.3240e-02],\n",
              "                        [-7.8370e-04,  3.2342e-02,  3.6653e-03]],\n",
              "              \n",
              "                       [[ 2.8614e-03, -1.0031e-01, -9.2152e-02],\n",
              "                        [ 8.7627e-03,  5.2171e-02,  7.0809e-02],\n",
              "                        [ 4.5736e-03,  4.4432e-02,  4.4086e-02]],\n",
              "              \n",
              "                       [[-9.0995e-02, -9.2648e-02, -8.1729e-02],\n",
              "                        [ 1.8123e-03, -6.6652e-02, -3.3732e-02],\n",
              "                        [-1.5771e-02,  4.1127e-02,  2.4440e-02]],\n",
              "              \n",
              "                       [[ 9.7786e-02,  9.5078e-02, -6.7247e-02],\n",
              "                        [-3.3208e-04,  1.7407e-02,  9.2022e-02],\n",
              "                        [-3.2669e-02, -4.1426e-02, -6.6772e-02]],\n",
              "              \n",
              "                       [[ 7.7672e-02, -2.9863e-02, -3.9478e-02],\n",
              "                        [ 7.1296e-02,  9.6994e-02, -4.4421e-03],\n",
              "                        [-7.4304e-02,  8.5886e-02, -3.6050e-02]],\n",
              "              \n",
              "                       [[-4.8575e-02, -7.4105e-02, -5.0695e-02],\n",
              "                        [-8.2553e-02, -6.0844e-02, -9.6023e-02],\n",
              "                        [-2.1246e-02,  4.2382e-02, -8.0019e-02]],\n",
              "              \n",
              "                       [[-1.4721e-04, -3.8871e-02,  5.0986e-02],\n",
              "                        [ 9.1297e-02, -1.3973e-02, -5.3052e-02],\n",
              "                        [-8.0993e-02, -6.1930e-02,  3.0434e-02]],\n",
              "              \n",
              "                       [[ 2.4185e-02,  5.6766e-02, -1.5663e-02],\n",
              "                        [ 5.4163e-02, -9.3912e-02,  2.8336e-02],\n",
              "                        [ 1.0233e-01, -1.0432e-01, -5.4721e-02]],\n",
              "              \n",
              "                       [[ 6.7480e-02, -1.6481e-02, -5.6188e-02],\n",
              "                        [ 6.4306e-02,  7.0660e-03,  4.1286e-03],\n",
              "                        [-3.2016e-02,  7.9420e-02,  5.8470e-02]],\n",
              "              \n",
              "                       [[ 1.8883e-02,  1.6087e-02,  5.4506e-02],\n",
              "                        [ 6.5671e-02, -4.3239e-02, -1.1549e-02],\n",
              "                        [ 4.6277e-02, -5.1079e-02,  9.8563e-02]]],\n",
              "              \n",
              "              \n",
              "                      [[[-7.2205e-02,  4.8641e-02, -7.5717e-02],\n",
              "                        [ 3.3843e-02,  7.3624e-02,  1.2707e-02],\n",
              "                        [-1.0565e-02,  6.7031e-02, -7.5688e-02]],\n",
              "              \n",
              "                       [[-7.1116e-02, -8.9840e-02, -6.4885e-02],\n",
              "                        [ 2.7358e-03, -4.7797e-02,  2.3484e-02],\n",
              "                        [ 3.5570e-03,  8.7728e-02, -4.5706e-02]],\n",
              "              \n",
              "                       [[-2.8836e-02,  6.9717e-02, -2.6653e-02],\n",
              "                        [ 1.0092e-01, -4.1866e-02, -1.1544e-03],\n",
              "                        [-2.4974e-02,  4.9178e-02,  4.0389e-02]],\n",
              "              \n",
              "                       [[-5.6133e-02,  6.9459e-02, -6.6979e-03],\n",
              "                        [-2.6656e-02, -2.1263e-03,  7.3359e-02],\n",
              "                        [ 1.0340e-01,  5.1291e-02,  1.8445e-02]],\n",
              "              \n",
              "                       [[ 6.8794e-02, -4.4079e-02, -5.5087e-02],\n",
              "                        [-3.0441e-02, -6.8223e-02,  4.5323e-02],\n",
              "                        [ 1.0013e-02, -3.6064e-02, -1.0701e-02]],\n",
              "              \n",
              "                       [[-2.0900e-03,  9.0381e-02,  9.4095e-02],\n",
              "                        [-8.1149e-02,  3.8632e-02,  4.0704e-02],\n",
              "                        [ 4.0305e-02, -1.4371e-02,  2.6362e-02]],\n",
              "              \n",
              "                       [[ 2.6525e-02,  1.0259e-01, -1.0103e-01],\n",
              "                        [-4.0000e-02, -7.0920e-02, -5.1131e-02],\n",
              "                        [ 2.0696e-02,  6.4287e-02, -7.9712e-02]],\n",
              "              \n",
              "                       [[ 6.8559e-02,  8.8049e-02, -5.1957e-02],\n",
              "                        [ 1.8398e-02, -5.4115e-02,  2.2577e-02],\n",
              "                        [-4.8870e-02, -4.1063e-02, -7.0563e-02]],\n",
              "              \n",
              "                       [[-8.7901e-02,  8.4118e-02, -1.3311e-02],\n",
              "                        [-2.9243e-03, -5.2459e-02,  7.3471e-02],\n",
              "                        [-6.0333e-02, -4.2634e-02, -8.2284e-02]],\n",
              "              \n",
              "                       [[-8.8637e-02,  9.3582e-02, -8.1397e-02],\n",
              "                        [-1.4553e-02, -3.0512e-02,  3.8610e-02],\n",
              "                        [ 2.8194e-02, -8.0806e-02,  9.4665e-02]]],\n",
              "              \n",
              "              \n",
              "                      [[[-1.0500e-01,  1.0426e-02, -8.8063e-03],\n",
              "                        [-2.4428e-02,  7.1833e-02,  8.8999e-02],\n",
              "                        [ 1.3731e-02, -3.7230e-02,  7.8366e-02]],\n",
              "              \n",
              "                       [[ 6.6225e-02,  1.8932e-02, -2.8831e-02],\n",
              "                        [ 4.4440e-03,  9.3951e-02,  1.1431e-02],\n",
              "                        [-2.0772e-02, -8.9245e-02, -5.6487e-02]],\n",
              "              \n",
              "                       [[ 7.6130e-02, -3.7118e-03, -7.0195e-03],\n",
              "                        [ 4.1042e-02, -6.9352e-02, -7.1207e-03],\n",
              "                        [-2.9647e-02,  5.5152e-02,  8.5785e-02]],\n",
              "              \n",
              "                       [[ 6.6187e-02,  7.8588e-02, -9.4204e-02],\n",
              "                        [-3.7422e-02,  1.2482e-02, -8.9530e-02],\n",
              "                        [ 2.8595e-02, -6.9094e-02,  4.5169e-02]],\n",
              "              \n",
              "                       [[ 8.5313e-02, -9.0172e-02,  8.8327e-02],\n",
              "                        [ 4.9184e-02, -6.9562e-02,  1.0090e-01],\n",
              "                        [-9.1294e-02, -7.0964e-02, -5.2435e-02]],\n",
              "              \n",
              "                       [[-5.3378e-03,  1.8928e-02, -3.0935e-02],\n",
              "                        [-9.9912e-02, -1.2168e-02,  7.9976e-02],\n",
              "                        [ 8.1159e-02,  5.2767e-02,  1.5304e-02]],\n",
              "              \n",
              "                       [[ 2.6192e-02, -8.1261e-02,  4.2684e-02],\n",
              "                        [-1.0491e-01, -4.3531e-02, -2.7701e-02],\n",
              "                        [ 7.7405e-02, -3.0727e-03, -4.8015e-02]],\n",
              "              \n",
              "                       [[ 1.8416e-02, -8.7465e-02, -2.7908e-02],\n",
              "                        [ 2.9193e-02, -6.9811e-03, -1.1070e-02],\n",
              "                        [ 6.4424e-02, -8.0072e-02, -5.3224e-02]],\n",
              "              \n",
              "                       [[ 1.0203e-01,  2.0975e-02, -1.7067e-02],\n",
              "                        [ 5.4601e-02,  6.3413e-02, -1.7614e-02],\n",
              "                        [-4.3907e-02, -1.7230e-02,  3.8275e-02]],\n",
              "              \n",
              "                       [[-1.3457e-02,  6.1348e-02, -8.5960e-02],\n",
              "                        [-5.1717e-02,  8.0358e-02,  1.3829e-02],\n",
              "                        [ 2.1226e-02,  3.4669e-02, -2.4907e-02]]],\n",
              "              \n",
              "              \n",
              "                      [[[-4.2154e-02,  3.0240e-02, -2.7937e-02],\n",
              "                        [-4.3544e-02,  1.3926e-02,  2.5497e-02],\n",
              "                        [-9.5176e-03, -7.1288e-02, -1.5938e-02]],\n",
              "              \n",
              "                       [[-5.9738e-02,  5.5479e-02, -6.9844e-02],\n",
              "                        [ 8.4047e-02,  4.1983e-02, -9.0264e-02],\n",
              "                        [ 7.8224e-02, -1.0424e-01, -6.1286e-03]],\n",
              "              \n",
              "                       [[-6.5813e-02, -9.0681e-02,  1.0444e-02],\n",
              "                        [-5.1109e-02,  7.6194e-02, -8.2863e-02],\n",
              "                        [ 8.7492e-02,  6.3593e-02,  9.2324e-02]],\n",
              "              \n",
              "                       [[-3.0867e-02, -6.4611e-02, -7.0030e-02],\n",
              "                        [ 8.7655e-02, -5.2428e-02, -1.2979e-02],\n",
              "                        [-1.6247e-02,  1.8134e-02, -8.6497e-02]],\n",
              "              \n",
              "                       [[ 8.4996e-02, -7.7996e-02,  1.0368e-01],\n",
              "                        [-4.1245e-02, -4.7057e-02, -1.4489e-02],\n",
              "                        [ 3.1197e-02, -1.9531e-02, -1.0520e-01]],\n",
              "              \n",
              "                       [[ 7.4143e-02,  1.0441e-01,  5.3182e-02],\n",
              "                        [ 1.0315e-01,  2.8729e-02, -8.2598e-03],\n",
              "                        [-8.3958e-02, -9.2128e-02, -7.2574e-02]],\n",
              "              \n",
              "                       [[-2.6745e-02,  6.1381e-02, -4.3490e-02],\n",
              "                        [-4.0940e-03, -1.4876e-03, -6.8904e-02],\n",
              "                        [-2.8534e-03,  1.0178e-01,  8.4249e-02]],\n",
              "              \n",
              "                       [[ 8.0282e-02, -1.0396e-02,  1.8694e-03],\n",
              "                        [ 5.7626e-02, -3.5062e-02, -4.2719e-02],\n",
              "                        [ 9.0187e-02,  6.0180e-03, -7.1173e-02]],\n",
              "              \n",
              "                       [[ 8.8818e-02,  1.7496e-02,  5.6400e-02],\n",
              "                        [-9.1549e-02,  1.9561e-02,  6.4474e-02],\n",
              "                        [-1.5207e-02, -5.9915e-02,  8.4334e-02]],\n",
              "              \n",
              "                       [[ 4.9028e-02,  3.0021e-02,  2.4929e-02],\n",
              "                        [ 2.3266e-03,  6.0449e-02, -2.3043e-02],\n",
              "                        [-6.2049e-02,  4.0250e-02,  2.8123e-02]]],\n",
              "              \n",
              "              \n",
              "                      [[[ 4.0134e-02, -1.1708e-02, -1.3988e-02],\n",
              "                        [-8.3778e-03,  2.7795e-02, -8.0887e-02],\n",
              "                        [-9.8248e-02,  3.9444e-02, -5.7712e-02]],\n",
              "              \n",
              "                       [[-8.8673e-03,  2.9222e-02,  1.4785e-02],\n",
              "                        [ 6.7953e-02,  1.3817e-02,  2.6097e-02],\n",
              "                        [-9.4353e-03,  1.5559e-02,  3.8651e-02]],\n",
              "              \n",
              "                       [[ 7.1912e-02, -9.9877e-02, -4.3910e-02],\n",
              "                        [-9.4588e-02, -4.2026e-02,  6.4255e-02],\n",
              "                        [-9.9875e-02, -9.4449e-02,  6.1034e-02]],\n",
              "              \n",
              "                       [[-6.2248e-02,  7.7040e-02,  3.2844e-02],\n",
              "                        [ 2.6459e-02,  8.3738e-02, -9.7640e-02],\n",
              "                        [ 7.7191e-02,  3.4184e-02, -7.0636e-02]],\n",
              "              \n",
              "                       [[ 2.5647e-02, -2.9378e-02, -4.2310e-02],\n",
              "                        [-1.1416e-02, -4.9697e-02,  9.2174e-02],\n",
              "                        [ 9.0726e-02, -1.1245e-02, -9.3474e-02]],\n",
              "              \n",
              "                       [[-6.4485e-03,  6.9644e-03,  7.0458e-02],\n",
              "                        [ 3.3914e-03,  3.0679e-02,  2.7969e-02],\n",
              "                        [-5.9809e-02, -6.5384e-02, -9.4212e-02]],\n",
              "              \n",
              "                       [[-8.2776e-04,  3.2648e-02, -7.4951e-03],\n",
              "                        [ 1.0232e-01, -2.0108e-02, -6.8782e-02],\n",
              "                        [ 1.7568e-02, -2.9684e-02, -1.4450e-02]],\n",
              "              \n",
              "                       [[ 1.0214e-01, -3.0245e-03,  9.2079e-02],\n",
              "                        [ 1.4077e-02, -3.9215e-02,  7.7282e-02],\n",
              "                        [-6.0044e-02,  3.4877e-03,  2.3693e-02]],\n",
              "              \n",
              "                       [[ 4.7311e-02, -9.7257e-02,  5.1709e-03],\n",
              "                        [-2.7293e-02,  6.8344e-02,  3.5464e-02],\n",
              "                        [ 4.2248e-02,  6.3378e-02, -2.3599e-02]],\n",
              "              \n",
              "                       [[-6.7535e-03,  8.4565e-02, -8.4959e-02],\n",
              "                        [-7.2861e-02,  7.7112e-03, -4.1756e-02],\n",
              "                        [ 6.0369e-03,  9.3114e-02, -1.2219e-02]]],\n",
              "              \n",
              "              \n",
              "                      [[[-8.9876e-02, -4.7917e-02,  9.6804e-02],\n",
              "                        [-2.3157e-02, -4.6220e-02,  4.7448e-02],\n",
              "                        [ 1.3049e-02, -9.2937e-02,  8.7783e-02]],\n",
              "              \n",
              "                       [[ 5.9359e-02,  9.1620e-02,  4.6127e-02],\n",
              "                        [-3.5539e-02, -3.4411e-02,  5.1084e-02],\n",
              "                        [-2.0434e-02,  2.0666e-02, -1.0214e-01]],\n",
              "              \n",
              "                       [[-5.2106e-02,  3.9154e-02, -5.1966e-03],\n",
              "                        [-5.0676e-02, -9.1945e-02,  6.6994e-02],\n",
              "                        [-2.1193e-02, -1.0357e-01,  1.0170e-01]],\n",
              "              \n",
              "                       [[ 5.1295e-02, -6.3049e-02, -7.6931e-02],\n",
              "                        [ 1.0186e-01,  4.4012e-04, -6.3395e-02],\n",
              "                        [ 6.0657e-02, -2.1957e-02,  7.2209e-03]],\n",
              "              \n",
              "                       [[-5.4911e-02, -8.9281e-02, -7.0005e-02],\n",
              "                        [-1.1574e-02, -7.6311e-02,  1.0389e-01],\n",
              "                        [ 1.1409e-03, -4.0354e-02,  4.1660e-02]],\n",
              "              \n",
              "                       [[-9.3453e-02, -5.3916e-02,  3.9592e-02],\n",
              "                        [-8.9562e-02,  5.2536e-02,  8.8602e-03],\n",
              "                        [-8.7891e-02, -1.0461e-01,  3.3315e-02]],\n",
              "              \n",
              "                       [[ 4.9824e-02, -2.1072e-02, -9.3209e-02],\n",
              "                        [-6.0752e-02,  1.1203e-02,  3.8349e-03],\n",
              "                        [ 2.6982e-02,  1.8638e-02, -5.5252e-03]],\n",
              "              \n",
              "                       [[ 5.5627e-02,  1.0225e-01,  8.7786e-02],\n",
              "                        [ 9.5783e-02, -3.5576e-02, -3.5978e-02],\n",
              "                        [-1.1658e-02,  3.1155e-02,  4.2667e-02]],\n",
              "              \n",
              "                       [[-9.3958e-03, -6.8087e-02, -7.9531e-02],\n",
              "                        [ 1.0148e-01, -2.8340e-02, -1.4248e-02],\n",
              "                        [-6.4601e-02, -5.2258e-02,  2.3152e-02]],\n",
              "              \n",
              "                       [[ 4.4397e-02, -4.1671e-02, -3.8798e-02],\n",
              "                        [ 8.3501e-02, -5.4288e-02, -7.8644e-02],\n",
              "                        [-1.6445e-02,  1.0030e-01,  2.2936e-02]]],\n",
              "              \n",
              "              \n",
              "                      [[[ 1.4565e-02, -1.3125e-02,  6.5869e-02],\n",
              "                        [-5.2246e-02,  7.1469e-02,  2.4902e-02],\n",
              "                        [ 1.1720e-02,  1.4511e-02, -6.5009e-02]],\n",
              "              \n",
              "                       [[ 7.8288e-02,  5.5362e-02, -8.2442e-02],\n",
              "                        [-9.8145e-02, -2.7135e-02,  7.0029e-02],\n",
              "                        [-5.1896e-02,  9.7697e-02, -5.2997e-02]],\n",
              "              \n",
              "                       [[-9.5216e-02,  4.6368e-02, -6.3703e-02],\n",
              "                        [-1.6617e-02, -3.2878e-02, -8.3757e-03],\n",
              "                        [-9.1851e-02, -9.6682e-02,  4.5313e-02]],\n",
              "              \n",
              "                       [[-1.1944e-02, -6.3586e-02, -2.6853e-03],\n",
              "                        [-9.6210e-02,  2.7980e-02,  5.0059e-02],\n",
              "                        [ 1.0223e-01, -8.5874e-02, -1.2782e-02]],\n",
              "              \n",
              "                       [[ 5.7205e-02,  9.6603e-02, -7.4996e-02],\n",
              "                        [ 4.4795e-02,  4.3520e-02,  6.3548e-02],\n",
              "                        [-7.2671e-02,  7.5222e-02, -4.5912e-02]],\n",
              "              \n",
              "                       [[-6.4885e-02,  2.0930e-02,  8.9296e-02],\n",
              "                        [-6.9804e-02,  5.6279e-02, -1.2072e-02],\n",
              "                        [ 3.3651e-02,  8.2227e-02,  2.8621e-02]],\n",
              "              \n",
              "                       [[-8.7506e-02, -3.1736e-02,  2.0921e-02],\n",
              "                        [-8.8922e-02,  1.7524e-02, -5.6601e-02],\n",
              "                        [-2.0953e-02,  3.7709e-02, -8.4835e-02]],\n",
              "              \n",
              "                       [[-6.7674e-02,  4.8078e-02, -1.0425e-01],\n",
              "                        [ 7.2541e-02, -8.1279e-02, -1.6973e-03],\n",
              "                        [ 2.1639e-02,  4.1594e-02, -6.5424e-02]],\n",
              "              \n",
              "                       [[ 1.4185e-02,  4.5388e-02,  9.0411e-02],\n",
              "                        [-7.9326e-02, -5.2407e-02,  3.0707e-02],\n",
              "                        [-3.3839e-03, -7.1133e-02, -8.8718e-02]],\n",
              "              \n",
              "                       [[-9.3596e-02, -7.3760e-02, -4.4880e-02],\n",
              "                        [-7.3196e-02, -9.2470e-02,  8.2281e-03],\n",
              "                        [ 6.1818e-02, -4.9699e-02,  1.0541e-02]]],\n",
              "              \n",
              "              \n",
              "                      [[[-1.2995e-03,  4.9272e-02, -7.3102e-02],\n",
              "                        [ 5.0045e-03,  9.8388e-02,  7.5254e-02],\n",
              "                        [-1.0447e-01, -1.5868e-02,  9.8259e-04]],\n",
              "              \n",
              "                       [[-3.4806e-02, -6.9252e-02, -7.3347e-02],\n",
              "                        [ 7.0041e-02, -3.4126e-02, -6.7835e-03],\n",
              "                        [ 3.0930e-02, -6.4699e-02,  9.3953e-03]],\n",
              "              \n",
              "                       [[ 6.2699e-02, -6.1632e-02,  3.0667e-02],\n",
              "                        [-3.6004e-03,  5.7958e-02,  7.0042e-02],\n",
              "                        [ 2.7966e-02,  3.1850e-03, -9.0740e-02]],\n",
              "              \n",
              "                       [[ 4.1969e-02,  6.4264e-02, -3.8287e-02],\n",
              "                        [-1.0467e-01,  8.5420e-02, -2.4743e-02],\n",
              "                        [ 2.1089e-02, -2.9631e-02,  6.7223e-02]],\n",
              "              \n",
              "                       [[ 1.0280e-01,  6.6075e-02, -3.3546e-02],\n",
              "                        [ 7.3870e-02,  5.1433e-02,  1.0284e-02],\n",
              "                        [-8.4905e-02, -4.5262e-02, -1.0429e-01]],\n",
              "              \n",
              "                       [[ 7.0501e-02,  1.0420e-01,  6.1402e-02],\n",
              "                        [ 3.3680e-02,  2.4913e-02,  1.0147e-01],\n",
              "                        [-5.3440e-02, -3.5389e-02, -9.4645e-02]],\n",
              "              \n",
              "                       [[-1.0438e-02,  7.2306e-03,  2.8855e-02],\n",
              "                        [-7.3332e-02, -1.2198e-02, -8.6857e-02],\n",
              "                        [-8.5744e-02,  1.3739e-02, -1.0290e-01]],\n",
              "              \n",
              "                       [[ 2.8068e-02, -9.7103e-02, -7.3346e-02],\n",
              "                        [-2.1872e-02, -1.0059e-01,  8.5132e-02],\n",
              "                        [ 8.6368e-02, -5.5058e-02,  2.2081e-02]],\n",
              "              \n",
              "                       [[ 5.3925e-02,  3.3496e-02, -1.4120e-02],\n",
              "                        [-9.9423e-02,  7.6647e-02, -9.2454e-02],\n",
              "                        [-1.9522e-02,  6.5387e-03, -3.4716e-02]],\n",
              "              \n",
              "                       [[-3.8554e-02, -9.1102e-02,  5.8080e-03],\n",
              "                        [-1.1969e-02,  9.1896e-02, -3.4703e-02],\n",
              "                        [ 8.1472e-02,  4.9901e-03, -4.7358e-02]]],\n",
              "              \n",
              "              \n",
              "                      [[[-2.5068e-02, -1.1962e-02,  1.0919e-03],\n",
              "                        [-1.7366e-02,  3.1283e-02,  8.6806e-02],\n",
              "                        [ 1.6569e-02,  3.8181e-02,  6.5092e-02]],\n",
              "              \n",
              "                       [[ 2.2721e-02,  4.8591e-02,  5.5292e-02],\n",
              "                        [ 9.8664e-02, -9.6202e-02,  3.6070e-02],\n",
              "                        [-4.7762e-03, -1.8930e-02, -4.0640e-02]],\n",
              "              \n",
              "                       [[ 6.3372e-02,  9.6427e-02, -8.6023e-02],\n",
              "                        [ 5.6951e-02,  7.2685e-02,  1.8423e-02],\n",
              "                        [ 1.2417e-03,  8.1115e-02,  3.1252e-03]],\n",
              "              \n",
              "                       [[-2.6292e-02, -7.7839e-03,  3.3819e-02],\n",
              "                        [ 2.6388e-02, -5.6872e-03,  3.3274e-02],\n",
              "                        [ 2.8389e-02, -8.5388e-02,  2.6266e-02]],\n",
              "              \n",
              "                       [[ 6.4494e-02,  1.2089e-02, -9.6214e-03],\n",
              "                        [ 8.0747e-02, -9.2094e-02, -4.8113e-02],\n",
              "                        [-4.7644e-02,  9.1079e-02, -1.0195e-01]],\n",
              "              \n",
              "                       [[ 1.0454e-02, -1.0211e-01, -3.4663e-03],\n",
              "                        [ 3.9290e-02, -2.4650e-02,  1.0232e-01],\n",
              "                        [ 3.3556e-04, -5.3741e-02,  2.7181e-02]],\n",
              "              \n",
              "                       [[ 5.4820e-02, -2.0942e-04,  9.0175e-02],\n",
              "                        [-6.6715e-02,  4.4976e-02,  5.9855e-02],\n",
              "                        [ 5.2356e-02, -3.8665e-05,  3.0091e-02]],\n",
              "              \n",
              "                       [[-8.2695e-02, -8.2721e-02, -6.5519e-03],\n",
              "                        [-1.3211e-02,  7.8269e-02,  7.6540e-02],\n",
              "                        [ 7.1473e-02, -4.8281e-02, -8.2750e-02]],\n",
              "              \n",
              "                       [[-9.8874e-02,  3.8149e-02, -9.4982e-02],\n",
              "                        [-1.0523e-01, -5.3272e-02, -8.8997e-02],\n",
              "                        [-4.1540e-02, -6.6360e-02, -5.4079e-02]],\n",
              "              \n",
              "                       [[ 1.0022e-01, -1.9864e-02,  8.7441e-02],\n",
              "                        [ 2.3388e-03, -1.3555e-02, -3.0862e-02],\n",
              "                        [-7.5349e-02, -8.4691e-02,  7.2988e-02]]],\n",
              "              \n",
              "              \n",
              "                      [[[-3.2483e-02, -1.0277e-01,  9.6737e-02],\n",
              "                        [ 1.9553e-03, -7.0535e-02, -8.2857e-02],\n",
              "                        [-8.8521e-02, -9.2429e-02,  9.5387e-02]],\n",
              "              \n",
              "                       [[ 7.2679e-02,  8.6214e-03, -8.9838e-02],\n",
              "                        [-2.7570e-02, -9.9021e-02,  3.6326e-02],\n",
              "                        [-2.7988e-02, -2.2557e-02, -3.2889e-02]],\n",
              "              \n",
              "                       [[ 4.9421e-02,  5.7057e-02,  2.3091e-02],\n",
              "                        [-1.3200e-02, -1.0417e-02, -1.8419e-03],\n",
              "                        [-7.8494e-02,  1.0286e-01, -4.5461e-02]],\n",
              "              \n",
              "                       [[ 6.1328e-02, -5.9092e-02,  7.0763e-04],\n",
              "                        [ 3.6084e-02, -9.6785e-02,  4.8351e-02],\n",
              "                        [-8.0685e-02,  1.4709e-02, -2.0903e-02]],\n",
              "              \n",
              "                       [[ 6.0423e-02,  1.0245e-01,  2.3756e-02],\n",
              "                        [-3.0099e-03, -5.2224e-02,  3.9300e-02],\n",
              "                        [-5.0736e-02,  4.3541e-02, -4.5687e-02]],\n",
              "              \n",
              "                       [[ 7.1501e-02,  8.0853e-02,  6.4635e-02],\n",
              "                        [ 1.0559e-03,  4.8883e-02, -9.6052e-02],\n",
              "                        [ 8.5484e-02, -2.7387e-02,  3.8428e-02]],\n",
              "              \n",
              "                       [[-1.7850e-02, -3.5395e-02, -4.9501e-02],\n",
              "                        [ 6.7991e-02, -5.7348e-02, -1.8588e-02],\n",
              "                        [ 5.3174e-02,  1.0624e-02, -8.8691e-02]],\n",
              "              \n",
              "                       [[-1.0482e-01, -5.1247e-02,  9.7221e-02],\n",
              "                        [-7.4949e-02,  5.8095e-02,  7.5454e-02],\n",
              "                        [-4.3692e-02, -4.6549e-02, -7.5835e-02]],\n",
              "              \n",
              "                       [[ 1.6442e-02, -1.4736e-02,  5.1213e-03],\n",
              "                        [ 4.5722e-02,  4.4255e-02, -3.3256e-02],\n",
              "                        [ 7.2396e-03,  2.5040e-02,  2.2438e-03]],\n",
              "              \n",
              "                       [[ 2.1093e-02, -4.2700e-02,  8.6401e-02],\n",
              "                        [-1.0812e-02, -1.3487e-02, -9.4606e-02],\n",
              "                        [-7.6408e-02,  3.2789e-03, -1.6302e-02]]]], device='cuda:0')),\n",
              "             ('conv_block_2.2.bias',\n",
              "              tensor([-0.0530,  0.0552, -0.0094,  0.0371,  0.0888, -0.0485, -0.0519, -0.0212,\n",
              "                      -0.0089, -0.0527], device='cuda:0')),\n",
              "             ('classifier.1.weight',\n",
              "              tensor([[-0.0108, -0.0013,  0.0203,  ...,  0.0135,  0.0241, -0.0450],\n",
              "                      [ 0.0351, -0.0405,  0.0265,  ...,  0.0263,  0.0137,  0.0180],\n",
              "                      [-0.0100, -0.0143, -0.0211,  ...,  0.0343,  0.0197,  0.0056],\n",
              "                      ...,\n",
              "                      [ 0.0438, -0.0413, -0.0376,  ..., -0.0082,  0.0345,  0.0323],\n",
              "                      [-0.0022, -0.0232, -0.0259,  ..., -0.0236,  0.0321,  0.0351],\n",
              "                      [-0.0038,  0.0156,  0.0096,  ..., -0.0220, -0.0197,  0.0179]],\n",
              "                     device='cuda:0')),\n",
              "             ('classifier.1.bias',\n",
              "              tensor([ 0.0242, -0.0379, -0.0205, -0.0213, -0.0044, -0.0159, -0.0349, -0.0076,\n",
              "                      -0.0104,  0.0035], device='cuda:0'))])"
            ]
          },
          "metadata": {},
          "execution_count": 160
        }
      ]
    },
    {
      "cell_type": "code",
      "source": [
        "# create a single conv2d layer\n",
        "conv_layer = nn.Conv2d(in_channels=3,\n",
        "                       out_channels=10,\n",
        "                       kernel_size=3,\n",
        "                       padding=1)\n",
        "conv_output = conv_layer(test_image)\n",
        "conv_output.shape"
      ],
      "metadata": {
        "colab": {
          "base_uri": "https://localhost:8080/"
        },
        "id": "TypRRS8Eomli",
        "outputId": "fee5f08a-2e23-4562-ce7b-e30e66687ab3"
      },
      "execution_count": null,
      "outputs": [
        {
          "output_type": "execute_result",
          "data": {
            "text/plain": [
              "torch.Size([10, 64, 64])"
            ]
          },
          "metadata": {},
          "execution_count": 161
        }
      ]
    },
    {
      "cell_type": "markdown",
      "source": [
        "### Stepping through `nn.MaxPool2d`\n",
        "- https://pytorch.org/docs/stable/generated/torch.nn.MaxPool2d.html\n"
      ],
      "metadata": {
        "id": "G7JwoF0tszta"
      }
    },
    {
      "cell_type": "code",
      "source": [
        "print(f\"test image original shape: {test_image.shape}\")\n",
        "print(f\"test image with unsqueezed dimension: {test_image.unsqueeze(0).shape}\")\n",
        "\n",
        "# create a sample nn.MaxPool2D layer\n",
        "max_pool_layer = nn.MaxPool2d(kernel_size=2)\n",
        "\n",
        "# pass data through just the convolution layer\n",
        "test_image_through_conv = conv_layer(test_image)\n",
        "\n",
        "print(f\"Shape after convolution: {test_image_through_conv.shape}\")\n",
        "\n",
        "# pass data through the maxpool layer\n",
        "test_image_through_conv_and_pool = max_pool_layer(test_image_through_conv)\n",
        "print(f\"Shape after MaxPooling: {test_image_through_conv_and_pool.shape}\")"
      ],
      "metadata": {
        "colab": {
          "base_uri": "https://localhost:8080/"
        },
        "id": "q6DWbh5yrG3i",
        "outputId": "a5ec3a44-8ff0-43b5-c521-707514e7ee11"
      },
      "execution_count": null,
      "outputs": [
        {
          "output_type": "stream",
          "name": "stdout",
          "text": [
            "test image original shape: torch.Size([3, 64, 64])\n",
            "test image with unsqueezed dimension: torch.Size([1, 3, 64, 64])\n",
            "Shape after convolution: torch.Size([10, 64, 64])\n",
            "Shape after MaxPooling: torch.Size([10, 32, 32])\n"
          ]
        }
      ]
    },
    {
      "cell_type": "code",
      "source": [
        "plt.imshow(image.squeeze(0),cmap='gray')"
      ],
      "metadata": {
        "colab": {
          "base_uri": "https://localhost:8080/",
          "height": 448
        },
        "id": "LzwFqaXqtzFn",
        "outputId": "cda73031-9663-49c2-8c81-9223fbbcdd54"
      },
      "execution_count": null,
      "outputs": [
        {
          "output_type": "execute_result",
          "data": {
            "text/plain": [
              "<matplotlib.image.AxesImage at 0x7c9387768c10>"
            ]
          },
          "metadata": {},
          "execution_count": 163
        },
        {
          "output_type": "display_data",
          "data": {
            "text/plain": [
              "<Figure size 640x480 with 1 Axes>"
            ],
            "image/png": "[encoded data removed]"
          },
          "metadata": {}
        }
      ]
    },
    {
      "cell_type": "code",
      "source": [
        "rand_image_tensor = torch.randn(size=image.shape).to(device)\n",
        "model_2(rand_image_tensor.unsqueeze(0))"
      ],
      "metadata": {
        "colab": {
          "base_uri": "https://localhost:8080/"
        },
        "id": "7CYWnFTHyYky",
        "outputId": "ff9483eb-3142-4660-f804-2ecbed63e2d9"
      },
      "execution_count": null,
      "outputs": [
        {
          "output_type": "execute_result",
          "data": {
            "text/plain": [
              "tensor([[ 0.1163, -0.0724,  0.0176, -0.0434, -0.0484, -0.0267,  0.0132,  0.0114,\n",
              "         -0.0145,  0.0193]], device='cuda:0', grad_fn=<AddmmBackward0>)"
            ]
          },
          "metadata": {},
          "execution_count": 164
        }
      ]
    },
    {
      "cell_type": "markdown",
      "source": [
        "### setting up a loss function and optimizer"
      ],
      "metadata": {
        "id": "MRvVaSTP10ke"
      }
    },
    {
      "cell_type": "code",
      "source": [
        "loss_fn = nn.CrossEntropyLoss()\n",
        "optimizer = torch.optim.SGD(model_2.parameters(),lr=0.1)\n",
        "from helper_functions import accuracy_fn"
      ],
      "metadata": {
        "id": "Iei06THkyjxq"
      },
      "execution_count": null,
      "outputs": []
    },
    {
      "cell_type": "markdown",
      "source": [
        "### training and testing model_2 using our functions"
      ],
      "metadata": {
        "id": "haSPgSuc2NGe"
      }
    },
    {
      "cell_type": "code",
      "source": [
        "torch.manual_seed(88)\n",
        "torch.cuda.manual_seed(88)\n",
        "\n",
        "# measure time\n",
        "train_time_start = timer()\n",
        "\n",
        "# train and test model\n",
        "epochs=3\n",
        "for epoch in tqdm(range(epochs)):\n",
        "    train_step(model=model_2,\n",
        "               dataloader=train_dataloader,\n",
        "               loss_fn=loss_fn,\n",
        "               optimizer=optimizer,\n",
        "               accuracy_fn=accuracy_fn,\n",
        "               device=device)\n",
        "    test_step(model=model_2,\n",
        "              dataloader=test_dataloader,\n",
        "              loss_fn=loss_fn,\n",
        "              accuracy_fn=accuracy_fn,\n",
        "              device=device)\n",
        "\n",
        "train_time_stop = timer()\n",
        "\n",
        "total_train_time_model_2 = print_train_time(start = train_time_start,\n",
        "                     end = train_time_stop,\n",
        "                     device = device)\n"
      ],
      "metadata": {
        "colab": {
          "base_uri": "https://localhost:8080/",
          "height": 228,
          "referenced_widgets": [
            "a15c0d552899461580f891fc1b3e959d",
            "970046ad5a1347e1af990a1dff09a1a5",
            "b44a00a5a1ca4703a045231c824838ba",
            "18b91430cbdc421d94cf9e5a28d33c8f",
            "cba4327841014982ae30f5bbef1c1470",
            "1b0084abe2fe449b9d9644471ed0fda5",
            "59b0cac7b78d402a84d4b97305d8a6b7",
            "1f3be7bee6f746c9830b8e53fd50b546",
            "9b1454f6cc64492c8d6d495c4623a61c",
            "96e4d4141a284963b1affdc49a5c9b59",
            "65640117a7c5400a89af7eb45f20afd6"
          ]
        },
        "id": "9oEWIMP5zlly",
        "outputId": "fe76ae31-c56b-4cab-bee8-092fd540a31a"
      },
      "execution_count": null,
      "outputs": [
        {
          "output_type": "display_data",
          "data": {
            "text/plain": [
              "  0%|          | 0/3 [00:00<?, ?it/s]"
            ],
            "application/vnd.jupyter.widget-view+json": {
              "version_major": 2,
              "version_minor": 0,
              "model_id": "a15c0d552899461580f891fc1b3e959d"
            }
          },
          "metadata": {}
        },
        {
          "output_type": "stream",
          "name": "stdout",
          "text": [
            "Train loss:  0.58066 and Train accuracy: 78.943333\n",
            "Test loss: 0.3828, Test accuracy: 85.9724\n",
            "\n",
            "Train loss:  0.35171 and Train accuracy: 87.405000\n",
            "Test loss: 0.3423, Test accuracy: 87.8494\n",
            "\n",
            "Train loss:  0.31945 and Train accuracy: 88.530000\n",
            "Test loss: 0.3200, Test accuracy: 88.3586\n",
            "\n",
            "Train time on cuda: 34.003 seconds\n"
          ]
        }
      ]
    },
    {
      "cell_type": "code",
      "source": [
        "model_2_results = eval_model(model=model_2,\n",
        "                             data_loader = test_dataloader,\n",
        "                             loss_fn=loss_fn,\n",
        "                             accuracy_fn=accuracy_fn,\n",
        "                             device=device)\n",
        "model_0_results, model_2_results"
      ],
      "metadata": {
        "colab": {
          "base_uri": "https://localhost:8080/",
          "height": 156,
          "referenced_widgets": [
            "99cfb2a7f6bb4931af89a916c9985d47",
            "cd4faceb617645168939f85d4d6b080a",
            "894f60c5469c4574ba2f786b059cc766",
            "a10d491050b64972966ec0839b49105b",
            "e166583b100a47dcb54bc1e7c5fd1bc6",
            "30021ade2d9e4eb8bda9209ef5a5e249",
            "be353f790d70400e9d3e66f4de02c484",
            "5c492722f989489aa9b2178168530ce8",
            "1831e9612da6444c96ecdf465936abcf",
            "1a6d3c4203ec40f799d3ac4399be7496",
            "3c57b2f852f149bb9a574d7bc366b1ff"
          ]
        },
        "id": "UVmZ1zij2zxJ",
        "outputId": "39eb8229-618e-43c0-a689-e8bc2a6cb781"
      },
      "execution_count": null,
      "outputs": [
        {
          "output_type": "display_data",
          "data": {
            "text/plain": [
              "  0%|          | 0/313 [00:00<?, ?it/s]"
            ],
            "application/vnd.jupyter.widget-view+json": {
              "version_major": 2,
              "version_minor": 0,
              "model_id": "99cfb2a7f6bb4931af89a916c9985d47"
            }
          },
          "metadata": {}
        },
        {
          "output_type": "execute_result",
          "data": {
            "text/plain": [
              "({'model_name': 'FashionMnistModelV0',\n",
              "  'model_loss': 0.4763748049736023,\n",
              "  'model_acc': 83.33666134185303},\n",
              " {'model_name': 'FashionMNistModelV2',\n",
              "  'model_loss': 0.320041298866272,\n",
              "  'model_acc': 88.35862619808307})"
            ]
          },
          "metadata": {},
          "execution_count": 167
        }
      ]
    },
    {
      "cell_type": "markdown",
      "source": [
        "# Comparing Model Results and Training Time"
      ],
      "metadata": {
        "id": "Q8x7lnY67nSy"
      }
    },
    {
      "cell_type": "code",
      "source": [
        "import pandas as pd\n",
        "compare_results = pd.DataFrame([model_0_results,\n",
        "                                model_1_results,\n",
        "                                model_2_results])\n",
        "compare_results"
      ],
      "metadata": {
        "colab": {
          "base_uri": "https://localhost:8080/",
          "height": 143
        },
        "id": "tmyOetF93o5j",
        "outputId": "8f008dab-7ac4-41f9-8846-56bd99366cba"
      },
      "execution_count": null,
      "outputs": [
        {
          "output_type": "execute_result",
          "data": {
            "text/plain": [
              "            model_name  model_loss  model_acc\n",
              "0  FashionMnistModelV0    0.476375  83.336661\n",
              "1  FashionMNistModelV1    1.310155  50.169728\n",
              "2  FashionMNistModelV2    0.320041  88.358626"
            ],
            "text/html": [
              "\n",
              "\n",
              "  <div id=\"df-7cf38805-5dc4-40e6-9b1e-3828b3ff7cbe\">\n",
              "    <div class=\"colab-df-container\">\n",
              "      <div>\n",
              "<style scoped>\n",
              "    .dataframe tbody tr th:only-of-type {\n",
              "        vertical-align: middle;\n",
              "    }\n",
              "\n",
              "    .dataframe tbody tr th {\n",
              "        vertical-align: top;\n",
              "    }\n",
              "\n",
              "    .dataframe thead th {\n",
              "        text-align: right;\n",
              "    }\n",
              "</style>\n",
              "<table border=\"1\" class=\"dataframe\">\n",
              "  <thead>\n",
              "    <tr style=\"text-align: right;\">\n",
              "      <th></th>\n",
              "      <th>model_name</th>\n",
              "      <th>model_loss</th>\n",
              "      <th>model_acc</th>\n",
              "    </tr>\n",
              "  </thead>\n",
              "  <tbody>\n",
              "    <tr>\n",
              "      <th>0</th>\n",
              "      <td>FashionMnistModelV0</td>\n",
              "      <td>0.476375</td>\n",
              "      <td>83.336661</td>\n",
              "    </tr>\n",
              "    <tr>\n",
              "      <th>1</th>\n",
              "      <td>FashionMNistModelV1</td>\n",
              "      <td>1.310155</td>\n",
              "      <td>50.169728</td>\n",
              "    </tr>\n",
              "    <tr>\n",
              "      <th>2</th>\n",
              "      <td>FashionMNistModelV2</td>\n",
              "      <td>0.320041</td>\n",
              "      <td>88.358626</td>\n",
              "    </tr>\n",
              "  </tbody>\n",
              "</table>\n",
              "</div>\n",
              "      <button class=\"colab-df-convert\" onclick=\"convertToInteractive('df-7cf38805-5dc4-40e6-9b1e-3828b3ff7cbe')\"\n",
              "              title=\"Convert this dataframe to an interactive table.\"\n",
              "              style=\"display:none;\">\n",
              "\n",
              "  <svg xmlns=\"http://www.w3.org/2000/svg\" height=\"24px\"viewBox=\"0 0 24 24\"\n",
              "       width=\"24px\">\n",
              "    <path d=\"M0 0h24v24H0V0z\" fill=\"none\"/>\n",
              "    <path d=\"M18.56 5.44l.94 2.06.94-2.06 2.06-.94-2.06-.94-.94-2.06-.94 2.06-2.06.94zm-11 1L8.5 8.5l.94-2.06 2.06-.94-2.06-.94L8.5 2.5l-.94 2.06-2.06.94zm10 10l.94 2.06.94-2.06 2.06-.94-2.06-.94-.94-2.06-.94 2.06-2.06.94z\"/><path d=\"M17.41 7.96l-1.37-1.37c-.4-.4-.92-.59-1.43-.59-.52 0-1.04.2-1.43.59L10.3 9.45l-7.72 7.72c-.78.78-.78 2.05 0 2.83L4 21.41c.39.39.9.59 1.41.59.51 0 1.02-.2 1.41-.59l7.78-7.78 2.81-2.81c.8-.78.8-2.07 0-2.86zM5.41 20L4 18.59l7.72-7.72 1.47 1.35L5.41 20z\"/>\n",
              "  </svg>\n",
              "      </button>\n",
              "\n",
              "\n",
              "\n",
              "    <div id=\"df-198e5575-b65f-4440-a758-ac848d93b3fc\">\n",
              "      <button class=\"colab-df-quickchart\" onclick=\"quickchart('df-198e5575-b65f-4440-a758-ac848d93b3fc')\"\n",
              "              title=\"Suggest charts.\"\n",
              "              style=\"display:none;\">\n",
              "\n",
              "<svg xmlns=\"http://www.w3.org/2000/svg\" height=\"24px\"viewBox=\"0 0 24 24\"\n",
              "     width=\"24px\">\n",
              "    <g>\n",
              "        <path d=\"M19 3H5c-1.1 0-2 .9-2 2v14c0 1.1.9 2 2 2h14c1.1 0 2-.9 2-2V5c0-1.1-.9-2-2-2zM9 17H7v-7h2v7zm4 0h-2V7h2v10zm4 0h-2v-4h2v4z\"/>\n",
              "    </g>\n",
              "</svg>\n",
              "      </button>\n",
              "    </div>\n",
              "\n",
              "<style>\n",
              "  .colab-df-quickchart {\n",
              "    background-color: #E8F0FE;\n",
              "    border: none;\n",
              "    border-radius: 50%;\n",
              "    cursor: pointer;\n",
              "    display: none;\n",
              "    fill: #1967D2;\n",
              "    height: 32px;\n",
              "    padding: 0 0 0 0;\n",
              "    width: 32px;\n",
              "  }\n",
              "\n",
              "  .colab-df-quickchart:hover {\n",
              "    background-color: #E2EBFA;\n",
              "    box-shadow: 0px 1px 2px rgba(60, 64, 67, 0.3), 0px 1px 3px 1px rgba(60, 64, 67, 0.15);\n",
              "    fill: #174EA6;\n",
              "  }\n",
              "\n",
              "  [theme=dark] .colab-df-quickchart {\n",
              "    background-color: #3B4455;\n",
              "    fill: #D2E3FC;\n",
              "  }\n",
              "\n",
              "  [theme=dark] .colab-df-quickchart:hover {\n",
              "    background-color: #434B5C;\n",
              "    box-shadow: 0px 1px 3px 1px rgba(0, 0, 0, 0.15);\n",
              "    filter: drop-shadow(0px 1px 2px rgba(0, 0, 0, 0.3));\n",
              "    fill: #FFFFFF;\n",
              "  }\n",
              "</style>\n",
              "\n",
              "    <script>\n",
              "      async function quickchart(key) {\n",
              "        const containerElement = document.querySelector('#' + key);\n",
              "        const charts = await google.colab.kernel.invokeFunction(\n",
              "            'suggestCharts', [key], {});\n",
              "      }\n",
              "    </script>\n",
              "\n",
              "      <script>\n",
              "\n",
              "function displayQuickchartButton(domScope) {\n",
              "  let quickchartButtonEl =\n",
              "    domScope.querySelector('#df-198e5575-b65f-4440-a758-ac848d93b3fc button.colab-df-quickchart');\n",
              "  quickchartButtonEl.style.display =\n",
              "    google.colab.kernel.accessAllowed ? 'block' : 'none';\n",
              "}\n",
              "\n",
              "        displayQuickchartButton(document);\n",
              "      </script>\n",
              "      <style>\n",
              "    .colab-df-container {\n",
              "      display:flex;\n",
              "      flex-wrap:wrap;\n",
              "      gap: 12px;\n",
              "    }\n",
              "\n",
              "    .colab-df-convert {\n",
              "      background-color: #E8F0FE;\n",
              "      border: none;\n",
              "      border-radius: 50%;\n",
              "      cursor: pointer;\n",
              "      display: none;\n",
              "      fill: #1967D2;\n",
              "      height: 32px;\n",
              "      padding: 0 0 0 0;\n",
              "      width: 32px;\n",
              "    }\n",
              "\n",
              "    .colab-df-convert:hover {\n",
              "      background-color: #E2EBFA;\n",
              "      box-shadow: 0px 1px 2px rgba(60, 64, 67, 0.3), 0px 1px 3px 1px rgba(60, 64, 67, 0.15);\n",
              "      fill: #174EA6;\n",
              "    }\n",
              "\n",
              "    [theme=dark] .colab-df-convert {\n",
              "      background-color: #3B4455;\n",
              "      fill: #D2E3FC;\n",
              "    }\n",
              "\n",
              "    [theme=dark] .colab-df-convert:hover {\n",
              "      background-color: #434B5C;\n",
              "      box-shadow: 0px 1px 3px 1px rgba(0, 0, 0, 0.15);\n",
              "      filter: drop-shadow(0px 1px 2px rgba(0, 0, 0, 0.3));\n",
              "      fill: #FFFFFF;\n",
              "    }\n",
              "  </style>\n",
              "\n",
              "      <script>\n",
              "        const buttonEl =\n",
              "          document.querySelector('#df-7cf38805-5dc4-40e6-9b1e-3828b3ff7cbe button.colab-df-convert');\n",
              "        buttonEl.style.display =\n",
              "          google.colab.kernel.accessAllowed ? 'block' : 'none';\n",
              "\n",
              "        async function convertToInteractive(key) {\n",
              "          const element = document.querySelector('#df-7cf38805-5dc4-40e6-9b1e-3828b3ff7cbe');\n",
              "          const dataTable =\n",
              "            await google.colab.kernel.invokeFunction('convertToInteractive',\n",
              "                                                     [key], {});\n",
              "          if (!dataTable) return;\n",
              "\n",
              "          const docLinkHtml = 'Like what you see? Visit the ' +\n",
              "            '<a target=\"_blank\" href=https://colab.research.google.com/notebooks/data_table.ipynb>data table notebook</a>'\n",
              "            + ' to learn more about interactive tables.';\n",
              "          element.innerHTML = '';\n",
              "          dataTable['output_type'] = 'display_data';\n",
              "          await google.colab.output.renderOutput(dataTable, element);\n",
              "          const docLink = document.createElement('div');\n",
              "          docLink.innerHTML = docLinkHtml;\n",
              "          element.appendChild(docLink);\n",
              "        }\n",
              "      </script>\n",
              "    </div>\n",
              "  </div>\n"
            ]
          },
          "metadata": {},
          "execution_count": 169
        }
      ]
    },
    {
      "cell_type": "code",
      "source": [
        "# adding training time\n",
        "compare_results['training_time'] = [total_train_time_model_0,\n",
        "                                    total_train_time_model_1,\n",
        "                                    total_train_time_model_2]\n",
        "compare_results"
      ],
      "metadata": {
        "colab": {
          "base_uri": "https://localhost:8080/",
          "height": 143
        },
        "id": "dxu7qYpv7uqQ",
        "outputId": "80d5982b-f248-44f8-e4c7-e5f2427e833f"
      },
      "execution_count": null,
      "outputs": [
        {
          "output_type": "execute_result",
          "data": {
            "text/plain": [
              "            model_name  model_loss  model_acc  training_time\n",
              "0  FashionMnistModelV0    0.476375  83.336661      27.499503\n",
              "1  FashionMNistModelV1    1.310155  50.169728      28.734042\n",
              "2  FashionMNistModelV2    0.320041  88.358626      34.003062"
            ],
            "text/html": [
              "\n",
              "\n",
              "  <div id=\"df-12a49653-101b-4ed8-ab5a-f1e4c310c76a\">\n",
              "    <div class=\"colab-df-container\">\n",
              "      <div>\n",
              "<style scoped>\n",
              "    .dataframe tbody tr th:only-of-type {\n",
              "        vertical-align: middle;\n",
              "    }\n",
              "\n",
              "    .dataframe tbody tr th {\n",
              "        vertical-align: top;\n",
              "    }\n",
              "\n",
              "    .dataframe thead th {\n",
              "        text-align: right;\n",
              "    }\n",
              "</style>\n",
              "<table border=\"1\" class=\"dataframe\">\n",
              "  <thead>\n",
              "    <tr style=\"text-align: right;\">\n",
              "      <th></th>\n",
              "      <th>model_name</th>\n",
              "      <th>model_loss</th>\n",
              "      <th>model_acc</th>\n",
              "      <th>training_time</th>\n",
              "    </tr>\n",
              "  </thead>\n",
              "  <tbody>\n",
              "    <tr>\n",
              "      <th>0</th>\n",
              "      <td>FashionMnistModelV0</td>\n",
              "      <td>0.476375</td>\n",
              "      <td>83.336661</td>\n",
              "      <td>27.499503</td>\n",
              "    </tr>\n",
              "    <tr>\n",
              "      <th>1</th>\n",
              "      <td>FashionMNistModelV1</td>\n",
              "      <td>1.310155</td>\n",
              "      <td>50.169728</td>\n",
              "      <td>28.734042</td>\n",
              "    </tr>\n",
              "    <tr>\n",
              "      <th>2</th>\n",
              "      <td>FashionMNistModelV2</td>\n",
              "      <td>0.320041</td>\n",
              "      <td>88.358626</td>\n",
              "      <td>34.003062</td>\n",
              "    </tr>\n",
              "  </tbody>\n",
              "</table>\n",
              "</div>\n",
              "      <button class=\"colab-df-convert\" onclick=\"convertToInteractive('df-12a49653-101b-4ed8-ab5a-f1e4c310c76a')\"\n",
              "              title=\"Convert this dataframe to an interactive table.\"\n",
              "              style=\"display:none;\">\n",
              "\n",
              "  <svg xmlns=\"http://www.w3.org/2000/svg\" height=\"24px\"viewBox=\"0 0 24 24\"\n",
              "       width=\"24px\">\n",
              "    <path d=\"M0 0h24v24H0V0z\" fill=\"none\"/>\n",
              "    <path d=\"M18.56 5.44l.94 2.06.94-2.06 2.06-.94-2.06-.94-.94-2.06-.94 2.06-2.06.94zm-11 1L8.5 8.5l.94-2.06 2.06-.94-2.06-.94L8.5 2.5l-.94 2.06-2.06.94zm10 10l.94 2.06.94-2.06 2.06-.94-2.06-.94-.94-2.06-.94 2.06-2.06.94z\"/><path d=\"M17.41 7.96l-1.37-1.37c-.4-.4-.92-.59-1.43-.59-.52 0-1.04.2-1.43.59L10.3 9.45l-7.72 7.72c-.78.78-.78 2.05 0 2.83L4 21.41c.39.39.9.59 1.41.59.51 0 1.02-.2 1.41-.59l7.78-7.78 2.81-2.81c.8-.78.8-2.07 0-2.86zM5.41 20L4 18.59l7.72-7.72 1.47 1.35L5.41 20z\"/>\n",
              "  </svg>\n",
              "      </button>\n",
              "\n",
              "\n",
              "\n",
              "    <div id=\"df-9015b433-802e-4220-8924-b6702ad03017\">\n",
              "      <button class=\"colab-df-quickchart\" onclick=\"quickchart('df-9015b433-802e-4220-8924-b6702ad03017')\"\n",
              "              title=\"Suggest charts.\"\n",
              "              style=\"display:none;\">\n",
              "\n",
              "<svg xmlns=\"http://www.w3.org/2000/svg\" height=\"24px\"viewBox=\"0 0 24 24\"\n",
              "     width=\"24px\">\n",
              "    <g>\n",
              "        <path d=\"M19 3H5c-1.1 0-2 .9-2 2v14c0 1.1.9 2 2 2h14c1.1 0 2-.9 2-2V5c0-1.1-.9-2-2-2zM9 17H7v-7h2v7zm4 0h-2V7h2v10zm4 0h-2v-4h2v4z\"/>\n",
              "    </g>\n",
              "</svg>\n",
              "      </button>\n",
              "    </div>\n",
              "\n",
              "<style>\n",
              "  .colab-df-quickchart {\n",
              "    background-color: #E8F0FE;\n",
              "    border: none;\n",
              "    border-radius: 50%;\n",
              "    cursor: pointer;\n",
              "    display: none;\n",
              "    fill: #1967D2;\n",
              "    height: 32px;\n",
              "    padding: 0 0 0 0;\n",
              "    width: 32px;\n",
              "  }\n",
              "\n",
              "  .colab-df-quickchart:hover {\n",
              "    background-color: #E2EBFA;\n",
              "    box-shadow: 0px 1px 2px rgba(60, 64, 67, 0.3), 0px 1px 3px 1px rgba(60, 64, 67, 0.15);\n",
              "    fill: #174EA6;\n",
              "  }\n",
              "\n",
              "  [theme=dark] .colab-df-quickchart {\n",
              "    background-color: #3B4455;\n",
              "    fill: #D2E3FC;\n",
              "  }\n",
              "\n",
              "  [theme=dark] .colab-df-quickchart:hover {\n",
              "    background-color: #434B5C;\n",
              "    box-shadow: 0px 1px 3px 1px rgba(0, 0, 0, 0.15);\n",
              "    filter: drop-shadow(0px 1px 2px rgba(0, 0, 0, 0.3));\n",
              "    fill: #FFFFFF;\n",
              "  }\n",
              "</style>\n",
              "\n",
              "    <script>\n",
              "      async function quickchart(key) {\n",
              "        const containerElement = document.querySelector('#' + key);\n",
              "        const charts = await google.colab.kernel.invokeFunction(\n",
              "            'suggestCharts', [key], {});\n",
              "      }\n",
              "    </script>\n",
              "\n",
              "      <script>\n",
              "\n",
              "function displayQuickchartButton(domScope) {\n",
              "  let quickchartButtonEl =\n",
              "    domScope.querySelector('#df-9015b433-802e-4220-8924-b6702ad03017 button.colab-df-quickchart');\n",
              "  quickchartButtonEl.style.display =\n",
              "    google.colab.kernel.accessAllowed ? 'block' : 'none';\n",
              "}\n",
              "\n",
              "        displayQuickchartButton(document);\n",
              "      </script>\n",
              "      <style>\n",
              "    .colab-df-container {\n",
              "      display:flex;\n",
              "      flex-wrap:wrap;\n",
              "      gap: 12px;\n",
              "    }\n",
              "\n",
              "    .colab-df-convert {\n",
              "      background-color: #E8F0FE;\n",
              "      border: none;\n",
              "      border-radius: 50%;\n",
              "      cursor: pointer;\n",
              "      display: none;\n",
              "      fill: #1967D2;\n",
              "      height: 32px;\n",
              "      padding: 0 0 0 0;\n",
              "      width: 32px;\n",
              "    }\n",
              "\n",
              "    .colab-df-convert:hover {\n",
              "      background-color: #E2EBFA;\n",
              "      box-shadow: 0px 1px 2px rgba(60, 64, 67, 0.3), 0px 1px 3px 1px rgba(60, 64, 67, 0.15);\n",
              "      fill: #174EA6;\n",
              "    }\n",
              "\n",
              "    [theme=dark] .colab-df-convert {\n",
              "      background-color: #3B4455;\n",
              "      fill: #D2E3FC;\n",
              "    }\n",
              "\n",
              "    [theme=dark] .colab-df-convert:hover {\n",
              "      background-color: #434B5C;\n",
              "      box-shadow: 0px 1px 3px 1px rgba(0, 0, 0, 0.15);\n",
              "      filter: drop-shadow(0px 1px 2px rgba(0, 0, 0, 0.3));\n",
              "      fill: #FFFFFF;\n",
              "    }\n",
              "  </style>\n",
              "\n",
              "      <script>\n",
              "        const buttonEl =\n",
              "          document.querySelector('#df-12a49653-101b-4ed8-ab5a-f1e4c310c76a button.colab-df-convert');\n",
              "        buttonEl.style.display =\n",
              "          google.colab.kernel.accessAllowed ? 'block' : 'none';\n",
              "\n",
              "        async function convertToInteractive(key) {\n",
              "          const element = document.querySelector('#df-12a49653-101b-4ed8-ab5a-f1e4c310c76a');\n",
              "          const dataTable =\n",
              "            await google.colab.kernel.invokeFunction('convertToInteractive',\n",
              "                                                     [key], {});\n",
              "          if (!dataTable) return;\n",
              "\n",
              "          const docLinkHtml = 'Like what you see? Visit the ' +\n",
              "            '<a target=\"_blank\" href=https://colab.research.google.com/notebooks/data_table.ipynb>data table notebook</a>'\n",
              "            + ' to learn more about interactive tables.';\n",
              "          element.innerHTML = '';\n",
              "          dataTable['output_type'] = 'display_data';\n",
              "          await google.colab.output.renderOutput(dataTable, element);\n",
              "          const docLink = document.createElement('div');\n",
              "          docLink.innerHTML = docLinkHtml;\n",
              "          element.appendChild(docLink);\n",
              "        }\n",
              "      </script>\n",
              "    </div>\n",
              "  </div>\n"
            ]
          },
          "metadata": {},
          "execution_count": 177
        }
      ]
    },
    {
      "cell_type": "code",
      "source": [
        "# Visualie our model resulst\n",
        "compare_results.set_index('model_name').plot(kind='barh')\n",
        "plt.xlabel('metrics')\n",
        "plt.ylabel('model')"
      ],
      "metadata": {
        "colab": {
          "base_uri": "https://localhost:8080/",
          "height": 467
        },
        "id": "VnLf4dkN8VAL",
        "outputId": "da98f543-d96e-444a-e06f-f9fa05f639d3"
      },
      "execution_count": null,
      "outputs": [
        {
          "output_type": "execute_result",
          "data": {
            "text/plain": [
              "Text(0, 0.5, 'model')"
            ]
          },
          "metadata": {},
          "execution_count": 180
        },
        {
          "output_type": "display_data",
          "data": {
            "text/plain": [
              "<Figure size 640x480 with 1 Axes>"
            ],
            "image/png": "[encoded data removed]"
          },
          "metadata": {}
        }
      ]
    },
    {
      "cell_type": "markdown",
      "source": [
        "## Make and Evaluate Random Predictions with best models"
      ],
      "metadata": {
        "id": "jTW7wMiJ-2it"
      }
    },
    {
      "cell_type": "code",
      "source": [
        "def make_predictions(model: torch.nn.Module,\n",
        "                     data: list,\n",
        "                     device: torch.device = device):\n",
        "    pred_probs = []\n",
        "    model.to(device) # to be sure it's on the same device\n",
        "    model.eval()\n",
        "    with torch.inference_mode():\n",
        "        for sample in data:\n",
        "            # prepare the sample\n",
        "            sample = torch.unsqueeze(sample, dim=0).to(device) # unsqueeze to add a batch dimension\n",
        "\n",
        "            # forward pass (model outputs raw logits)\n",
        "            pred_logit = model(sample)\n",
        "            # prediction probability\n",
        "            pred_prob = torch.softmax(pred_logit.squeeze(), dim=0)\n",
        "            # get pred_prob off GPU for further calculations (matplotlib does not work wtih cuda)\n",
        "\n",
        "            pred_probs.append(pred_prob.cpu())\n",
        "\n",
        "    # stack the pred probs to turn list into a tensor\n",
        "\n",
        "    return torch.stack(pred_probs)"
      ],
      "metadata": {
        "id": "lUmMPvTV9umZ"
      },
      "execution_count": null,
      "outputs": []
    },
    {
      "cell_type": "code",
      "source": [
        "img, label = test_data[0][:10]\n",
        "img.shape, label"
      ],
      "metadata": {
        "colab": {
          "base_uri": "https://localhost:8080/"
        },
        "id": "Lh_FYP3z_4Cx",
        "outputId": "8cfc5321-fbc5-4c03-eb94-d43392c8fc10"
      },
      "execution_count": null,
      "outputs": [
        {
          "output_type": "execute_result",
          "data": {
            "text/plain": [
              "(torch.Size([1, 28, 28]), 9)"
            ]
          },
          "metadata": {},
          "execution_count": 222
        }
      ]
    },
    {
      "cell_type": "code",
      "source": [
        "import random\n",
        "# random.seed(42)\n",
        "test_samples = []\n",
        "test_labels = []\n",
        "for sample, label in random.sample(list(test_data), k=9):\n",
        "    test_samples.append(sample)\n",
        "    test_labels.append(label)\n",
        "\n",
        "# view the first sample shape\n",
        "display(test_samples[0].shape)\n",
        "\n",
        "plt.imshow(test_samples[0].squeeze(), cmap='gray')\n",
        "plt.title(str(test_labels[0]) +': ' + class_names[test_labels[0]])"
      ],
      "metadata": {
        "colab": {
          "base_uri": "https://localhost:8080/",
          "height": 488
        },
        "id": "dI1VhRUQ_t1o",
        "outputId": "389c76bb-00a0-49af-b558-aeac63322073"
      },
      "execution_count": null,
      "outputs": [
        {
          "output_type": "display_data",
          "data": {
            "text/plain": [
              "torch.Size([1, 28, 28])"
            ]
          },
          "metadata": {}
        },
        {
          "output_type": "execute_result",
          "data": {
            "text/plain": [
              "Text(0.5, 1.0, '5: Sandal')"
            ]
          },
          "metadata": {},
          "execution_count": 223
        },
        {
          "output_type": "display_data",
          "data": {
            "text/plain": [
              "<Figure size 640x480 with 1 Axes>"
            ],
            "image/png": "[encoded data removed]"
          },
          "metadata": {}
        }
      ]
    },
    {
      "cell_type": "code",
      "source": [
        "pred_probs = make_predictions(model=model_2, data=test_samples)\n",
        "\n",
        "# view the first 2 prediction probabilities\n",
        "pred_probs[:2]"
      ],
      "metadata": {
        "colab": {
          "base_uri": "https://localhost:8080/"
        },
        "id": "hjNMux7qAxVI",
        "outputId": "b44930e1-b3f1-4b70-9947-8106fe0072e7"
      },
      "execution_count": null,
      "outputs": [
        {
          "output_type": "execute_result",
          "data": {
            "text/plain": [
              "tensor([[1.0276e-06, 4.9109e-08, 3.8003e-08, 3.6726e-07, 1.0597e-06, 9.9994e-01,\n",
              "         1.5482e-05, 9.0622e-06, 3.3272e-05, 1.1242e-06],\n",
              "        [1.1575e-03, 2.9094e-07, 1.5787e-02, 1.1389e-04, 2.8162e-02, 1.0140e-07,\n",
              "         9.5477e-01, 1.4587e-08, 3.8813e-06, 6.1568e-07]])"
            ]
          },
          "metadata": {},
          "execution_count": 224
        }
      ]
    },
    {
      "cell_type": "code",
      "source": [
        "# convert prediction probabilities to labels\n",
        "pred_classes = pred_probs.argmax(1)\n",
        "pred_classes, test_labels"
      ],
      "metadata": {
        "colab": {
          "base_uri": "https://localhost:8080/"
        },
        "id": "9vSWZdRJBN0J",
        "outputId": "8d507859-a30b-41da-fedc-a2c5dcbfcff6"
      },
      "execution_count": null,
      "outputs": [
        {
          "output_type": "execute_result",
          "data": {
            "text/plain": [
              "(tensor([5, 6, 6, 4, 3, 1, 2, 3, 6]), [5, 6, 6, 4, 3, 1, 4, 6, 6])"
            ]
          },
          "metadata": {},
          "execution_count": 225
        }
      ]
    },
    {
      "cell_type": "code",
      "source": [
        "# plot predictions\n",
        "plt.figure(figsize=(9,9))\n",
        "nrows = ncols = 3\n",
        "for i, sample in enumerate(test_samples):\n",
        "    # create subplot\n",
        "    plt.subplot(nrows,ncols, i+1)\n",
        "    # plot the target image\n",
        "    plt.imshow(sample.squeeze(), cmap='gray')\n",
        "    # find the prediction label in text form\n",
        "    pred_label = class_names[pred_classes[i]]\n",
        "    # get the truth label (in text form)\n",
        "    truth_label = class_names[test_labels[i]]\n",
        "\n",
        "    # create a title for the plot\n",
        "    title_text = f\"Pred: {pred_label} \\nTruth: {truth_label}\"\n",
        "    # check for equality between pred and truth and show in color of title text\n",
        "    if pred_label == truth_label:\n",
        "        plt.title(title_text, c='g')\n",
        "    else:\n",
        "        plt.title(title_text, c='r')\n",
        "    plt.axis(False)\n",
        "    # plt.tight_layout()\n"
      ],
      "metadata": {
        "colab": {
          "base_uri": "https://localhost:8080/",
          "height": 773
        },
        "id": "uiGe3nCVBUld",
        "outputId": "cd908dfc-877e-4e84-f127-9e737e0c3ae5"
      },
      "execution_count": null,
      "outputs": [
        {
          "output_type": "display_data",
          "data": {
            "text/plain": [
              "<Figure size 900x900 with 9 Axes>"
            ],
            "image/png": "[encoded data removed]"
          },
          "metadata": {}
        }
      ]
    },
    {
      "cell_type": "markdown",
      "source": [
        "## Making a confusion matrix for further model evaluation\n",
        "\n",
        "`torchmetrics.ConfusionMatrix`\n",
        "\n",
        "`mlxtend.plotting.plot_confusion_matrix()`\n",
        "\n",
        "https://rasbt.github.io/mlxtend/user_guide/plotting/plot_confusion_matrix/\n"
      ],
      "metadata": {
        "id": "Ern5Whe7J5d0"
      }
    },
    {
      "cell_type": "code",
      "source": [
        "from tqdm.auto import tqdm\n",
        "\n",
        "# make predictions\n",
        "y_preds = []\n",
        "model_2.eval()\n",
        "with torch.inference_mode():\n",
        "    for X, y in tqdm(test_dataloader, desc = \"Making predictions...\"):\n",
        "        X, y = X.to(device), y.to(device)\n",
        "        y_logit = model_2(X)\n",
        "        y_pred = torch.softmax(y_logit.squeeze(), dim=0).argmax(dim=1)\n",
        "        # put predictions on cpu for evaluation\n",
        "        y_preds.append(y_pred.cpu())\n",
        "\n",
        "# concantenate list of predictions into a tensor\n",
        "print(y_preds)\n",
        "y_pred_tensor = torch.cat(y_preds)\n",
        "y_pred_tensor[:10], y_pred_tensor.shape"
      ],
      "metadata": {
        "colab": {
          "base_uri": "https://localhost:8080/",
          "height": 1000,
          "referenced_widgets": [
            "8eea87f8d24540adb478015154a9fbad",
            "9190adb039b84cd4bd449e22f233a6af",
            "8a7a6cfdae6b4125bd4e706d6233e4d8",
            "0396b2886a464704a9cbf882223527ec",
            "55efa8d0d9bf43849250ea5113cb1455",
            "995fffa1eeed40dca87bd6d5a7625dce",
            "3dbe020314cf4382a27d0996e2a76052",
            "89519e64babd452480bb674111450ccc",
            "479e143f4ebd44f4997767c99f5bd589",
            "4ac3229def7b419c8a27dba102933271",
            "c7506e59b3f44f889619428a97c77bd9"
          ]
        },
        "id": "66n1fKpLFY19",
        "outputId": "ad98dbc5-0c9a-4919-8663-c50709cf84a7"
      },
      "execution_count": null,
      "outputs": [
        {
          "output_type": "display_data",
          "data": {
            "text/plain": [
              "Making predictions...:   0%|          | 0/313 [00:00<?, ?it/s]"
            ],
            "application/vnd.jupyter.widget-view+json": {
              "version_major": 2,
              "version_minor": 0,
              "model_id": "8eea87f8d24540adb478015154a9fbad"
            }
          },
          "metadata": {}
        },
        {
          "output_type": "stream",
          "name": "stdout",
          "text": [
            "[tensor([9, 2, 1, 1, 6, 1, 4, 6, 5, 7, 4, 5, 3, 3, 4, 1, 2, 6, 8, 0, 2, 7, 7, 5,\n",
            "        1, 6, 6, 3, 9, 3, 8, 8]), tensor([3, 3, 8, 0, 7, 5, 7, 9, 6, 1, 3, 7, 4, 7, 2, 1, 4, 6, 4, 6, 5, 8, 2, 2,\n",
            "        8, 4, 8, 0, 7, 7, 8, 5]), tensor([1, 3, 3, 3, 7, 8, 7, 0, 2, 6, 4, 3, 1, 2, 8, 4, 3, 8, 5, 9, 5, 0, 3, 2,\n",
            "        0, 6, 5, 3, 6, 7, 1, 8]), tensor([6, 1, 4, 2, 3, 6, 7, 6, 7, 8, 5, 9, 9, 4, 2, 5, 7, 6, 5, 2, 8, 4, 7, 8,\n",
            "        0, 0, 9, 9, 3, 0, 8, 4]), tensor([1, 5, 4, 1, 9, 1, 8, 6, 6, 1, 2, 5, 1, 6, 0, 0, 1, 6, 1, 3, 2, 2, 3, 4,\n",
            "        1, 4, 5, 6, 4, 7, 9, 3]), tensor([7, 2, 8, 8, 0, 9, 2, 7, 4, 2, 6, 5, 6, 1, 2, 8, 3, 0, 9, 1, 0, 9, 3, 6,\n",
            "        7, 9, 9, 4, 4, 7, 1, 2]), tensor([3, 6, 3, 2, 8, 3, 6, 1, 1, 0, 2, 9, 2, 6, 0, 7, 9, 8, 4, 1, 8, 4, 1, 3,\n",
            "        1, 6, 7, 2, 8, 5, 6, 0]), tensor([7, 7, 6, 6, 7, 0, 7, 8, 9, 2, 9, 0, 5, 1, 3, 2, 5, 3, 9, 2, 2, 8, 6, 4,\n",
            "        6, 2, 9, 7, 3, 5, 5, 4]), tensor([8, 5, 2, 3, 0, 4, 8, 2, 0, 6, 3, 8, 9, 6, 1, 3, 0, 2, 3, 0, 8, 3, 7, 4,\n",
            "        0, 1, 6, 3, 6, 6, 6, 7]), tensor([8, 3, 8, 9, 5, 6, 5, 5, 3, 9, 8, 8, 3, 3, 6, 8, 0, 0, 2, 9, 7, 7, 1, 3,\n",
            "        3, 6, 2, 4, 7, 1, 6, 4]), tensor([8, 2, 6, 5, 4, 2, 7, 7, 7, 3, 3, 7, 0, 7, 1, 3, 8, 0, 2, 3, 4, 0, 0, 1,\n",
            "        6, 1, 9, 4, 9, 9, 1, 7]), tensor([8, 3, 6, 0, 2, 4, 8, 6, 1, 6, 2, 4, 4, 7, 3, 2, 2, 8, 0, 7, 9, 4, 6, 9,\n",
            "        3, 9, 8, 2, 5, 6, 0, 3]), tensor([5, 8, 1, 6, 2, 2, 6, 4, 9, 5, 2, 0, 6, 6, 1, 2, 0, 9, 7, 3, 3, 4, 3, 6,\n",
            "        2, 3, 3, 6, 7, 3, 9, 4]), tensor([2, 1, 5, 4, 5, 3, 8, 5, 8, 4, 4, 8, 9, 8, 6, 2, 4, 4, 2, 4, 1, 6, 1, 3,\n",
            "        0, 7, 8, 8, 6, 5, 3, 1]), tensor([9, 5, 3, 3, 6, 1, 3, 2, 9, 4, 0, 6, 3, 4, 2, 0, 0, 3, 3, 2, 2, 8, 9, 4,\n",
            "        0, 7, 6, 4, 6, 9, 3, 9]), tensor([7, 9, 3, 7, 5, 7, 8, 1, 6, 0, 6, 4, 8, 9, 7, 9, 1, 2, 7, 6, 2, 0, 5, 7,\n",
            "        1, 8, 2, 2, 2, 2, 4, 6]), tensor([6, 0, 9, 0, 7, 1, 9, 0, 2, 8, 3, 0, 9, 2, 6, 6, 8, 0, 2, 0, 7, 0, 7, 5,\n",
            "        0, 9, 4, 3, 4, 2, 5, 1]), tensor([0, 1, 2, 0, 2, 9, 6, 3, 3, 1, 3, 1, 9, 3, 4, 5, 3, 3, 2, 6, 4, 6, 0, 5,\n",
            "        8, 3, 3, 4, 6, 7, 7, 8]), tensor([9, 6, 3, 8, 7, 6, 7, 9, 3, 2, 6, 3, 8, 4, 1, 3, 5, 9, 4, 6, 5, 7, 8, 1,\n",
            "        2, 9, 7, 7, 1, 0, 9, 3]), tensor([4, 9, 0, 5, 6, 8, 2, 7, 1, 2, 3, 8, 2, 4, 1, 5, 3, 0, 7, 8, 8, 2, 9, 4,\n",
            "        1, 6, 4, 1, 0, 1, 4, 1]), tensor([7, 5, 8, 4, 9, 1, 6, 5, 4, 4, 4, 0, 0, 4, 5, 6, 0, 4, 5, 2, 1, 8, 1, 3,\n",
            "        6, 2, 3, 8, 2, 8, 6, 7]), tensor([0, 4, 1, 8, 5, 0, 8, 2, 9, 1, 8, 7, 6, 3, 4, 9, 6, 4, 5, 0, 7, 5, 3, 6,\n",
            "        6, 2, 1, 3, 8, 1, 1, 0]), tensor([9, 7, 9, 4, 8, 9, 1, 3, 7, 8, 0, 2, 6, 7, 1, 0, 0, 8, 7, 2, 2, 4, 4, 4,\n",
            "        1, 5, 9, 0, 0, 3, 6, 5]), tensor([6, 2, 4, 6, 3, 8, 1, 1, 8, 5, 7, 9, 8, 7, 2, 6, 7, 6, 8, 0, 9, 7, 6, 1,\n",
            "        6, 6, 4, 8, 6, 6, 3, 6]), tensor([8, 4, 0, 8, 9, 2, 4, 5, 9, 1, 4, 4, 9, 2, 3, 7, 9, 8, 8, 3, 7, 7, 3, 1,\n",
            "        1, 6, 9, 5, 3, 8, 4, 2]), tensor([7, 0, 8, 3, 2, 2, 4, 7, 1, 4, 9, 0, 5, 8, 5, 4, 7, 2, 8, 5, 9, 3, 3, 6,\n",
            "        7, 1, 7, 0, 8, 4, 6, 0]), tensor([8, 3, 7, 1, 2, 6, 1, 9, 8, 6, 7, 1, 3, 7, 5, 9, 9, 3, 8, 4, 5, 7, 1, 5,\n",
            "        8, 1, 0, 0, 4, 1, 7, 1]), tensor([1, 8, 7, 1, 5, 2, 2, 3, 3, 1, 1, 4, 9, 4, 3, 7, 7, 6, 8, 9, 9, 6, 1, 3,\n",
            "        4, 0, 0, 5, 9, 4, 0, 5]), tensor([9, 1, 9, 7, 8, 7, 9, 3, 6, 4, 0, 4, 0, 2, 0, 2, 5, 5, 1, 2, 0, 9, 3, 7,\n",
            "        8, 4, 8, 3, 4, 7, 0, 7]), tensor([4, 8, 6, 3, 4, 2, 3, 6, 9, 6, 2, 4, 9, 1, 8, 1, 7, 5, 5, 6, 6, 2, 1, 0,\n",
            "        5, 4, 0, 0, 6, 7, 8, 0]), tensor([2, 5, 9, 6, 8, 6, 0, 3, 0, 2, 9, 3, 7, 7, 1, 4, 4, 0, 5, 0, 9, 9, 8, 8,\n",
            "        2, 0, 2, 4, 6, 6, 3, 2]), tensor([3, 8, 4, 9, 3, 4, 7, 7, 0, 3, 5, 5, 6, 4, 5, 9, 6, 3, 7, 5, 1, 9, 8, 8,\n",
            "        6, 9, 2, 7, 2, 2, 3, 8]), tensor([7, 4, 4, 5, 4, 8, 6, 1, 4, 9, 3, 1, 6, 8, 0, 5, 7, 5, 2, 3, 3, 9, 4, 3,\n",
            "        6, 0, 4, 8, 0, 4, 9, 2]), tensor([6, 3, 2, 7, 0, 2, 1, 1, 3, 6, 6, 5, 9, 0, 1, 6, 5, 1, 4, 4, 8, 4, 7, 7,\n",
            "        3, 8, 3, 1, 9, 8, 1, 3]), tensor([3, 7, 5, 0, 5, 7, 8, 9, 6, 3, 5, 0, 2, 6, 3, 8, 6, 5, 5, 2, 7, 1, 5, 3,\n",
            "        5, 4, 8, 6, 2, 1, 1, 7]), tensor([9, 6, 2, 7, 0, 4, 8, 2, 2, 0, 1, 4, 4, 9, 6, 8, 4, 5, 9, 0, 3, 9, 6, 9,\n",
            "        8, 7, 4, 2, 2, 5, 1, 7]), tensor([0, 7, 2, 9, 3, 7, 0, 9, 3, 8, 4, 4, 7, 2, 3, 6, 2, 0, 7, 8, 4, 2, 4, 5,\n",
            "        5, 6, 4, 5, 5, 0, 1, 1]), tensor([7, 4, 3, 9, 6, 8, 7, 2, 2, 1, 2, 7, 7, 4, 9, 8, 5, 1, 3, 3, 2, 3, 9, 3,\n",
            "        1, 9, 3, 5, 5, 2, 0, 7]), tensor([0, 2, 3, 1, 3, 1, 3, 8, 7, 2, 4, 9, 5, 2, 9, 6, 3, 4, 4, 0, 6, 8, 2, 2,\n",
            "        8, 6, 1, 4, 2, 7, 4, 8]), tensor([8, 3, 2, 3, 0, 4, 3, 6, 8, 3, 8, 6, 0, 4, 4, 8, 7, 4, 5, 2, 2, 3, 0, 1,\n",
            "        9, 0, 9, 1, 7, 3, 7, 4]), tensor([2, 7, 3, 8, 7, 6, 8, 6, 7, 5, 8, 9, 5, 6, 6, 0, 2, 2, 4, 4, 8, 7, 1, 3,\n",
            "        4, 6, 6, 8, 1, 6, 7, 3]), tensor([2, 8, 8, 2, 8, 7, 4, 1, 6, 5, 2, 7, 8, 7, 6, 8, 5, 2, 2, 8, 9, 8, 3, 3,\n",
            "        3, 8, 8, 3, 0, 9, 4, 4]), tensor([8, 1, 3, 6, 1, 9, 2, 1, 6, 4, 7, 9, 2, 6, 3, 6, 4, 2, 4, 5, 0, 2, 8, 3,\n",
            "        7, 6, 4, 0, 0, 5, 4, 8]), tensor([2, 4, 2, 0, 2, 1, 7, 9, 5, 4, 7, 2, 2, 7, 3, 3, 1, 3, 4, 6, 6, 1, 9, 2,\n",
            "        4, 7, 1, 0, 6, 5, 8, 4]), tensor([3, 7, 9, 8, 0, 7, 9, 8, 1, 2, 9, 5, 8, 3, 9, 9, 1, 2, 7, 8, 0, 1, 7, 2,\n",
            "        7, 1, 1, 5, 5, 6, 4, 8]), tensor([9, 5, 5, 2, 3, 9, 3, 8, 5, 4, 0, 0, 6, 5, 7, 4, 7, 2, 6, 4, 4, 7, 6, 0,\n",
            "        5, 1, 7, 2, 3, 4, 8, 9]), tensor([8, 7, 1, 2, 0, 2, 9, 7, 8, 6, 3, 0, 7, 1, 2, 4, 9, 3, 6, 4, 4, 3, 0, 0,\n",
            "        6, 3, 6, 1, 3, 7, 6, 5]), tensor([3, 9, 1, 1, 8, 2, 9, 5, 0, 7, 4, 6, 7, 1, 1, 5, 3, 8, 7, 8, 3, 8, 9, 6,\n",
            "        6, 1, 1, 3, 5, 6, 7, 1]), tensor([9, 9, 2, 2, 7, 0, 1, 3, 9, 6, 3, 7, 2, 8, 1, 8, 0, 7, 9, 8, 8, 4, 2, 6,\n",
            "        4, 6, 6, 5, 8, 3, 8, 7]), tensor([8, 7, 3, 7, 0, 7, 0, 4, 2, 8, 3, 5, 1, 1, 7, 7, 6, 4, 6, 4, 2, 8, 6, 8,\n",
            "        3, 4, 9, 9, 4, 8, 2, 2]), tensor([7, 8, 0, 7, 9, 1, 2, 9, 4, 5, 3, 6, 3, 3, 4, 8, 8, 5, 3, 8, 6, 6, 6, 3,\n",
            "        2, 0, 2, 7, 3, 2, 8, 3]), tensor([9, 7, 3, 1, 7, 5, 8, 8, 2, 0, 0, 4, 4, 6, 6, 7, 0, 6, 0, 7, 7, 3, 9, 2,\n",
            "        5, 9, 7, 3, 7, 2, 4, 5]), tensor([1, 4, 5, 4, 5, 0, 4, 2, 1, 4, 4, 8, 4, 7, 9, 4, 1, 1, 7, 2, 3, 5, 6, 3,\n",
            "        9, 7, 7, 3, 8, 8, 8, 7]), tensor([1, 1, 6, 3, 1, 4, 3, 4, 9, 5, 0, 0, 6, 9, 4, 9, 6, 6, 1, 8, 9, 2, 5, 4,\n",
            "        8, 0, 7, 2, 3, 0, 4, 5]), tensor([6, 1, 9, 6, 4, 2, 5, 9, 6, 8, 3, 6, 6, 6, 0, 4, 2, 6, 6, 5, 0, 2, 7, 8,\n",
            "        7, 4, 3, 6, 0, 5, 2, 4]), tensor([2, 9, 5, 2, 6, 7, 0, 1, 9, 8, 5, 0, 7, 7, 5, 0, 5, 3, 3, 4, 7, 9, 8, 2,\n",
            "        4, 7, 3, 3, 7, 7, 7, 8]), tensor([4, 9, 8, 7, 6, 8, 7, 5, 1, 3, 0, 4, 9, 9, 8, 2, 7, 0, 2, 4, 9, 3, 3, 1,\n",
            "        7, 9, 1, 8, 7, 2, 8, 2]), tensor([5, 7, 6, 7, 5, 5, 4, 0, 7, 3, 3, 2, 6, 2, 9, 9, 0, 3, 6, 8, 3, 8, 8, 4,\n",
            "        6, 1, 8, 2, 6, 5, 0, 4]), tensor([4, 3, 0, 6, 1, 6, 8, 4, 9, 0, 7, 6, 7, 7, 1, 5, 8, 7, 2, 9, 9, 1, 2, 6,\n",
            "        1, 1, 1, 8, 8, 1, 4, 7]), tensor([5, 2, 0, 8, 4, 8, 9, 4, 1, 3, 1, 9, 6, 1, 3, 3, 8, 0, 9, 9, 7, 6, 3, 4,\n",
            "        4, 3, 1, 7, 7, 4, 2, 0]), tensor([3, 6, 4, 6, 3, 7, 2, 4, 2, 2, 3, 8, 7, 1, 8, 7, 5, 9, 7, 6, 6, 2, 9, 0,\n",
            "        4, 3, 9, 5, 0, 6, 1, 0]), tensor([3, 7, 9, 3, 7, 4, 5, 7, 9, 8, 9, 1, 4, 8, 3, 2, 6, 6, 6, 8, 3, 8, 3, 8,\n",
            "        6, 0, 8, 8, 4, 2, 9, 3]), tensor([2, 0, 8, 5, 9, 6, 3, 1, 3, 9, 5, 1, 3, 3, 6, 0, 8, 4, 1, 3, 8, 8, 6, 7,\n",
            "        7, 0, 6, 7, 3, 3, 2, 4]), tensor([6, 5, 8, 6, 4, 3, 9, 1, 1, 7, 3, 8, 7, 2, 2, 9, 3, 9, 9, 0, 1, 8, 1, 4,\n",
            "        8, 3, 6, 9, 3, 4, 0, 0]), tensor([7, 6, 9, 9, 5, 5, 7, 0, 9, 3, 3, 6, 9, 8, 4, 2, 6, 3, 9, 4, 3, 6, 7, 4,\n",
            "        0, 3, 8, 1, 8, 7, 4, 4]), tensor([5, 2, 2, 9, 1, 9, 4, 9, 1, 3, 2, 8, 8, 7, 7, 7, 7, 3, 6, 0, 7, 5, 8, 5,\n",
            "        3, 0, 4, 4, 9, 4, 4, 3]), tensor([3, 9, 3, 8, 2, 2, 2, 3, 7, 8, 7, 6, 4, 4, 8, 2, 8, 5, 4, 8, 9, 1, 8, 9,\n",
            "        8, 6, 6, 8, 0, 1, 8, 7]), tensor([6, 6, 7, 7, 3, 6, 4, 3, 4, 7, 8, 7, 2, 8, 0, 8, 7, 4, 4, 6, 7, 6, 9, 9,\n",
            "        3, 1, 5, 9, 3, 1, 6, 3]), tensor([3, 8, 8, 7, 9, 8, 4, 8, 9, 0, 7, 9, 3, 4, 6, 0, 5, 7, 7, 2, 4, 8, 0, 1,\n",
            "        1, 9, 4, 3, 9, 5, 8, 7]), tensor([2, 4, 9, 0, 2, 1, 9, 7, 1, 5, 6, 5, 5, 0, 3, 3, 0, 3, 3, 7, 4, 2, 6, 8,\n",
            "        5, 9, 2, 1, 3, 5, 8, 4]), tensor([5, 3, 7, 4, 4, 3, 9, 6, 0, 0, 9, 1, 4, 3, 3, 5, 3, 8, 5, 1, 1, 2, 9, 4,\n",
            "        0, 5, 6, 8, 6, 2, 9, 8]), tensor([2, 4, 8, 3, 8, 0, 2, 2, 6, 4, 8, 5, 4, 9, 0, 9, 5, 8, 0, 9, 1, 2, 7, 2,\n",
            "        1, 2, 6, 3, 6, 5, 2, 4]), tensor([8, 5, 5, 2, 6, 6, 8, 3, 6, 1, 9, 2, 7, 7, 2, 6, 2, 6, 3, 4, 8, 5, 6, 6,\n",
            "        3, 3, 1, 4, 2, 0, 4, 9]), tensor([6, 4, 1, 9, 9, 8, 1, 4, 8, 3, 3, 3, 6, 5, 9, 2, 2, 8, 7, 2, 3, 6, 0, 4,\n",
            "        5, 7, 5, 0, 7, 9, 1, 2]), tensor([6, 8, 9, 3, 5, 2, 2, 4, 4, 7, 8, 9, 1, 8, 2, 5, 5, 3, 1, 1, 8, 8, 3, 6,\n",
            "        7, 0, 1, 8, 6, 6, 4, 9]), tensor([8, 7, 8, 8, 6, 9, 1, 8, 2, 2, 7, 7, 0, 5, 1, 3, 0, 6, 4, 3, 0, 4, 3, 3,\n",
            "        1, 6, 3, 3, 4, 4, 5, 6]), tensor([9, 8, 3, 4, 1, 0, 2, 1, 2, 4, 2, 8, 4, 9, 2, 7, 7, 5, 0, 6, 0, 7, 0, 3,\n",
            "        9, 7, 3, 6, 1, 7, 4, 1]), tensor([6, 4, 5, 4, 1, 4, 8, 5, 7, 4, 7, 3, 3, 8, 3, 0, 6, 8, 9, 0, 7, 6, 2, 4,\n",
            "        7, 3, 2, 2, 8, 7, 9, 2]), tensor([3, 3, 3, 3, 6, 2, 7, 4, 1, 2, 6, 4, 3, 4, 8, 5, 0, 8, 8, 6, 7, 8, 1, 5,\n",
            "        9, 8, 6, 9, 0, 9, 3, 7]), tensor([5, 9, 9, 6, 0, 7, 1, 5, 5, 9, 5, 4, 4, 2, 4, 5, 9, 7, 4, 2, 6, 9, 9, 3,\n",
            "        2, 1, 3, 7, 3, 8, 7, 7]), tensor([1, 8, 9, 3, 7, 7, 7, 1, 7, 3, 6, 6, 2, 3, 5, 2, 8, 9, 6, 8, 0, 0, 7, 7,\n",
            "        5, 0, 1, 9, 3, 6, 4, 9]), tensor([2, 2, 6, 9, 1, 0, 5, 8, 9, 2, 8, 0, 3, 6, 0, 7, 4, 8, 7, 4, 1, 7, 8, 0,\n",
            "        4, 0, 4, 4, 1, 0, 6, 9]), tensor([2, 9, 4, 5, 3, 3, 3, 8, 8, 2, 0, 7, 2, 4, 0, 3, 1, 3, 8, 1, 7, 7, 2, 6,\n",
            "        3, 1, 2, 7, 2, 6, 0, 3]), tensor([2, 7, 2, 6, 3, 2, 3, 0, 9, 7, 3, 5, 4, 9, 6, 2, 5, 0, 6, 8, 4, 0, 4, 4,\n",
            "        0, 4, 1, 6, 4, 3, 7, 1]), tensor([0, 6, 4, 1, 1, 5, 4, 3, 8, 3, 4, 1, 7, 2, 9, 8, 8, 4, 5, 5, 6, 7, 3, 9,\n",
            "        1, 0, 5, 3, 7, 2, 1, 1]), tensor([8, 6, 2, 0, 5, 9, 6, 3, 8, 1, 6, 4, 6, 6, 2, 8, 3, 6, 2, 1, 9, 3, 7, 9,\n",
            "        5, 7, 2, 1, 8, 8, 8, 2]), tensor([2, 2, 6, 3, 1, 6, 4, 0, 3, 9, 8, 4, 0, 8, 4, 3, 9, 7, 1, 1, 7, 5, 1, 9,\n",
            "        2, 4, 2, 3, 8, 6, 7, 1]), tensor([3, 0, 7, 4, 5, 8, 1, 4, 2, 3, 4, 8, 8, 8, 4, 6, 1, 8, 9, 3, 0, 6, 6, 6,\n",
            "        9, 7, 3, 7, 0, 1, 4, 5]), tensor([9, 6, 0, 5, 0, 5, 8, 7, 3, 6, 2, 8, 4, 4, 9, 3, 3, 5, 8, 1, 1, 2, 6, 0,\n",
            "        4, 8, 4, 2, 3, 3, 9, 7]), tensor([6, 3, 3, 1, 8, 1, 5, 4, 0, 6, 7, 9, 3, 2, 7, 1, 7, 4, 1, 6, 2, 6, 6, 7,\n",
            "        6, 4, 9, 3, 2, 5, 6, 8]), tensor([6, 2, 6, 7, 4, 2, 3, 1, 0, 3, 5, 5, 2, 6, 4, 1, 8, 8, 4, 4, 3, 4, 2, 9,\n",
            "        6, 3, 9, 6, 2, 3, 8, 4]), tensor([5, 4, 9, 8, 1, 6, 3, 6, 4, 9, 4, 3, 5, 1, 4, 6, 0, 1, 1, 0, 2, 6, 9, 7,\n",
            "        0, 1, 2, 4, 3, 7, 4, 1]), tensor([1, 7, 7, 8, 7, 6, 5, 3, 7, 2, 0, 9, 6, 1, 6, 2, 6, 5, 8, 5, 2, 7, 8, 4,\n",
            "        6, 9, 0, 8, 1, 3, 8, 2]), tensor([8, 2, 0, 2, 3, 8, 7, 8, 2, 2, 6, 6, 0, 4, 5, 3, 4, 3, 1, 9, 7, 3, 6, 4,\n",
            "        1, 4, 2, 7, 7, 1, 8, 3]), tensor([3, 7, 9, 8, 7, 2, 7, 9, 7, 4, 2, 6, 6, 3, 3, 9, 1, 1, 4, 8, 0, 9, 7, 5,\n",
            "        4, 8, 8, 3, 6, 3, 6, 8]), tensor([2, 2, 5, 9, 2, 4, 8, 4, 2, 8, 3, 3, 2, 1, 3, 0, 1, 8, 4, 1, 5, 4, 1, 5,\n",
            "        8, 6, 7, 7, 7, 5, 6, 9]), tensor([5, 3, 6, 7, 8, 4, 5, 1, 6, 6, 6, 4, 3, 7, 7, 9, 7, 2, 5, 8, 5, 8, 9, 3,\n",
            "        6, 9, 7, 2, 0, 6, 8, 6]), tensor([0, 5, 4, 5, 6, 8, 4, 5, 0, 0, 4, 0, 4, 9, 8, 1, 3, 8, 1, 9, 3, 6, 1, 1,\n",
            "        6, 6, 9, 8, 2, 8, 2, 7]), tensor([7, 1, 3, 0, 3, 0, 7, 8, 7, 6, 5, 2, 6, 7, 5, 5, 8, 9, 7, 3, 2, 4, 8, 3,\n",
            "        9, 8, 7, 6, 2, 6, 7, 3]), tensor([8, 5, 1, 8, 9, 2, 2, 3, 3, 2, 7, 2, 0, 6, 4, 8, 9, 7, 9, 3, 2, 8, 4, 6,\n",
            "        0, 6, 3, 3, 3, 5, 3, 7]), tensor([5, 3, 7, 6, 2, 3, 5, 1, 1, 2, 7, 3, 8, 8, 7, 5, 6, 9, 5, 5, 4, 0, 7, 1,\n",
            "        4, 6, 0, 9, 9, 4, 6, 8]), tensor([0, 5, 7, 8, 8, 2, 9, 6, 6, 2, 8, 1, 6, 4, 2, 0, 7, 7, 8, 9, 9, 7, 5, 2,\n",
            "        7, 6, 3, 2, 6, 3, 4, 2]), tensor([0, 8, 9, 4, 5, 6, 4, 1, 2, 8, 7, 0, 5, 6, 2, 8, 6, 3, 8, 6, 4, 7, 2, 7,\n",
            "        2, 3, 4, 8, 1, 6, 3, 4]), tensor([2, 4, 3, 9, 9, 6, 8, 0, 4, 0, 6, 1, 9, 3, 9, 6, 8, 6, 9, 4, 7, 9, 1, 5,\n",
            "        8, 1, 2, 6, 2, 4, 8, 3]), tensor([3, 3, 0, 3, 4, 3, 3, 1, 4, 8, 4, 9, 3, 0, 6, 5, 8, 8, 8, 6, 1, 4, 8, 9,\n",
            "        8, 5, 8, 9, 6, 7, 2, 7]), tensor([3, 5, 5, 8, 3, 2, 8, 5, 9, 9, 4, 0, 6, 7, 1, 8, 8, 8, 7, 2, 0, 9, 7, 9,\n",
            "        6, 9, 4, 1, 4, 7, 2, 5]), tensor([2, 6, 2, 9, 0, 7, 1, 9, 7, 2, 5, 3, 8, 4, 9, 3, 9, 5, 7, 5, 1, 3, 3, 6,\n",
            "        0, 7, 5, 3, 5, 5, 8, 7]), tensor([9, 4, 6, 5, 5, 3, 4, 8, 3, 0, 9, 2, 3, 2, 2, 9, 4, 3, 9, 1, 4, 8, 1, 4,\n",
            "        9, 8, 2, 8, 7, 6, 0, 2]), tensor([2, 3, 2, 3, 0, 5, 2, 3, 2, 2, 5, 0, 7, 4, 6, 4, 8, 3, 5, 1, 3, 9, 1, 4,\n",
            "        9, 3, 7, 4, 0, 0, 2, 9]), tensor([6, 3, 6, 6, 5, 1, 7, 9, 4, 3, 7, 3, 0, 2, 8, 1, 0, 9, 9, 7, 8, 6, 6, 9,\n",
            "        7, 7, 5, 8, 8, 7, 5, 3]), tensor([5, 5, 0, 8, 9, 7, 2, 1, 4, 7, 1, 3, 6, 3, 2, 2, 9, 4, 7, 7, 6, 5, 0, 8,\n",
            "        8, 6, 8, 5, 6, 0, 7, 3]), tensor([6, 6, 4, 5, 2, 0, 7, 7, 7, 1, 8, 2, 1, 8, 5, 4, 4, 8, 7, 7, 6, 7, 1, 6,\n",
            "        9, 8, 3, 9, 3, 5, 0, 7]), tensor([4, 6, 3, 1, 4, 5, 9, 3, 2, 8, 5, 7, 3, 1, 2, 0, 8, 1, 6, 5, 6, 9, 3, 3,\n",
            "        6, 6, 4, 6, 0, 6, 4, 2]), tensor([3, 6, 5, 9, 1, 1, 9, 4, 7, 0, 3, 1, 0, 0, 7, 7, 0, 7, 8, 2, 5, 6, 4, 3,\n",
            "        8, 9, 7, 2, 9, 5, 3, 7]), tensor([2, 6, 1, 9, 7, 8, 1, 0, 9, 3, 4, 7, 8, 6, 5, 6, 7, 9, 9, 7, 0, 4, 2, 3,\n",
            "        4, 0, 7, 5, 3, 9, 2, 8]), tensor([8, 0, 0, 4, 3, 9, 3, 3, 5, 3, 7, 5, 9, 6, 8, 7, 5, 9, 5, 6, 0, 7, 3, 8,\n",
            "        4, 2, 0, 7, 6, 8, 1, 9]), tensor([2, 6, 2, 4, 8, 8, 7, 7, 3, 9, 3, 9, 2, 8, 2, 6, 9, 0, 3, 2, 5, 5, 0, 4,\n",
            "        6, 4, 1, 3, 1, 8, 7, 8]), tensor([8, 9, 7, 6, 5, 7, 9, 6, 0, 4, 0, 3, 6, 8, 8, 8, 0, 2, 3, 2, 8, 6, 1, 4,\n",
            "        1, 1, 6, 3, 2, 2, 4, 0]), tensor([0, 4, 1, 2, 2, 5, 0, 6, 7, 9, 9, 2, 5, 2, 9, 9, 8, 4, 8, 3, 2, 0, 9, 2,\n",
            "        2, 4, 3, 8, 3, 3, 6, 5]), tensor([6, 6, 7, 3, 7, 8, 8, 2, 4, 8, 8, 6, 1, 5, 0, 9, 8, 7, 2, 0, 3, 0, 0, 0,\n",
            "        6, 3, 6, 9, 1, 5, 9, 3]), tensor([1, 7, 0, 1, 0, 5, 3, 8, 6, 4, 1, 7, 0, 5, 0, 4, 1, 7, 1, 7, 9, 6, 3, 9,\n",
            "        2, 2, 5, 3, 8, 8, 8, 4]), tensor([4, 7, 7, 4, 2, 0, 3, 5, 3, 6, 2, 7, 6, 8, 5, 6, 9, 1, 3, 1, 4, 5, 9, 3,\n",
            "        9, 0, 3, 5, 6, 1, 8, 8]), tensor([5, 4, 0, 9, 1, 7, 1, 7, 1, 8, 0, 3, 4, 0, 2, 0, 3, 3, 8, 8, 0, 3, 4, 8,\n",
            "        1, 4, 3, 3, 2, 2, 1, 8]), tensor([3, 2, 0, 6, 4, 2, 3, 9, 2, 3, 0, 4, 5, 7, 1, 6, 1, 8, 0, 0, 8, 5, 1, 6,\n",
            "        5, 2, 8, 1, 7, 1, 6, 4]), tensor([9, 4, 6, 1, 5, 3, 3, 5, 8, 7, 7, 7, 2, 7, 5, 4, 4, 2, 6, 6, 6, 9, 9, 3,\n",
            "        8, 0, 4, 4, 1, 3, 7, 6]), tensor([6, 0, 9, 8, 5, 3, 6, 7, 1, 9, 7, 8, 4, 6, 9, 9, 1, 2, 2, 6, 2, 4, 5, 1,\n",
            "        6, 2, 8, 3, 6, 8, 3, 4]), tensor([0, 0, 3, 6, 7, 4, 4, 1, 7, 3, 6, 7, 9, 9, 1, 8, 8, 9, 1, 4, 6, 1, 2, 8,\n",
            "        3, 5, 9, 8, 0, 6, 2, 7]), tensor([2, 1, 5, 6, 8, 7, 8, 1, 4, 9, 1, 1, 5, 9, 9, 4, 4, 2, 1, 6, 3, 8, 7, 6,\n",
            "        1, 7, 5, 2, 9, 0, 3, 4]), tensor([4, 8, 4, 6, 2, 7, 3, 7, 3, 6, 3, 8, 6, 6, 2, 3, 2, 7, 9, 8, 0, 7, 0, 8,\n",
            "        9, 0, 2, 1, 4, 5, 1, 3]), tensor([4, 7, 6, 4, 4, 9, 1, 4, 3, 1, 6, 8, 0, 3, 0, 6, 2, 0, 2, 3, 6, 7, 2, 3,\n",
            "        6, 0, 8, 5, 4, 0, 1, 0]), tensor([2, 2, 6, 7, 9, 6, 2, 4, 3, 6, 8, 7, 4, 4, 0, 3, 8, 5, 2, 5, 1, 5, 5, 1,\n",
            "        7, 7, 2, 4, 8, 8, 0, 9]), tensor([6, 6, 4, 7, 6, 1, 8, 3, 4, 2, 1, 2, 4, 3, 0, 8, 5, 7, 7, 0, 2, 6, 3, 9,\n",
            "        8, 4, 7, 1, 0, 2, 6, 2]), tensor([6, 3, 7, 5, 0, 6, 2, 0, 8, 2, 2, 1, 8, 6, 8, 2, 9, 2, 4, 8, 5, 2, 7, 3,\n",
            "        2, 4, 0, 0, 4, 8, 5, 4]), tensor([1, 5, 2, 8, 2, 9, 3, 6, 3, 6, 4, 2, 7, 7, 9, 3, 2, 9, 8, 3, 5, 8, 7, 7,\n",
            "        0, 7, 7, 0, 7, 7, 2, 9]), tensor([5, 4, 2, 2, 4, 8, 6, 1, 9, 8, 6, 2, 4, 4, 6, 8, 0, 7, 6, 4, 3, 8, 1, 3,\n",
            "        8, 7, 2, 6, 2, 2, 8, 8]), tensor([9, 1, 3, 2, 1, 4, 8, 3, 4, 6, 7, 3, 9, 2, 9, 0, 6, 6, 5, 7, 0, 8, 1, 7,\n",
            "        5, 4, 9, 5, 7, 3, 2, 0]), tensor([9, 8, 7, 3, 7, 7, 4, 7, 8, 8, 8, 2, 4, 6, 2, 3, 8, 9, 7, 1, 3, 4, 2, 9,\n",
            "        7, 1, 4, 2, 0, 0, 7, 5]), tensor([4, 5, 2, 0, 9, 4, 9, 9, 3, 4, 0, 1, 5, 5, 5, 6, 8, 1, 5, 7, 7, 7, 9, 4,\n",
            "        0, 1, 1, 4, 6, 0, 9, 3]), tensor([2, 4, 4, 8, 6, 5, 2, 9, 0, 2, 8, 4, 8, 6, 3, 6, 1, 4, 3, 3, 8, 4, 9, 9,\n",
            "        0, 7, 9, 5, 3, 1, 7, 2]), tensor([8, 4, 9, 2, 1, 6, 0, 7, 2, 1, 9, 3, 2, 8, 3, 8, 4, 2, 5, 2, 9, 6, 1, 2,\n",
            "        0, 7, 9, 0, 1, 3, 7, 5]), tensor([3, 2, 1, 1, 3, 8, 3, 9, 5, 4, 6, 3, 7, 7, 7, 2, 3, 9, 1, 9, 2, 6, 0, 8,\n",
            "        6, 6, 7, 7, 6, 3, 4, 9]), tensor([0, 4, 0, 2, 7, 9, 6, 1, 1, 2, 6, 8, 8, 7, 3, 2, 7, 5, 7, 6, 1, 8, 1, 4,\n",
            "        9, 8, 9, 3, 1, 0, 3, 3]), tensor([3, 0, 6, 4, 1, 5, 7, 1, 2, 2, 5, 3, 4, 1, 7, 6, 7, 6, 2, 8, 8, 1, 4, 9,\n",
            "        7, 6, 6, 4, 9, 3, 9, 8]), tensor([5, 3, 8, 4, 7, 1, 4, 1, 9, 6, 8, 6, 2, 4, 8, 1, 1, 5, 8, 6, 1, 6, 2, 9,\n",
            "        0, 9, 5, 3, 9, 6, 6, 5]), tensor([3, 8, 3, 8, 0, 3, 9, 9, 1, 5, 3, 2, 6, 5, 3, 6, 3, 6, 7, 4, 0, 4, 1, 9,\n",
            "        9, 1, 7, 5, 3, 5, 9, 6]), tensor([8, 2, 6, 6, 4, 6, 4, 1, 1, 4, 2, 8, 6, 9, 0, 5, 8, 1, 6, 8, 3, 2, 4, 8,\n",
            "        6, 6, 9, 3, 6, 9, 7, 6]), tensor([6, 2, 6, 8, 9, 6, 1, 4, 7, 7, 9, 7, 3, 6, 7, 2, 7, 3, 0, 2, 0, 9, 4, 3,\n",
            "        3, 1, 9, 5, 8, 2, 3, 5]), tensor([2, 6, 2, 5, 8, 3, 5, 2, 7, 7, 6, 0, 9, 7, 1, 2, 6, 5, 3, 0, 6, 1, 4, 0,\n",
            "        5, 4, 8, 9, 7, 3, 0, 8]), tensor([3, 5, 2, 4, 9, 8, 9, 9, 0, 1, 7, 5, 0, 1, 5, 3, 3, 3, 3, 4, 4, 3, 6, 7,\n",
            "        8, 6, 9, 3, 3, 0, 4, 2]), tensor([9, 3, 8, 7, 3, 7, 8, 4, 6, 6, 2, 3, 1, 0, 7, 5, 2, 6, 4, 1, 1, 4, 9, 2,\n",
            "        9, 5, 5, 6, 4, 4, 4, 8]), tensor([9, 9, 2, 0, 9, 8, 3, 5, 3, 1, 2, 5, 0, 1, 8, 5, 8, 4, 0, 7, 8, 9, 2, 4,\n",
            "        6, 4, 6, 6, 6, 7, 9, 1]), tensor([9, 7, 4, 5, 1, 3, 2, 4, 1, 6, 1, 5, 8, 0, 4, 2, 9, 4, 7, 8, 6, 0, 2, 7,\n",
            "        7, 5, 9, 7, 7, 3, 8, 7]), tensor([5, 9, 9, 8, 6, 1, 3, 8, 0, 2, 3, 7, 9, 2, 4, 5, 2, 3, 2, 1, 1, 9, 3, 5,\n",
            "        5, 4, 7, 8, 9, 3, 5, 4]), tensor([6, 6, 5, 5, 8, 4, 8, 8, 7, 2, 9, 4, 9, 6, 9, 7, 3, 9, 7, 3, 6, 4, 2, 8,\n",
            "        5, 9, 2, 0, 2, 4, 1, 0]), tensor([3, 8, 6, 8, 6, 4, 6, 3, 5, 7, 7, 8, 5, 6, 3, 2, 1, 8, 3, 8, 7, 4, 2, 3,\n",
            "        0, 8, 6, 3, 4, 9, 0, 9]), tensor([7, 0, 1, 8, 3, 6, 3, 8, 6, 8, 5, 1, 3, 4, 1, 9, 3, 7, 0, 4, 2, 3, 1, 5,\n",
            "        3, 4, 8, 5, 7, 8, 0, 1]), tensor([1, 0, 6, 2, 7, 9, 6, 7, 2, 3, 6, 4, 6, 3, 3, 9, 4, 7, 0, 8, 6, 5, 6, 2,\n",
            "        6, 1, 6, 9, 4, 2, 5, 6]), tensor([8, 3, 6, 5, 6, 0, 6, 0, 6, 9, 1, 3, 3, 3, 5, 8, 6, 6, 1, 4, 9, 7, 2, 4,\n",
            "        7, 5, 7, 1, 4, 8, 7, 9]), tensor([7, 7, 0, 2, 9, 2, 8, 0, 7, 8, 1, 5, 2, 7, 4, 1, 4, 5, 9, 6, 5, 7, 7, 3,\n",
            "        8, 1, 9, 4, 5, 3, 6, 7]), tensor([6, 9, 5, 1, 3, 6, 9, 1, 4, 4, 5, 3, 4, 9, 9, 1, 2, 2, 2, 4, 3, 8, 7, 5,\n",
            "        9, 4, 8, 8, 9, 0, 7, 6]), tensor([4, 3, 8, 2, 4, 2, 0, 1, 2, 0, 2, 1, 5, 4, 6, 3, 0, 3, 4, 5, 6, 8, 7, 6,\n",
            "        0, 3, 1, 8, 4, 8, 9, 9]), tensor([5, 5, 8, 2, 5, 4, 4, 2, 5, 6, 9, 2, 7, 1, 0, 2, 4, 6, 9, 8, 0, 4, 9, 1,\n",
            "        9, 4, 7, 3, 5, 2, 3, 4]), tensor([2, 1, 0, 2, 4, 3, 7, 8, 4, 9, 5, 9, 0, 4, 3, 4, 5, 5, 5, 7, 6, 1, 3, 3,\n",
            "        7, 0, 9, 7, 6, 8, 3, 5]), tensor([5, 8, 1, 9, 4, 3, 4, 2, 1, 6, 3, 3, 6, 3, 3, 3, 1, 1, 7, 8, 2, 5, 9, 0,\n",
            "        8, 3, 4, 4, 3, 7, 0, 7]), tensor([3, 3, 2, 3, 5, 1, 6, 2, 3, 3, 0, 0, 6, 4, 8, 7, 0, 3, 0, 4, 5, 3, 3, 6,\n",
            "        0, 2, 4, 4, 1, 8, 1, 9]), tensor([3, 2, 6, 4, 6, 2, 3, 3, 8, 3, 5, 8, 3, 9, 7, 3, 0, 6, 1, 0, 1, 6, 7, 7,\n",
            "        4, 8, 9, 6, 1, 5, 4, 9]), tensor([4, 7, 9, 9, 9, 0, 1, 0, 9, 9, 5, 1, 7, 2, 9, 3, 0, 6, 8, 1, 7, 3, 3, 8,\n",
            "        2, 7, 0, 0, 9, 0, 8, 4]), tensor([9, 6, 4, 5, 9, 6, 0, 5, 3, 1, 7, 4, 4, 7, 4, 5, 8, 3, 7, 2, 7, 1, 8, 8,\n",
            "        8, 7, 8, 6, 0, 5, 7, 9]), tensor([8, 5, 6, 0, 6, 2, 6, 2, 8, 9, 9, 1, 9, 5, 8, 4, 4, 6, 4, 8, 7, 2, 8, 3,\n",
            "        0, 7, 8, 8, 3, 9, 9, 5]), tensor([9, 2, 4, 9, 7, 8, 7, 4, 7, 9, 2, 3, 9, 8, 3, 8, 3, 1, 2, 9, 1, 2, 8, 5,\n",
            "        1, 7, 9, 0, 3, 3, 0, 9]), tensor([6, 4, 3, 3, 0, 2, 9, 7, 3, 9, 8, 5, 6, 8, 5, 3, 5, 2, 4, 2, 5, 4, 2, 5,\n",
            "        4, 2, 7, 1, 6, 6, 3, 6]), tensor([8, 3, 4, 6, 7, 8, 5, 1, 8, 2, 3, 3, 2, 4, 1, 9, 0, 7, 2, 7, 3, 2, 9, 8,\n",
            "        4, 4, 6, 1, 7, 1, 4, 8]), tensor([6, 1, 7, 3, 0, 3, 6, 6, 6, 0, 4, 1, 7, 9, 6, 2, 9, 2, 6, 7, 1, 7, 5, 2,\n",
            "        9, 8, 6, 6, 0, 3, 3, 2]), tensor([2, 8, 1, 6, 8, 1, 8, 1, 0, 1, 4, 7, 3, 7, 7, 3, 3, 9, 9, 6, 6, 2, 5, 8,\n",
            "        9, 6, 3, 5, 4, 1, 6, 9]), tensor([4, 3, 2, 6, 1, 8, 1, 3, 4, 0, 6, 1, 9, 0, 5, 4, 5, 3, 6, 4, 1, 6, 0, 7,\n",
            "        4, 6, 2, 3, 4, 4, 5, 2]), tensor([9, 6, 8, 0, 4, 6, 6, 1, 7, 8, 2, 3, 3, 2, 8, 3, 8, 2, 6, 2, 5, 1, 4, 2,\n",
            "        2, 1, 9, 3, 4, 6, 9, 8]), tensor([8, 0, 6, 3, 6, 4, 8, 1, 2, 3, 3, 1, 9, 5, 3, 2, 6, 7, 1, 3, 2, 9, 6, 4,\n",
            "        2, 4, 8, 6, 9, 4, 7, 0]), tensor([3, 1, 3, 8, 3, 4, 1, 2, 6, 0, 0, 7, 7, 8, 3, 6, 9, 5, 6, 6, 9, 9, 2, 3,\n",
            "        8, 7, 3, 8, 3, 7, 9, 0]), tensor([2, 5, 1, 0, 5, 6, 3, 8, 7, 9, 6, 6, 7, 1, 6, 0, 8, 6, 2, 2, 7, 8, 3, 2,\n",
            "        4, 6, 9, 7, 3, 4, 5, 4]), tensor([5, 1, 9, 5, 0, 5, 6, 4, 1, 7, 9, 0, 3, 3, 4, 9, 1, 3, 3, 9, 5, 6, 8, 2,\n",
            "        4, 1, 4, 0, 6, 7, 9, 0]), tensor([6, 1, 4, 1, 0, 9, 8, 1, 3, 7, 3, 7, 9, 7, 4, 2, 3, 6, 8, 0, 5, 5, 1, 8,\n",
            "        8, 5, 7, 9, 7, 3, 4, 4]), tensor([6, 8, 9, 4, 8, 7, 5, 4, 7, 6, 1, 4, 6, 2, 0, 9, 0, 3, 5, 1, 1, 7, 8, 3,\n",
            "        6, 6, 2, 0, 6, 4, 6, 5]), tensor([2, 2, 6, 4, 6, 1, 5, 2, 7, 8, 6, 7, 7, 0, 8, 4, 3, 6, 9, 1, 2, 1, 7, 4,\n",
            "        3, 2, 9, 9, 2, 6, 4, 3]), tensor([3, 3, 7, 5, 2, 7, 8, 9, 9, 2, 7, 8, 7, 7, 3, 8, 7, 6, 6, 9, 0, 1, 8, 7,\n",
            "        5, 4, 5, 3, 7, 4, 6, 5]), tensor([5, 6, 7, 9, 1, 9, 5, 9, 4, 4, 1, 7, 8, 3, 5, 1, 0, 6, 5, 0, 2, 0, 7, 1,\n",
            "        1, 1, 0, 7, 7, 4, 3, 4]), tensor([7, 0, 0, 5, 1, 4, 8, 1, 5, 1, 7, 3, 2, 3, 2, 7, 8, 0, 1, 6, 9, 5, 8, 0,\n",
            "        7, 1, 5, 0, 9, 7, 1, 1]), tensor([6, 5, 7, 8, 4, 3, 1, 9, 0, 2, 9, 1, 3, 4, 4, 3, 8, 6, 2, 3, 8, 6, 4, 9,\n",
            "        5, 0, 1, 8, 6, 4, 3, 6]), tensor([2, 9, 4, 3, 7, 9, 6, 3, 7, 4, 7, 9, 8, 8, 3, 0, 1, 2, 6, 4, 1, 9, 6, 4,\n",
            "        6, 5, 5, 4, 6, 2, 0, 1]), tensor([4, 9, 9, 7, 6, 1, 2, 6, 0, 2, 6, 2, 5, 9, 4, 8, 4, 6, 1, 5, 6, 4, 1, 8,\n",
            "        9, 3, 1, 7, 1, 3, 1, 9]), tensor([1, 3, 8, 9, 9, 1, 9, 4, 0, 7, 8, 5, 5, 5, 3, 8, 9, 4, 7, 4, 4, 9, 2, 6,\n",
            "        1, 5, 0, 7, 8, 4, 6, 7]), tensor([1, 1, 8, 2, 8, 7, 2, 0, 7, 2, 3, 0, 5, 1, 6, 8, 2, 3, 7, 4, 3, 9, 7, 6,\n",
            "        1, 3, 9, 2, 4, 6, 3, 7]), tensor([5, 1, 1, 9, 5, 3, 5, 4, 6, 6, 1, 5, 2, 3, 6, 2, 5, 9, 9, 4, 3, 4, 3, 7,\n",
            "        9, 0, 8, 7, 3, 3, 8, 4]), tensor([1, 8, 2, 5, 4, 4, 8, 5, 2, 5, 3, 2, 6, 1, 1, 0, 6, 1, 6, 9, 8, 5, 9, 1,\n",
            "        5, 0, 9, 4, 2, 1, 7, 2]), tensor([9, 8, 8, 9, 5, 5, 3, 8, 2, 0, 3, 6, 1, 1, 9, 0, 9, 7, 5, 3, 2, 9, 5, 5,\n",
            "        4, 2, 9, 8, 3, 0, 6, 4]), tensor([1, 7, 4, 7, 2, 8, 5, 8, 6, 0, 1, 3, 2, 2, 3, 6, 6, 0, 2, 8, 3, 2, 8, 6,\n",
            "        1, 8, 4, 5, 6, 2, 3, 9]), tensor([0, 4, 3, 4, 5, 4, 2, 7, 3, 7, 3, 3, 6, 9, 4, 8, 5, 6, 0, 3, 6, 7, 2, 5,\n",
            "        3, 1, 1, 9, 7, 5, 4, 2]), tensor([1, 6, 4, 8, 9, 6, 5, 8, 8, 3, 0, 9, 6, 4, 6, 3, 2, 4, 9, 2, 3, 6, 4, 2,\n",
            "        8, 4, 1, 3, 7, 2, 4, 2]), tensor([2, 3, 4, 3, 0, 8, 4, 5, 1, 4, 4, 8, 2, 1, 4, 1, 1, 9, 6, 5, 9, 6, 8, 0,\n",
            "        3, 4, 3, 4, 3, 7, 5, 4]), tensor([1, 1, 2, 6, 7, 8, 0, 1, 6, 5, 2, 8, 9, 7, 9, 1, 1, 3, 3, 5, 6, 7, 4, 9,\n",
            "        4, 9, 3, 6, 6, 2, 8, 5]), tensor([2, 5, 9, 8, 3, 8, 1, 0, 1, 3, 5, 2, 5, 4, 4, 9, 2, 7, 1, 4, 8, 3, 7, 7,\n",
            "        6, 7, 9, 6, 7, 7, 0, 1]), tensor([6, 1, 6, 8, 2, 2, 7, 6, 7, 1, 8, 7, 6, 1, 3, 1, 6, 3, 6, 5, 3, 8, 6, 3,\n",
            "        4, 9, 3, 1, 5, 3, 0, 7]), tensor([0, 3, 4, 5, 1, 6, 6, 3, 8, 3, 9, 8, 3, 7, 2, 4, 2, 5, 1, 9, 6, 3, 8, 7,\n",
            "        1, 8, 1, 2, 0, 9, 2, 4]), tensor([3, 4, 6, 1, 3, 5, 2, 9, 7, 5, 3, 7, 5, 5, 6, 4, 8, 0, 7, 6, 8, 4, 2, 1,\n",
            "        9, 7, 7, 3, 8, 0, 3, 0]), tensor([9, 8, 5, 6, 4, 8, 1, 5, 7, 9, 0, 1, 6, 1, 3, 4, 4, 4, 4, 1, 7, 4, 2, 4,\n",
            "        6, 1, 8, 2, 2, 4, 4, 0]), tensor([8, 8, 4, 6, 2, 0, 5, 0, 8, 9, 1, 6, 6, 7, 6, 8, 1, 8, 2, 3, 6, 7, 5, 7,\n",
            "        9, 5, 3, 9, 4, 4, 3, 3]), tensor([1, 4, 8, 4, 2, 5, 2, 2, 2, 9, 1, 8, 0, 6, 2, 6, 6, 3, 6, 6, 1, 3, 6, 3,\n",
            "        4, 1, 7, 5, 1, 0, 7, 6]), tensor([8, 0, 8, 2, 8, 5, 8, 7, 8, 4, 5, 9, 8, 8, 1, 2, 4, 7, 2, 9, 7, 8, 3, 7,\n",
            "        4, 6, 3, 8, 8, 4, 5, 3]), tensor([8, 1, 4, 2, 2, 7, 8, 9, 0, 2, 7, 9, 1, 5, 7, 8, 4, 3, 7, 5, 9, 3, 0, 8,\n",
            "        6, 1, 6, 3, 5, 8, 0, 0]), tensor([1, 8, 6, 9, 0, 6, 7, 6, 6, 8, 7, 4, 8, 8, 2, 6, 3, 6, 7, 1, 4, 7, 4, 6,\n",
            "        7, 1, 6, 5, 2, 6, 8, 9]), tensor([6, 6, 8, 2, 1, 1, 8, 8, 3, 5, 7, 7, 6, 7, 4, 3, 7, 3, 8, 9, 0, 6, 2, 4,\n",
            "        5, 7, 0, 2, 6, 9, 7, 7]), tensor([2, 6, 5, 8, 3, 1, 3, 7, 4, 9, 6, 3, 9, 7, 2, 0, 8, 6, 9, 1, 9, 9, 6, 7,\n",
            "        1, 4, 7, 0, 3, 8, 7, 2]), tensor([4, 5, 9, 4, 2, 0, 6, 9, 4, 5, 6, 1, 3, 8, 9, 1, 8, 9, 4, 0, 9, 7, 2, 9,\n",
            "        2, 1, 2, 8, 5, 1, 0, 8]), tensor([2, 4, 7, 2, 2, 6, 8, 5, 7, 9, 5, 7, 2, 2, 3, 7, 3, 2, 1, 5, 6, 9, 7, 4,\n",
            "        2, 2, 5, 8, 0, 7, 7, 2]), tensor([2, 0, 4, 8, 2, 0, 6, 7, 8, 7, 6, 5, 0, 6, 0, 2, 6, 3, 1, 8, 7, 4, 1, 9,\n",
            "        1, 2, 8, 5, 2, 3, 2, 0]), tensor([2, 6, 0, 7, 2, 1, 8, 4, 8, 7, 9, 2, 1, 3, 5, 7, 7, 3, 2, 5, 9, 4, 4, 7,\n",
            "        3, 2, 6, 9, 6, 7, 3, 9]), tensor([1, 2, 1, 9, 7, 2, 3, 4, 8, 1, 8, 3, 5, 0, 5, 3, 8, 6, 7, 4, 9, 0, 6, 8,\n",
            "        4, 2, 4, 3, 4, 3, 7, 6]), tensor([7, 1, 3, 7, 6, 9, 5, 5, 2, 4, 4, 5, 0, 8, 6, 3, 4, 0, 8, 8, 9, 6, 9, 1,\n",
            "        5, 1, 2, 1, 3, 2, 4, 2]), tensor([4, 8, 7, 8, 9, 2, 0, 5, 7, 0, 8, 4, 8, 3, 3, 4, 3, 7, 1, 8, 4, 9, 8, 1,\n",
            "        7, 3, 4, 4, 3, 7, 3, 8]), tensor([5, 7, 8, 0, 8, 1, 8, 0, 7, 7, 7, 6, 5, 2, 2, 1, 2, 3, 4, 1, 0, 3, 9, 1,\n",
            "        8, 2, 3, 7, 4, 9, 5, 7]), tensor([4, 3, 9, 5, 6, 8, 2, 7, 3, 8, 3, 0, 8, 8, 0, 9, 4, 0, 2, 5, 7, 1, 6, 8,\n",
            "        4, 0, 2, 3, 8, 1, 1, 7]), tensor([6, 2, 2, 5, 9, 8, 9, 5, 3, 4, 7, 9, 2, 0, 1, 1, 1, 4, 8, 6, 8, 0, 5, 5,\n",
            "        6, 7, 6, 8, 2, 4, 6, 2]), tensor([2, 6, 5, 7, 4, 9, 9, 2, 2, 2, 0, 7, 4, 5, 6, 3, 3, 1, 9, 8, 1, 8, 6, 6,\n",
            "        3, 9, 1, 9, 7, 6, 9, 6]), tensor([9, 3, 0, 4, 8, 3, 4, 4, 6, 9, 2, 1, 1, 6, 5, 6, 7, 2, 8, 1, 1, 7, 0, 6,\n",
            "        1, 9, 2, 8, 3, 5, 4, 8]), tensor([6, 6, 4, 6, 3, 6, 2, 3, 8, 9, 5, 8, 9, 3, 1, 7, 8, 9, 4, 1, 1, 7, 0, 7,\n",
            "        0, 0, 9, 6, 0, 2, 9, 2]), tensor([8, 5, 5, 9, 3, 3, 5, 7, 1, 2, 3, 3, 5, 6, 6, 4, 1, 1, 9, 1, 4, 0, 6, 2,\n",
            "        2, 6, 6, 0, 6, 5, 0, 3]), tensor([0, 5, 1, 1, 8, 2, 5, 3, 5, 1, 6, 4, 3, 1, 4, 9, 9, 6, 0, 8, 8, 6, 4, 9,\n",
            "        1, 9, 7, 7, 6, 2, 2, 7]), tensor([5, 6, 1, 5, 7, 7, 8, 2, 8, 3, 7, 4, 6, 2, 9, 9, 0, 6, 7, 3, 1, 0, 8, 2,\n",
            "        4, 4, 4, 7, 1, 8, 6, 0]), tensor([3, 4, 6, 6, 9, 8, 0, 6, 8, 3, 9, 6, 1, 8, 6, 5, 6, 6, 4, 2, 5, 9, 3, 6,\n",
            "        4, 7, 8, 6, 9, 5, 0, 0]), tensor([6, 9, 8, 2, 9, 2, 2, 6, 4, 6, 1, 4, 3, 9, 4, 0, 8, 4, 2, 6, 9, 4, 7, 2,\n",
            "        5, 6, 8, 6, 8, 7, 0, 2]), tensor([1, 1, 8, 7, 3, 2, 0, 5, 2, 3, 8, 8, 6, 9, 3, 6, 9, 4, 0, 3, 6, 2, 2, 4,\n",
            "        6, 5, 9, 6, 7, 1, 9, 0]), tensor([3, 3, 3, 2, 3, 9, 9, 7, 3, 0, 4, 2, 4, 6, 4, 7, 3, 6, 9, 8, 5, 8, 0, 4,\n",
            "        1, 4, 8, 7, 2, 6, 2, 3]), tensor([5, 6, 3, 5, 2, 5, 3, 7, 1, 2, 9, 8, 7, 3, 8, 8, 5, 5, 8, 4, 4, 6, 8, 3,\n",
            "        6, 4, 9, 6, 1, 0, 5, 1]), tensor([0, 0, 9, 2, 6, 3, 6, 7, 6, 6, 4, 3, 8, 5, 1, 8, 3, 4, 4, 5, 0, 0, 5, 8,\n",
            "        7, 4, 4, 2, 0, 9, 0, 5]), tensor([0, 9, 9, 0, 1, 3, 7, 1, 9, 4, 5, 2, 6, 9, 5, 7, 9, 4, 2, 8, 3, 1, 7, 8,\n",
            "        8, 6, 8, 0, 5, 5, 7, 1]), tensor([7, 6, 2, 1, 7, 1, 9, 0, 1, 2, 3, 2, 7, 3, 9, 3, 5, 4, 0, 6, 9, 7, 2, 2,\n",
            "        3, 8, 7, 8, 3, 0, 4, 1]), tensor([4, 9, 0, 8, 9, 0, 3, 2, 9, 5, 9, 3, 1, 0, 8, 4, 1, 4, 6, 9, 9, 8, 0, 7,\n",
            "        2, 0, 1, 9, 0, 1, 9, 0]), tensor([2, 3, 7, 4, 1, 4, 6, 8, 3, 4, 3, 3, 8, 3, 7, 1, 6, 6, 8, 4, 7, 9, 6, 6,\n",
            "        3, 0, 4, 5, 7, 6, 7, 3]), tensor([9, 0, 2, 3, 3, 3, 0, 6, 4, 4, 4, 4, 6, 9, 9, 6, 7, 4, 0, 2, 2, 1, 9, 5,\n",
            "        9, 9, 0, 5, 8, 2, 7, 3]), tensor([9, 5, 2, 8, 9, 3, 8, 0, 0, 3, 6, 6, 3, 7, 8, 0, 1, 2, 2, 6, 1, 1, 4, 3,\n",
            "        2, 5, 4, 3, 9, 3, 3, 4]), tensor([3, 7, 2, 9, 2, 1, 6, 7, 5, 5, 9, 4, 6, 9, 7, 9, 7, 4, 1, 8, 3, 3, 8, 0,\n",
            "        8, 7, 0, 7, 7, 9, 4, 4]), tensor([2, 3, 8, 2, 1, 5, 2, 0, 5, 8, 6, 7, 0, 1, 0, 5, 6, 2, 1, 4, 1, 8, 7, 9,\n",
            "        9, 7, 3, 2, 2, 4, 7, 6]), tensor([3, 9, 6, 6, 9, 5, 1, 6, 9, 6, 7, 4, 3, 9, 7, 2, 7, 6, 8, 7, 5, 4, 5, 9,\n",
            "        4, 3, 5, 0, 2, 8, 5, 6]), tensor([1, 9, 3, 7, 3, 6, 3, 4, 4, 2, 5, 9, 2, 3, 1, 7, 7, 9, 0, 3, 6, 8, 9, 2,\n",
            "        5, 3, 7, 8, 7, 7, 0, 8]), tensor([5, 6, 0, 3, 5, 6, 7, 7, 9, 7, 1, 2, 0, 8, 6, 4, 2, 2, 4, 5, 5, 0, 3, 3,\n",
            "        2, 4, 8, 6, 7, 3, 8, 7]), tensor([1, 6, 2, 0, 4, 7, 3, 7, 4, 6, 6, 3, 8, 4, 6, 3, 6, 8, 7, 3, 3, 0, 5, 6,\n",
            "        1, 5, 0, 9, 9, 1, 3, 6]), tensor([6, 1, 6, 6, 5, 7, 2, 2, 0, 9, 2, 6, 8, 2, 8, 3, 7, 5, 3, 3, 9, 5, 7, 6,\n",
            "        6, 9, 4, 5, 0, 7, 2, 9]), tensor([5, 8, 8, 8, 4, 9, 6, 6, 3, 6, 3, 0, 2, 7, 6, 4, 2, 8, 4, 1, 5, 7, 9, 7,\n",
            "        3, 9, 8, 8, 5, 1, 9, 6]), tensor([1, 0, 4, 8, 0, 5, 0, 9, 8, 8, 4, 4, 4, 1, 7, 5, 1, 2, 6, 5, 0, 3, 2, 8,\n",
            "        7, 8, 5, 5, 1, 1, 4, 8]), tensor([9, 9, 9, 1, 0, 3, 3, 6, 4, 3, 7, 1, 2, 0, 1, 5, 3, 4, 9, 2, 4, 2, 4, 6,\n",
            "        7, 9, 6, 7, 1, 4, 0, 8]), tensor([3, 3, 5, 4, 0, 8, 3, 6, 4, 0, 1, 8, 6, 3, 2, 9, 5, 4, 3, 5, 6, 1, 6, 4,\n",
            "        6, 5, 6, 6, 7, 3, 6, 6]), tensor([7, 6, 2, 3, 4, 8, 2, 6, 3, 4, 8, 1, 7, 8, 4, 8, 7, 7, 9, 9, 9, 2, 6, 9,\n",
            "        4, 0, 8, 8, 8, 0, 5, 6]), tensor([3, 6, 6, 6, 9, 9, 2, 3, 5, 2, 0, 1, 0, 8, 9, 5, 7, 3, 3, 2, 4, 1, 3, 8,\n",
            "        1, 8, 2, 2, 6, 9, 8, 5]), tensor([1, 2, 2, 0, 9, 6, 8, 8, 0, 7, 3, 6, 9, 8, 9, 9, 4, 9, 6, 1, 1, 2, 5, 0,\n",
            "        8, 0, 4, 6, 3, 6, 0, 0]), tensor([0, 0, 5, 9, 6, 7, 1, 8, 4, 1, 6, 1, 7, 9, 2, 0, 4, 5, 2, 9, 4, 9, 8, 8,\n",
            "        7, 6, 2, 0, 9, 3, 6, 7]), tensor([3, 2, 7, 0, 3, 1, 0, 5, 7, 3, 5, 9, 2, 3, 4, 8, 5, 8, 1, 9, 6, 7, 6, 7,\n",
            "        3, 6, 2, 3, 6, 8, 8, 6]), tensor([7, 4, 0, 5, 1, 5, 9, 6, 0, 9, 5, 8, 5, 7, 3, 6, 8, 3, 2, 6, 5, 7, 5, 1,\n",
            "        1, 5, 4, 1, 2, 5, 8, 2]), tensor([9, 6, 3, 3, 4, 6, 2, 4, 1, 1, 4, 7, 2, 5, 0, 2, 8, 8, 8, 6, 7, 7, 1, 2,\n",
            "        6, 4, 1, 4, 0, 2, 5, 8]), tensor([2, 4, 2, 3, 1, 8, 8, 4, 4, 0, 8, 6, 8, 0, 3, 2, 8, 5, 7, 5, 8, 0, 1, 1,\n",
            "        9, 7, 8, 6, 1, 9, 6, 3]), tensor([6, 9, 4, 0, 6, 9, 7, 2, 2, 2, 0, 5, 6, 6, 3, 7, 8, 0, 2, 6, 1, 1, 9, 9,\n",
            "        4, 5, 3, 6, 8, 7, 8, 6]), tensor([6, 1, 2, 3, 7, 6, 9, 0, 4, 8, 2, 3, 6, 9, 5, 5, 9, 4, 0, 4, 1, 1, 8, 9,\n",
            "        6, 4, 2, 3, 8, 0, 7, 1]), tensor([8, 8, 5, 3, 3, 7, 7, 1, 0, 3, 4, 1, 9, 0, 4, 1, 1, 0, 7, 3, 7, 3, 6, 0,\n",
            "        1, 8, 9, 2, 6, 6, 0, 9]), tensor([3, 6, 1, 2, 7, 6, 0, 5, 6, 8, 2, 5, 5, 3, 5, 9, 1, 8, 5, 3, 1, 6, 6, 0,\n",
            "        7, 3, 7, 4, 8, 0, 7, 3]), tensor([2, 3, 9, 8, 3, 8, 7, 7, 9, 7, 0, 9, 2, 0, 9, 6, 1, 9, 8, 6, 3, 7, 2, 9,\n",
            "        5, 4, 7, 1, 2, 1, 2, 3]), tensor([9, 2, 0, 5, 6, 0, 5, 5, 4, 6, 9, 9, 1, 6, 7, 7, 7, 2, 5, 1, 2, 0, 6, 3,\n",
            "        8, 9, 8, 4, 1, 0, 6, 3]), tensor([9, 8, 8, 7, 8, 3, 6, 0, 7, 4, 8, 6, 9, 9, 6, 7, 7, 2, 2, 1, 5, 4, 4, 0,\n",
            "        5, 5, 0, 4, 4, 7, 8, 9]), tensor([4, 2, 1, 7, 4, 6, 6, 7, 4, 3, 6, 0, 7, 7, 8, 0, 9, 1, 2, 6, 2, 9, 7, 1,\n",
            "        9, 7, 3, 3, 1, 6, 3, 5]), tensor([3, 3, 9, 4, 1, 4, 4, 6, 7, 5, 4, 4, 9, 9, 8, 1, 8, 1, 4, 2, 7, 5, 6, 1,\n",
            "        2, 4, 0, 1, 2, 0, 7, 6]), tensor([8, 8, 2, 8, 4, 5, 0, 0, 1, 7, 9, 7, 3, 9, 4, 6, 2, 8, 7, 1, 6, 8, 7, 6,\n",
            "        8, 4, 8, 2, 8, 0, 1, 5]), tensor([3, 8, 1, 7, 4, 9, 4, 7, 9, 7, 1, 8, 3, 0, 9, 3, 6, 2, 4, 2, 7, 6, 0, 9,\n",
            "        8, 8, 1, 5, 7, 7, 1, 7]), tensor([5, 4, 4, 0, 9, 8, 7, 3, 7, 2, 2, 9, 5, 2, 6, 9, 2, 6, 3, 2, 0, 4, 7, 8,\n",
            "        2, 4, 3, 1, 9, 3, 8, 3]), tensor([9, 7, 1, 7, 1, 6, 4, 8, 5, 6, 0, 6, 4, 1, 1, 2, 9, 0, 3, 2, 1, 3, 2, 7,\n",
            "        0, 1, 8, 5, 7, 0, 6, 5]), tensor([0, 4, 6, 2, 2, 5, 4, 1, 8, 2, 1, 5, 3, 8, 8, 9, 5, 0, 1, 8, 1, 2, 9, 0,\n",
            "        3, 1, 1, 4, 7, 8, 3, 6]), tensor([9, 3, 2, 8, 3, 8, 6, 9, 4, 7, 7, 0, 3, 6, 4, 5, 7, 3, 7, 4, 6, 6, 9, 3,\n",
            "        0, 5, 4, 1, 2, 1, 8, 1]), tensor([9, 4, 8, 9, 9, 3, 3, 7, 0, 0, 6, 1, 6, 6, 6, 4, 3, 2, 9, 6, 6, 3, 4, 0,\n",
            "        0, 1, 3, 6, 6, 5, 7, 9]), tensor([6, 6, 3, 7, 5, 1, 2, 7, 7, 5, 8, 0, 9, 1, 6, 1, 4, 9, 1, 6, 5, 2, 3, 0,\n",
            "        7, 1, 2, 7, 9, 3, 7, 6]), tensor([4, 3, 6, 7, 2, 7, 3, 3, 7, 8, 8, 7, 0, 1, 6, 0, 9, 7, 7, 9, 1, 2, 3, 4,\n",
            "        7, 4, 3, 3, 1, 7, 5, 7]), tensor([6, 5, 6, 0, 3, 1, 4, 7, 5, 3, 2, 5, 8, 4, 7, 4, 6, 8, 3, 0, 1, 7, 9, 2,\n",
            "        9, 1, 4, 6, 5, 1, 0, 6]), tensor([3, 9, 3, 1, 8, 2, 5, 9, 8, 8, 1, 0, 9, 6, 6, 6, 1, 1, 4, 7, 3, 0, 7, 9,\n",
            "        8, 9, 5, 2, 6, 6, 7, 2]), tensor([3, 8, 3, 8, 1, 1, 2, 4, 8, 1, 0, 8, 1, 8, 5, 3, 2, 7, 0, 2, 4, 5, 6, 2,\n",
            "        4, 9, 9, 6, 9, 5, 6, 7]), tensor([3, 2, 3, 3, 9, 6, 7, 7, 8, 1, 1, 6, 6, 5, 7, 6, 4, 7, 6, 7, 0, 6, 2, 9,\n",
            "        9, 7, 7, 5, 0, 1, 2, 3]), tensor([4, 6, 4, 0, 9, 2, 7, 8, 4, 2, 8, 5, 7, 1, 6, 7, 9, 9, 0, 1, 5, 1, 1, 3,\n",
            "        6, 7, 9, 8, 3, 3, 8, 5]), tensor([2, 4, 3, 6, 8, 0, 9, 0, 6, 9, 0, 1, 2, 5, 1, 5, 2, 1, 8, 1, 7, 3, 9, 1,\n",
            "        8, 3, 5, 4, 1, 0, 8, 4]), tensor([4, 6, 8, 2, 2, 5, 5, 0, 6, 6, 9, 8, 6, 1, 0, 0, 4, 3, 3, 4, 7, 7, 5, 9,\n",
            "        2, 5, 3, 6, 9, 9, 4, 8]), tensor([5, 6, 9, 3, 4, 0, 2, 8, 3, 3, 9, 0, 1, 6, 7, 3, 8, 5, 0, 4, 6, 4, 1, 1,\n",
            "        9, 8, 8, 5, 3, 2, 2, 0]), tensor([7, 2, 7, 6, 8, 3, 2, 4, 8, 4, 1, 5, 6, 4, 3, 1, 9, 2, 8, 7, 8, 2, 3, 6,\n",
            "        2, 5, 4, 9, 0, 7, 1, 1]), tensor([7, 9, 0, 1, 6, 7, 5, 4, 6, 3, 3, 6, 1, 0, 0, 9, 9, 8, 2, 9, 6, 4, 5, 4,\n",
            "        7, 2, 6, 5, 2, 6, 9, 3]), tensor([7, 0, 6, 3, 5, 6, 4, 3, 4, 6, 9, 8, 8, 6, 4, 0, 6, 3, 7, 4, 2, 8, 1, 7,\n",
            "        4, 4, 9, 8, 6, 2, 0, 6]), tensor([7, 2, 5, 0, 6, 3, 1, 3, 0, 6, 5, 4, 3, 7, 0, 6, 2, 9, 6, 7, 6, 5, 6, 8,\n",
            "        2, 1, 2, 6, 6, 5, 6, 3]), tensor([5, 0, 2, 0, 7, 4, 6, 8, 3, 3, 8, 6, 3, 8, 9, 4, 0, 2, 8, 3, 8, 2, 5, 7,\n",
            "        0, 3, 6, 8, 1, 5, 9, 2]), tensor([2, 8, 9, 4, 1, 0, 5, 5, 2, 2, 8, 2, 2, 6, 7, 4, 7, 3, 7, 4, 9, 8, 8, 3,\n",
            "        9, 5, 0, 6, 4, 6, 3, 6]), tensor([4, 9, 2, 7, 6, 5, 6, 3, 1, 7, 8, 6, 4, 7, 3, 3, 8, 3, 3, 9, 2, 8, 5, 4,\n",
            "        9, 6, 3, 4, 2, 0, 1, 1]), tensor([7, 3, 8, 0, 1, 7, 7, 8, 4, 8, 2, 3, 7, 3, 6, 6, 7, 0, 6, 2, 9, 8, 0, 5,\n",
            "        7, 4, 6, 5, 4, 1, 0, 7]), tensor([2, 4, 2, 7, 3, 3, 3, 3, 1, 5, 6, 0, 1, 9, 7, 9, 6, 3, 2, 9, 2, 6, 3, 5,\n",
            "        4, 8, 9, 0, 9, 7, 5, 7]), tensor([7, 9, 3, 3, 8, 4, 3, 9, 3, 1, 0, 2, 5, 6, 8, 7, 9, 7, 7, 7, 9, 2, 6, 0,\n",
            "        6, 7, 8, 1, 8, 0, 3, 8]), tensor([5, 0, 5, 6, 9, 1, 1, 2, 6, 8, 9, 7, 7, 5, 8, 6, 1, 4, 0, 1, 8, 4, 3, 4,\n",
            "        7, 9, 3, 7, 8, 5, 3, 8]), tensor([1, 4, 1, 2, 7, 4, 6, 9, 3, 4, 4, 1, 7, 8, 1, 6, 5, 9, 6, 0, 9, 5, 3, 8,\n",
            "        8, 2, 8, 5, 7, 0, 7, 0]), tensor([9, 6, 6, 2, 9, 4, 8, 5, 2, 0, 1, 2, 6, 4, 7, 4, 1, 7, 7, 8, 5, 7, 0, 6,\n",
            "        4, 2, 1, 3, 8, 0, 3, 2]), tensor([7, 5, 9, 1, 0, 4, 3, 5, 6, 6, 3, 1, 8, 4, 7, 2, 5, 6, 3, 1, 8, 1, 9, 2,\n",
            "        9, 6, 2, 6, 1, 8, 3, 6]), tensor([6, 4, 0, 6, 8, 4, 8, 1, 0, 4, 6, 4, 2, 8, 5, 7, 7, 7, 6, 5, 5, 7, 9, 7,\n",
            "        8, 2, 8, 2, 1, 3, 3, 4]), tensor([8, 9, 4, 0, 7, 3, 6, 8, 3, 3, 6, 1, 0, 5, 3, 9, 7, 2, 8, 7, 3, 7, 0, 3,\n",
            "        2, 1, 7, 4, 3, 8, 3, 0]), tensor([2, 3, 0, 1, 6, 6, 5, 0, 1, 8, 8, 4, 5, 1, 7, 8, 7, 1, 2, 7, 0, 9, 3, 1,\n",
            "        9, 0, 4, 6, 6, 5, 9, 9]), tensor([3, 2, 7, 1, 8, 1, 4, 2, 3, 7, 8, 4, 6, 4, 5, 1, 2, 9, 3, 5, 8, 0, 1, 9,\n",
            "        6, 7, 3, 7, 4, 4, 6, 6]), tensor([2, 1, 3, 3, 6, 7, 0, 5, 9, 8, 9, 3, 7, 9, 9, 4, 8, 8, 0, 1, 4, 4, 0, 2,\n",
            "        8, 1, 6, 1, 3, 3, 2, 7]), tensor([8, 7, 0, 4, 3, 4, 4, 5, 7, 9, 2, 5, 2, 4, 5, 0, 1, 7, 6, 7, 6, 0, 0, 3,\n",
            "        5, 1, 1, 2, 3, 6, 9, 8]), tensor([1, 0, 1, 6, 8, 5, 4, 6, 4, 0, 4, 9, 3, 8, 5, 2, 8, 6, 2, 8, 6, 6, 4, 6,\n",
            "        8, 7, 7, 2, 8, 7, 2, 9]), tensor([5, 9, 2, 1, 6, 4, 1, 9, 7, 1, 7, 3, 5, 8, 7, 2, 5, 1, 5, 2, 0, 6, 0, 1,\n",
            "        2, 4, 4, 8, 0, 3, 2, 6]), tensor([3, 5, 1, 6, 3, 6, 5, 1, 8, 3, 1, 8, 8, 8, 4, 2, 0, 0, 7, 8, 1, 0, 9, 0,\n",
            "        6, 6, 1, 4, 6, 8, 3, 0]), tensor([8, 5, 7, 5, 4, 7, 7, 6, 1, 8, 1, 7, 7, 0, 3, 1, 6, 6, 8, 3, 8, 9, 3, 0,\n",
            "        9, 5, 1, 7, 6, 1, 3, 2]), tensor([8, 1, 3, 0, 7, 1, 3, 4, 4, 8, 7, 0, 6, 7, 3, 3, 7, 8, 8, 2, 5, 6, 9, 5,\n",
            "        1, 2, 9, 3, 0, 5, 5, 0]), tensor([9, 1, 4, 2, 5, 6, 4, 1, 4, 0, 3, 3, 6, 3, 0, 8, 6, 7, 5, 5, 7, 0, 7, 9,\n",
            "        4, 2, 2, 9, 2, 7, 1, 8]), tensor([8, 8, 9, 8, 3, 8, 9, 3, 2, 0, 2, 1, 8, 4, 4, 2, 0, 9, 7, 3, 1, 5, 1, 3,\n",
            "        5, 6, 6, 2, 1, 7, 3, 6]), tensor([8, 2, 6, 3, 9, 6, 0, 4, 1, 2, 6, 2, 9, 1, 4, 9, 7, 3, 2, 6, 2, 9, 7, 8,\n",
            "        5, 6, 9, 3, 0, 3, 8, 1]), tensor([3, 2, 7, 5, 0, 4, 5, 6, 8, 9, 1, 9, 1, 8, 1, 0])]\n"
          ]
        },
        {
          "output_type": "execute_result",
          "data": {
            "text/plain": [
              "(tensor([9, 2, 1, 1, 6, 1, 4, 6, 5, 7]), torch.Size([10000]))"
            ]
          },
          "metadata": {},
          "execution_count": 230
        }
      ]
    },
    {
      "cell_type": "code",
      "source": [
        "try:\n",
        "    import torchmetrics, mlxtend\n",
        "    print(f\"mlxtend version: {mlxtend.__version__}\")\n",
        "    assert int(mlxtend.__version__.split(\".\")[1]) >=19, \"mlxtend version should be 0.19.0 or higher\"\n",
        "except:\n",
        "    !pip install -q torchmetrics -U mlxtend\n",
        "    import torchmetrics, mlxtend\n",
        "    print(f\"mlxtend version: {mlxtend.__version__}\")\n"
      ],
      "metadata": {
        "colab": {
          "base_uri": "https://localhost:8080/"
        },
        "id": "smPoPtxOJ4pt",
        "outputId": "80a833bf-4944-42d3-c7f3-e95435e02373"
      },
      "execution_count": null,
      "outputs": [
        {
          "output_type": "stream",
          "name": "stdout",
          "text": [
            "mlxtend version: 0.22.0\n"
          ]
        }
      ]
    },
    {
      "cell_type": "code",
      "source": [
        "from torchmetrics import ConfusionMatrix\n",
        "from mlxtend.plotting import plot_confusion_matrix\n",
        "\n",
        "confmat = ConfusionMatrix(num_classes = len(class_names),\n",
        "                          task = 'multiclass')\n",
        "confmat_tensor = confmat(preds=y_pred_tensor,\n",
        "                         target = test_data.targets)\n",
        "\n",
        "# plot our confusion matrix\n",
        "fig, ax = plot_confusion_matrix(\n",
        "    conf_mat = confmat_tensor.numpy(), # matplotlib prefers to work with numpy\n",
        "    class_names = class_names,\n",
        "    figsize=(10,7)\n",
        ")"
      ],
      "metadata": {
        "colab": {
          "base_uri": "https://localhost:8080/",
          "height": 667
        },
        "id": "8C652KhLMPE5",
        "outputId": "9cbc47c7-9e3e-408d-e43e-a39df69ba7f8"
      },
      "execution_count": null,
      "outputs": [
        {
          "output_type": "display_data",
          "data": {
            "text/plain": [
              "<Figure size 1000x700 with 1 Axes>"
            ],
            "image/png": "[encoded data removed]"
          },
          "metadata": {}
        }
      ]
    },
    {
      "cell_type": "code",
      "source": [
        "confmat_tensor"
      ],
      "metadata": {
        "colab": {
          "base_uri": "https://localhost:8080/"
        },
        "id": "2x3pnd4lOHDp",
        "outputId": "8c140a03-1154-4357-dc30-d2aa5a8e1cc8"
      },
      "execution_count": null,
      "outputs": [
        {
          "output_type": "execute_result",
          "data": {
            "text/plain": [
              "tensor([[635,   6,  35,  67,  18,   1, 229,   0,   9,   0],\n",
              "        [  5, 888,   6,  79,  12,   0,   4,   1,   5,   0],\n",
              "        [ 15,   4, 749,  20, 116,   0,  93,   0,   3,   0],\n",
              "        [ 28,  14,  20, 839,  41,   0,  40,   1,  14,   3],\n",
              "        [  5,   4,  98,  54, 734,   0, 100,   0,   5,   0],\n",
              "        [  6,   2,   1,  16,   2, 740,   8,  81, 112,  32],\n",
              "        [ 82,   7,  86,  71,  98,   0, 648,   0,   8,   0],\n",
              "        [  1,   2,   0,   1,   0,  26,   0, 904,  19,  47],\n",
              "        [ 17,   2,   8,  10,  14,   4,  30,   7, 907,   1],\n",
              "        [  2,   1,   0,   1,   1,  25,  18,  76,   7, 869]])"
            ]
          },
          "metadata": {},
          "execution_count": 247
        }
      ]
    },
    {
      "cell_type": "markdown",
      "source": [
        "# Saving and loading the best model"
      ],
      "metadata": {
        "id": "MBjNjLGcPAYb"
      }
    },
    {
      "cell_type": "code",
      "source": [
        "## saving the model\n",
        "\n",
        "from pathlib import Path\n",
        "# create model directory path\n",
        "MODEL_PATH = Path(\"models\")\n",
        "MODEL_PATH.mkdir(parents=True,\n",
        "                 exist_ok=True)\n",
        "\n",
        "# create model save\n",
        "MODEL_NAME = \"03_pytorch_computer_vision_model_2.pt\"\n",
        "MODEL_SAVE_PATH = MODEL_PATH/MODEL_NAME\n",
        "\n",
        "# save teh model state dict\n",
        "print(f\"Saving model to {MODEL_SAVE_PATH}\")\n",
        "torch.save(obj=model_2.state_dict(), f=MODEL_SAVE_PATH)"
      ],
      "metadata": {
        "colab": {
          "base_uri": "https://localhost:8080/"
        },
        "id": "G2po73M7ObR-",
        "outputId": "0cf317d4-fe2b-4bd0-d328-677956fd7182"
      },
      "execution_count": null,
      "outputs": [
        {
          "output_type": "stream",
          "name": "stdout",
          "text": [
            "Saving model to models/03_pytorch_computer_vision_model_2.pt\n"
          ]
        }
      ]
    },
    {
      "cell_type": "code",
      "source": [
        "## loading the model\n",
        "\n",
        "# step 1 - create a new instance of the model\n",
        "torch.manual_seed(88)\n",
        "loaded_model_2 = FashionMNistModelV2(input_shape=1,\n",
        "                                     hidden_units=10,\n",
        "                                     output_shape=10)\n",
        "# loading the model\n",
        "loaded_model_2.load_state_dict(torch.load(f=MODEL_SAVE_PATH))\n",
        "# send it to the target device\n",
        "loaded_model_2.to(device)"
      ],
      "metadata": {
        "colab": {
          "base_uri": "https://localhost:8080/"
        },
        "id": "rvSQo0XgPZVf",
        "outputId": "24842d1b-f1ee-4e71-bba7-55be1c57fbf8"
      },
      "execution_count": null,
      "outputs": [
        {
          "output_type": "execute_result",
          "data": {
            "text/plain": [
              "FashionMNistModelV2(\n",
              "  (conv_block_1): Sequential(\n",
              "    (0): Conv2d(1, 10, kernel_size=(3, 3), stride=(1, 1), padding=(1, 1))\n",
              "    (1): ReLU()\n",
              "    (2): Conv2d(10, 10, kernel_size=(3, 3), stride=(1, 1), padding=(1, 1))\n",
              "    (3): ReLU()\n",
              "    (4): MaxPool2d(kernel_size=2, stride=2, padding=0, dilation=1, ceil_mode=False)\n",
              "  )\n",
              "  (conv_block_2): Sequential(\n",
              "    (0): Conv2d(10, 10, kernel_size=(3, 3), stride=(1, 1), padding=(1, 1))\n",
              "    (1): ReLU()\n",
              "    (2): Conv2d(10, 10, kernel_size=(3, 3), stride=(1, 1), padding=(1, 1))\n",
              "    (3): ReLU()\n",
              "    (4): MaxPool2d(kernel_size=2, stride=2, padding=0, dilation=1, ceil_mode=False)\n",
              "  )\n",
              "  (classifier): Sequential(\n",
              "    (0): Flatten(start_dim=1, end_dim=-1)\n",
              "    (1): Linear(in_features=490, out_features=10, bias=True)\n",
              "  )\n",
              ")"
            ]
          },
          "metadata": {},
          "execution_count": 253
        }
      ]
    },
    {
      "cell_type": "code",
      "source": [
        "model_2_results\n",
        "torch.manual_seed(88)\n",
        "loaded_model_2_results = eval_model(model=loaded_model_2,\n",
        "                                    data_loader = test_dataloader,\n",
        "                                    loss_fn = loss_fn,\n",
        "                                    accuracy_fn = accuracy_fn)"
      ],
      "metadata": {
        "colab": {
          "base_uri": "https://localhost:8080/",
          "height": 49,
          "referenced_widgets": [
            "c3acaf40179c420a8168948bc4ae0dd0",
            "f68053847b564ac5b6413f223c61206a",
            "cf246460523d409bb69b2098d68d53b4",
            "b0184ea88fb841b1847b4f1d02f686f5",
            "1f50714af2be44718febb953f1a7d980",
            "1fd685a2b4d44d8e82a1b291240659f5",
            "05b03e5b054d4c778aef17411958e2a7",
            "1a7f30d690c4476abf0ca36fc0983e0f",
            "08ddeb9ec7cb44aabd637645d5e00a9f",
            "f4be33c490034de39f7a0bc52b977dae",
            "272383edb98a48c4bba511d6a7a9411b"
          ]
        },
        "id": "ZrcGxO5pQNgM",
        "outputId": "4244275b-2e04-4179-a23e-08b6297b1ee0"
      },
      "execution_count": null,
      "outputs": [
        {
          "output_type": "display_data",
          "data": {
            "text/plain": [
              "  0%|          | 0/313 [00:00<?, ?it/s]"
            ],
            "application/vnd.jupyter.widget-view+json": {
              "version_major": 2,
              "version_minor": 0,
              "model_id": "c3acaf40179c420a8168948bc4ae0dd0"
            }
          },
          "metadata": {}
        }
      ]
    },
    {
      "cell_type": "code",
      "source": [
        "torch.isclose(torch.tensor(model_2_results['model_loss']),\n",
        "              torch.tensor(loaded_model_2_results['model_loss']),\n",
        "              # atol = 1e-02 # setting tolerance\n",
        "              )"
      ],
      "metadata": {
        "colab": {
          "base_uri": "https://localhost:8080/"
        },
        "id": "qXauRCrcQZ0L",
        "outputId": "9a17154b-acf3-4df4-92cf-b48baedff6ce"
      },
      "execution_count": null,
      "outputs": [
        {
          "output_type": "execute_result",
          "data": {
            "text/plain": [
              "tensor(True)"
            ]
          },
          "metadata": {},
          "execution_count": 258
        }
      ]
    },
    {
      "cell_type": "code",
      "source": [],
      "metadata": {
        "id": "7gd26j2uQfc9"
      },
      "execution_count": null,
      "outputs": []
    }
  ]
}