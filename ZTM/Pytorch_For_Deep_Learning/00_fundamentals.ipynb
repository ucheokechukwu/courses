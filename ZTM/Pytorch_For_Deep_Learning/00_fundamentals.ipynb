{
  "nbformat": 4,
  "nbformat_minor": 0,
  "metadata": {
    "colab": {
      "provenance": [],
      "toc_visible": true,
      "gpuType": "T4",
      "authorship_tag": "ABX9TyOR7SoeRzDw6fRKPIflppQc",
      "include_colab_link": true
    },
    "kernelspec": {
      "name": "python3",
      "display_name": "Python 3"
    },
    "language_info": {
      "name": "python"
    },
    "accelerator": "GPU"
  },
  "cells": [
    {
      "cell_type": "markdown",
      "metadata": {
        "id": "view-in-github",
        "colab_type": "text"
      },
      "source": [
        "<a href=\"https://colab.research.google.com/github/ucheokechukwu/ml_ztm_projects/blob/main/Pytorch_For_Deep_Learning/00_fundamentals.ipynb\" target=\"_parent\"><img src=\"https://colab.research.google.com/assets/colab-badge.svg\" alt=\"Open In Colab\"/></a>"
      ]
    },
    {
      "cell_type": "markdown",
      "source": [
        "https://www.udemy.com/course/pytorch-for-deep-learning/\n",
        "\n",
        "https://www.learnpytorch.io/\n",
        "\n",
        "https://github.com/mrdbourke/pytorch-deep-learning\n",
        "\n",
        " https://github.com/mrdbourke/pytorch-deep-learning/discussions"
      ],
      "metadata": {
        "id": "aIdjz1LtJ9Dh"
      }
    },
    {
      "cell_type": "code",
      "execution_count": null,
      "metadata": {
        "colab": {
          "base_uri": "https://localhost:8080/"
        },
        "id": "2ub6QnhWJ5N-",
        "outputId": "939fbacc-c847-4ad9-8ac9-65b9346fba7c"
      },
      "outputs": [
        {
          "output_type": "stream",
          "name": "stdout",
          "text": [
            "/bin/bash: line 1: nvidia-smi: command not found\n"
          ]
        }
      ],
      "source": [
        "!nvidia-smi"
      ]
    },
    {
      "cell_type": "code",
      "source": [
        "import torch\n",
        "import pandas as pd\n",
        "import numpy as np\n",
        "import matplotlib.pyplot as plt\n",
        "print(torch.__version__)"
      ],
      "metadata": {
        "colab": {
          "base_uri": "https://localhost:8080/"
        },
        "id": "eNScyIRuQsRi",
        "outputId": "26da095e-8f5a-44a9-ee66-3bb180fda5a5"
      },
      "execution_count": null,
      "outputs": [
        {
          "output_type": "stream",
          "name": "stdout",
          "text": [
            "2.0.1+cu118\n"
          ]
        }
      ]
    },
    {
      "cell_type": "markdown",
      "source": [
        "* cuda is what enables us to run pytorch on nvidia gpu"
      ],
      "metadata": {
        "id": "DgB_RmfiRLBY"
      }
    },
    {
      "cell_type": "markdown",
      "source": [
        "## Introduction to tensors\n",
        "### creating tensors\n",
        "\n",
        "pytorch tensors are created using `torch.tensor()`"
      ],
      "metadata": {
        "id": "7vWpEHOLRgJG"
      }
    },
    {
      "cell_type": "code",
      "source": [
        "# scalar\n",
        "scalar = torch.tensor(7)\n",
        "type(scalar), scalar"
      ],
      "metadata": {
        "colab": {
          "base_uri": "https://localhost:8080/"
        },
        "id": "SHm-xz0PRjdN",
        "outputId": "dd5e56b7-398c-4957-8bc8-a405731568c7"
      },
      "execution_count": null,
      "outputs": [
        {
          "output_type": "execute_result",
          "data": {
            "text/plain": [
              "(torch.Tensor, tensor(7))"
            ]
          },
          "metadata": {},
          "execution_count": 9
        }
      ]
    },
    {
      "cell_type": "code",
      "source": [
        "# dimensions\n",
        "scalar.ndim"
      ],
      "metadata": {
        "colab": {
          "base_uri": "https://localhost:8080/"
        },
        "id": "U48DACi2RqQw",
        "outputId": "5db1c8b8-200e-49e8-a68f-37cb41c0379a"
      },
      "execution_count": null,
      "outputs": [
        {
          "output_type": "execute_result",
          "data": {
            "text/plain": [
              "0"
            ]
          },
          "metadata": {},
          "execution_count": 6
        }
      ]
    },
    {
      "cell_type": "code",
      "source": [
        "scalar.item() # returns regular python integer"
      ],
      "metadata": {
        "colab": {
          "base_uri": "https://localhost:8080/"
        },
        "id": "MLhqTDddR4HX",
        "outputId": "d392d2d0-19a5-4c62-c6d9-8d2abf4c62cf"
      },
      "execution_count": null,
      "outputs": [
        {
          "output_type": "execute_result",
          "data": {
            "text/plain": [
              "7"
            ]
          },
          "metadata": {},
          "execution_count": 8
        }
      ]
    },
    {
      "cell_type": "code",
      "source": [
        "# vector\n",
        "vector = torch.tensor([7,7])\n",
        "vector.ndim, vector.shape"
      ],
      "metadata": {
        "colab": {
          "base_uri": "https://localhost:8080/"
        },
        "id": "Ix7Tcd5OR7Ed",
        "outputId": "f7e1dc74-be3d-4a80-d669-04d0f2c39c51"
      },
      "execution_count": null,
      "outputs": [
        {
          "output_type": "execute_result",
          "data": {
            "text/plain": [
              "(1, torch.Size([2]))"
            ]
          },
          "metadata": {},
          "execution_count": 10
        }
      ]
    },
    {
      "cell_type": "code",
      "source": [
        "# MATRIX\n",
        "MATRIX = torch.tensor([[1,2],\n",
        "                       [3,4]])\n",
        "MATRIX.ndim, MATRIX.shape"
      ],
      "metadata": {
        "colab": {
          "base_uri": "https://localhost:8080/"
        },
        "id": "e7gg34qCSRh8",
        "outputId": "2a14f503-f84e-4047-e6c7-b737428c32bb"
      },
      "execution_count": null,
      "outputs": [
        {
          "output_type": "execute_result",
          "data": {
            "text/plain": [
              "(2, torch.Size([2, 2]))"
            ]
          },
          "metadata": {},
          "execution_count": 11
        }
      ]
    },
    {
      "cell_type": "code",
      "source": [
        "MATRIX[0], MATRIX[:,1]"
      ],
      "metadata": {
        "colab": {
          "base_uri": "https://localhost:8080/"
        },
        "id": "hRxSZOFQSbgB",
        "outputId": "f879061f-1bd9-4a60-ea1e-f2010aa9806b"
      },
      "execution_count": null,
      "outputs": [
        {
          "output_type": "execute_result",
          "data": {
            "text/plain": [
              "(tensor([1, 2]), tensor([2, 4]))"
            ]
          },
          "metadata": {},
          "execution_count": 13
        }
      ]
    },
    {
      "cell_type": "code",
      "source": [
        "# TENSOR\n",
        "TENSOR = torch.tensor([[[1,2,3],\n",
        "                        [3,6,9],\n",
        "                        [2,4,5]]])"
      ],
      "metadata": {
        "id": "yteQjad4Sfrx"
      },
      "execution_count": null,
      "outputs": []
    },
    {
      "cell_type": "code",
      "source": [
        "TENSOR.ndim, TENSOR.shape, TENSOR.size()"
      ],
      "metadata": {
        "colab": {
          "base_uri": "https://localhost:8080/"
        },
        "id": "PSLCw_MySw_Z",
        "outputId": "961d6128-780e-4632-e0ea-9710fd969426"
      },
      "execution_count": null,
      "outputs": [
        {
          "output_type": "execute_result",
          "data": {
            "text/plain": [
              "(3, torch.Size([1, 3, 3]), torch.Size([1, 3, 3]))"
            ]
          },
          "metadata": {},
          "execution_count": 18
        }
      ]
    },
    {
      "cell_type": "code",
      "source": [
        "TENSOR[0]"
      ],
      "metadata": {
        "colab": {
          "base_uri": "https://localhost:8080/"
        },
        "id": "SJhkFpYdSy7y",
        "outputId": "70de36c4-962c-4b6c-ba48-f6f3edd15d78"
      },
      "execution_count": null,
      "outputs": [
        {
          "output_type": "execute_result",
          "data": {
            "text/plain": [
              "tensor([[1, 2, 3],\n",
              "        [3, 6, 9],\n",
              "        [2, 4, 5]])"
            ]
          },
          "metadata": {},
          "execution_count": 16
        }
      ]
    },
    {
      "cell_type": "markdown",
      "source": [
        "### random tensors\n",
        "-> are important because any neural networks start with tensors full of random numbers and adjust those numbers to represent data.\n"
      ],
      "metadata": {
        "id": "vQ-xoCnUTBUm"
      }
    },
    {
      "cell_type": "code",
      "source": [
        "# create a random tensor of size ()\n",
        "random_tensor = torch.rand(3,4)\n",
        "random_tensor"
      ],
      "metadata": {
        "colab": {
          "base_uri": "https://localhost:8080/"
        },
        "id": "iEYVXW9yTwxT",
        "outputId": "528a0b39-6b5d-4dac-c95a-936bd4c4ff2f"
      },
      "execution_count": null,
      "outputs": [
        {
          "output_type": "execute_result",
          "data": {
            "text/plain": [
              "tensor([[0.4261, 0.9887, 0.4158, 0.6690],\n",
              "        [0.6109, 0.4836, 0.1277, 0.0475],\n",
              "        [0.8411, 0.0492, 0.9971, 0.6669]])"
            ]
          },
          "metadata": {},
          "execution_count": 21
        }
      ]
    },
    {
      "cell_type": "code",
      "source": [
        "random_tensor.shape, random_tensor.ndim"
      ],
      "metadata": {
        "colab": {
          "base_uri": "https://localhost:8080/"
        },
        "id": "Xh_g6z2FT6Gc",
        "outputId": "1ff8feaa-3593-48a4-9ea4-abb97ab8b980"
      },
      "execution_count": null,
      "outputs": [
        {
          "output_type": "execute_result",
          "data": {
            "text/plain": [
              "(torch.Size([3, 4]), 2)"
            ]
          },
          "metadata": {},
          "execution_count": 22
        }
      ]
    },
    {
      "cell_type": "code",
      "source": [
        "# create a random tensor with similar shape to an image tensor\n",
        "random_image_size_tensor = torch.rand(size=(224,224,3)) # (height, width, color_channels)\n",
        "random_image_size_tensor.shape, random_image_size_tensor.ndim"
      ],
      "metadata": {
        "colab": {
          "base_uri": "https://localhost:8080/"
        },
        "id": "9o39Z9yJUBJL",
        "outputId": "53d06e0c-f37c-4579-dac7-dd922cafce9c"
      },
      "execution_count": null,
      "outputs": [
        {
          "output_type": "execute_result",
          "data": {
            "text/plain": [
              "(torch.Size([224, 224, 3]), 3)"
            ]
          },
          "metadata": {},
          "execution_count": 23
        }
      ]
    },
    {
      "cell_type": "code",
      "source": [
        "### zeros and ones\n",
        "zero = torch.zeros(3,4) # size is the default, not always necessary\n",
        "ones = torch.ones(3,4)"
      ],
      "metadata": {
        "id": "-MLketgKUbqN"
      },
      "execution_count": null,
      "outputs": []
    },
    {
      "cell_type": "code",
      "source": [
        "# data type\n",
        "ones.dtype"
      ],
      "metadata": {
        "colab": {
          "base_uri": "https://localhost:8080/"
        },
        "id": "2GxhT8JIVB9A",
        "outputId": "25b3092e-b197-4422-afd9-1304c8a127f4"
      },
      "execution_count": null,
      "outputs": [
        {
          "output_type": "execute_result",
          "data": {
            "text/plain": [
              "torch.float32"
            ]
          },
          "metadata": {},
          "execution_count": 26
        }
      ]
    },
    {
      "cell_type": "code",
      "source": [
        "random_tensor.dtype"
      ],
      "metadata": {
        "colab": {
          "base_uri": "https://localhost:8080/"
        },
        "id": "q_sW7nR5VJIG",
        "outputId": "952627be-dc4b-45a9-c67b-e25daccf2767"
      },
      "execution_count": null,
      "outputs": [
        {
          "output_type": "execute_result",
          "data": {
            "text/plain": [
              "torch.float32"
            ]
          },
          "metadata": {},
          "execution_count": 27
        }
      ]
    },
    {
      "cell_type": "markdown",
      "source": [
        "### creating a range of tensors and tensors-like"
      ],
      "metadata": {
        "id": "b-83OqqoVcEb"
      }
    },
    {
      "cell_type": "code",
      "source": [
        "torch.range(0,10) # will be deprecated"
      ],
      "metadata": {
        "colab": {
          "base_uri": "https://localhost:8080/"
        },
        "id": "jc5PAZ9yVN6h",
        "outputId": "1d5a04f4-e870-481a-cdec-fc330abedd4f"
      },
      "execution_count": null,
      "outputs": [
        {
          "output_type": "stream",
          "name": "stderr",
          "text": [
            "<ipython-input-28-dfdec9b83f7d>:1: UserWarning: torch.range is deprecated and will be removed in a future release because its behavior is inconsistent with Python's range builtin. Instead, use torch.arange, which produces values in [start, end).\n",
            "  torch.range(0,10)\n"
          ]
        },
        {
          "output_type": "execute_result",
          "data": {
            "text/plain": [
              "tensor([ 0.,  1.,  2.,  3.,  4.,  5.,  6.,  7.,  8.,  9., 10.])"
            ]
          },
          "metadata": {},
          "execution_count": 28
        }
      ]
    },
    {
      "cell_type": "code",
      "source": [
        "torch.arange(0,10)"
      ],
      "metadata": {
        "colab": {
          "base_uri": "https://localhost:8080/"
        },
        "id": "eEBaKIlqVd-q",
        "outputId": "fc12c3f5-e3aa-4e80-f438-987a67107b4c"
      },
      "execution_count": null,
      "outputs": [
        {
          "output_type": "execute_result",
          "data": {
            "text/plain": [
              "tensor([0, 1, 2, 3, 4, 5, 6, 7, 8, 9])"
            ]
          },
          "metadata": {},
          "execution_count": 29
        }
      ]
    },
    {
      "cell_type": "code",
      "source": [
        "torch.arange(0,10,2)"
      ],
      "metadata": {
        "colab": {
          "base_uri": "https://localhost:8080/"
        },
        "id": "HzNCxqFxVkIZ",
        "outputId": "1ea98267-e732-4dfd-e843-f5090bf6ae08"
      },
      "execution_count": null,
      "outputs": [
        {
          "output_type": "execute_result",
          "data": {
            "text/plain": [
              "tensor([0, 2, 4, 6, 8])"
            ]
          },
          "metadata": {},
          "execution_count": 30
        }
      ]
    },
    {
      "cell_type": "code",
      "source": [
        "torch.zeros_like(random_tensor)"
      ],
      "metadata": {
        "colab": {
          "base_uri": "https://localhost:8080/"
        },
        "id": "bBT_Q7ymVnjt",
        "outputId": "946c1136-826f-4158-97dc-c176ff7d530a"
      },
      "execution_count": null,
      "outputs": [
        {
          "output_type": "execute_result",
          "data": {
            "text/plain": [
              "tensor([[0., 0., 0., 0.],\n",
              "        [0., 0., 0., 0.],\n",
              "        [0., 0., 0., 0.]])"
            ]
          },
          "metadata": {},
          "execution_count": 31
        }
      ]
    },
    {
      "cell_type": "markdown",
      "source": [
        "### tensor datatypes"
      ],
      "metadata": {
        "id": "_WAYGrmOV0OC"
      }
    },
    {
      "cell_type": "code",
      "source": [
        "# float 32 tensor\n",
        "float_32_tensor = torch.tensor([3.0, 6.0, 9.0], dtype=None)\n",
        "float_32_tensor.dtype"
      ],
      "metadata": {
        "colab": {
          "base_uri": "https://localhost:8080/"
        },
        "id": "msMnrcGAVtvz",
        "outputId": "dcb8caa9-bd80-4d04-ec20-3f11ae389c91"
      },
      "execution_count": null,
      "outputs": [
        {
          "output_type": "execute_result",
          "data": {
            "text/plain": [
              "torch.float32"
            ]
          },
          "metadata": {},
          "execution_count": 32
        }
      ]
    },
    {
      "cell_type": "code",
      "source": [
        "float_16_tensor = torch.tensor([3.0, 6.0, 9.0], dtype=torch.float16)\n",
        "float_16_tensor.dtype"
      ],
      "metadata": {
        "colab": {
          "base_uri": "https://localhost:8080/"
        },
        "id": "B84yNSmNV8D4",
        "outputId": "c446b2e0-02b2-4ba3-d9f9-15c8c6ddc748"
      },
      "execution_count": null,
      "outputs": [
        {
          "output_type": "execute_result",
          "data": {
            "text/plain": [
              "torch.float16"
            ]
          },
          "metadata": {},
          "execution_count": 34
        }
      ]
    },
    {
      "cell_type": "code",
      "source": [
        "sample_tensor = torch.tensor([3.0, 6.0, 9.0],\n",
        "                             dtype=torch.float16, # datatype\n",
        "                             device='cpu', # what device your tensor is on\n",
        "                             requires_grad=False, # track the gradient or not\n",
        "                             )"
      ],
      "metadata": {
        "id": "Y4brIi-kWA8n"
      },
      "execution_count": null,
      "outputs": []
    },
    {
      "cell_type": "code",
      "source": [
        "sample_tensor.dtype"
      ],
      "metadata": {
        "colab": {
          "base_uri": "https://localhost:8080/"
        },
        "id": "GRF4kezsXXU8",
        "outputId": "d42f075e-ca59-44be-8ba3-1f16cacb2894"
      },
      "execution_count": null,
      "outputs": [
        {
          "output_type": "execute_result",
          "data": {
            "text/plain": [
              "torch.float16"
            ]
          },
          "metadata": {},
          "execution_count": 40
        }
      ]
    },
    {
      "cell_type": "code",
      "source": [
        "float_16_tensor = float_32_tensor.type(torch.float16)\n",
        "float_16_tensor, float_16_tensor.dtype"
      ],
      "metadata": {
        "colab": {
          "base_uri": "https://localhost:8080/"
        },
        "id": "LcQo7bn6XYzM",
        "outputId": "cb427bc6-5b6a-4ba4-82ac-6a7509e9aa35"
      },
      "execution_count": null,
      "outputs": [
        {
          "output_type": "execute_result",
          "data": {
            "text/plain": [
              "(tensor([3., 6., 9.], dtype=torch.float16), torch.float16)"
            ]
          },
          "metadata": {},
          "execution_count": 41
        }
      ]
    },
    {
      "cell_type": "code",
      "source": [
        "float_16_tensor * float_16_tensor"
      ],
      "metadata": {
        "colab": {
          "base_uri": "https://localhost:8080/"
        },
        "id": "5Ub9bO9XXhyY",
        "outputId": "7f7921dd-2b20-4654-b225-1343ad391e15"
      },
      "execution_count": null,
      "outputs": [
        {
          "output_type": "execute_result",
          "data": {
            "text/plain": [
              "tensor([ 9., 36., 81.], dtype=torch.float16)"
            ]
          },
          "metadata": {},
          "execution_count": 42
        }
      ]
    },
    {
      "cell_type": "code",
      "source": [
        "(float_16_tensor * float_32_tensor).dtype"
      ],
      "metadata": {
        "colab": {
          "base_uri": "https://localhost:8080/"
        },
        "id": "s2SZX9hLXqid",
        "outputId": "2f5c7def-52dd-4ce0-b5c1-6811fc54d6f7"
      },
      "execution_count": null,
      "outputs": [
        {
          "output_type": "execute_result",
          "data": {
            "text/plain": [
              "torch.float32"
            ]
          },
          "metadata": {},
          "execution_count": 44
        }
      ]
    },
    {
      "cell_type": "code",
      "source": [
        "(float_16_tensor + float_32_tensor).dtype"
      ],
      "metadata": {
        "colab": {
          "base_uri": "https://localhost:8080/"
        },
        "id": "nBQ6mukVXr9f",
        "outputId": "ed9012d3-7600-49c0-fc54-819a9663e523"
      },
      "execution_count": null,
      "outputs": [
        {
          "output_type": "execute_result",
          "data": {
            "text/plain": [
              "torch.float32"
            ]
          },
          "metadata": {},
          "execution_count": 45
        }
      ]
    },
    {
      "cell_type": "markdown",
      "source": [
        "### getting information from tensors\n",
        "\n",
        "1. `tensor.dtype`\n",
        "2. `tensor.shape` or `tensor.size()`\n",
        "3. `tensor.device`"
      ],
      "metadata": {
        "id": "A22JjpF6X-vJ"
      }
    },
    {
      "cell_type": "code",
      "source": [
        "some_tensor = torch.rand(1, 2, 3)\n",
        "print(f\"Datatype of tensor: {some_tensor.dtype}\")\n",
        "print(f\"Shape of tensor: {some_tensor.shape}\")\n",
        "print(f\"Shape of tensor: {some_tensor.size()}\")\n",
        "print(f\"Device of tensor: {some_tensor.device}\")"
      ],
      "metadata": {
        "colab": {
          "base_uri": "https://localhost:8080/"
        },
        "id": "gO3cTtwiXwJG",
        "outputId": "43e1005a-e55d-4486-d6f3-82667c4b650e"
      },
      "execution_count": null,
      "outputs": [
        {
          "output_type": "stream",
          "name": "stdout",
          "text": [
            "Datatype of tensor: torch.float32\n",
            "Shape of tensor: torch.Size([1, 2, 3])\n",
            "Shape of tensor: torch.Size([1, 2, 3])\n",
            "Device of tensor: cpu\n"
          ]
        }
      ]
    },
    {
      "cell_type": "code",
      "source": [
        "value = 0\n",
        "TENSOR = torch.rand(100,100)"
      ],
      "metadata": {
        "id": "Sp53HUGlZr8M"
      },
      "execution_count": null,
      "outputs": []
    },
    {
      "cell_type": "code",
      "source": [
        "%%time\n",
        "for i in range(len(TENSOR)):\n",
        "    value += TENSOR[i]*TENSOR[i]\n",
        "print(value)"
      ],
      "metadata": {
        "colab": {
          "base_uri": "https://localhost:8080/"
        },
        "id": "XAbHJ7dLYVBe",
        "outputId": "a63f45f0-3c3d-4b40-fda0-d7723d0d34bd"
      },
      "execution_count": null,
      "outputs": [
        {
          "output_type": "stream",
          "name": "stdout",
          "text": [
            "tensor([35.0756, 34.6710, 27.8462, 35.6701, 39.4822, 31.2449, 32.2601, 33.5110,\n",
            "        39.5095, 36.9772, 32.3234, 32.5114, 36.7688, 36.3153, 32.9478, 27.8740,\n",
            "        37.3854, 37.8943, 33.3980, 35.7211, 29.5981, 37.5334, 31.4266, 33.2985,\n",
            "        29.7888, 33.5550, 37.8571, 38.9838, 35.2894, 35.0141, 29.3263, 30.2602,\n",
            "        28.6063, 32.9635, 34.1178, 34.7883, 33.2158, 33.4184, 29.6854, 36.0802,\n",
            "        29.8497, 38.8075, 39.7099, 35.2240, 30.9138, 31.0973, 35.4649, 37.2106,\n",
            "        38.1630, 35.8960, 33.4808, 27.4824, 29.1266, 31.7936, 29.8398, 34.1059,\n",
            "        34.1745, 32.6577, 34.2197, 32.1896, 29.1146, 30.0053, 32.4488, 30.7499,\n",
            "        30.1204, 29.8067, 35.2643, 33.5797, 37.5174, 33.3224, 37.1559, 35.2250,\n",
            "        31.3430, 35.6510, 30.1394, 27.6526, 31.0485, 29.9983, 33.4660, 38.3383,\n",
            "        34.3207, 35.9529, 32.6129, 36.2115, 33.4878, 35.2643, 29.9056, 32.3269,\n",
            "        30.6490, 33.1576, 37.8627, 30.3430, 35.4947, 35.1427, 35.3609, 31.9576,\n",
            "        30.1284, 29.5122, 26.4932, 29.4136])\n",
            "CPU times: user 5.16 ms, sys: 1.84 ms, total: 7 ms\n",
            "Wall time: 9.02 ms\n"
          ]
        }
      ]
    },
    {
      "cell_type": "code",
      "source": [
        "%%time\n",
        "torch.matmul(TENSOR, TENSOR)"
      ],
      "metadata": {
        "colab": {
          "base_uri": "https://localhost:8080/"
        },
        "id": "OJBuakVSYjL1",
        "outputId": "e9e962c8-3e89-4deb-afb3-d152369e4636"
      },
      "execution_count": null,
      "outputs": [
        {
          "output_type": "stream",
          "name": "stdout",
          "text": [
            "CPU times: user 1.76 ms, sys: 0 ns, total: 1.76 ms\n",
            "Wall time: 19.1 ms\n"
          ]
        },
        {
          "output_type": "execute_result",
          "data": {
            "text/plain": [
              "tensor([[21.1962, 23.5096, 20.7004,  ..., 20.6085, 19.2536, 20.1530],\n",
              "        [23.9283, 25.2402, 21.3751,  ..., 23.8481, 21.9882, 22.5831],\n",
              "        [22.4826, 23.6433, 21.9274,  ..., 22.8964, 20.3992, 21.3874],\n",
              "        ...,\n",
              "        [25.6570, 26.6780, 24.0154,  ..., 23.1339, 22.5019, 24.7663],\n",
              "        [24.8869, 24.6593, 21.8185,  ..., 22.8127, 21.1809, 22.4388],\n",
              "        [22.8331, 24.2643, 21.2171,  ..., 21.1568, 19.7577, 21.6927]])"
            ]
          },
          "metadata": {},
          "execution_count": 57
        }
      ]
    },
    {
      "cell_type": "code",
      "source": [
        "tensor_a = torch.rand(3,4)\n",
        "tensor_b = torch.rand(4,3)\n",
        "torch.mm(tensor_a, tensor_b) # mm is abbreviation of matmul"
      ],
      "metadata": {
        "colab": {
          "base_uri": "https://localhost:8080/"
        },
        "id": "I8lHQD7mZV_B",
        "outputId": "9287ba26-2e1b-41ed-87e5-b349fd83692b"
      },
      "execution_count": null,
      "outputs": [
        {
          "output_type": "execute_result",
          "data": {
            "text/plain": [
              "tensor([[0.9142, 0.8937, 0.4174],\n",
              "        [1.4659, 1.1980, 0.6694],\n",
              "        [2.1569, 1.8174, 0.6456]])"
            ]
          },
          "metadata": {},
          "execution_count": 58
        }
      ]
    },
    {
      "cell_type": "code",
      "source": [
        "tensor_c=torch.rand(tensor_a.shape)"
      ],
      "metadata": {
        "id": "GaFNjC_baTJD"
      },
      "execution_count": null,
      "outputs": []
    },
    {
      "cell_type": "code",
      "source": [
        "torch.mm(tensor_a, tensor_c.T) # .T switches the axis"
      ],
      "metadata": {
        "colab": {
          "base_uri": "https://localhost:8080/"
        },
        "id": "aG-wbmoHaYr8",
        "outputId": "40b217d9-d6ad-4a33-9bcb-6dc56a0a9367"
      },
      "execution_count": null,
      "outputs": [
        {
          "output_type": "execute_result",
          "data": {
            "text/plain": [
              "tensor([[0.8972, 0.7614, 0.4729],\n",
              "        [1.3340, 1.0064, 0.8131],\n",
              "        [1.0820, 1.3999, 0.6343]])"
            ]
          },
          "metadata": {},
          "execution_count": 61
        }
      ]
    },
    {
      "cell_type": "markdown",
      "source": [
        "### finding the min, max, mean, sum (tensor aggregation)"
      ],
      "metadata": {
        "id": "niVR9cTEcfeY"
      }
    },
    {
      "cell_type": "code",
      "source": [
        "x = torch.arange(0,100,10)"
      ],
      "metadata": {
        "id": "1I1wZKMDabCl"
      },
      "execution_count": null,
      "outputs": []
    },
    {
      "cell_type": "code",
      "source": [
        "torch.min(x), torch.max(x)"
      ],
      "metadata": {
        "colab": {
          "base_uri": "https://localhost:8080/"
        },
        "id": "DqkKRT8Vceem",
        "outputId": "e1e380a4-fbb6-47ec-b34f-b29f603d7e15"
      },
      "execution_count": null,
      "outputs": [
        {
          "output_type": "execute_result",
          "data": {
            "text/plain": [
              "(tensor(0), tensor(90))"
            ]
          },
          "metadata": {},
          "execution_count": 65
        }
      ]
    },
    {
      "cell_type": "code",
      "source": [
        "x.min(), x.max()"
      ],
      "metadata": {
        "colab": {
          "base_uri": "https://localhost:8080/"
        },
        "id": "y-jku7iFdJHd",
        "outputId": "1d7de9a9-8fec-440e-ae39-54ff41ac632a"
      },
      "execution_count": null,
      "outputs": [
        {
          "output_type": "execute_result",
          "data": {
            "text/plain": [
              "(tensor(0), tensor(90))"
            ]
          },
          "metadata": {},
          "execution_count": 70
        }
      ]
    },
    {
      "cell_type": "code",
      "source": [
        "x.dtype"
      ],
      "metadata": {
        "colab": {
          "base_uri": "https://localhost:8080/"
        },
        "id": "IYDmlO4rcsk1",
        "outputId": "6b9c891a-ec16-459f-f324-2c4f50712f44"
      },
      "execution_count": null,
      "outputs": [
        {
          "output_type": "execute_result",
          "data": {
            "text/plain": [
              "torch.int64"
            ]
          },
          "metadata": {},
          "execution_count": 66
        }
      ]
    },
    {
      "cell_type": "code",
      "source": [
        "# torch.mean(x) # will not work\n",
        "torch.mean(x.type(torch.float32)), x.type(torch.float32).mean()"
      ],
      "metadata": {
        "colab": {
          "base_uri": "https://localhost:8080/"
        },
        "id": "o9qqXVkWcuv9",
        "outputId": "c2105455-5aab-4983-bff9-de8f8a51b84a"
      },
      "execution_count": null,
      "outputs": [
        {
          "output_type": "execute_result",
          "data": {
            "text/plain": [
              "(tensor(45.), tensor(45.))"
            ]
          },
          "metadata": {},
          "execution_count": 72
        }
      ]
    },
    {
      "cell_type": "code",
      "source": [
        "x.sum(), torch.sum(x)"
      ],
      "metadata": {
        "colab": {
          "base_uri": "https://localhost:8080/"
        },
        "id": "ivVCquqqc_-x",
        "outputId": "13f40590-c400-49da-f177-d19c8db4d7e8"
      },
      "execution_count": null,
      "outputs": [
        {
          "output_type": "execute_result",
          "data": {
            "text/plain": [
              "(tensor(450), tensor(450))"
            ]
          },
          "metadata": {},
          "execution_count": 79
        }
      ]
    },
    {
      "cell_type": "code",
      "source": [
        "torch.argmin(x), x.argmin()"
      ],
      "metadata": {
        "colab": {
          "base_uri": "https://localhost:8080/"
        },
        "id": "oLB_snJSdgSp",
        "outputId": "9efd9332-f443-4041-a656-a6a0d616ba67"
      },
      "execution_count": null,
      "outputs": [
        {
          "output_type": "execute_result",
          "data": {
            "text/plain": [
              "(tensor(0), tensor(0))"
            ]
          },
          "metadata": {},
          "execution_count": 82
        }
      ]
    },
    {
      "cell_type": "code",
      "source": [
        "torch.argmax(x), x.argmax()"
      ],
      "metadata": {
        "colab": {
          "base_uri": "https://localhost:8080/"
        },
        "id": "y-NgOen7ewEa",
        "outputId": "656a9f7b-b8c8-413a-ae09-306f76083f5c"
      },
      "execution_count": null,
      "outputs": [
        {
          "output_type": "execute_result",
          "data": {
            "text/plain": [
              "(tensor(9), tensor(9))"
            ]
          },
          "metadata": {},
          "execution_count": 83
        }
      ]
    },
    {
      "cell_type": "markdown",
      "source": [
        "### reshaping, stacking, squeezing, and unsqueezing\n",
        "* reshaping - reshapes to a defined shape\n",
        "view - returns a view in a certain shape but keeps the same memory as the original tensor\n",
        "* stacking - combines multiple tensors on top of each other(vstack) or side by side (hstack)\n",
        "* squeeze - removes all 1 dimensions from a tensor\n",
        "* unsqueeze - addas a 1 dimension to a target tensor\n",
        "* premute - returns a view of the input with dimensions swapped"
      ],
      "metadata": {
        "id": "myy8M1qIfGj9"
      }
    },
    {
      "cell_type": "code",
      "source": [
        "x = torch.arange(1,10)\n",
        "x_reshape = x.reshape(3,3)"
      ],
      "metadata": {
        "id": "4YKe1bdPexYj"
      },
      "execution_count": null,
      "outputs": []
    },
    {
      "cell_type": "code",
      "source": [
        "x_reshape"
      ],
      "metadata": {
        "colab": {
          "base_uri": "https://localhost:8080/"
        },
        "id": "2fwulFJzfW-y",
        "outputId": "65ae5969-0280-4a65-e82c-6cc3562329a8"
      },
      "execution_count": null,
      "outputs": [
        {
          "output_type": "execute_result",
          "data": {
            "text/plain": [
              "tensor([[1, 2, 3],\n",
              "        [4, 5, 6],\n",
              "        [7, 8, 9]])"
            ]
          },
          "metadata": {},
          "execution_count": 87
        }
      ]
    },
    {
      "cell_type": "code",
      "source": [
        "x.reshape(9,1,1)"
      ],
      "metadata": {
        "colab": {
          "base_uri": "https://localhost:8080/"
        },
        "id": "fiNP3knmfevL",
        "outputId": "4810a503-8324-4494-9d48-1cb51db3d77e"
      },
      "execution_count": null,
      "outputs": [
        {
          "output_type": "execute_result",
          "data": {
            "text/plain": [
              "tensor([[[1]],\n",
              "\n",
              "        [[2]],\n",
              "\n",
              "        [[3]],\n",
              "\n",
              "        [[4]],\n",
              "\n",
              "        [[5]],\n",
              "\n",
              "        [[6]],\n",
              "\n",
              "        [[7]],\n",
              "\n",
              "        [[8]],\n",
              "\n",
              "        [[9]]])"
            ]
          },
          "metadata": {},
          "execution_count": 89
        }
      ]
    },
    {
      "cell_type": "code",
      "source": [
        "z = x.view(3,3)\n",
        "z.shape, x.shape"
      ],
      "metadata": {
        "colab": {
          "base_uri": "https://localhost:8080/"
        },
        "id": "Y_yzrErSfnEX",
        "outputId": "0a98c6f4-44bf-4f80-99bd-d59c56026e5c"
      },
      "execution_count": null,
      "outputs": [
        {
          "output_type": "execute_result",
          "data": {
            "text/plain": [
              "(torch.Size([3, 3]), torch.Size([9]))"
            ]
          },
          "metadata": {},
          "execution_count": 94
        }
      ]
    },
    {
      "cell_type": "code",
      "source": [
        "# remember view shares the same memory as the original input\n",
        "z[:,0]=5\n",
        "z,x"
      ],
      "metadata": {
        "colab": {
          "base_uri": "https://localhost:8080/"
        },
        "id": "Vge5PbyafvtQ",
        "outputId": "8f555d6a-2c7d-4467-d78d-98ea95d9ab09"
      },
      "execution_count": null,
      "outputs": [
        {
          "output_type": "execute_result",
          "data": {
            "text/plain": [
              "(tensor([[5, 2, 3],\n",
              "         [5, 5, 6],\n",
              "         [5, 8, 9]]),\n",
              " tensor([5, 2, 3, 5, 5, 6, 5, 8, 9]))"
            ]
          },
          "metadata": {},
          "execution_count": 95
        }
      ]
    },
    {
      "cell_type": "code",
      "source": [
        "# stack tensors on top of each other\n",
        "x_stacked = torch.stack([x,x])"
      ],
      "metadata": {
        "id": "1rMshThVfz7a"
      },
      "execution_count": null,
      "outputs": []
    },
    {
      "cell_type": "code",
      "source": [
        "x_stacked"
      ],
      "metadata": {
        "colab": {
          "base_uri": "https://localhost:8080/"
        },
        "id": "hALY6P8FgCv_",
        "outputId": "d0f60f7a-ff9f-407e-b7e2-132fd7c0431c"
      },
      "execution_count": null,
      "outputs": [
        {
          "output_type": "execute_result",
          "data": {
            "text/plain": [
              "tensor([[5, 2, 3, 5, 5, 6, 5, 8, 9],\n",
              "        [5, 2, 3, 5, 5, 6, 5, 8, 9]])"
            ]
          },
          "metadata": {},
          "execution_count": 97
        }
      ]
    },
    {
      "cell_type": "code",
      "source": [
        "x_stacked = torch.stack([x,x], dim=-1)\n",
        "x_stacked"
      ],
      "metadata": {
        "colab": {
          "base_uri": "https://localhost:8080/"
        },
        "id": "SHLm4_TkgDwX",
        "outputId": "b3b6094d-f9f3-4412-b7ab-7404dca03e39"
      },
      "execution_count": null,
      "outputs": [
        {
          "output_type": "execute_result",
          "data": {
            "text/plain": [
              "tensor([[5, 5],\n",
              "        [2, 2],\n",
              "        [3, 3],\n",
              "        [5, 5],\n",
              "        [5, 5],\n",
              "        [6, 6],\n",
              "        [5, 5],\n",
              "        [8, 8],\n",
              "        [9, 9]])"
            ]
          },
          "metadata": {},
          "execution_count": 103
        }
      ]
    },
    {
      "cell_type": "code",
      "source": [
        "y = torch.arange(9,0,-1)\n",
        "x = torch.arange(9)"
      ],
      "metadata": {
        "id": "5Rea5ukJgWHo"
      },
      "execution_count": null,
      "outputs": []
    },
    {
      "cell_type": "code",
      "source": [
        "torch.stack([x,y], dim=-1), torch.stack([x,y], dim=-2), torch.stack([x,y], dim=0), torch.stack([x,y], dim=1)"
      ],
      "metadata": {
        "colab": {
          "base_uri": "https://localhost:8080/"
        },
        "id": "zZkreBMTgHS5",
        "outputId": "31c76674-fd59-4df9-8d50-fc86d595266e"
      },
      "execution_count": null,
      "outputs": [
        {
          "output_type": "execute_result",
          "data": {
            "text/plain": [
              "(tensor([[0, 9],\n",
              "         [1, 8],\n",
              "         [2, 7],\n",
              "         [3, 6],\n",
              "         [4, 5],\n",
              "         [5, 4],\n",
              "         [6, 3],\n",
              "         [7, 2],\n",
              "         [8, 1]]),\n",
              " tensor([[0, 1, 2, 3, 4, 5, 6, 7, 8],\n",
              "         [9, 8, 7, 6, 5, 4, 3, 2, 1]]),\n",
              " tensor([[0, 1, 2, 3, 4, 5, 6, 7, 8],\n",
              "         [9, 8, 7, 6, 5, 4, 3, 2, 1]]),\n",
              " tensor([[0, 9],\n",
              "         [1, 8],\n",
              "         [2, 7],\n",
              "         [3, 6],\n",
              "         [4, 5],\n",
              "         [5, 4],\n",
              "         [6, 3],\n",
              "         [7, 2],\n",
              "         [8, 1]]))"
            ]
          },
          "metadata": {},
          "execution_count": 108
        }
      ]
    },
    {
      "cell_type": "code",
      "source": [
        "x = torch.rand(1,9,2,3)"
      ],
      "metadata": {
        "id": "Q2fVBNQqgTMh"
      },
      "execution_count": null,
      "outputs": []
    },
    {
      "cell_type": "code",
      "source": [
        "x.squeeze().shape"
      ],
      "metadata": {
        "colab": {
          "base_uri": "https://localhost:8080/"
        },
        "id": "NHzZ_7zsgq5I",
        "outputId": "56c29160-9d38-4fa4-a2d0-e8a3bb01722f"
      },
      "execution_count": null,
      "outputs": [
        {
          "output_type": "execute_result",
          "data": {
            "text/plain": [
              "torch.Size([9, 2, 3])"
            ]
          },
          "metadata": {},
          "execution_count": 120
        }
      ]
    },
    {
      "cell_type": "code",
      "source": [
        "x.unsqueeze(dim=3).shape"
      ],
      "metadata": {
        "colab": {
          "base_uri": "https://localhost:8080/"
        },
        "id": "pSTSsUvigxCZ",
        "outputId": "3b65efa9-b739-4bd0-b5e5-fe2e4aed11dd"
      },
      "execution_count": null,
      "outputs": [
        {
          "output_type": "execute_result",
          "data": {
            "text/plain": [
              "torch.Size([1, 9, 2, 1, 3])"
            ]
          },
          "metadata": {},
          "execution_count": 123
        }
      ]
    },
    {
      "cell_type": "code",
      "source": [
        "x.shape"
      ],
      "metadata": {
        "colab": {
          "base_uri": "https://localhost:8080/"
        },
        "id": "ZjCEkUO4hZ4m",
        "outputId": "b30aa69e-c950-4fd1-89a9-2fe7836b2c4a"
      },
      "execution_count": null,
      "outputs": [
        {
          "output_type": "execute_result",
          "data": {
            "text/plain": [
              "torch.Size([1, 9, 2, 3])"
            ]
          },
          "metadata": {},
          "execution_count": 127
        }
      ]
    },
    {
      "cell_type": "code",
      "source": [
        "# torch.permute\n",
        "torch.permute(x,(2,0,1,3)).shape"
      ],
      "metadata": {
        "colab": {
          "base_uri": "https://localhost:8080/"
        },
        "id": "q9W-36qQg3EK",
        "outputId": "2f3e8d4f-4127-4e7d-e7a8-5d6d02e16ebe"
      },
      "execution_count": null,
      "outputs": [
        {
          "output_type": "execute_result",
          "data": {
            "text/plain": [
              "torch.Size([2, 1, 9, 3])"
            ]
          },
          "metadata": {},
          "execution_count": 129
        }
      ]
    },
    {
      "cell_type": "code",
      "source": [
        "x.permute(2,0,1,3).shape"
      ],
      "metadata": {
        "colab": {
          "base_uri": "https://localhost:8080/"
        },
        "id": "TBrnkRTUhMRn",
        "outputId": "2f01497d-cb29-48e2-d912-4c3a49d5d574"
      },
      "execution_count": null,
      "outputs": [
        {
          "output_type": "execute_result",
          "data": {
            "text/plain": [
              "torch.Size([2, 1, 9, 3])"
            ]
          },
          "metadata": {},
          "execution_count": 130
        }
      ]
    },
    {
      "cell_type": "code",
      "source": [
        "# usually used to rearrange image dimensions\n",
        "x_original = torch.rand(225, 225, 3)\n",
        "x_original.permute(2,0,1).shape"
      ],
      "metadata": {
        "colab": {
          "base_uri": "https://localhost:8080/"
        },
        "id": "i7xd8j4qhe3H",
        "outputId": "8bd78675-297d-432e-d305-edebc569098b"
      },
      "execution_count": null,
      "outputs": [
        {
          "output_type": "execute_result",
          "data": {
            "text/plain": [
              "torch.Size([3, 225, 225])"
            ]
          },
          "metadata": {},
          "execution_count": 131
        }
      ]
    },
    {
      "cell_type": "markdown",
      "source": [
        "### Numpy and Torch"
      ],
      "metadata": {
        "id": "5pWbwHqkhncD"
      }
    },
    {
      "cell_type": "code",
      "source": [
        "import torch\n",
        "import numpy as np\n",
        "array = np.arange(1.0,10.0)\n",
        "tensor = torch.from_numpy(array)\n",
        "array, tensor"
      ],
      "metadata": {
        "colab": {
          "base_uri": "https://localhost:8080/"
        },
        "id": "T7mXk9RLi2ne",
        "outputId": "bb61d587-9d48-4a5a-9718-40cb759882c6"
      },
      "execution_count": null,
      "outputs": [
        {
          "output_type": "execute_result",
          "data": {
            "text/plain": [
              "(array([1., 2., 3., 4., 5., 6., 7., 8., 9.]),\n",
              " tensor([1., 2., 3., 4., 5., 6., 7., 8., 9.], dtype=torch.float64))"
            ]
          },
          "metadata": {},
          "execution_count": 132
        }
      ]
    },
    {
      "cell_type": "code",
      "source": [
        "type(array), type(tensor)"
      ],
      "metadata": {
        "colab": {
          "base_uri": "https://localhost:8080/"
        },
        "id": "-YJ_cttwi921",
        "outputId": "65fc15e4-8d4e-4552-b37f-0555e9368027"
      },
      "execution_count": null,
      "outputs": [
        {
          "output_type": "execute_result",
          "data": {
            "text/plain": [
              "(numpy.ndarray, torch.Tensor)"
            ]
          },
          "metadata": {},
          "execution_count": 133
        }
      ]
    },
    {
      "cell_type": "code",
      "source": [
        "# tensor to numpy\n",
        "tensor = torch.ones(7,1)\n",
        "numpy_tensor = tensor.numpy()\n",
        "numpy_tensor.dtype"
      ],
      "metadata": {
        "colab": {
          "base_uri": "https://localhost:8080/"
        },
        "id": "US0B21yAjA6s",
        "outputId": "9644dd41-79ec-4576-ae2c-975149207619"
      },
      "execution_count": null,
      "outputs": [
        {
          "output_type": "execute_result",
          "data": {
            "text/plain": [
              "dtype('float32')"
            ]
          },
          "metadata": {},
          "execution_count": 134
        }
      ]
    },
    {
      "cell_type": "markdown",
      "source": [
        "* numpy default is float64, and the default of pytorch is float32"
      ],
      "metadata": {
        "id": "k_uaqybKjMDa"
      }
    },
    {
      "cell_type": "markdown",
      "source": [
        "## reproducibility"
      ],
      "metadata": {
        "id": "O5_cYuiDjfkL"
      }
    },
    {
      "cell_type": "code",
      "source": [
        "RANDOM_SEED = 42\n",
        "torch.manual_seed(RANDOM_SEED)\n",
        "random_a = torch.rand(3,4)\n",
        "torch.manual_seed(RANDOM_SEED) # you have to set it each time before you call the rand\n",
        "random_b = torch.rand(3,4)\n",
        "random_a==random_b"
      ],
      "metadata": {
        "colab": {
          "base_uri": "https://localhost:8080/"
        },
        "id": "PelqFbpAjg0m",
        "outputId": "4399581a-b795-498c-93d2-193d02cffe96"
      },
      "execution_count": null,
      "outputs": [
        {
          "output_type": "execute_result",
          "data": {
            "text/plain": [
              "tensor([[True, True, True, True],\n",
              "        [True, True, True, True],\n",
              "        [True, True, True, True]])"
            ]
          },
          "metadata": {},
          "execution_count": 137
        }
      ]
    },
    {
      "cell_type": "markdown",
      "source": [
        "## running tensors or pytorch objects on GPUs to make faster computations\n",
        "\n",
        "- getting a GPU\n",
        "- use your own GPU\n",
        "- use cloud computing (GCP, AWS, Azure, etc)"
      ],
      "metadata": {
        "id": "a2u2zToskIiy"
      }
    },
    {
      "cell_type": "code",
      "source": [
        "import torch\n",
        "torch.cuda.is_available()"
      ],
      "metadata": {
        "colab": {
          "base_uri": "https://localhost:8080/"
        },
        "id": "nhwyMAnGj1Ip",
        "outputId": "313e4d03-9c75-452c-9f9d-9cd005e95e38"
      },
      "execution_count": null,
      "outputs": [
        {
          "output_type": "execute_result",
          "data": {
            "text/plain": [
              "False"
            ]
          },
          "metadata": {},
          "execution_count": 1
        }
      ]
    },
    {
      "cell_type": "code",
      "source": [
        "# set up device agnostic code\n",
        "device = \"cuda\" if torch.cuda.is_available() else \"cpu\"\n",
        "device"
      ],
      "metadata": {
        "colab": {
          "base_uri": "https://localhost:8080/",
          "height": 35
        },
        "id": "lSHvMlkhk8Od",
        "outputId": "17c78c78-0323-47d2-d338-cf485afe8004"
      },
      "execution_count": null,
      "outputs": [
        {
          "output_type": "execute_result",
          "data": {
            "text/plain": [
              "'cpu'"
            ],
            "application/vnd.google.colaboratory.intrinsic+json": {
              "type": "string"
            }
          },
          "metadata": {},
          "execution_count": 2
        }
      ]
    },
    {
      "cell_type": "code",
      "source": [
        "# count number of devices\n",
        "torch.cuda.device_count()"
      ],
      "metadata": {
        "colab": {
          "base_uri": "https://localhost:8080/"
        },
        "id": "CUG1ODP8lHuh",
        "outputId": "ad9824b6-51d9-4f79-d79a-c53fbf1da663"
      },
      "execution_count": null,
      "outputs": [
        {
          "output_type": "execute_result",
          "data": {
            "text/plain": [
              "0"
            ]
          },
          "metadata": {},
          "execution_count": 3
        }
      ]
    },
    {
      "cell_type": "markdown",
      "source": [
        "It's best practice to set up device agnostic code. Check out best practices for using cuda:\n",
        "https://pytorch.org/docs/master/notes/cuda.html#device-agnostic-code"
      ],
      "metadata": {
        "id": "tEnlTekHlabQ"
      }
    },
    {
      "cell_type": "markdown",
      "source": [
        "### putting tensors (and models) on GPU\n",
        "\n",
        "* use `.to(device)` method to change the device type\n",
        "\n",
        "* might need to move tensors back to cpu to, for example, work with numpy which only runs on cpu"
      ],
      "metadata": {
        "id": "VpvVFNb-lrtb"
      }
    },
    {
      "cell_type": "code",
      "source": [
        "import torch\n",
        "# set up device agnostic code\n",
        "device = \"cuda\" if torch.cuda.is_available() else \"cpu\"\n",
        "device\n",
        "tensor = torch.tensor([1,2,3])\n",
        "\n",
        "## by default the tensor is on the cpu\n",
        "# tensornot on GPU\n",
        "print(tensor, tensor.device)"
      ],
      "metadata": {
        "colab": {
          "base_uri": "https://localhost:8080/"
        },
        "id": "xPy8UWpNlNlY",
        "outputId": "49d068c9-154f-46a8-f37c-3a0d6f10c062"
      },
      "execution_count": null,
      "outputs": [
        {
          "output_type": "stream",
          "name": "stdout",
          "text": [
            "tensor([1, 2, 3]) cpu\n"
          ]
        }
      ]
    },
    {
      "cell_type": "code",
      "source": [
        "tensor_on_gpu = tensor.to(device)\n",
        "tensor_on_gpu"
      ],
      "metadata": {
        "colab": {
          "base_uri": "https://localhost:8080/"
        },
        "id": "KgssaZP7l0eo",
        "outputId": "30b4fa81-0afc-4601-f3ed-3444cc64da16"
      },
      "execution_count": null,
      "outputs": [
        {
          "output_type": "execute_result",
          "data": {
            "text/plain": [
              "tensor([1, 2, 3], device='cuda:0')"
            ]
          },
          "metadata": {},
          "execution_count": 4
        }
      ]
    },
    {
      "cell_type": "code",
      "source": [
        "# if tensor is on gpu, cannot transform to numpy\n",
        "tensor_on_gpu.numpy()"
      ],
      "metadata": {
        "colab": {
          "base_uri": "https://localhost:8080/",
          "height": 187
        },
        "id": "AR8a5fEMmG3r",
        "outputId": "32ea8cb8-4079-4e21-97e3-b137515270a6"
      },
      "execution_count": null,
      "outputs": [
        {
          "output_type": "error",
          "ename": "TypeError",
          "evalue": "ignored",
          "traceback": [
            "\u001b[0;31m---------------------------------------------------------------------------\u001b[0m",
            "\u001b[0;31mTypeError\u001b[0m                                 Traceback (most recent call last)",
            "\u001b[0;32m<ipython-input-5-268b58fe432a>\u001b[0m in \u001b[0;36m<cell line: 2>\u001b[0;34m()\u001b[0m\n\u001b[1;32m      1\u001b[0m \u001b[0;31m# if tensor is on gpu, cannot transform to numpy\u001b[0m\u001b[0;34m\u001b[0m\u001b[0;34m\u001b[0m\u001b[0m\n\u001b[0;32m----> 2\u001b[0;31m \u001b[0mtensor_on_gpu\u001b[0m\u001b[0;34m.\u001b[0m\u001b[0mnumpy\u001b[0m\u001b[0;34m(\u001b[0m\u001b[0;34m)\u001b[0m\u001b[0;34m\u001b[0m\u001b[0;34m\u001b[0m\u001b[0m\n\u001b[0m",
            "\u001b[0;31mTypeError\u001b[0m: can't convert cuda:0 device type tensor to numpy. Use Tensor.cpu() to copy the tensor to host memory first."
          ]
        }
      ]
    },
    {
      "cell_type": "code",
      "source": [
        "tensor_on_gpu.cpu().numpy()"
      ],
      "metadata": {
        "colab": {
          "base_uri": "https://localhost:8080/"
        },
        "id": "WIQuJrebmZYz",
        "outputId": "9255ee0a-9241-41d8-d869-2296ecb7e5b3"
      },
      "execution_count": null,
      "outputs": [
        {
          "output_type": "execute_result",
          "data": {
            "text/plain": [
              "array([1, 2, 3])"
            ]
          },
          "metadata": {},
          "execution_count": 8
        }
      ]
    },
    {
      "cell_type": "code",
      "source": [
        "tensor_on_gpu.to('cpu').numpy() # also works"
      ],
      "metadata": {
        "colab": {
          "base_uri": "https://localhost:8080/"
        },
        "id": "WRa9djXimcjF",
        "outputId": "e4ed828d-4a56-402f-faa8-4f95ff203659"
      },
      "execution_count": null,
      "outputs": [
        {
          "output_type": "execute_result",
          "data": {
            "text/plain": [
              "array([1, 2, 3])"
            ]
          },
          "metadata": {},
          "execution_count": 10
        }
      ]
    },
    {
      "cell_type": "code",
      "source": [],
      "metadata": {
        "id": "K70ZwZp5mj36"
      },
      "execution_count": null,
      "outputs": []
    }
  ]
}