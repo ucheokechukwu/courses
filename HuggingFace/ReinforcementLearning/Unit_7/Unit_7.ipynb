{
  "nbformat": 4,
  "nbformat_minor": 0,
  "metadata": {
    "colab": {
      "provenance": [],
      "gpuType": "T4",
      "authorship_tag": "ABX9TyPvrT77gYQYAfuDzzULob44",
      "include_colab_link": true
    },
    "kernelspec": {
      "name": "python3",
      "display_name": "Python 3"
    },
    "language_info": {
      "name": "python"
    },
    "accelerator": "GPU"
  },
  "cells": [
    {
      "cell_type": "markdown",
      "metadata": {
        "id": "view-in-github",
        "colab_type": "text"
      },
      "source": [
        "<a href=\"https://colab.research.google.com/github/ucheokechukwu/courses/blob/main/HuggingFace/ReinforcementLearning/Unit_7/Unit_7.ipynb\" target=\"_parent\"><img src=\"https://colab.research.google.com/assets/colab-badge.svg\" alt=\"Open In Colab\"/></a>"
      ]
    },
    {
      "cell_type": "code",
      "source": [
        "# from google.colab import drive\n",
        "# drive.mount('content')\n",
        "import os\n",
        "os.chdir('/content/content/MyDrive/MLOPs_Projects/HuggingFace/ReinforcementLearning_Course/Unit_7')\n",
        "!pwd"
      ],
      "metadata": {
        "colab": {
          "base_uri": "https://localhost:8080/"
        },
        "id": "tW90cpGoLewu",
        "outputId": "e70811ee-7753-48d1-d824-b3655dc538e7"
      },
      "execution_count": 2,
      "outputs": [
        {
          "output_type": "stream",
          "name": "stdout",
          "text": [
            "/content/content/MyDrive/MLOPs_Projects/HuggingFace/ReinforcementLearning_Course/Unit_7\n"
          ]
        }
      ]
    },
    {
      "cell_type": "code",
      "execution_count": null,
      "metadata": {
        "colab": {
          "base_uri": "https://localhost:8080/"
        },
        "id": "6N6sf2ku_ytC",
        "outputId": "d04a96e5-af0e-4f75-8225-c2c8e1f0c06a"
      },
      "outputs": [
        {
          "output_type": "stream",
          "name": "stdout",
          "text": [
            "Cloning into 'ml-agents'...\n",
            "remote: Enumerating objects: 92072, done.\u001b[K\n",
            "remote: Counting objects: 100% (1/1), done.\u001b[K\n"
          ]
        }
      ],
      "source": [
        "!git clone https://github.com/Unity-Technologies/ml-agents\n",
        "\n",
        "!cd ml-agents\n",
        "!pip install -e ./ml-agents-envs -q\n",
        "!pip install -e ./ml-agents\n",
        "\n",
        "!mkdir training-envs-executables\n",
        "!mkdir training-envs-executables/SoccerTwos\n",
        "\n",
        "!mv ../SoccerTwos.zip ./training-envs-executables/SoccerTwos/SoccerTwos.zip\n",
        "!unzip ./training-envs-executables/SoccerTwos/SoccerTwos.zip -d ./training-envs-executables/SoccerTwos"
      ]
    },
    {
      "cell_type": "code",
      "source": [
        "!pwd"
      ],
      "metadata": {
        "colab": {
          "base_uri": "https://localhost:8080/"
        },
        "id": "a9j1R0xlAF2a",
        "outputId": "69ad5ac8-62bd-4fc0-8ae6-5c7e5624e732"
      },
      "execution_count": null,
      "outputs": [
        {
          "output_type": "stream",
          "name": "stdout",
          "text": [
            "/content\n"
          ]
        }
      ]
    },
    {
      "cell_type": "code",
      "source": [
        "%load ./config/poca/SoccerTwos.yaml"
      ],
      "metadata": {
        "id": "voPk0662AfHZ"
      },
      "execution_count": null,
      "outputs": []
    }
  ]
}